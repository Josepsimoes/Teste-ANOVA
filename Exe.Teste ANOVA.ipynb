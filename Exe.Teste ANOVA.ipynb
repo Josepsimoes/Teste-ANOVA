{
 "cells": [
  {
   "cell_type": "markdown",
   "id": "77868de9-ece5-453c-9e32-5acb8345a87c",
   "metadata": {},
   "source": [
    "---\n",
    "---\n",
    "\n",
    "# Teste ANOVA | Análise de Variância\n",
    "\n",
    "---\n",
    "---"
   ]
  },
  {
   "cell_type": "markdown",
   "id": "23591aef-638c-487c-b4ca-5bcf2f47ea1f",
   "metadata": {},
   "source": [
    "O Teste de Análise de Variância (ANOVA) de medidas repetidas é uma extensão do teste ANOVA tradicional quando se **lida com dados em que as mesmas unidades ou indivíduos são medidas em várias ocasiões.** É também conhecido como ANOVA de medidas repetidas ou ANOVA intra-sujeitos.\n",
    "\n",
    "A ANOVA de medidas repetidas é projetada para **avaliar se há diferenças significativas nas médias das condições ou tratamentos ao longo do tempo.** Isso é feito comparando as variações observadas entre as médias das condições com a variação esperada devido ao acaso."
   ]
  },
  {
   "cell_type": "markdown",
   "id": "ac7f067c-ad0a-4cdd-8e88-e25180ec6efd",
   "metadata": {},
   "source": [
    "---\n",
    "\n",
    "*Nosso objetivo será testar se os retornos mensais do S&P500 diferem estatisticamente entre si, buscando detectar o padrão \"Sell in May and go away\" desde os anos 2000:*\n",
    "\n",
    "---\n",
    "\n",
    "* **Hipótese H0 (nula):** As médias dos retornos mensais <u>são iguais estatisticamente</u> entre os meses do ano.\n",
    "* **Hipótese H1 (alternativa):** As médias <u>são diferentes</u> estatisticamente."
   ]
  },
  {
   "cell_type": "markdown",
   "id": "3c6494a4-d215-4f36-afd9-5394c56af6a3",
   "metadata": {},
   "source": [
    "**Passo a passo realizar este teste de hipótese:**\n",
    "\n",
    "- **1. Passo:** Importando Bibliotecas\n",
    "- **2. Passo:** Obtendo dados para análise\n",
    "- **3. Passo:** Preparação dos dados\n",
    "- **4. Passo:** Visualização dos dados\n",
    "- **5. Passo:** Analisar a normalidade dos dados por grupo\n",
    "- **6. Passo:** Teste de Levene (homocedasticidade)\n",
    "- **7. Passo:** ANOVA de medidas repetidas\n",
    "- **8. Passo:** Teste post-hoc\n",
    "- **9. Passo:** Conclusões do estudo de caso\n",
    "\n",
    "---"
   ]
  },
  {
   "cell_type": "markdown",
   "id": "9e34a912-d433-42e5-bdd7-982517ac938a",
   "metadata": {
    "tags": []
   },
   "source": [
    "## 1. Passo: Importando Bibliotecas"
   ]
  },
  {
   "cell_type": "code",
   "execution_count": 22,
   "id": "3bccee5b-53e5-4ad4-8155-b942f537d938",
   "metadata": {
    "tags": []
   },
   "outputs": [],
   "source": [
    "# NumPy é uma biblioteca para operações numéricas eficientes em arrays multidimensionais.\n",
    "import numpy as np\n",
    "\n",
    "# Pandas fornece estruturas de dados flexíveis e eficientes para manipulação e análise de dados.\n",
    "import pandas as pd\n",
    "\n",
    "# SciPy contém módulos para otimização, álgebra linear, integração e estatísticas.\n",
    "from scipy import stats\n",
    "\n",
    "# PyLab é uma interface para gráficos usando Matplotlib.\n",
    "import pylab\n",
    "\n",
    "# Scikit-learn é uma biblioteca para aprendizado de máquina e ferramentas de modelagem estatística.\n",
    "from sklearn import linear_model\n",
    "from sklearn.linear_model import LinearRegression\n",
    "\n",
    "# Statsmodels é uma biblioteca para modelos estatísticos, incluindo regressão.\n",
    "import statsmodels.api as sm\n",
    "from statsmodels.stats.multicomp import pairwise_tukeyhsd\n",
    "\n",
    "# Yfinance permite baixar dados financeiros, incluindo ações, diretamente no Python.\n",
    "import yfinance as yf\n",
    "\n",
    "# Seaborn é uma biblioteca de visualização de dados baseada no Matplotlib.\n",
    "import seaborn as sns\n",
    "\n",
    "# Plotly é uma biblioteca para criação de gráficos interativos.\n",
    "import plotly.graph_objects as go\n",
    "import plotly.express as px\n",
    "from plotly.subplots import make_subplots\n",
    "import matplotlib.pyplot as plt"
   ]
  },
  {
   "cell_type": "markdown",
   "id": "3a7d4395-f912-4d3e-a381-6dc1bd1a8c8e",
   "metadata": {
    "tags": []
   },
   "source": [
    "## 2. Passo: Obtendo dados para análise"
   ]
  },
  {
   "cell_type": "code",
   "execution_count": 2,
   "id": "745296d9-3b95-47c0-84c0-cdef96aed627",
   "metadata": {
    "tags": []
   },
   "outputs": [
    {
     "name": "stdout",
     "output_type": "stream",
     "text": [
      "[*********************100%%**********************]  1 of 1 completed\n"
     ]
    }
   ],
   "source": [
    "# Obtendo o período máximo disponível pelo yahoo finance para o S&P500\n",
    "sp500 = yf.download('^GSPC', period = 'max', interval = '1D')"
   ]
  },
  {
   "cell_type": "code",
   "execution_count": 3,
   "id": "a30a0ce6-51a5-4c39-b5bd-2657222163ff",
   "metadata": {
    "tags": []
   },
   "outputs": [
    {
     "data": {
      "text/html": [
       "<div>\n",
       "<style scoped>\n",
       "    .dataframe tbody tr th:only-of-type {\n",
       "        vertical-align: middle;\n",
       "    }\n",
       "\n",
       "    .dataframe tbody tr th {\n",
       "        vertical-align: top;\n",
       "    }\n",
       "\n",
       "    .dataframe thead th {\n",
       "        text-align: right;\n",
       "    }\n",
       "</style>\n",
       "<table border=\"1\" class=\"dataframe\">\n",
       "  <thead>\n",
       "    <tr style=\"text-align: right;\">\n",
       "      <th></th>\n",
       "      <th>Open</th>\n",
       "      <th>High</th>\n",
       "      <th>Low</th>\n",
       "      <th>Close</th>\n",
       "      <th>Adj Close</th>\n",
       "      <th>Volume</th>\n",
       "    </tr>\n",
       "    <tr>\n",
       "      <th>Date</th>\n",
       "      <th></th>\n",
       "      <th></th>\n",
       "      <th></th>\n",
       "      <th></th>\n",
       "      <th></th>\n",
       "      <th></th>\n",
       "    </tr>\n",
       "  </thead>\n",
       "  <tbody>\n",
       "    <tr>\n",
       "      <th>1927-12-30</th>\n",
       "      <td>17.660000</td>\n",
       "      <td>17.660000</td>\n",
       "      <td>17.660000</td>\n",
       "      <td>17.660000</td>\n",
       "      <td>17.660000</td>\n",
       "      <td>0</td>\n",
       "    </tr>\n",
       "    <tr>\n",
       "      <th>1928-01-03</th>\n",
       "      <td>17.760000</td>\n",
       "      <td>17.760000</td>\n",
       "      <td>17.760000</td>\n",
       "      <td>17.760000</td>\n",
       "      <td>17.760000</td>\n",
       "      <td>0</td>\n",
       "    </tr>\n",
       "    <tr>\n",
       "      <th>1928-01-04</th>\n",
       "      <td>17.719999</td>\n",
       "      <td>17.719999</td>\n",
       "      <td>17.719999</td>\n",
       "      <td>17.719999</td>\n",
       "      <td>17.719999</td>\n",
       "      <td>0</td>\n",
       "    </tr>\n",
       "    <tr>\n",
       "      <th>1928-01-05</th>\n",
       "      <td>17.549999</td>\n",
       "      <td>17.549999</td>\n",
       "      <td>17.549999</td>\n",
       "      <td>17.549999</td>\n",
       "      <td>17.549999</td>\n",
       "      <td>0</td>\n",
       "    </tr>\n",
       "    <tr>\n",
       "      <th>1928-01-06</th>\n",
       "      <td>17.660000</td>\n",
       "      <td>17.660000</td>\n",
       "      <td>17.660000</td>\n",
       "      <td>17.660000</td>\n",
       "      <td>17.660000</td>\n",
       "      <td>0</td>\n",
       "    </tr>\n",
       "  </tbody>\n",
       "</table>\n",
       "</div>"
      ],
      "text/plain": [
       "                 Open       High        Low      Close  Adj Close  Volume\n",
       "Date                                                                     \n",
       "1927-12-30  17.660000  17.660000  17.660000  17.660000  17.660000       0\n",
       "1928-01-03  17.760000  17.760000  17.760000  17.760000  17.760000       0\n",
       "1928-01-04  17.719999  17.719999  17.719999  17.719999  17.719999       0\n",
       "1928-01-05  17.549999  17.549999  17.549999  17.549999  17.549999       0\n",
       "1928-01-06  17.660000  17.660000  17.660000  17.660000  17.660000       0"
      ]
     },
     "execution_count": 3,
     "metadata": {},
     "output_type": "execute_result"
    }
   ],
   "source": [
    "sp500.head()"
   ]
  },
  {
   "cell_type": "markdown",
   "id": "710bfa97-1d1e-495b-bc2c-c0f4d1c9fca4",
   "metadata": {
    "tags": []
   },
   "source": [
    "## 3. Passo: Preparação dos dados"
   ]
  },
  {
   "cell_type": "code",
   "execution_count": 4,
   "id": "462f79b7-912a-455d-b415-34beec030299",
   "metadata": {
    "tags": []
   },
   "outputs": [
    {
     "data": {
      "text/html": [
       "<div>\n",
       "<style scoped>\n",
       "    .dataframe tbody tr th:only-of-type {\n",
       "        vertical-align: middle;\n",
       "    }\n",
       "\n",
       "    .dataframe tbody tr th {\n",
       "        vertical-align: top;\n",
       "    }\n",
       "\n",
       "    .dataframe thead th {\n",
       "        text-align: right;\n",
       "    }\n",
       "</style>\n",
       "<table border=\"1\" class=\"dataframe\">\n",
       "  <thead>\n",
       "    <tr style=\"text-align: right;\">\n",
       "      <th></th>\n",
       "      <th>Open</th>\n",
       "      <th>High</th>\n",
       "      <th>Low</th>\n",
       "      <th>Close</th>\n",
       "    </tr>\n",
       "    <tr>\n",
       "      <th>Date</th>\n",
       "      <th></th>\n",
       "      <th></th>\n",
       "      <th></th>\n",
       "      <th></th>\n",
       "    </tr>\n",
       "  </thead>\n",
       "  <tbody>\n",
       "    <tr>\n",
       "      <th>1927-12-31</th>\n",
       "      <td>17.660000</td>\n",
       "      <td>17.660000</td>\n",
       "      <td>17.660000</td>\n",
       "      <td>17.660000</td>\n",
       "    </tr>\n",
       "    <tr>\n",
       "      <th>1928-01-31</th>\n",
       "      <td>17.760000</td>\n",
       "      <td>17.760000</td>\n",
       "      <td>17.260000</td>\n",
       "      <td>17.570000</td>\n",
       "    </tr>\n",
       "    <tr>\n",
       "      <th>1928-02-29</th>\n",
       "      <td>17.530001</td>\n",
       "      <td>17.629999</td>\n",
       "      <td>16.950001</td>\n",
       "      <td>17.260000</td>\n",
       "    </tr>\n",
       "    <tr>\n",
       "      <th>1928-03-31</th>\n",
       "      <td>17.299999</td>\n",
       "      <td>19.280001</td>\n",
       "      <td>17.299999</td>\n",
       "      <td>19.280001</td>\n",
       "    </tr>\n",
       "    <tr>\n",
       "      <th>1928-04-30</th>\n",
       "      <td>18.910000</td>\n",
       "      <td>19.750000</td>\n",
       "      <td>18.910000</td>\n",
       "      <td>19.750000</td>\n",
       "    </tr>\n",
       "    <tr>\n",
       "      <th>...</th>\n",
       "      <td>...</td>\n",
       "      <td>...</td>\n",
       "      <td>...</td>\n",
       "      <td>...</td>\n",
       "    </tr>\n",
       "    <tr>\n",
       "      <th>2023-08-31</th>\n",
       "      <td>4578.830078</td>\n",
       "      <td>4584.620117</td>\n",
       "      <td>4335.310059</td>\n",
       "      <td>4507.660156</td>\n",
       "    </tr>\n",
       "    <tr>\n",
       "      <th>2023-09-30</th>\n",
       "      <td>4530.600098</td>\n",
       "      <td>4541.250000</td>\n",
       "      <td>4238.629883</td>\n",
       "      <td>4288.049805</td>\n",
       "    </tr>\n",
       "    <tr>\n",
       "      <th>2023-10-31</th>\n",
       "      <td>4284.520020</td>\n",
       "      <td>4393.569824</td>\n",
       "      <td>4103.779785</td>\n",
       "      <td>4193.799805</td>\n",
       "    </tr>\n",
       "    <tr>\n",
       "      <th>2023-11-30</th>\n",
       "      <td>4201.270020</td>\n",
       "      <td>4587.640137</td>\n",
       "      <td>4197.740234</td>\n",
       "      <td>4567.799805</td>\n",
       "    </tr>\n",
       "    <tr>\n",
       "      <th>2023-12-31</th>\n",
       "      <td>4559.430176</td>\n",
       "      <td>4778.009766</td>\n",
       "      <td>4546.500000</td>\n",
       "      <td>4732.700195</td>\n",
       "    </tr>\n",
       "  </tbody>\n",
       "</table>\n",
       "<p>1153 rows × 4 columns</p>\n",
       "</div>"
      ],
      "text/plain": [
       "                   Open         High          Low        Close\n",
       "Date                                                          \n",
       "1927-12-31    17.660000    17.660000    17.660000    17.660000\n",
       "1928-01-31    17.760000    17.760000    17.260000    17.570000\n",
       "1928-02-29    17.530001    17.629999    16.950001    17.260000\n",
       "1928-03-31    17.299999    19.280001    17.299999    19.280001\n",
       "1928-04-30    18.910000    19.750000    18.910000    19.750000\n",
       "...                 ...          ...          ...          ...\n",
       "2023-08-31  4578.830078  4584.620117  4335.310059  4507.660156\n",
       "2023-09-30  4530.600098  4541.250000  4238.629883  4288.049805\n",
       "2023-10-31  4284.520020  4393.569824  4103.779785  4193.799805\n",
       "2023-11-30  4201.270020  4587.640137  4197.740234  4567.799805\n",
       "2023-12-31  4559.430176  4778.009766  4546.500000  4732.700195\n",
       "\n",
       "[1153 rows x 4 columns]"
      ]
     },
     "execution_count": 4,
     "metadata": {},
     "output_type": "execute_result"
    }
   ],
   "source": [
    "# Dados mensais do S&P500\n",
    "sp500 = sp500.resample('M').agg({\"Open\": \"first\", \"High\": \"max\", \"Low\": \"min\", \"Close\": \"last\"})\n",
    "sp500"
   ]
  },
  {
   "cell_type": "code",
   "execution_count": 5,
   "id": "31738fce-2dd3-4ba1-bc44-796f4bedbd05",
   "metadata": {
    "tags": []
   },
   "outputs": [],
   "source": [
    "# Retorno percentual mensal do índice S&P500\n",
    "sp500['Var_%_mês'] = (sp500['Close'].pct_change() * 100).round(2)"
   ]
  },
  {
   "cell_type": "code",
   "execution_count": 6,
   "id": "fc56d44e-0ad4-45e0-b22b-b57043767d3b",
   "metadata": {
    "tags": []
   },
   "outputs": [
    {
     "data": {
      "text/html": [
       "<div>\n",
       "<style scoped>\n",
       "    .dataframe tbody tr th:only-of-type {\n",
       "        vertical-align: middle;\n",
       "    }\n",
       "\n",
       "    .dataframe tbody tr th {\n",
       "        vertical-align: top;\n",
       "    }\n",
       "\n",
       "    .dataframe thead th {\n",
       "        text-align: right;\n",
       "    }\n",
       "</style>\n",
       "<table border=\"1\" class=\"dataframe\">\n",
       "  <thead>\n",
       "    <tr style=\"text-align: right;\">\n",
       "      <th></th>\n",
       "      <th>Open</th>\n",
       "      <th>High</th>\n",
       "      <th>Low</th>\n",
       "      <th>Close</th>\n",
       "      <th>Var_%_mês</th>\n",
       "    </tr>\n",
       "    <tr>\n",
       "      <th>Date</th>\n",
       "      <th></th>\n",
       "      <th></th>\n",
       "      <th></th>\n",
       "      <th></th>\n",
       "      <th></th>\n",
       "    </tr>\n",
       "  </thead>\n",
       "  <tbody>\n",
       "    <tr>\n",
       "      <th>1927-12-31</th>\n",
       "      <td>17.660000</td>\n",
       "      <td>17.660000</td>\n",
       "      <td>17.660000</td>\n",
       "      <td>17.660000</td>\n",
       "      <td>NaN</td>\n",
       "    </tr>\n",
       "    <tr>\n",
       "      <th>1928-01-31</th>\n",
       "      <td>17.760000</td>\n",
       "      <td>17.760000</td>\n",
       "      <td>17.260000</td>\n",
       "      <td>17.570000</td>\n",
       "      <td>-0.51</td>\n",
       "    </tr>\n",
       "    <tr>\n",
       "      <th>1928-02-29</th>\n",
       "      <td>17.530001</td>\n",
       "      <td>17.629999</td>\n",
       "      <td>16.950001</td>\n",
       "      <td>17.260000</td>\n",
       "      <td>-1.76</td>\n",
       "    </tr>\n",
       "    <tr>\n",
       "      <th>1928-03-31</th>\n",
       "      <td>17.299999</td>\n",
       "      <td>19.280001</td>\n",
       "      <td>17.299999</td>\n",
       "      <td>19.280001</td>\n",
       "      <td>11.70</td>\n",
       "    </tr>\n",
       "    <tr>\n",
       "      <th>1928-04-30</th>\n",
       "      <td>18.910000</td>\n",
       "      <td>19.750000</td>\n",
       "      <td>18.910000</td>\n",
       "      <td>19.750000</td>\n",
       "      <td>2.44</td>\n",
       "    </tr>\n",
       "  </tbody>\n",
       "</table>\n",
       "</div>"
      ],
      "text/plain": [
       "                 Open       High        Low      Close  Var_%_mês\n",
       "Date                                                             \n",
       "1927-12-31  17.660000  17.660000  17.660000  17.660000        NaN\n",
       "1928-01-31  17.760000  17.760000  17.260000  17.570000      -0.51\n",
       "1928-02-29  17.530001  17.629999  16.950001  17.260000      -1.76\n",
       "1928-03-31  17.299999  19.280001  17.299999  19.280001      11.70\n",
       "1928-04-30  18.910000  19.750000  18.910000  19.750000       2.44"
      ]
     },
     "execution_count": 6,
     "metadata": {},
     "output_type": "execute_result"
    }
   ],
   "source": [
    "sp500.head()"
   ]
  },
  {
   "cell_type": "code",
   "execution_count": 7,
   "id": "183e9447-096a-468f-a173-c110cf7cc4a2",
   "metadata": {
    "tags": []
   },
   "outputs": [
    {
     "data": {
      "text/html": [
       "<div>\n",
       "<style scoped>\n",
       "    .dataframe tbody tr th:only-of-type {\n",
       "        vertical-align: middle;\n",
       "    }\n",
       "\n",
       "    .dataframe tbody tr th {\n",
       "        vertical-align: top;\n",
       "    }\n",
       "\n",
       "    .dataframe thead th {\n",
       "        text-align: right;\n",
       "    }\n",
       "</style>\n",
       "<table border=\"1\" class=\"dataframe\">\n",
       "  <thead>\n",
       "    <tr style=\"text-align: right;\">\n",
       "      <th></th>\n",
       "      <th>Open</th>\n",
       "      <th>High</th>\n",
       "      <th>Low</th>\n",
       "      <th>Close</th>\n",
       "      <th>Var_%_mês</th>\n",
       "      <th>Mês</th>\n",
       "      <th>Ano</th>\n",
       "      <th>N°_mês</th>\n",
       "    </tr>\n",
       "    <tr>\n",
       "      <th>Date</th>\n",
       "      <th></th>\n",
       "      <th></th>\n",
       "      <th></th>\n",
       "      <th></th>\n",
       "      <th></th>\n",
       "      <th></th>\n",
       "      <th></th>\n",
       "      <th></th>\n",
       "    </tr>\n",
       "  </thead>\n",
       "  <tbody>\n",
       "    <tr>\n",
       "      <th>1950-01-31</th>\n",
       "      <td>16.660000</td>\n",
       "      <td>17.090000</td>\n",
       "      <td>16.660000</td>\n",
       "      <td>17.049999</td>\n",
       "      <td>1.55</td>\n",
       "      <td>January</td>\n",
       "      <td>1950</td>\n",
       "      <td>01</td>\n",
       "    </tr>\n",
       "    <tr>\n",
       "      <th>1950-02-28</th>\n",
       "      <td>17.049999</td>\n",
       "      <td>17.320000</td>\n",
       "      <td>16.990000</td>\n",
       "      <td>17.219999</td>\n",
       "      <td>1.00</td>\n",
       "      <td>February</td>\n",
       "      <td>1950</td>\n",
       "      <td>02</td>\n",
       "    </tr>\n",
       "    <tr>\n",
       "      <th>1950-03-31</th>\n",
       "      <td>17.240000</td>\n",
       "      <td>17.559999</td>\n",
       "      <td>17.070000</td>\n",
       "      <td>17.290001</td>\n",
       "      <td>0.41</td>\n",
       "      <td>March</td>\n",
       "      <td>1950</td>\n",
       "      <td>03</td>\n",
       "    </tr>\n",
       "    <tr>\n",
       "      <th>1950-04-30</th>\n",
       "      <td>17.530001</td>\n",
       "      <td>18.049999</td>\n",
       "      <td>17.530001</td>\n",
       "      <td>17.959999</td>\n",
       "      <td>3.88</td>\n",
       "      <td>April</td>\n",
       "      <td>1950</td>\n",
       "      <td>04</td>\n",
       "    </tr>\n",
       "    <tr>\n",
       "      <th>1950-05-31</th>\n",
       "      <td>18.219999</td>\n",
       "      <td>18.780001</td>\n",
       "      <td>18.110001</td>\n",
       "      <td>18.780001</td>\n",
       "      <td>4.57</td>\n",
       "      <td>May</td>\n",
       "      <td>1950</td>\n",
       "      <td>05</td>\n",
       "    </tr>\n",
       "    <tr>\n",
       "      <th>...</th>\n",
       "      <td>...</td>\n",
       "      <td>...</td>\n",
       "      <td>...</td>\n",
       "      <td>...</td>\n",
       "      <td>...</td>\n",
       "      <td>...</td>\n",
       "      <td>...</td>\n",
       "      <td>...</td>\n",
       "    </tr>\n",
       "    <tr>\n",
       "      <th>2023-08-31</th>\n",
       "      <td>4578.830078</td>\n",
       "      <td>4584.620117</td>\n",
       "      <td>4335.310059</td>\n",
       "      <td>4507.660156</td>\n",
       "      <td>-1.77</td>\n",
       "      <td>August</td>\n",
       "      <td>2023</td>\n",
       "      <td>08</td>\n",
       "    </tr>\n",
       "    <tr>\n",
       "      <th>2023-09-30</th>\n",
       "      <td>4530.600098</td>\n",
       "      <td>4541.250000</td>\n",
       "      <td>4238.629883</td>\n",
       "      <td>4288.049805</td>\n",
       "      <td>-4.87</td>\n",
       "      <td>September</td>\n",
       "      <td>2023</td>\n",
       "      <td>09</td>\n",
       "    </tr>\n",
       "    <tr>\n",
       "      <th>2023-10-31</th>\n",
       "      <td>4284.520020</td>\n",
       "      <td>4393.569824</td>\n",
       "      <td>4103.779785</td>\n",
       "      <td>4193.799805</td>\n",
       "      <td>-2.20</td>\n",
       "      <td>October</td>\n",
       "      <td>2023</td>\n",
       "      <td>10</td>\n",
       "    </tr>\n",
       "    <tr>\n",
       "      <th>2023-11-30</th>\n",
       "      <td>4201.270020</td>\n",
       "      <td>4587.640137</td>\n",
       "      <td>4197.740234</td>\n",
       "      <td>4567.799805</td>\n",
       "      <td>8.92</td>\n",
       "      <td>November</td>\n",
       "      <td>2023</td>\n",
       "      <td>11</td>\n",
       "    </tr>\n",
       "    <tr>\n",
       "      <th>2023-12-31</th>\n",
       "      <td>4559.430176</td>\n",
       "      <td>4778.009766</td>\n",
       "      <td>4546.500000</td>\n",
       "      <td>4732.700195</td>\n",
       "      <td>3.61</td>\n",
       "      <td>December</td>\n",
       "      <td>2023</td>\n",
       "      <td>12</td>\n",
       "    </tr>\n",
       "  </tbody>\n",
       "</table>\n",
       "<p>888 rows × 8 columns</p>\n",
       "</div>"
      ],
      "text/plain": [
       "                   Open         High          Low        Close  Var_%_mês  \\\n",
       "Date                                                                        \n",
       "1950-01-31    16.660000    17.090000    16.660000    17.049999       1.55   \n",
       "1950-02-28    17.049999    17.320000    16.990000    17.219999       1.00   \n",
       "1950-03-31    17.240000    17.559999    17.070000    17.290001       0.41   \n",
       "1950-04-30    17.530001    18.049999    17.530001    17.959999       3.88   \n",
       "1950-05-31    18.219999    18.780001    18.110001    18.780001       4.57   \n",
       "...                 ...          ...          ...          ...        ...   \n",
       "2023-08-31  4578.830078  4584.620117  4335.310059  4507.660156      -1.77   \n",
       "2023-09-30  4530.600098  4541.250000  4238.629883  4288.049805      -4.87   \n",
       "2023-10-31  4284.520020  4393.569824  4103.779785  4193.799805      -2.20   \n",
       "2023-11-30  4201.270020  4587.640137  4197.740234  4567.799805       8.92   \n",
       "2023-12-31  4559.430176  4778.009766  4546.500000  4732.700195       3.61   \n",
       "\n",
       "                  Mês   Ano N°_mês  \n",
       "Date                                \n",
       "1950-01-31    January  1950     01  \n",
       "1950-02-28   February  1950     02  \n",
       "1950-03-31      March  1950     03  \n",
       "1950-04-30      April  1950     04  \n",
       "1950-05-31        May  1950     05  \n",
       "...               ...   ...    ...  \n",
       "2023-08-31     August  2023     08  \n",
       "2023-09-30  September  2023     09  \n",
       "2023-10-31    October  2023     10  \n",
       "2023-11-30   November  2023     11  \n",
       "2023-12-31   December  2023     12  \n",
       "\n",
       "[888 rows x 8 columns]"
      ]
     },
     "execution_count": 7,
     "metadata": {},
     "output_type": "execute_result"
    }
   ],
   "source": [
    "# Criando coluna com o nomê do Mês\n",
    "sp500['Mês'] = sp500.index.month_name()\n",
    "\n",
    "# Criando coluna com o ano \n",
    "sp500['Ano'] = sp500.index.year\n",
    "\n",
    "# Criando coluna com a numneração do Mês (ex: Janeiro = 01)\n",
    "sp500['N°_mês'] = sp500.index.strftime('%m')\n",
    "\n",
    "#Selecionando os dados apartir de 1950 até 2023\n",
    "sp500 = sp500.loc['1950':'2023']\n",
    "sp500"
   ]
  },
  {
   "cell_type": "markdown",
   "id": "34a1e6a6-5948-455e-9874-bc8daf1f2467",
   "metadata": {
    "tags": []
   },
   "source": [
    "## 4. Passo: Visualização dos dados"
   ]
  },
  {
   "cell_type": "code",
   "execution_count": 8,
   "id": "6a36af83-da95-4e33-8c6b-25b3d3f04029",
   "metadata": {
    "tags": []
   },
   "outputs": [
    {
     "data": {
      "text/html": [
       "<style type=\"text/css\">\n",
       "#T_4cee3_row0_col0, #T_4cee3_row2_col0, #T_4cee3_row3_col0, #T_4cee3_row4_col0, #T_4cee3_row5_col0, #T_4cee3_row6_col0, #T_4cee3_row9_col0, #T_4cee3_row10_col0, #T_4cee3_row11_col0 {\n",
       "  background-color: #81b585;\n",
       "}\n",
       "#T_4cee3_row1_col0, #T_4cee3_row7_col0, #T_4cee3_row8_col0 {\n",
       "  background-color: #cf7a7a;\n",
       "}\n",
       "</style>\n",
       "<table id=\"T_4cee3\">\n",
       "  <thead>\n",
       "    <tr>\n",
       "      <th class=\"blank level0\" >&nbsp;</th>\n",
       "      <th id=\"T_4cee3_level0_col0\" class=\"col_heading level0 col0\" >Var_%_mês</th>\n",
       "    </tr>\n",
       "    <tr>\n",
       "      <th class=\"index_name level0\" >N°_mês</th>\n",
       "      <th class=\"blank col0\" >&nbsp;</th>\n",
       "    </tr>\n",
       "  </thead>\n",
       "  <tbody>\n",
       "    <tr>\n",
       "      <th id=\"T_4cee3_level0_row0\" class=\"row_heading level0 row0\" >01</th>\n",
       "      <td id=\"T_4cee3_row0_col0\" class=\"data row0 col0\" >1.050</td>\n",
       "    </tr>\n",
       "    <tr>\n",
       "      <th id=\"T_4cee3_level0_row1\" class=\"row_heading level0 row1\" >02</th>\n",
       "      <td id=\"T_4cee3_row1_col0\" class=\"data row1 col0\" >-0.078</td>\n",
       "    </tr>\n",
       "    <tr>\n",
       "      <th id=\"T_4cee3_level0_row2\" class=\"row_heading level0 row2\" >03</th>\n",
       "      <td id=\"T_4cee3_row2_col0\" class=\"data row2 col0\" >1.102</td>\n",
       "    </tr>\n",
       "    <tr>\n",
       "      <th id=\"T_4cee3_level0_row3\" class=\"row_heading level0 row3\" >04</th>\n",
       "      <td id=\"T_4cee3_row3_col0\" class=\"data row3 col0\" >1.531</td>\n",
       "    </tr>\n",
       "    <tr>\n",
       "      <th id=\"T_4cee3_level0_row4\" class=\"row_heading level0 row4\" >05</th>\n",
       "      <td id=\"T_4cee3_row4_col0\" class=\"data row4 col0\" >0.238</td>\n",
       "    </tr>\n",
       "    <tr>\n",
       "      <th id=\"T_4cee3_level0_row5\" class=\"row_heading level0 row5\" >06</th>\n",
       "      <td id=\"T_4cee3_row5_col0\" class=\"data row5 col0\" >0.094</td>\n",
       "    </tr>\n",
       "    <tr>\n",
       "      <th id=\"T_4cee3_level0_row6\" class=\"row_heading level0 row6\" >07</th>\n",
       "      <td id=\"T_4cee3_row6_col0\" class=\"data row6 col0\" >1.298</td>\n",
       "    </tr>\n",
       "    <tr>\n",
       "      <th id=\"T_4cee3_level0_row7\" class=\"row_heading level0 row7\" >08</th>\n",
       "      <td id=\"T_4cee3_row7_col0\" class=\"data row7 col0\" >-0.014</td>\n",
       "    </tr>\n",
       "    <tr>\n",
       "      <th id=\"T_4cee3_level0_row8\" class=\"row_heading level0 row8\" >09</th>\n",
       "      <td id=\"T_4cee3_row8_col0\" class=\"data row8 col0\" >-0.717</td>\n",
       "    </tr>\n",
       "    <tr>\n",
       "      <th id=\"T_4cee3_level0_row9\" class=\"row_heading level0 row9\" >10</th>\n",
       "      <td id=\"T_4cee3_row9_col0\" class=\"data row9 col0\" >0.901</td>\n",
       "    </tr>\n",
       "    <tr>\n",
       "      <th id=\"T_4cee3_level0_row10\" class=\"row_heading level0 row10\" >11</th>\n",
       "      <td id=\"T_4cee3_row10_col0\" class=\"data row10 col0\" >1.833</td>\n",
       "    </tr>\n",
       "    <tr>\n",
       "      <th id=\"T_4cee3_level0_row11\" class=\"row_heading level0 row11\" >12</th>\n",
       "      <td id=\"T_4cee3_row11_col0\" class=\"data row11 col0\" >1.476</td>\n",
       "    </tr>\n",
       "  </tbody>\n",
       "</table>\n"
      ],
      "text/plain": [
       "<pandas.io.formats.style.Styler at 0x19b4cca8690>"
      ]
     },
     "execution_count": 8,
     "metadata": {},
     "output_type": "execute_result"
    }
   ],
   "source": [
    "# Visualizar as médias mensais dos retornos ao longo dos 73 anos de cobertura\n",
    "resultado_geral = pd.pivot_table(sp500, values='Var_%_mês', index='N°_mês', columns=[], aggfunc=np.mean)\n",
    "\n",
    "# Colocando uma formatação condicional para diferenciar meses com médias positivas de negativas\n",
    "resultado_geral = resultado_geral.style.format('{:.3f}', na_rep='').applymap(lambda x: 'background-color : #81b585' if x > 0 else 'background-color : #cf7a7a')\n",
    "resultado_geral"
   ]
  },
  {
   "cell_type": "code",
   "execution_count": 9,
   "id": "440266b4-af9c-4539-8c5d-1cf45e488c01",
   "metadata": {
    "tags": []
   },
   "outputs": [
    {
     "data": {
      "text/html": [
       "<style type=\"text/css\">\n",
       "#T_e2c2a_row0_col0, #T_e2c2a_row0_col1, #T_e2c2a_row0_col2, #T_e2c2a_row0_col3, #T_e2c2a_row0_col4, #T_e2c2a_row0_col6, #T_e2c2a_row0_col7, #T_e2c2a_row0_col8, #T_e2c2a_row0_col9, #T_e2c2a_row0_col11, #T_e2c2a_row1_col0, #T_e2c2a_row1_col1, #T_e2c2a_row1_col3, #T_e2c2a_row1_col6, #T_e2c2a_row1_col7, #T_e2c2a_row1_col11, #T_e2c2a_row2_col0, #T_e2c2a_row2_col2, #T_e2c2a_row2_col4, #T_e2c2a_row2_col5, #T_e2c2a_row2_col6, #T_e2c2a_row2_col10, #T_e2c2a_row2_col11, #T_e2c2a_row3_col6, #T_e2c2a_row3_col8, #T_e2c2a_row3_col9, #T_e2c2a_row3_col10, #T_e2c2a_row3_col11, #T_e2c2a_row4_col0, #T_e2c2a_row4_col1, #T_e2c2a_row4_col2, #T_e2c2a_row4_col3, #T_e2c2a_row4_col4, #T_e2c2a_row4_col5, #T_e2c2a_row4_col6, #T_e2c2a_row4_col8, #T_e2c2a_row4_col10, #T_e2c2a_row4_col11, #T_e2c2a_row5_col0, #T_e2c2a_row5_col1, #T_e2c2a_row5_col3, #T_e2c2a_row5_col5, #T_e2c2a_row5_col6, #T_e2c2a_row5_col8, #T_e2c2a_row5_col10, #T_e2c2a_row6_col1, #T_e2c2a_row6_col2, #T_e2c2a_row6_col5, #T_e2c2a_row6_col6, #T_e2c2a_row6_col9, #T_e2c2a_row6_col11, #T_e2c2a_row7_col2, #T_e2c2a_row7_col3, #T_e2c2a_row7_col4, #T_e2c2a_row7_col6, #T_e2c2a_row7_col10, #T_e2c2a_row8_col0, #T_e2c2a_row8_col2, #T_e2c2a_row8_col3, #T_e2c2a_row8_col4, #T_e2c2a_row8_col5, #T_e2c2a_row8_col6, #T_e2c2a_row8_col7, #T_e2c2a_row8_col8, #T_e2c2a_row8_col9, #T_e2c2a_row8_col10, #T_e2c2a_row8_col11, #T_e2c2a_row9_col0, #T_e2c2a_row9_col2, #T_e2c2a_row9_col3, #T_e2c2a_row9_col4, #T_e2c2a_row9_col6, #T_e2c2a_row9_col9, #T_e2c2a_row9_col10, #T_e2c2a_row9_col11, #T_e2c2a_row10_col1, #T_e2c2a_row10_col4, #T_e2c2a_row10_col5, #T_e2c2a_row10_col7, #T_e2c2a_row10_col10, #T_e2c2a_row10_col11, #T_e2c2a_row11_col0, #T_e2c2a_row11_col1, #T_e2c2a_row11_col2, #T_e2c2a_row11_col3, #T_e2c2a_row11_col4, #T_e2c2a_row11_col6, #T_e2c2a_row11_col7, #T_e2c2a_row11_col9, #T_e2c2a_row11_col10, #T_e2c2a_row11_col11, #T_e2c2a_row12_col1, #T_e2c2a_row12_col6, #T_e2c2a_row12_col7, #T_e2c2a_row12_col9, #T_e2c2a_row12_col10, #T_e2c2a_row12_col11, #T_e2c2a_row13_col0, #T_e2c2a_row13_col2, #T_e2c2a_row13_col3, #T_e2c2a_row13_col4, #T_e2c2a_row13_col7, #T_e2c2a_row13_col9, #T_e2c2a_row13_col11, #T_e2c2a_row14_col0, #T_e2c2a_row14_col1, #T_e2c2a_row14_col2, #T_e2c2a_row14_col3, #T_e2c2a_row14_col4, #T_e2c2a_row14_col5, #T_e2c2a_row14_col6, #T_e2c2a_row14_col8, #T_e2c2a_row14_col9, #T_e2c2a_row14_col11, #T_e2c2a_row15_col0, #T_e2c2a_row15_col3, #T_e2c2a_row15_col6, #T_e2c2a_row15_col7, #T_e2c2a_row15_col8, #T_e2c2a_row15_col9, #T_e2c2a_row15_col11, #T_e2c2a_row16_col0, #T_e2c2a_row16_col3, #T_e2c2a_row16_col9, #T_e2c2a_row16_col10, #T_e2c2a_row17_col0, #T_e2c2a_row17_col1, #T_e2c2a_row17_col2, #T_e2c2a_row17_col3, #T_e2c2a_row17_col5, #T_e2c2a_row17_col6, #T_e2c2a_row17_col8, #T_e2c2a_row17_col10, #T_e2c2a_row17_col11, #T_e2c2a_row18_col2, #T_e2c2a_row18_col3, #T_e2c2a_row18_col4, #T_e2c2a_row18_col5, #T_e2c2a_row18_col7, #T_e2c2a_row18_col8, #T_e2c2a_row18_col9, #T_e2c2a_row18_col10, #T_e2c2a_row19_col2, #T_e2c2a_row19_col3, #T_e2c2a_row19_col7, #T_e2c2a_row19_col9, #T_e2c2a_row20_col1, #T_e2c2a_row20_col2, #T_e2c2a_row20_col6, #T_e2c2a_row20_col7, #T_e2c2a_row20_col8, #T_e2c2a_row20_col10, #T_e2c2a_row20_col11, #T_e2c2a_row21_col0, #T_e2c2a_row21_col1, #T_e2c2a_row21_col2, #T_e2c2a_row21_col3, #T_e2c2a_row21_col7, #T_e2c2a_row21_col11, #T_e2c2a_row22_col0, #T_e2c2a_row22_col1, #T_e2c2a_row22_col2, #T_e2c2a_row22_col3, #T_e2c2a_row22_col4, #T_e2c2a_row22_col6, #T_e2c2a_row22_col7, #T_e2c2a_row22_col9, #T_e2c2a_row22_col10, #T_e2c2a_row22_col11, #T_e2c2a_row23_col6, #T_e2c2a_row23_col8, #T_e2c2a_row23_col11, #T_e2c2a_row24_col9, #T_e2c2a_row25_col0, #T_e2c2a_row25_col1, #T_e2c2a_row25_col2, #T_e2c2a_row25_col3, #T_e2c2a_row25_col4, #T_e2c2a_row25_col5, #T_e2c2a_row25_col9, #T_e2c2a_row25_col10, #T_e2c2a_row26_col0, #T_e2c2a_row26_col2, #T_e2c2a_row26_col5, #T_e2c2a_row26_col8, #T_e2c2a_row26_col11, #T_e2c2a_row27_col3, #T_e2c2a_row27_col5, #T_e2c2a_row27_col10, #T_e2c2a_row27_col11, #T_e2c2a_row28_col2, #T_e2c2a_row28_col3, #T_e2c2a_row28_col4, #T_e2c2a_row28_col6, #T_e2c2a_row28_col7, #T_e2c2a_row28_col10, #T_e2c2a_row28_col11, #T_e2c2a_row29_col0, #T_e2c2a_row29_col2, #T_e2c2a_row29_col3, #T_e2c2a_row29_col5, #T_e2c2a_row29_col6, #T_e2c2a_row29_col7, #T_e2c2a_row29_col10, #T_e2c2a_row29_col11, #T_e2c2a_row30_col0, #T_e2c2a_row30_col3, #T_e2c2a_row30_col4, #T_e2c2a_row30_col5, #T_e2c2a_row30_col6, #T_e2c2a_row30_col7, #T_e2c2a_row30_col8, #T_e2c2a_row30_col9, #T_e2c2a_row30_col10, #T_e2c2a_row31_col1, #T_e2c2a_row31_col2, #T_e2c2a_row31_col9, #T_e2c2a_row31_col10, #T_e2c2a_row32_col3, #T_e2c2a_row32_col7, #T_e2c2a_row32_col8, #T_e2c2a_row32_col9, #T_e2c2a_row32_col10, #T_e2c2a_row32_col11, #T_e2c2a_row33_col0, #T_e2c2a_row33_col1, #T_e2c2a_row33_col2, #T_e2c2a_row33_col3, #T_e2c2a_row33_col5, #T_e2c2a_row33_col7, #T_e2c2a_row33_col8, #T_e2c2a_row33_col10, #T_e2c2a_row34_col2, #T_e2c2a_row34_col3, #T_e2c2a_row34_col5, #T_e2c2a_row34_col7, #T_e2c2a_row34_col11, #T_e2c2a_row35_col0, #T_e2c2a_row35_col1, #T_e2c2a_row35_col4, #T_e2c2a_row35_col5, #T_e2c2a_row35_col9, #T_e2c2a_row35_col10, #T_e2c2a_row35_col11, #T_e2c2a_row36_col0, #T_e2c2a_row36_col1, #T_e2c2a_row36_col2, #T_e2c2a_row36_col4, #T_e2c2a_row36_col5, #T_e2c2a_row36_col7, #T_e2c2a_row36_col9, #T_e2c2a_row36_col10, #T_e2c2a_row37_col0, #T_e2c2a_row37_col1, #T_e2c2a_row37_col2, #T_e2c2a_row37_col4, #T_e2c2a_row37_col5, #T_e2c2a_row37_col6, #T_e2c2a_row37_col7, #T_e2c2a_row37_col11, #T_e2c2a_row38_col0, #T_e2c2a_row38_col1, #T_e2c2a_row38_col3, #T_e2c2a_row38_col4, #T_e2c2a_row38_col5, #T_e2c2a_row38_col8, #T_e2c2a_row38_col9, #T_e2c2a_row38_col11, #T_e2c2a_row39_col0, #T_e2c2a_row39_col2, #T_e2c2a_row39_col3, #T_e2c2a_row39_col4, #T_e2c2a_row39_col6, #T_e2c2a_row39_col7, #T_e2c2a_row39_col10, #T_e2c2a_row39_col11, #T_e2c2a_row40_col1, #T_e2c2a_row40_col2, #T_e2c2a_row40_col4, #T_e2c2a_row40_col10, #T_e2c2a_row40_col11, #T_e2c2a_row41_col0, #T_e2c2a_row41_col1, #T_e2c2a_row41_col2, #T_e2c2a_row41_col3, #T_e2c2a_row41_col4, #T_e2c2a_row41_col6, #T_e2c2a_row41_col7, #T_e2c2a_row41_col9, #T_e2c2a_row41_col11, #T_e2c2a_row42_col1, #T_e2c2a_row42_col3, #T_e2c2a_row42_col4, #T_e2c2a_row42_col6, #T_e2c2a_row42_col8, #T_e2c2a_row42_col9, #T_e2c2a_row42_col10, #T_e2c2a_row42_col11, #T_e2c2a_row43_col0, #T_e2c2a_row43_col1, #T_e2c2a_row43_col2, #T_e2c2a_row43_col4, #T_e2c2a_row43_col5, #T_e2c2a_row43_col7, #T_e2c2a_row43_col9, #T_e2c2a_row43_col11, #T_e2c2a_row44_col0, #T_e2c2a_row44_col3, #T_e2c2a_row44_col4, #T_e2c2a_row44_col6, #T_e2c2a_row44_col7, #T_e2c2a_row44_col9, #T_e2c2a_row44_col11, #T_e2c2a_row45_col0, #T_e2c2a_row45_col1, #T_e2c2a_row45_col2, #T_e2c2a_row45_col3, #T_e2c2a_row45_col4, #T_e2c2a_row45_col5, #T_e2c2a_row45_col6, #T_e2c2a_row45_col8, #T_e2c2a_row45_col10, #T_e2c2a_row45_col11, #T_e2c2a_row46_col0, #T_e2c2a_row46_col1, #T_e2c2a_row46_col2, #T_e2c2a_row46_col3, #T_e2c2a_row46_col4, #T_e2c2a_row46_col5, #T_e2c2a_row46_col7, #T_e2c2a_row46_col8, #T_e2c2a_row46_col9, #T_e2c2a_row46_col10, #T_e2c2a_row47_col0, #T_e2c2a_row47_col1, #T_e2c2a_row47_col3, #T_e2c2a_row47_col4, #T_e2c2a_row47_col5, #T_e2c2a_row47_col6, #T_e2c2a_row47_col8, #T_e2c2a_row47_col10, #T_e2c2a_row47_col11, #T_e2c2a_row48_col0, #T_e2c2a_row48_col1, #T_e2c2a_row48_col2, #T_e2c2a_row48_col3, #T_e2c2a_row48_col5, #T_e2c2a_row48_col8, #T_e2c2a_row48_col9, #T_e2c2a_row48_col10, #T_e2c2a_row48_col11, #T_e2c2a_row49_col0, #T_e2c2a_row49_col2, #T_e2c2a_row49_col3, #T_e2c2a_row49_col5, #T_e2c2a_row49_col9, #T_e2c2a_row49_col10, #T_e2c2a_row49_col11, #T_e2c2a_row50_col2, #T_e2c2a_row50_col5, #T_e2c2a_row50_col7, #T_e2c2a_row50_col11, #T_e2c2a_row51_col0, #T_e2c2a_row51_col3, #T_e2c2a_row51_col4, #T_e2c2a_row51_col9, #T_e2c2a_row51_col10, #T_e2c2a_row51_col11, #T_e2c2a_row52_col2, #T_e2c2a_row52_col7, #T_e2c2a_row52_col9, #T_e2c2a_row52_col10, #T_e2c2a_row53_col2, #T_e2c2a_row53_col3, #T_e2c2a_row53_col4, #T_e2c2a_row53_col5, #T_e2c2a_row53_col6, #T_e2c2a_row53_col7, #T_e2c2a_row53_col9, #T_e2c2a_row53_col10, #T_e2c2a_row53_col11, #T_e2c2a_row54_col0, #T_e2c2a_row54_col1, #T_e2c2a_row54_col4, #T_e2c2a_row54_col5, #T_e2c2a_row54_col7, #T_e2c2a_row54_col8, #T_e2c2a_row54_col9, #T_e2c2a_row54_col10, #T_e2c2a_row54_col11, #T_e2c2a_row55_col1, #T_e2c2a_row55_col4, #T_e2c2a_row55_col6, #T_e2c2a_row55_col8, #T_e2c2a_row55_col10, #T_e2c2a_row56_col0, #T_e2c2a_row56_col1, #T_e2c2a_row56_col2, #T_e2c2a_row56_col3, #T_e2c2a_row56_col5, #T_e2c2a_row56_col6, #T_e2c2a_row56_col7, #T_e2c2a_row56_col8, #T_e2c2a_row56_col9, #T_e2c2a_row56_col10, #T_e2c2a_row56_col11, #T_e2c2a_row57_col0, #T_e2c2a_row57_col2, #T_e2c2a_row57_col3, #T_e2c2a_row57_col4, #T_e2c2a_row57_col7, #T_e2c2a_row57_col8, #T_e2c2a_row57_col9, #T_e2c2a_row58_col3, #T_e2c2a_row58_col4, #T_e2c2a_row58_col7, #T_e2c2a_row58_col11, #T_e2c2a_row59_col2, #T_e2c2a_row59_col3, #T_e2c2a_row59_col4, #T_e2c2a_row59_col5, #T_e2c2a_row59_col6, #T_e2c2a_row59_col7, #T_e2c2a_row59_col8, #T_e2c2a_row59_col10, #T_e2c2a_row59_col11, #T_e2c2a_row60_col1, #T_e2c2a_row60_col2, #T_e2c2a_row60_col3, #T_e2c2a_row60_col6, #T_e2c2a_row60_col8, #T_e2c2a_row60_col9, #T_e2c2a_row60_col11, #T_e2c2a_row61_col0, #T_e2c2a_row61_col1, #T_e2c2a_row61_col3, #T_e2c2a_row61_col9, #T_e2c2a_row61_col11, #T_e2c2a_row62_col0, #T_e2c2a_row62_col1, #T_e2c2a_row62_col2, #T_e2c2a_row62_col5, #T_e2c2a_row62_col6, #T_e2c2a_row62_col7, #T_e2c2a_row62_col8, #T_e2c2a_row62_col10, #T_e2c2a_row62_col11, #T_e2c2a_row63_col0, #T_e2c2a_row63_col1, #T_e2c2a_row63_col2, #T_e2c2a_row63_col3, #T_e2c2a_row63_col4, #T_e2c2a_row63_col6, #T_e2c2a_row63_col8, #T_e2c2a_row63_col9, #T_e2c2a_row63_col10, #T_e2c2a_row63_col11, #T_e2c2a_row64_col1, #T_e2c2a_row64_col2, #T_e2c2a_row64_col3, #T_e2c2a_row64_col4, #T_e2c2a_row64_col5, #T_e2c2a_row64_col7, #T_e2c2a_row64_col9, #T_e2c2a_row64_col10, #T_e2c2a_row65_col1, #T_e2c2a_row65_col3, #T_e2c2a_row65_col4, #T_e2c2a_row65_col6, #T_e2c2a_row65_col9, #T_e2c2a_row65_col10, #T_e2c2a_row66_col2, #T_e2c2a_row66_col3, #T_e2c2a_row66_col4, #T_e2c2a_row66_col5, #T_e2c2a_row66_col6, #T_e2c2a_row66_col10, #T_e2c2a_row66_col11, #T_e2c2a_row67_col0, #T_e2c2a_row67_col1, #T_e2c2a_row67_col3, #T_e2c2a_row67_col4, #T_e2c2a_row67_col5, #T_e2c2a_row67_col6, #T_e2c2a_row67_col7, #T_e2c2a_row67_col8, #T_e2c2a_row67_col9, #T_e2c2a_row67_col10, #T_e2c2a_row67_col11, #T_e2c2a_row68_col0, #T_e2c2a_row68_col3, #T_e2c2a_row68_col4, #T_e2c2a_row68_col5, #T_e2c2a_row68_col6, #T_e2c2a_row68_col7, #T_e2c2a_row68_col8, #T_e2c2a_row68_col10, #T_e2c2a_row69_col0, #T_e2c2a_row69_col1, #T_e2c2a_row69_col2, #T_e2c2a_row69_col3, #T_e2c2a_row69_col5, #T_e2c2a_row69_col6, #T_e2c2a_row69_col8, #T_e2c2a_row69_col9, #T_e2c2a_row69_col10, #T_e2c2a_row69_col11, #T_e2c2a_row70_col3, #T_e2c2a_row70_col4, #T_e2c2a_row70_col5, #T_e2c2a_row70_col6, #T_e2c2a_row70_col7, #T_e2c2a_row70_col10, #T_e2c2a_row70_col11, #T_e2c2a_row71_col1, #T_e2c2a_row71_col2, #T_e2c2a_row71_col3, #T_e2c2a_row71_col4, #T_e2c2a_row71_col5, #T_e2c2a_row71_col6, #T_e2c2a_row71_col7, #T_e2c2a_row71_col9, #T_e2c2a_row71_col11, #T_e2c2a_row72_col2, #T_e2c2a_row72_col4, #T_e2c2a_row72_col6, #T_e2c2a_row72_col9, #T_e2c2a_row72_col10, #T_e2c2a_row73_col0, #T_e2c2a_row73_col2, #T_e2c2a_row73_col3, #T_e2c2a_row73_col4, #T_e2c2a_row73_col5, #T_e2c2a_row73_col6, #T_e2c2a_row73_col10, #T_e2c2a_row73_col11 {\n",
       "  background-color: #81b585;\n",
       "}\n",
       "#T_e2c2a_row0_col5, #T_e2c2a_row0_col10, #T_e2c2a_row1_col2, #T_e2c2a_row1_col4, #T_e2c2a_row1_col5, #T_e2c2a_row1_col8, #T_e2c2a_row1_col9, #T_e2c2a_row1_col10, #T_e2c2a_row2_col1, #T_e2c2a_row2_col3, #T_e2c2a_row2_col7, #T_e2c2a_row2_col8, #T_e2c2a_row2_col9, #T_e2c2a_row3_col0, #T_e2c2a_row3_col1, #T_e2c2a_row3_col2, #T_e2c2a_row3_col3, #T_e2c2a_row3_col4, #T_e2c2a_row3_col5, #T_e2c2a_row3_col7, #T_e2c2a_row4_col7, #T_e2c2a_row4_col9, #T_e2c2a_row5_col2, #T_e2c2a_row5_col4, #T_e2c2a_row5_col7, #T_e2c2a_row5_col9, #T_e2c2a_row5_col11, #T_e2c2a_row6_col0, #T_e2c2a_row6_col3, #T_e2c2a_row6_col4, #T_e2c2a_row6_col7, #T_e2c2a_row6_col8, #T_e2c2a_row6_col10, #T_e2c2a_row7_col0, #T_e2c2a_row7_col1, #T_e2c2a_row7_col5, #T_e2c2a_row7_col7, #T_e2c2a_row7_col8, #T_e2c2a_row7_col9, #T_e2c2a_row7_col11, #T_e2c2a_row8_col1, #T_e2c2a_row9_col1, #T_e2c2a_row9_col5, #T_e2c2a_row9_col7, #T_e2c2a_row9_col8, #T_e2c2a_row10_col0, #T_e2c2a_row10_col2, #T_e2c2a_row10_col3, #T_e2c2a_row10_col6, #T_e2c2a_row10_col8, #T_e2c2a_row10_col9, #T_e2c2a_row11_col5, #T_e2c2a_row11_col8, #T_e2c2a_row12_col0, #T_e2c2a_row12_col2, #T_e2c2a_row12_col3, #T_e2c2a_row12_col4, #T_e2c2a_row12_col5, #T_e2c2a_row12_col8, #T_e2c2a_row13_col1, #T_e2c2a_row13_col5, #T_e2c2a_row13_col6, #T_e2c2a_row13_col8, #T_e2c2a_row13_col10, #T_e2c2a_row14_col7, #T_e2c2a_row14_col10, #T_e2c2a_row15_col1, #T_e2c2a_row15_col2, #T_e2c2a_row15_col4, #T_e2c2a_row15_col5, #T_e2c2a_row15_col10, #T_e2c2a_row16_col1, #T_e2c2a_row16_col2, #T_e2c2a_row16_col4, #T_e2c2a_row16_col5, #T_e2c2a_row16_col6, #T_e2c2a_row16_col7, #T_e2c2a_row16_col8, #T_e2c2a_row16_col11, #T_e2c2a_row17_col4, #T_e2c2a_row17_col7, #T_e2c2a_row17_col9, #T_e2c2a_row18_col0, #T_e2c2a_row18_col1, #T_e2c2a_row18_col6, #T_e2c2a_row18_col11, #T_e2c2a_row19_col0, #T_e2c2a_row19_col1, #T_e2c2a_row19_col4, #T_e2c2a_row19_col5, #T_e2c2a_row19_col6, #T_e2c2a_row19_col8, #T_e2c2a_row19_col10, #T_e2c2a_row19_col11, #T_e2c2a_row20_col0, #T_e2c2a_row20_col3, #T_e2c2a_row20_col4, #T_e2c2a_row20_col5, #T_e2c2a_row20_col9, #T_e2c2a_row21_col4, #T_e2c2a_row21_col5, #T_e2c2a_row21_col6, #T_e2c2a_row21_col8, #T_e2c2a_row21_col9, #T_e2c2a_row21_col10, #T_e2c2a_row22_col5, #T_e2c2a_row22_col8, #T_e2c2a_row23_col0, #T_e2c2a_row23_col1, #T_e2c2a_row23_col2, #T_e2c2a_row23_col3, #T_e2c2a_row23_col4, #T_e2c2a_row23_col5, #T_e2c2a_row23_col7, #T_e2c2a_row23_col9, #T_e2c2a_row23_col10, #T_e2c2a_row24_col0, #T_e2c2a_row24_col1, #T_e2c2a_row24_col2, #T_e2c2a_row24_col3, #T_e2c2a_row24_col4, #T_e2c2a_row24_col5, #T_e2c2a_row24_col6, #T_e2c2a_row24_col7, #T_e2c2a_row24_col8, #T_e2c2a_row24_col10, #T_e2c2a_row24_col11, #T_e2c2a_row25_col6, #T_e2c2a_row25_col7, #T_e2c2a_row25_col8, #T_e2c2a_row25_col11, #T_e2c2a_row26_col1, #T_e2c2a_row26_col3, #T_e2c2a_row26_col4, #T_e2c2a_row26_col6, #T_e2c2a_row26_col7, #T_e2c2a_row26_col9, #T_e2c2a_row26_col10, #T_e2c2a_row27_col0, #T_e2c2a_row27_col1, #T_e2c2a_row27_col2, #T_e2c2a_row27_col4, #T_e2c2a_row27_col6, #T_e2c2a_row27_col7, #T_e2c2a_row27_col8, #T_e2c2a_row27_col9, #T_e2c2a_row28_col0, #T_e2c2a_row28_col1, #T_e2c2a_row28_col5, #T_e2c2a_row28_col8, #T_e2c2a_row28_col9, #T_e2c2a_row29_col1, #T_e2c2a_row29_col4, #T_e2c2a_row29_col8, #T_e2c2a_row29_col9, #T_e2c2a_row30_col1, #T_e2c2a_row30_col2, #T_e2c2a_row30_col11, #T_e2c2a_row31_col0, #T_e2c2a_row31_col3, #T_e2c2a_row31_col4, #T_e2c2a_row31_col5, #T_e2c2a_row31_col6, #T_e2c2a_row31_col7, #T_e2c2a_row31_col8, #T_e2c2a_row31_col11, #T_e2c2a_row32_col0, #T_e2c2a_row32_col1, #T_e2c2a_row32_col2, #T_e2c2a_row32_col4, #T_e2c2a_row32_col5, #T_e2c2a_row32_col6, #T_e2c2a_row33_col4, #T_e2c2a_row33_col6, #T_e2c2a_row33_col9, #T_e2c2a_row33_col11, #T_e2c2a_row34_col0, #T_e2c2a_row34_col1, #T_e2c2a_row34_col4, #T_e2c2a_row34_col6, #T_e2c2a_row34_col8, #T_e2c2a_row34_col9, #T_e2c2a_row34_col10, #T_e2c2a_row35_col2, #T_e2c2a_row35_col3, #T_e2c2a_row35_col6, #T_e2c2a_row35_col7, #T_e2c2a_row35_col8, #T_e2c2a_row36_col3, #T_e2c2a_row36_col6, #T_e2c2a_row36_col8, #T_e2c2a_row36_col11, #T_e2c2a_row37_col3, #T_e2c2a_row37_col8, #T_e2c2a_row37_col9, #T_e2c2a_row37_col10, #T_e2c2a_row38_col2, #T_e2c2a_row38_col6, #T_e2c2a_row38_col7, #T_e2c2a_row38_col10, #T_e2c2a_row39_col1, #T_e2c2a_row39_col5, #T_e2c2a_row39_col8, #T_e2c2a_row39_col9, #T_e2c2a_row40_col0, #T_e2c2a_row40_col3, #T_e2c2a_row40_col5, #T_e2c2a_row40_col6, #T_e2c2a_row40_col7, #T_e2c2a_row40_col8, #T_e2c2a_row40_col9, #T_e2c2a_row41_col5, #T_e2c2a_row41_col8, #T_e2c2a_row41_col10, #T_e2c2a_row42_col0, #T_e2c2a_row42_col2, #T_e2c2a_row42_col5, #T_e2c2a_row42_col7, #T_e2c2a_row43_col3, #T_e2c2a_row43_col6, #T_e2c2a_row43_col8, #T_e2c2a_row43_col10, #T_e2c2a_row44_col1, #T_e2c2a_row44_col2, #T_e2c2a_row44_col5, #T_e2c2a_row44_col8, #T_e2c2a_row44_col10, #T_e2c2a_row45_col7, #T_e2c2a_row45_col9, #T_e2c2a_row46_col6, #T_e2c2a_row46_col11, #T_e2c2a_row47_col2, #T_e2c2a_row47_col7, #T_e2c2a_row47_col9, #T_e2c2a_row48_col4, #T_e2c2a_row48_col6, #T_e2c2a_row48_col7, #T_e2c2a_row49_col1, #T_e2c2a_row49_col4, #T_e2c2a_row49_col6, #T_e2c2a_row49_col7, #T_e2c2a_row49_col8, #T_e2c2a_row50_col0, #T_e2c2a_row50_col1, #T_e2c2a_row50_col3, #T_e2c2a_row50_col4, #T_e2c2a_row50_col6, #T_e2c2a_row50_col8, #T_e2c2a_row50_col9, #T_e2c2a_row50_col10, #T_e2c2a_row51_col1, #T_e2c2a_row51_col2, #T_e2c2a_row51_col5, #T_e2c2a_row51_col6, #T_e2c2a_row51_col7, #T_e2c2a_row51_col8, #T_e2c2a_row52_col0, #T_e2c2a_row52_col1, #T_e2c2a_row52_col3, #T_e2c2a_row52_col4, #T_e2c2a_row52_col5, #T_e2c2a_row52_col6, #T_e2c2a_row52_col8, #T_e2c2a_row52_col11, #T_e2c2a_row53_col0, #T_e2c2a_row53_col1, #T_e2c2a_row53_col8, #T_e2c2a_row54_col2, #T_e2c2a_row54_col3, #T_e2c2a_row54_col6, #T_e2c2a_row55_col0, #T_e2c2a_row55_col2, #T_e2c2a_row55_col3, #T_e2c2a_row55_col5, #T_e2c2a_row55_col7, #T_e2c2a_row55_col9, #T_e2c2a_row55_col11, #T_e2c2a_row56_col4, #T_e2c2a_row57_col1, #T_e2c2a_row57_col5, #T_e2c2a_row57_col6, #T_e2c2a_row57_col10, #T_e2c2a_row57_col11, #T_e2c2a_row58_col0, #T_e2c2a_row58_col1, #T_e2c2a_row58_col2, #T_e2c2a_row58_col5, #T_e2c2a_row58_col6, #T_e2c2a_row58_col8, #T_e2c2a_row58_col9, #T_e2c2a_row58_col10, #T_e2c2a_row59_col0, #T_e2c2a_row59_col1, #T_e2c2a_row59_col9, #T_e2c2a_row60_col0, #T_e2c2a_row60_col4, #T_e2c2a_row60_col5, #T_e2c2a_row60_col7, #T_e2c2a_row60_col10, #T_e2c2a_row61_col2, #T_e2c2a_row61_col4, #T_e2c2a_row61_col5, #T_e2c2a_row61_col6, #T_e2c2a_row61_col7, #T_e2c2a_row61_col8, #T_e2c2a_row61_col10, #T_e2c2a_row62_col3, #T_e2c2a_row62_col4, #T_e2c2a_row62_col9, #T_e2c2a_row63_col5, #T_e2c2a_row63_col7, #T_e2c2a_row64_col0, #T_e2c2a_row64_col6, #T_e2c2a_row64_col8, #T_e2c2a_row64_col11, #T_e2c2a_row65_col0, #T_e2c2a_row65_col2, #T_e2c2a_row65_col5, #T_e2c2a_row65_col7, #T_e2c2a_row65_col8, #T_e2c2a_row65_col11, #T_e2c2a_row66_col0, #T_e2c2a_row66_col1, #T_e2c2a_row66_col7, #T_e2c2a_row66_col8, #T_e2c2a_row66_col9, #T_e2c2a_row67_col2, #T_e2c2a_row68_col1, #T_e2c2a_row68_col2, #T_e2c2a_row68_col9, #T_e2c2a_row68_col11, #T_e2c2a_row69_col4, #T_e2c2a_row69_col7, #T_e2c2a_row70_col0, #T_e2c2a_row70_col1, #T_e2c2a_row70_col2, #T_e2c2a_row70_col8, #T_e2c2a_row70_col9, #T_e2c2a_row71_col0, #T_e2c2a_row71_col8, #T_e2c2a_row71_col10, #T_e2c2a_row72_col0, #T_e2c2a_row72_col1, #T_e2c2a_row72_col3, #T_e2c2a_row72_col5, #T_e2c2a_row72_col7, #T_e2c2a_row72_col8, #T_e2c2a_row72_col11, #T_e2c2a_row73_col1, #T_e2c2a_row73_col7, #T_e2c2a_row73_col8, #T_e2c2a_row73_col9 {\n",
       "  background-color: #cf7a7a;\n",
       "}\n",
       "</style>\n",
       "<table id=\"T_e2c2a\">\n",
       "  <thead>\n",
       "    <tr>\n",
       "      <th class=\"index_name level0\" >N°_mês</th>\n",
       "      <th id=\"T_e2c2a_level0_col0\" class=\"col_heading level0 col0\" >01</th>\n",
       "      <th id=\"T_e2c2a_level0_col1\" class=\"col_heading level0 col1\" >02</th>\n",
       "      <th id=\"T_e2c2a_level0_col2\" class=\"col_heading level0 col2\" >03</th>\n",
       "      <th id=\"T_e2c2a_level0_col3\" class=\"col_heading level0 col3\" >04</th>\n",
       "      <th id=\"T_e2c2a_level0_col4\" class=\"col_heading level0 col4\" >05</th>\n",
       "      <th id=\"T_e2c2a_level0_col5\" class=\"col_heading level0 col5\" >06</th>\n",
       "      <th id=\"T_e2c2a_level0_col6\" class=\"col_heading level0 col6\" >07</th>\n",
       "      <th id=\"T_e2c2a_level0_col7\" class=\"col_heading level0 col7\" >08</th>\n",
       "      <th id=\"T_e2c2a_level0_col8\" class=\"col_heading level0 col8\" >09</th>\n",
       "      <th id=\"T_e2c2a_level0_col9\" class=\"col_heading level0 col9\" >10</th>\n",
       "      <th id=\"T_e2c2a_level0_col10\" class=\"col_heading level0 col10\" >11</th>\n",
       "      <th id=\"T_e2c2a_level0_col11\" class=\"col_heading level0 col11\" >12</th>\n",
       "    </tr>\n",
       "    <tr>\n",
       "      <th class=\"index_name level0\" >Ano</th>\n",
       "      <th class=\"blank col0\" >&nbsp;</th>\n",
       "      <th class=\"blank col1\" >&nbsp;</th>\n",
       "      <th class=\"blank col2\" >&nbsp;</th>\n",
       "      <th class=\"blank col3\" >&nbsp;</th>\n",
       "      <th class=\"blank col4\" >&nbsp;</th>\n",
       "      <th class=\"blank col5\" >&nbsp;</th>\n",
       "      <th class=\"blank col6\" >&nbsp;</th>\n",
       "      <th class=\"blank col7\" >&nbsp;</th>\n",
       "      <th class=\"blank col8\" >&nbsp;</th>\n",
       "      <th class=\"blank col9\" >&nbsp;</th>\n",
       "      <th class=\"blank col10\" >&nbsp;</th>\n",
       "      <th class=\"blank col11\" >&nbsp;</th>\n",
       "    </tr>\n",
       "  </thead>\n",
       "  <tbody>\n",
       "    <tr>\n",
       "      <th id=\"T_e2c2a_level0_row0\" class=\"row_heading level0 row0\" >1950</th>\n",
       "      <td id=\"T_e2c2a_row0_col0\" class=\"data row0 col0\" >1.550</td>\n",
       "      <td id=\"T_e2c2a_row0_col1\" class=\"data row0 col1\" >1.000</td>\n",
       "      <td id=\"T_e2c2a_row0_col2\" class=\"data row0 col2\" >0.410</td>\n",
       "      <td id=\"T_e2c2a_row0_col3\" class=\"data row0 col3\" >3.880</td>\n",
       "      <td id=\"T_e2c2a_row0_col4\" class=\"data row0 col4\" >4.570</td>\n",
       "      <td id=\"T_e2c2a_row0_col5\" class=\"data row0 col5\" >-5.800</td>\n",
       "      <td id=\"T_e2c2a_row0_col6\" class=\"data row0 col6\" >0.850</td>\n",
       "      <td id=\"T_e2c2a_row0_col7\" class=\"data row0 col7\" >3.250</td>\n",
       "      <td id=\"T_e2c2a_row0_col8\" class=\"data row0 col8\" >5.590</td>\n",
       "      <td id=\"T_e2c2a_row0_col9\" class=\"data row0 col9\" >0.410</td>\n",
       "      <td id=\"T_e2c2a_row0_col10\" class=\"data row0 col10\" >-0.100</td>\n",
       "      <td id=\"T_e2c2a_row0_col11\" class=\"data row0 col11\" >4.720</td>\n",
       "    </tr>\n",
       "    <tr>\n",
       "      <th id=\"T_e2c2a_level0_row1\" class=\"row_heading level0 row1\" >1951</th>\n",
       "      <td id=\"T_e2c2a_row1_col0\" class=\"data row1 col0\" >6.020</td>\n",
       "      <td id=\"T_e2c2a_row1_col1\" class=\"data row1 col1\" >0.650</td>\n",
       "      <td id=\"T_e2c2a_row1_col2\" class=\"data row1 col2\" >-1.470</td>\n",
       "      <td id=\"T_e2c2a_row1_col3\" class=\"data row1 col3\" >4.420</td>\n",
       "      <td id=\"T_e2c2a_row1_col4\" class=\"data row1 col4\" >-4.060</td>\n",
       "      <td id=\"T_e2c2a_row1_col5\" class=\"data row1 col5\" >-2.600</td>\n",
       "      <td id=\"T_e2c2a_row1_col6\" class=\"data row1 col6\" >6.870</td>\n",
       "      <td id=\"T_e2c2a_row1_col7\" class=\"data row1 col7\" >3.930</td>\n",
       "      <td id=\"T_e2c2a_row1_col8\" class=\"data row1 col8\" >-0.090</td>\n",
       "      <td id=\"T_e2c2a_row1_col9\" class=\"data row1 col9\" >-1.380</td>\n",
       "      <td id=\"T_e2c2a_row1_col10\" class=\"data row1 col10\" >-0.260</td>\n",
       "      <td id=\"T_e2c2a_row1_col11\" class=\"data row1 col11\" >3.890</td>\n",
       "    </tr>\n",
       "    <tr>\n",
       "      <th id=\"T_e2c2a_level0_row2\" class=\"row_heading level0 row2\" >1952</th>\n",
       "      <td id=\"T_e2c2a_row2_col0\" class=\"data row2 col0\" >1.560</td>\n",
       "      <td id=\"T_e2c2a_row2_col1\" class=\"data row2 col1\" >-3.650</td>\n",
       "      <td id=\"T_e2c2a_row2_col2\" class=\"data row2 col2\" >4.770</td>\n",
       "      <td id=\"T_e2c2a_row2_col3\" class=\"data row2 col3\" >-4.310</td>\n",
       "      <td id=\"T_e2c2a_row2_col4\" class=\"data row2 col4\" >2.320</td>\n",
       "      <td id=\"T_e2c2a_row2_col5\" class=\"data row2 col5\" >4.610</td>\n",
       "      <td id=\"T_e2c2a_row2_col6\" class=\"data row2 col6\" >1.760</td>\n",
       "      <td id=\"T_e2c2a_row2_col7\" class=\"data row2 col7\" >-1.460</td>\n",
       "      <td id=\"T_e2c2a_row2_col8\" class=\"data row2 col8\" >-1.960</td>\n",
       "      <td id=\"T_e2c2a_row2_col9\" class=\"data row2 col9\" >-0.080</td>\n",
       "      <td id=\"T_e2c2a_row2_col10\" class=\"data row2 col10\" >4.650</td>\n",
       "      <td id=\"T_e2c2a_row2_col11\" class=\"data row2 col11\" >3.550</td>\n",
       "    </tr>\n",
       "    <tr>\n",
       "      <th id=\"T_e2c2a_level0_row3\" class=\"row_heading level0 row3\" >1953</th>\n",
       "      <td id=\"T_e2c2a_row3_col0\" class=\"data row3 col0\" >-0.720</td>\n",
       "      <td id=\"T_e2c2a_row3_col1\" class=\"data row3 col1\" >-1.820</td>\n",
       "      <td id=\"T_e2c2a_row3_col2\" class=\"data row3 col2\" >-2.360</td>\n",
       "      <td id=\"T_e2c2a_row3_col3\" class=\"data row3 col3\" >-2.650</td>\n",
       "      <td id=\"T_e2c2a_row3_col4\" class=\"data row3 col4\" >-0.320</td>\n",
       "      <td id=\"T_e2c2a_row3_col5\" class=\"data row3 col5\" >-1.630</td>\n",
       "      <td id=\"T_e2c2a_row3_col6\" class=\"data row3 col6\" >2.530</td>\n",
       "      <td id=\"T_e2c2a_row3_col7\" class=\"data row3 col7\" >-5.780</td>\n",
       "      <td id=\"T_e2c2a_row3_col8\" class=\"data row3 col8\" >0.130</td>\n",
       "      <td id=\"T_e2c2a_row3_col9\" class=\"data row3 col9\" >5.100</td>\n",
       "      <td id=\"T_e2c2a_row3_col10\" class=\"data row3 col10\" >0.900</td>\n",
       "      <td id=\"T_e2c2a_row3_col11\" class=\"data row3 col11\" >0.200</td>\n",
       "    </tr>\n",
       "    <tr>\n",
       "      <th id=\"T_e2c2a_level0_row4\" class=\"row_heading level0 row4\" >1954</th>\n",
       "      <td id=\"T_e2c2a_row4_col0\" class=\"data row4 col0\" >5.120</td>\n",
       "      <td id=\"T_e2c2a_row4_col1\" class=\"data row4 col1\" >0.270</td>\n",
       "      <td id=\"T_e2c2a_row4_col2\" class=\"data row4 col2\" >3.020</td>\n",
       "      <td id=\"T_e2c2a_row4_col3\" class=\"data row4 col3\" >4.900</td>\n",
       "      <td id=\"T_e2c2a_row4_col4\" class=\"data row4 col4\" >3.290</td>\n",
       "      <td id=\"T_e2c2a_row4_col5\" class=\"data row4 col5\" >0.070</td>\n",
       "      <td id=\"T_e2c2a_row4_col6\" class=\"data row4 col6\" >5.720</td>\n",
       "      <td id=\"T_e2c2a_row4_col7\" class=\"data row4 col7\" >-3.400</td>\n",
       "      <td id=\"T_e2c2a_row4_col8\" class=\"data row4 col8\" >8.310</td>\n",
       "      <td id=\"T_e2c2a_row4_col9\" class=\"data row4 col9\" >-1.950</td>\n",
       "      <td id=\"T_e2c2a_row4_col10\" class=\"data row4 col10\" >8.080</td>\n",
       "      <td id=\"T_e2c2a_row4_col11\" class=\"data row4 col11\" >5.080</td>\n",
       "    </tr>\n",
       "    <tr>\n",
       "      <th id=\"T_e2c2a_level0_row5\" class=\"row_heading level0 row5\" >1955</th>\n",
       "      <td id=\"T_e2c2a_row5_col0\" class=\"data row5 col0\" >1.810</td>\n",
       "      <td id=\"T_e2c2a_row5_col1\" class=\"data row5 col1\" >0.350</td>\n",
       "      <td id=\"T_e2c2a_row5_col2\" class=\"data row5 col2\" >-0.490</td>\n",
       "      <td id=\"T_e2c2a_row5_col3\" class=\"data row5 col3\" >3.770</td>\n",
       "      <td id=\"T_e2c2a_row5_col4\" class=\"data row5 col4\" >-0.130</td>\n",
       "      <td id=\"T_e2c2a_row5_col5\" class=\"data row5 col5\" >8.230</td>\n",
       "      <td id=\"T_e2c2a_row5_col6\" class=\"data row5 col6\" >6.070</td>\n",
       "      <td id=\"T_e2c2a_row5_col7\" class=\"data row5 col7\" >-0.780</td>\n",
       "      <td id=\"T_e2c2a_row5_col8\" class=\"data row5 col8\" >1.130</td>\n",
       "      <td id=\"T_e2c2a_row5_col9\" class=\"data row5 col9\" >-3.050</td>\n",
       "      <td id=\"T_e2c2a_row5_col10\" class=\"data row5 col10\" >7.490</td>\n",
       "      <td id=\"T_e2c2a_row5_col11\" class=\"data row5 col11\" >-0.070</td>\n",
       "    </tr>\n",
       "    <tr>\n",
       "      <th id=\"T_e2c2a_level0_row6\" class=\"row_heading level0 row6\" >1956</th>\n",
       "      <td id=\"T_e2c2a_row6_col0\" class=\"data row6 col0\" >-3.650</td>\n",
       "      <td id=\"T_e2c2a_row6_col1\" class=\"data row6 col1\" >3.470</td>\n",
       "      <td id=\"T_e2c2a_row6_col2\" class=\"data row6 col2\" >6.930</td>\n",
       "      <td id=\"T_e2c2a_row6_col3\" class=\"data row6 col3\" >-0.210</td>\n",
       "      <td id=\"T_e2c2a_row6_col4\" class=\"data row6 col4\" >-6.570</td>\n",
       "      <td id=\"T_e2c2a_row6_col5\" class=\"data row6 col5\" >3.920</td>\n",
       "      <td id=\"T_e2c2a_row6_col6\" class=\"data row6 col6\" >5.150</td>\n",
       "      <td id=\"T_e2c2a_row6_col7\" class=\"data row6 col7\" >-3.810</td>\n",
       "      <td id=\"T_e2c2a_row6_col8\" class=\"data row6 col8\" >-4.550</td>\n",
       "      <td id=\"T_e2c2a_row6_col9\" class=\"data row6 col9\" >0.510</td>\n",
       "      <td id=\"T_e2c2a_row6_col10\" class=\"data row6 col10\" >-1.100</td>\n",
       "      <td id=\"T_e2c2a_row6_col11\" class=\"data row6 col11\" >3.530</td>\n",
       "    </tr>\n",
       "    <tr>\n",
       "      <th id=\"T_e2c2a_level0_row7\" class=\"row_heading level0 row7\" >1957</th>\n",
       "      <td id=\"T_e2c2a_row7_col0\" class=\"data row7 col0\" >-4.180</td>\n",
       "      <td id=\"T_e2c2a_row7_col1\" class=\"data row7 col1\" >-3.260</td>\n",
       "      <td id=\"T_e2c2a_row7_col2\" class=\"data row7 col2\" >1.960</td>\n",
       "      <td id=\"T_e2c2a_row7_col3\" class=\"data row7 col3\" >3.700</td>\n",
       "      <td id=\"T_e2c2a_row7_col4\" class=\"data row7 col4\" >3.690</td>\n",
       "      <td id=\"T_e2c2a_row7_col5\" class=\"data row7 col5\" >-0.130</td>\n",
       "      <td id=\"T_e2c2a_row7_col6\" class=\"data row7 col6\" >1.140</td>\n",
       "      <td id=\"T_e2c2a_row7_col7\" class=\"data row7 col7\" >-5.610</td>\n",
       "      <td id=\"T_e2c2a_row7_col8\" class=\"data row7 col8\" >-6.190</td>\n",
       "      <td id=\"T_e2c2a_row7_col9\" class=\"data row7 col9\" >-3.210</td>\n",
       "      <td id=\"T_e2c2a_row7_col10\" class=\"data row7 col10\" >1.610</td>\n",
       "      <td id=\"T_e2c2a_row7_col11\" class=\"data row7 col11\" >-4.150</td>\n",
       "    </tr>\n",
       "    <tr>\n",
       "      <th id=\"T_e2c2a_level0_row8\" class=\"row_heading level0 row8\" >1958</th>\n",
       "      <td id=\"T_e2c2a_row8_col0\" class=\"data row8 col0\" >4.280</td>\n",
       "      <td id=\"T_e2c2a_row8_col1\" class=\"data row8 col1\" >-2.060</td>\n",
       "      <td id=\"T_e2c2a_row8_col2\" class=\"data row8 col2\" >3.090</td>\n",
       "      <td id=\"T_e2c2a_row8_col3\" class=\"data row8 col3\" >3.180</td>\n",
       "      <td id=\"T_e2c2a_row8_col4\" class=\"data row8 col4\" >1.500</td>\n",
       "      <td id=\"T_e2c2a_row8_col5\" class=\"data row8 col5\" >2.610</td>\n",
       "      <td id=\"T_e2c2a_row8_col6\" class=\"data row8 col6\" >4.310</td>\n",
       "      <td id=\"T_e2c2a_row8_col7\" class=\"data row8 col7\" >1.190</td>\n",
       "      <td id=\"T_e2c2a_row8_col8\" class=\"data row8 col8\" >4.840</td>\n",
       "      <td id=\"T_e2c2a_row8_col9\" class=\"data row8 col9\" >2.540</td>\n",
       "      <td id=\"T_e2c2a_row8_col10\" class=\"data row8 col10\" >2.240</td>\n",
       "      <td id=\"T_e2c2a_row8_col11\" class=\"data row8 col11\" >5.200</td>\n",
       "    </tr>\n",
       "    <tr>\n",
       "      <th id=\"T_e2c2a_level0_row9\" class=\"row_heading level0 row9\" >1959</th>\n",
       "      <td id=\"T_e2c2a_row9_col0\" class=\"data row9 col0\" >0.430</td>\n",
       "      <td id=\"T_e2c2a_row9_col1\" class=\"data row9 col1\" >-0.070</td>\n",
       "      <td id=\"T_e2c2a_row9_col2\" class=\"data row9 col2\" >0.050</td>\n",
       "      <td id=\"T_e2c2a_row9_col3\" class=\"data row9 col3\" >3.880</td>\n",
       "      <td id=\"T_e2c2a_row9_col4\" class=\"data row9 col4\" >1.890</td>\n",
       "      <td id=\"T_e2c2a_row9_col5\" class=\"data row9 col5\" >-0.360</td>\n",
       "      <td id=\"T_e2c2a_row9_col6\" class=\"data row9 col6\" >3.490</td>\n",
       "      <td id=\"T_e2c2a_row9_col7\" class=\"data row9 col7\" >-1.500</td>\n",
       "      <td id=\"T_e2c2a_row9_col8\" class=\"data row9 col8\" >-4.560</td>\n",
       "      <td id=\"T_e2c2a_row9_col9\" class=\"data row9 col9\" >1.130</td>\n",
       "      <td id=\"T_e2c2a_row9_col10\" class=\"data row9 col10\" >1.320</td>\n",
       "      <td id=\"T_e2c2a_row9_col11\" class=\"data row9 col11\" >2.760</td>\n",
       "    </tr>\n",
       "    <tr>\n",
       "      <th id=\"T_e2c2a_level0_row10\" class=\"row_heading level0 row10\" >1960</th>\n",
       "      <td id=\"T_e2c2a_row10_col0\" class=\"data row10 col0\" >-7.150</td>\n",
       "      <td id=\"T_e2c2a_row10_col1\" class=\"data row10 col1\" >0.920</td>\n",
       "      <td id=\"T_e2c2a_row10_col2\" class=\"data row10 col2\" >-1.390</td>\n",
       "      <td id=\"T_e2c2a_row10_col3\" class=\"data row10 col3\" >-1.750</td>\n",
       "      <td id=\"T_e2c2a_row10_col4\" class=\"data row10 col4\" >2.690</td>\n",
       "      <td id=\"T_e2c2a_row10_col5\" class=\"data row10 col5\" >1.950</td>\n",
       "      <td id=\"T_e2c2a_row10_col6\" class=\"data row10 col6\" >-2.480</td>\n",
       "      <td id=\"T_e2c2a_row10_col7\" class=\"data row10 col7\" >2.610</td>\n",
       "      <td id=\"T_e2c2a_row10_col8\" class=\"data row10 col8\" >-6.040</td>\n",
       "      <td id=\"T_e2c2a_row10_col9\" class=\"data row10 col9\" >-0.240</td>\n",
       "      <td id=\"T_e2c2a_row10_col10\" class=\"data row10 col10\" >4.030</td>\n",
       "      <td id=\"T_e2c2a_row10_col11\" class=\"data row10 col11\" >4.630</td>\n",
       "    </tr>\n",
       "    <tr>\n",
       "      <th id=\"T_e2c2a_level0_row11\" class=\"row_heading level0 row11\" >1961</th>\n",
       "      <td id=\"T_e2c2a_row11_col0\" class=\"data row11 col0\" >6.320</td>\n",
       "      <td id=\"T_e2c2a_row11_col1\" class=\"data row11 col1\" >2.690</td>\n",
       "      <td id=\"T_e2c2a_row11_col2\" class=\"data row11 col2\" >2.550</td>\n",
       "      <td id=\"T_e2c2a_row11_col3\" class=\"data row11 col3\" >0.380</td>\n",
       "      <td id=\"T_e2c2a_row11_col4\" class=\"data row11 col4\" >1.910</td>\n",
       "      <td id=\"T_e2c2a_row11_col5\" class=\"data row11 col5\" >-2.880</td>\n",
       "      <td id=\"T_e2c2a_row11_col6\" class=\"data row11 col6\" >3.280</td>\n",
       "      <td id=\"T_e2c2a_row11_col7\" class=\"data row11 col7\" >1.960</td>\n",
       "      <td id=\"T_e2c2a_row11_col8\" class=\"data row11 col8\" >-1.970</td>\n",
       "      <td id=\"T_e2c2a_row11_col9\" class=\"data row11 col9\" >2.830</td>\n",
       "      <td id=\"T_e2c2a_row11_col10\" class=\"data row11 col10\" >3.930</td>\n",
       "      <td id=\"T_e2c2a_row11_col11\" class=\"data row11 col11\" >0.320</td>\n",
       "    </tr>\n",
       "    <tr>\n",
       "      <th id=\"T_e2c2a_level0_row12\" class=\"row_heading level0 row12\" >1962</th>\n",
       "      <td id=\"T_e2c2a_row12_col0\" class=\"data row12 col0\" >-3.790</td>\n",
       "      <td id=\"T_e2c2a_row12_col1\" class=\"data row12 col1\" >1.630</td>\n",
       "      <td id=\"T_e2c2a_row12_col2\" class=\"data row12 col2\" >-0.590</td>\n",
       "      <td id=\"T_e2c2a_row12_col3\" class=\"data row12 col3\" >-6.200</td>\n",
       "      <td id=\"T_e2c2a_row12_col4\" class=\"data row12 col4\" >-8.600</td>\n",
       "      <td id=\"T_e2c2a_row12_col5\" class=\"data row12 col5\" >-8.180</td>\n",
       "      <td id=\"T_e2c2a_row12_col6\" class=\"data row12 col6\" >6.360</td>\n",
       "      <td id=\"T_e2c2a_row12_col7\" class=\"data row12 col7\" >1.530</td>\n",
       "      <td id=\"T_e2c2a_row12_col8\" class=\"data row12 col8\" >-4.820</td>\n",
       "      <td id=\"T_e2c2a_row12_col9\" class=\"data row12 col9\" >0.440</td>\n",
       "      <td id=\"T_e2c2a_row12_col10\" class=\"data row12 col10\" >10.160</td>\n",
       "      <td id=\"T_e2c2a_row12_col11\" class=\"data row12 col11\" >1.350</td>\n",
       "    </tr>\n",
       "    <tr>\n",
       "      <th id=\"T_e2c2a_level0_row13\" class=\"row_heading level0 row13\" >1963</th>\n",
       "      <td id=\"T_e2c2a_row13_col0\" class=\"data row13 col0\" >4.910</td>\n",
       "      <td id=\"T_e2c2a_row13_col1\" class=\"data row13 col1\" >-2.890</td>\n",
       "      <td id=\"T_e2c2a_row13_col2\" class=\"data row13 col2\" >3.550</td>\n",
       "      <td id=\"T_e2c2a_row13_col3\" class=\"data row13 col3\" >4.850</td>\n",
       "      <td id=\"T_e2c2a_row13_col4\" class=\"data row13 col4\" >1.430</td>\n",
       "      <td id=\"T_e2c2a_row13_col5\" class=\"data row13 col5\" >-2.020</td>\n",
       "      <td id=\"T_e2c2a_row13_col6\" class=\"data row13 col6\" >-0.350</td>\n",
       "      <td id=\"T_e2c2a_row13_col7\" class=\"data row13 col7\" >4.870</td>\n",
       "      <td id=\"T_e2c2a_row13_col8\" class=\"data row13 col8\" >-1.100</td>\n",
       "      <td id=\"T_e2c2a_row13_col9\" class=\"data row13 col9\" >3.220</td>\n",
       "      <td id=\"T_e2c2a_row13_col10\" class=\"data row13 col10\" >-1.050</td>\n",
       "      <td id=\"T_e2c2a_row13_col11\" class=\"data row13 col11\" >2.440</td>\n",
       "    </tr>\n",
       "    <tr>\n",
       "      <th id=\"T_e2c2a_level0_row14\" class=\"row_heading level0 row14\" >1964</th>\n",
       "      <td id=\"T_e2c2a_row14_col0\" class=\"data row14 col0\" >2.690</td>\n",
       "      <td id=\"T_e2c2a_row14_col1\" class=\"data row14 col1\" >0.990</td>\n",
       "      <td id=\"T_e2c2a_row14_col2\" class=\"data row14 col2\" >1.520</td>\n",
       "      <td id=\"T_e2c2a_row14_col3\" class=\"data row14 col3\" >0.610</td>\n",
       "      <td id=\"T_e2c2a_row14_col4\" class=\"data row14 col4\" >1.150</td>\n",
       "      <td id=\"T_e2c2a_row14_col5\" class=\"data row14 col5\" >1.640</td>\n",
       "      <td id=\"T_e2c2a_row14_col6\" class=\"data row14 col6\" >1.820</td>\n",
       "      <td id=\"T_e2c2a_row14_col7\" class=\"data row14 col7\" >-1.620</td>\n",
       "      <td id=\"T_e2c2a_row14_col8\" class=\"data row14 col8\" >2.870</td>\n",
       "      <td id=\"T_e2c2a_row14_col9\" class=\"data row14 col9\" >0.810</td>\n",
       "      <td id=\"T_e2c2a_row14_col10\" class=\"data row14 col10\" >-0.520</td>\n",
       "      <td id=\"T_e2c2a_row14_col11\" class=\"data row14 col11\" >0.390</td>\n",
       "    </tr>\n",
       "    <tr>\n",
       "      <th id=\"T_e2c2a_level0_row15\" class=\"row_heading level0 row15\" >1965</th>\n",
       "      <td id=\"T_e2c2a_row15_col0\" class=\"data row15 col0\" >3.320</td>\n",
       "      <td id=\"T_e2c2a_row15_col1\" class=\"data row15 col1\" >-0.150</td>\n",
       "      <td id=\"T_e2c2a_row15_col2\" class=\"data row15 col2\" >-1.450</td>\n",
       "      <td id=\"T_e2c2a_row15_col3\" class=\"data row15 col3\" >3.420</td>\n",
       "      <td id=\"T_e2c2a_row15_col4\" class=\"data row15 col4\" >-0.770</td>\n",
       "      <td id=\"T_e2c2a_row15_col5\" class=\"data row15 col5\" >-4.860</td>\n",
       "      <td id=\"T_e2c2a_row15_col6\" class=\"data row15 col6\" >1.340</td>\n",
       "      <td id=\"T_e2c2a_row15_col7\" class=\"data row15 col7\" >2.250</td>\n",
       "      <td id=\"T_e2c2a_row15_col8\" class=\"data row15 col8\" >3.200</td>\n",
       "      <td id=\"T_e2c2a_row15_col9\" class=\"data row15 col9\" >2.730</td>\n",
       "      <td id=\"T_e2c2a_row15_col10\" class=\"data row15 col10\" >-0.880</td>\n",
       "      <td id=\"T_e2c2a_row15_col11\" class=\"data row15 col11\" >0.900</td>\n",
       "    </tr>\n",
       "    <tr>\n",
       "      <th id=\"T_e2c2a_level0_row16\" class=\"row_heading level0 row16\" >1966</th>\n",
       "      <td id=\"T_e2c2a_row16_col0\" class=\"data row16 col0\" >0.490</td>\n",
       "      <td id=\"T_e2c2a_row16_col1\" class=\"data row16 col1\" >-1.790</td>\n",
       "      <td id=\"T_e2c2a_row16_col2\" class=\"data row16 col2\" >-2.180</td>\n",
       "      <td id=\"T_e2c2a_row16_col3\" class=\"data row16 col3\" >2.050</td>\n",
       "      <td id=\"T_e2c2a_row16_col4\" class=\"data row16 col4\" >-5.410</td>\n",
       "      <td id=\"T_e2c2a_row16_col5\" class=\"data row16 col5\" >-1.610</td>\n",
       "      <td id=\"T_e2c2a_row16_col6\" class=\"data row16 col6\" >-1.350</td>\n",
       "      <td id=\"T_e2c2a_row16_col7\" class=\"data row16 col7\" >-7.780</td>\n",
       "      <td id=\"T_e2c2a_row16_col8\" class=\"data row16 col8\" >-0.700</td>\n",
       "      <td id=\"T_e2c2a_row16_col9\" class=\"data row16 col9\" >4.750</td>\n",
       "      <td id=\"T_e2c2a_row16_col10\" class=\"data row16 col10\" >0.310</td>\n",
       "      <td id=\"T_e2c2a_row16_col11\" class=\"data row16 col11\" >-0.150</td>\n",
       "    </tr>\n",
       "    <tr>\n",
       "      <th id=\"T_e2c2a_level0_row17\" class=\"row_heading level0 row17\" >1967</th>\n",
       "      <td id=\"T_e2c2a_row17_col0\" class=\"data row17 col0\" >7.820</td>\n",
       "      <td id=\"T_e2c2a_row17_col1\" class=\"data row17 col1\" >0.200</td>\n",
       "      <td id=\"T_e2c2a_row17_col2\" class=\"data row17 col2\" >3.940</td>\n",
       "      <td id=\"T_e2c2a_row17_col3\" class=\"data row17 col3\" >4.220</td>\n",
       "      <td id=\"T_e2c2a_row17_col4\" class=\"data row17 col4\" >-5.240</td>\n",
       "      <td id=\"T_e2c2a_row17_col5\" class=\"data row17 col5\" >1.750</td>\n",
       "      <td id=\"T_e2c2a_row17_col6\" class=\"data row17 col6\" >4.530</td>\n",
       "      <td id=\"T_e2c2a_row17_col7\" class=\"data row17 col7\" >-1.170</td>\n",
       "      <td id=\"T_e2c2a_row17_col8\" class=\"data row17 col8\" >3.280</td>\n",
       "      <td id=\"T_e2c2a_row17_col9\" class=\"data row17 col9\" >-3.530</td>\n",
       "      <td id=\"T_e2c2a_row17_col10\" class=\"data row17 col10\" >0.750</td>\n",
       "      <td id=\"T_e2c2a_row17_col11\" class=\"data row17 col11\" >2.630</td>\n",
       "    </tr>\n",
       "    <tr>\n",
       "      <th id=\"T_e2c2a_level0_row18\" class=\"row_heading level0 row18\" >1968</th>\n",
       "      <td id=\"T_e2c2a_row18_col0\" class=\"data row18 col0\" >-4.380</td>\n",
       "      <td id=\"T_e2c2a_row18_col1\" class=\"data row18 col1\" >-3.120</td>\n",
       "      <td id=\"T_e2c2a_row18_col2\" class=\"data row18 col2\" >0.940</td>\n",
       "      <td id=\"T_e2c2a_row18_col3\" class=\"data row18 col3\" >8.050</td>\n",
       "      <td id=\"T_e2c2a_row18_col4\" class=\"data row18 col4\" >1.250</td>\n",
       "      <td id=\"T_e2c2a_row18_col5\" class=\"data row18 col5\" >0.910</td>\n",
       "      <td id=\"T_e2c2a_row18_col6\" class=\"data row18 col6\" >-1.850</td>\n",
       "      <td id=\"T_e2c2a_row18_col7\" class=\"data row18 col7\" >1.150</td>\n",
       "      <td id=\"T_e2c2a_row18_col8\" class=\"data row18 col8\" >3.850</td>\n",
       "      <td id=\"T_e2c2a_row18_col9\" class=\"data row18 col9\" >0.720</td>\n",
       "      <td id=\"T_e2c2a_row18_col10\" class=\"data row18 col10\" >4.800</td>\n",
       "      <td id=\"T_e2c2a_row18_col11\" class=\"data row18 col11\" >-4.160</td>\n",
       "    </tr>\n",
       "    <tr>\n",
       "      <th id=\"T_e2c2a_level0_row19\" class=\"row_heading level0 row19\" >1969</th>\n",
       "      <td id=\"T_e2c2a_row19_col0\" class=\"data row19 col0\" >-0.820</td>\n",
       "      <td id=\"T_e2c2a_row19_col1\" class=\"data row19 col1\" >-4.740</td>\n",
       "      <td id=\"T_e2c2a_row19_col2\" class=\"data row19 col2\" >3.440</td>\n",
       "      <td id=\"T_e2c2a_row19_col3\" class=\"data row19 col3\" >2.150</td>\n",
       "      <td id=\"T_e2c2a_row19_col4\" class=\"data row19 col4\" >-0.220</td>\n",
       "      <td id=\"T_e2c2a_row19_col5\" class=\"data row19 col5\" >-5.560</td>\n",
       "      <td id=\"T_e2c2a_row19_col6\" class=\"data row19 col6\" >-6.020</td>\n",
       "      <td id=\"T_e2c2a_row19_col7\" class=\"data row19 col7\" >4.010</td>\n",
       "      <td id=\"T_e2c2a_row19_col8\" class=\"data row19 col8\" >-2.500</td>\n",
       "      <td id=\"T_e2c2a_row19_col9\" class=\"data row19 col9\" >4.300</td>\n",
       "      <td id=\"T_e2c2a_row19_col10\" class=\"data row19 col10\" >-3.410</td>\n",
       "      <td id=\"T_e2c2a_row19_col11\" class=\"data row19 col11\" >-1.870</td>\n",
       "    </tr>\n",
       "    <tr>\n",
       "      <th id=\"T_e2c2a_level0_row20\" class=\"row_heading level0 row20\" >1970</th>\n",
       "      <td id=\"T_e2c2a_row20_col0\" class=\"data row20 col0\" >-7.650</td>\n",
       "      <td id=\"T_e2c2a_row20_col1\" class=\"data row20 col1\" >5.270</td>\n",
       "      <td id=\"T_e2c2a_row20_col2\" class=\"data row20 col2\" >0.150</td>\n",
       "      <td id=\"T_e2c2a_row20_col3\" class=\"data row20 col3\" >-9.050</td>\n",
       "      <td id=\"T_e2c2a_row20_col4\" class=\"data row20 col4\" >-6.100</td>\n",
       "      <td id=\"T_e2c2a_row20_col5\" class=\"data row20 col5\" >-5.000</td>\n",
       "      <td id=\"T_e2c2a_row20_col6\" class=\"data row20 col6\" >7.330</td>\n",
       "      <td id=\"T_e2c2a_row20_col7\" class=\"data row20 col7\" >4.450</td>\n",
       "      <td id=\"T_e2c2a_row20_col8\" class=\"data row20 col8\" >3.410</td>\n",
       "      <td id=\"T_e2c2a_row20_col9\" class=\"data row20 col9\" >-1.250</td>\n",
       "      <td id=\"T_e2c2a_row20_col10\" class=\"data row20 col10\" >4.740</td>\n",
       "      <td id=\"T_e2c2a_row20_col11\" class=\"data row20 col11\" >5.680</td>\n",
       "    </tr>\n",
       "    <tr>\n",
       "      <th id=\"T_e2c2a_level0_row21\" class=\"row_heading level0 row21\" >1971</th>\n",
       "      <td id=\"T_e2c2a_row21_col0\" class=\"data row21 col0\" >4.050</td>\n",
       "      <td id=\"T_e2c2a_row21_col1\" class=\"data row21 col1\" >0.910</td>\n",
       "      <td id=\"T_e2c2a_row21_col2\" class=\"data row21 col2\" >3.680</td>\n",
       "      <td id=\"T_e2c2a_row21_col3\" class=\"data row21 col3\" >3.630</td>\n",
       "      <td id=\"T_e2c2a_row21_col4\" class=\"data row21 col4\" >-4.160</td>\n",
       "      <td id=\"T_e2c2a_row21_col5\" class=\"data row21 col5\" >-0.930</td>\n",
       "      <td id=\"T_e2c2a_row21_col6\" class=\"data row21 col6\" >-3.160</td>\n",
       "      <td id=\"T_e2c2a_row21_col7\" class=\"data row21 col7\" >3.610</td>\n",
       "      <td id=\"T_e2c2a_row21_col8\" class=\"data row21 col8\" >-0.700</td>\n",
       "      <td id=\"T_e2c2a_row21_col9\" class=\"data row21 col9\" >-4.180</td>\n",
       "      <td id=\"T_e2c2a_row21_col10\" class=\"data row21 col10\" >-0.250</td>\n",
       "      <td id=\"T_e2c2a_row21_col11\" class=\"data row21 col11\" >8.620</td>\n",
       "    </tr>\n",
       "    <tr>\n",
       "      <th id=\"T_e2c2a_level0_row22\" class=\"row_heading level0 row22\" >1972</th>\n",
       "      <td id=\"T_e2c2a_row22_col0\" class=\"data row22 col0\" >1.810</td>\n",
       "      <td id=\"T_e2c2a_row22_col1\" class=\"data row22 col1\" >2.530</td>\n",
       "      <td id=\"T_e2c2a_row22_col2\" class=\"data row22 col2\" >0.590</td>\n",
       "      <td id=\"T_e2c2a_row22_col3\" class=\"data row22 col3\" >0.440</td>\n",
       "      <td id=\"T_e2c2a_row22_col4\" class=\"data row22 col4\" >1.730</td>\n",
       "      <td id=\"T_e2c2a_row22_col5\" class=\"data row22 col5\" >-2.180</td>\n",
       "      <td id=\"T_e2c2a_row22_col6\" class=\"data row22 col6\" >0.230</td>\n",
       "      <td id=\"T_e2c2a_row22_col7\" class=\"data row22 col7\" >3.450</td>\n",
       "      <td id=\"T_e2c2a_row22_col8\" class=\"data row22 col8\" >-0.490</td>\n",
       "      <td id=\"T_e2c2a_row22_col9\" class=\"data row22 col9\" >0.930</td>\n",
       "      <td id=\"T_e2c2a_row22_col10\" class=\"data row22 col10\" >4.560</td>\n",
       "      <td id=\"T_e2c2a_row22_col11\" class=\"data row22 col11\" >1.180</td>\n",
       "    </tr>\n",
       "    <tr>\n",
       "      <th id=\"T_e2c2a_level0_row23\" class=\"row_heading level0 row23\" >1973</th>\n",
       "      <td id=\"T_e2c2a_row23_col0\" class=\"data row23 col0\" >-1.710</td>\n",
       "      <td id=\"T_e2c2a_row23_col1\" class=\"data row23 col1\" >-3.750</td>\n",
       "      <td id=\"T_e2c2a_row23_col2\" class=\"data row23 col2\" >-0.140</td>\n",
       "      <td id=\"T_e2c2a_row23_col3\" class=\"data row23 col3\" >-4.080</td>\n",
       "      <td id=\"T_e2c2a_row23_col4\" class=\"data row23 col4\" >-1.890</td>\n",
       "      <td id=\"T_e2c2a_row23_col5\" class=\"data row23 col5\" >-0.660</td>\n",
       "      <td id=\"T_e2c2a_row23_col6\" class=\"data row23 col6\" >3.800</td>\n",
       "      <td id=\"T_e2c2a_row23_col7\" class=\"data row23 col7\" >-3.670</td>\n",
       "      <td id=\"T_e2c2a_row23_col8\" class=\"data row23 col8\" >4.010</td>\n",
       "      <td id=\"T_e2c2a_row23_col9\" class=\"data row23 col9\" >-0.130</td>\n",
       "      <td id=\"T_e2c2a_row23_col10\" class=\"data row23 col10\" >-11.390</td>\n",
       "      <td id=\"T_e2c2a_row23_col11\" class=\"data row23 col11\" >1.660</td>\n",
       "    </tr>\n",
       "    <tr>\n",
       "      <th id=\"T_e2c2a_level0_row24\" class=\"row_heading level0 row24\" >1974</th>\n",
       "      <td id=\"T_e2c2a_row24_col0\" class=\"data row24 col0\" >-1.000</td>\n",
       "      <td id=\"T_e2c2a_row24_col1\" class=\"data row24 col1\" >-0.360</td>\n",
       "      <td id=\"T_e2c2a_row24_col2\" class=\"data row24 col2\" >-2.330</td>\n",
       "      <td id=\"T_e2c2a_row24_col3\" class=\"data row24 col3\" >-3.910</td>\n",
       "      <td id=\"T_e2c2a_row24_col4\" class=\"data row24 col4\" >-3.360</td>\n",
       "      <td id=\"T_e2c2a_row24_col5\" class=\"data row24 col5\" >-1.470</td>\n",
       "      <td id=\"T_e2c2a_row24_col6\" class=\"data row24 col6\" >-7.780</td>\n",
       "      <td id=\"T_e2c2a_row24_col7\" class=\"data row24 col7\" >-9.030</td>\n",
       "      <td id=\"T_e2c2a_row24_col8\" class=\"data row24 col8\" >-11.930</td>\n",
       "      <td id=\"T_e2c2a_row24_col9\" class=\"data row24 col9\" >16.300</td>\n",
       "      <td id=\"T_e2c2a_row24_col10\" class=\"data row24 col10\" >-5.320</td>\n",
       "      <td id=\"T_e2c2a_row24_col11\" class=\"data row24 col11\" >-2.020</td>\n",
       "    </tr>\n",
       "    <tr>\n",
       "      <th id=\"T_e2c2a_level0_row25\" class=\"row_heading level0 row25\" >1975</th>\n",
       "      <td id=\"T_e2c2a_row25_col0\" class=\"data row25 col0\" >12.280</td>\n",
       "      <td id=\"T_e2c2a_row25_col1\" class=\"data row25 col1\" >5.990</td>\n",
       "      <td id=\"T_e2c2a_row25_col2\" class=\"data row25 col2\" >2.170</td>\n",
       "      <td id=\"T_e2c2a_row25_col3\" class=\"data row25 col3\" >4.730</td>\n",
       "      <td id=\"T_e2c2a_row25_col4\" class=\"data row25 col4\" >4.410</td>\n",
       "      <td id=\"T_e2c2a_row25_col5\" class=\"data row25 col5\" >4.430</td>\n",
       "      <td id=\"T_e2c2a_row25_col6\" class=\"data row25 col6\" >-6.770</td>\n",
       "      <td id=\"T_e2c2a_row25_col7\" class=\"data row25 col7\" >-2.110</td>\n",
       "      <td id=\"T_e2c2a_row25_col8\" class=\"data row25 col8\" >-3.460</td>\n",
       "      <td id=\"T_e2c2a_row25_col9\" class=\"data row25 col9\" >6.160</td>\n",
       "      <td id=\"T_e2c2a_row25_col10\" class=\"data row25 col10\" >2.470</td>\n",
       "      <td id=\"T_e2c2a_row25_col11\" class=\"data row25 col11\" >-1.150</td>\n",
       "    </tr>\n",
       "    <tr>\n",
       "      <th id=\"T_e2c2a_level0_row26\" class=\"row_heading level0 row26\" >1976</th>\n",
       "      <td id=\"T_e2c2a_row26_col0\" class=\"data row26 col0\" >11.830</td>\n",
       "      <td id=\"T_e2c2a_row26_col1\" class=\"data row26 col1\" >-1.140</td>\n",
       "      <td id=\"T_e2c2a_row26_col2\" class=\"data row26 col2\" >3.070</td>\n",
       "      <td id=\"T_e2c2a_row26_col3\" class=\"data row26 col3\" >-1.100</td>\n",
       "      <td id=\"T_e2c2a_row26_col4\" class=\"data row26 col4\" >-1.440</td>\n",
       "      <td id=\"T_e2c2a_row26_col5\" class=\"data row26 col5\" >4.090</td>\n",
       "      <td id=\"T_e2c2a_row26_col6\" class=\"data row26 col6\" >-0.810</td>\n",
       "      <td id=\"T_e2c2a_row26_col7\" class=\"data row26 col7\" >-0.510</td>\n",
       "      <td id=\"T_e2c2a_row26_col8\" class=\"data row26 col8\" >2.260</td>\n",
       "      <td id=\"T_e2c2a_row26_col9\" class=\"data row26 col9\" >-2.220</td>\n",
       "      <td id=\"T_e2c2a_row26_col10\" class=\"data row26 col10\" >-0.780</td>\n",
       "      <td id=\"T_e2c2a_row26_col11\" class=\"data row26 col11\" >5.250</td>\n",
       "    </tr>\n",
       "    <tr>\n",
       "      <th id=\"T_e2c2a_level0_row27\" class=\"row_heading level0 row27\" >1977</th>\n",
       "      <td id=\"T_e2c2a_row27_col0\" class=\"data row27 col0\" >-5.050</td>\n",
       "      <td id=\"T_e2c2a_row27_col1\" class=\"data row27 col1\" >-2.170</td>\n",
       "      <td id=\"T_e2c2a_row27_col2\" class=\"data row27 col2\" >-1.400</td>\n",
       "      <td id=\"T_e2c2a_row27_col3\" class=\"data row27 col3\" >0.020</td>\n",
       "      <td id=\"T_e2c2a_row27_col4\" class=\"data row27 col4\" >-2.360</td>\n",
       "      <td id=\"T_e2c2a_row27_col5\" class=\"data row27 col5\" >4.540</td>\n",
       "      <td id=\"T_e2c2a_row27_col6\" class=\"data row27 col6\" >-1.620</td>\n",
       "      <td id=\"T_e2c2a_row27_col7\" class=\"data row27 col7\" >-2.100</td>\n",
       "      <td id=\"T_e2c2a_row27_col8\" class=\"data row27 col8\" >-0.250</td>\n",
       "      <td id=\"T_e2c2a_row27_col9\" class=\"data row27 col9\" >-4.340</td>\n",
       "      <td id=\"T_e2c2a_row27_col10\" class=\"data row27 col10\" >2.700</td>\n",
       "      <td id=\"T_e2c2a_row27_col11\" class=\"data row27 col11\" >0.280</td>\n",
       "    </tr>\n",
       "    <tr>\n",
       "      <th id=\"T_e2c2a_level0_row28\" class=\"row_heading level0 row28\" >1978</th>\n",
       "      <td id=\"T_e2c2a_row28_col0\" class=\"data row28 col0\" >-6.150</td>\n",
       "      <td id=\"T_e2c2a_row28_col1\" class=\"data row28 col1\" >-2.480</td>\n",
       "      <td id=\"T_e2c2a_row28_col2\" class=\"data row28 col2\" >2.490</td>\n",
       "      <td id=\"T_e2c2a_row28_col3\" class=\"data row28 col3\" >8.540</td>\n",
       "      <td id=\"T_e2c2a_row28_col4\" class=\"data row28 col4\" >0.420</td>\n",
       "      <td id=\"T_e2c2a_row28_col5\" class=\"data row28 col5\" >-1.760</td>\n",
       "      <td id=\"T_e2c2a_row28_col6\" class=\"data row28 col6\" >5.390</td>\n",
       "      <td id=\"T_e2c2a_row28_col7\" class=\"data row28 col7\" >2.590</td>\n",
       "      <td id=\"T_e2c2a_row28_col8\" class=\"data row28 col8\" >-0.730</td>\n",
       "      <td id=\"T_e2c2a_row28_col9\" class=\"data row28 col9\" >-9.160</td>\n",
       "      <td id=\"T_e2c2a_row28_col10\" class=\"data row28 col10\" >1.660</td>\n",
       "      <td id=\"T_e2c2a_row28_col11\" class=\"data row28 col11\" >1.490</td>\n",
       "    </tr>\n",
       "    <tr>\n",
       "      <th id=\"T_e2c2a_level0_row29\" class=\"row_heading level0 row29\" >1979</th>\n",
       "      <td id=\"T_e2c2a_row29_col0\" class=\"data row29 col0\" >3.970</td>\n",
       "      <td id=\"T_e2c2a_row29_col1\" class=\"data row29 col1\" >-3.650</td>\n",
       "      <td id=\"T_e2c2a_row29_col2\" class=\"data row29 col2\" >5.520</td>\n",
       "      <td id=\"T_e2c2a_row29_col3\" class=\"data row29 col3\" >0.170</td>\n",
       "      <td id=\"T_e2c2a_row29_col4\" class=\"data row29 col4\" >-2.630</td>\n",
       "      <td id=\"T_e2c2a_row29_col5\" class=\"data row29 col5\" >3.870</td>\n",
       "      <td id=\"T_e2c2a_row29_col6\" class=\"data row29 col6\" >0.870</td>\n",
       "      <td id=\"T_e2c2a_row29_col7\" class=\"data row29 col7\" >5.310</td>\n",
       "      <td id=\"T_e2c2a_row29_col8\" class=\"data row29 col8\" >0.000</td>\n",
       "      <td id=\"T_e2c2a_row29_col9\" class=\"data row29 col9\" >-6.860</td>\n",
       "      <td id=\"T_e2c2a_row29_col10\" class=\"data row29 col10\" >4.260</td>\n",
       "      <td id=\"T_e2c2a_row29_col11\" class=\"data row29 col11\" >1.680</td>\n",
       "    </tr>\n",
       "    <tr>\n",
       "      <th id=\"T_e2c2a_level0_row30\" class=\"row_heading level0 row30\" >1980</th>\n",
       "      <td id=\"T_e2c2a_row30_col0\" class=\"data row30 col0\" >5.760</td>\n",
       "      <td id=\"T_e2c2a_row30_col1\" class=\"data row30 col1\" >-0.440</td>\n",
       "      <td id=\"T_e2c2a_row30_col2\" class=\"data row30 col2\" >-10.180</td>\n",
       "      <td id=\"T_e2c2a_row30_col3\" class=\"data row30 col3\" >4.110</td>\n",
       "      <td id=\"T_e2c2a_row30_col4\" class=\"data row30 col4\" >4.660</td>\n",
       "      <td id=\"T_e2c2a_row30_col5\" class=\"data row30 col5\" >2.700</td>\n",
       "      <td id=\"T_e2c2a_row30_col6\" class=\"data row30 col6\" >6.500</td>\n",
       "      <td id=\"T_e2c2a_row30_col7\" class=\"data row30 col7\" >0.580</td>\n",
       "      <td id=\"T_e2c2a_row30_col8\" class=\"data row30 col8\" >2.520</td>\n",
       "      <td id=\"T_e2c2a_row30_col9\" class=\"data row30 col9\" >1.600</td>\n",
       "      <td id=\"T_e2c2a_row30_col10\" class=\"data row30 col10\" >10.240</td>\n",
       "      <td id=\"T_e2c2a_row30_col11\" class=\"data row30 col11\" >-3.390</td>\n",
       "    </tr>\n",
       "    <tr>\n",
       "      <th id=\"T_e2c2a_level0_row31\" class=\"row_heading level0 row31\" >1981</th>\n",
       "      <td id=\"T_e2c2a_row31_col0\" class=\"data row31 col0\" >-4.570</td>\n",
       "      <td id=\"T_e2c2a_row31_col1\" class=\"data row31 col1\" >1.330</td>\n",
       "      <td id=\"T_e2c2a_row31_col2\" class=\"data row31 col2\" >3.600</td>\n",
       "      <td id=\"T_e2c2a_row31_col3\" class=\"data row31 col3\" >-2.350</td>\n",
       "      <td id=\"T_e2c2a_row31_col4\" class=\"data row31 col4\" >-0.170</td>\n",
       "      <td id=\"T_e2c2a_row31_col5\" class=\"data row31 col5\" >-1.040</td>\n",
       "      <td id=\"T_e2c2a_row31_col6\" class=\"data row31 col6\" >-0.220</td>\n",
       "      <td id=\"T_e2c2a_row31_col7\" class=\"data row31 col7\" >-6.210</td>\n",
       "      <td id=\"T_e2c2a_row31_col8\" class=\"data row31 col8\" >-5.380</td>\n",
       "      <td id=\"T_e2c2a_row31_col9\" class=\"data row31 col9\" >4.910</td>\n",
       "      <td id=\"T_e2c2a_row31_col10\" class=\"data row31 col10\" >3.660</td>\n",
       "      <td id=\"T_e2c2a_row31_col11\" class=\"data row31 col11\" >-3.010</td>\n",
       "    </tr>\n",
       "    <tr>\n",
       "      <th id=\"T_e2c2a_level0_row32\" class=\"row_heading level0 row32\" >1982</th>\n",
       "      <td id=\"T_e2c2a_row32_col0\" class=\"data row32 col0\" >-1.750</td>\n",
       "      <td id=\"T_e2c2a_row32_col1\" class=\"data row32 col1\" >-6.050</td>\n",
       "      <td id=\"T_e2c2a_row32_col2\" class=\"data row32 col2\" >-1.020</td>\n",
       "      <td id=\"T_e2c2a_row32_col3\" class=\"data row32 col3\" >4.000</td>\n",
       "      <td id=\"T_e2c2a_row32_col4\" class=\"data row32 col4\" >-3.920</td>\n",
       "      <td id=\"T_e2c2a_row32_col5\" class=\"data row32 col5\" >-2.030</td>\n",
       "      <td id=\"T_e2c2a_row32_col6\" class=\"data row32 col6\" >-2.300</td>\n",
       "      <td id=\"T_e2c2a_row32_col7\" class=\"data row32 col7\" >11.600</td>\n",
       "      <td id=\"T_e2c2a_row32_col8\" class=\"data row32 col8\" >0.760</td>\n",
       "      <td id=\"T_e2c2a_row32_col9\" class=\"data row32 col9\" >11.040</td>\n",
       "      <td id=\"T_e2c2a_row32_col10\" class=\"data row32 col10\" >3.600</td>\n",
       "      <td id=\"T_e2c2a_row32_col11\" class=\"data row32 col11\" >1.520</td>\n",
       "    </tr>\n",
       "    <tr>\n",
       "      <th id=\"T_e2c2a_level0_row33\" class=\"row_heading level0 row33\" >1983</th>\n",
       "      <td id=\"T_e2c2a_row33_col0\" class=\"data row33 col0\" >3.310</td>\n",
       "      <td id=\"T_e2c2a_row33_col1\" class=\"data row33 col1\" >1.900</td>\n",
       "      <td id=\"T_e2c2a_row33_col2\" class=\"data row33 col2\" >3.310</td>\n",
       "      <td id=\"T_e2c2a_row33_col3\" class=\"data row33 col3\" >7.500</td>\n",
       "      <td id=\"T_e2c2a_row33_col4\" class=\"data row33 col4\" >-1.240</td>\n",
       "      <td id=\"T_e2c2a_row33_col5\" class=\"data row33 col5\" >3.230</td>\n",
       "      <td id=\"T_e2c2a_row33_col6\" class=\"data row33 col6\" >-3.030</td>\n",
       "      <td id=\"T_e2c2a_row33_col7\" class=\"data row33 col7\" >1.130</td>\n",
       "      <td id=\"T_e2c2a_row33_col8\" class=\"data row33 col8\" >1.020</td>\n",
       "      <td id=\"T_e2c2a_row33_col9\" class=\"data row33 col9\" >-1.520</td>\n",
       "      <td id=\"T_e2c2a_row33_col10\" class=\"data row33 col10\" >1.740</td>\n",
       "      <td id=\"T_e2c2a_row33_col11\" class=\"data row33 col11\" >-0.880</td>\n",
       "    </tr>\n",
       "    <tr>\n",
       "      <th id=\"T_e2c2a_level0_row34\" class=\"row_heading level0 row34\" >1984</th>\n",
       "      <td id=\"T_e2c2a_row34_col0\" class=\"data row34 col0\" >-0.920</td>\n",
       "      <td id=\"T_e2c2a_row34_col1\" class=\"data row34 col1\" >-3.890</td>\n",
       "      <td id=\"T_e2c2a_row34_col2\" class=\"data row34 col2\" >1.350</td>\n",
       "      <td id=\"T_e2c2a_row34_col3\" class=\"data row34 col3\" >0.550</td>\n",
       "      <td id=\"T_e2c2a_row34_col4\" class=\"data row34 col4\" >-5.940</td>\n",
       "      <td id=\"T_e2c2a_row34_col5\" class=\"data row34 col5\" >1.750</td>\n",
       "      <td id=\"T_e2c2a_row34_col6\" class=\"data row34 col6\" >-1.650</td>\n",
       "      <td id=\"T_e2c2a_row34_col7\" class=\"data row34 col7\" >10.630</td>\n",
       "      <td id=\"T_e2c2a_row34_col8\" class=\"data row34 col8\" >-0.350</td>\n",
       "      <td id=\"T_e2c2a_row34_col9\" class=\"data row34 col9\" >-0.010</td>\n",
       "      <td id=\"T_e2c2a_row34_col10\" class=\"data row34 col10\" >-1.510</td>\n",
       "      <td id=\"T_e2c2a_row34_col11\" class=\"data row34 col11\" >2.240</td>\n",
       "    </tr>\n",
       "    <tr>\n",
       "      <th id=\"T_e2c2a_level0_row35\" class=\"row_heading level0 row35\" >1985</th>\n",
       "      <td id=\"T_e2c2a_row35_col0\" class=\"data row35 col0\" >7.410</td>\n",
       "      <td id=\"T_e2c2a_row35_col1\" class=\"data row35 col1\" >0.860</td>\n",
       "      <td id=\"T_e2c2a_row35_col2\" class=\"data row35 col2\" >-0.290</td>\n",
       "      <td id=\"T_e2c2a_row35_col3\" class=\"data row35 col3\" >-0.460</td>\n",
       "      <td id=\"T_e2c2a_row35_col4\" class=\"data row35 col4\" >5.410</td>\n",
       "      <td id=\"T_e2c2a_row35_col5\" class=\"data row35 col5\" >1.210</td>\n",
       "      <td id=\"T_e2c2a_row35_col6\" class=\"data row35 col6\" >-0.480</td>\n",
       "      <td id=\"T_e2c2a_row35_col7\" class=\"data row35 col7\" >-1.200</td>\n",
       "      <td id=\"T_e2c2a_row35_col8\" class=\"data row35 col8\" >-3.470</td>\n",
       "      <td id=\"T_e2c2a_row35_col9\" class=\"data row35 col9\" >4.250</td>\n",
       "      <td id=\"T_e2c2a_row35_col10\" class=\"data row35 col10\" >6.510</td>\n",
       "      <td id=\"T_e2c2a_row35_col11\" class=\"data row35 col11\" >4.510</td>\n",
       "    </tr>\n",
       "    <tr>\n",
       "      <th id=\"T_e2c2a_level0_row36\" class=\"row_heading level0 row36\" >1986</th>\n",
       "      <td id=\"T_e2c2a_row36_col0\" class=\"data row36 col0\" >0.240</td>\n",
       "      <td id=\"T_e2c2a_row36_col1\" class=\"data row36 col1\" >7.150</td>\n",
       "      <td id=\"T_e2c2a_row36_col2\" class=\"data row36 col2\" >5.280</td>\n",
       "      <td id=\"T_e2c2a_row36_col3\" class=\"data row36 col3\" >-1.410</td>\n",
       "      <td id=\"T_e2c2a_row36_col4\" class=\"data row36 col4\" >5.020</td>\n",
       "      <td id=\"T_e2c2a_row36_col5\" class=\"data row36 col5\" >1.410</td>\n",
       "      <td id=\"T_e2c2a_row36_col6\" class=\"data row36 col6\" >-5.870</td>\n",
       "      <td id=\"T_e2c2a_row36_col7\" class=\"data row36 col7\" >7.120</td>\n",
       "      <td id=\"T_e2c2a_row36_col8\" class=\"data row36 col8\" >-8.540</td>\n",
       "      <td id=\"T_e2c2a_row36_col9\" class=\"data row36 col9\" >5.470</td>\n",
       "      <td id=\"T_e2c2a_row36_col10\" class=\"data row36 col10\" >2.150</td>\n",
       "      <td id=\"T_e2c2a_row36_col11\" class=\"data row36 col11\" >-2.830</td>\n",
       "    </tr>\n",
       "    <tr>\n",
       "      <th id=\"T_e2c2a_level0_row37\" class=\"row_heading level0 row37\" >1987</th>\n",
       "      <td id=\"T_e2c2a_row37_col0\" class=\"data row37 col0\" >13.180</td>\n",
       "      <td id=\"T_e2c2a_row37_col1\" class=\"data row37 col1\" >3.690</td>\n",
       "      <td id=\"T_e2c2a_row37_col2\" class=\"data row37 col2\" >2.640</td>\n",
       "      <td id=\"T_e2c2a_row37_col3\" class=\"data row37 col3\" >-1.150</td>\n",
       "      <td id=\"T_e2c2a_row37_col4\" class=\"data row37 col4\" >0.600</td>\n",
       "      <td id=\"T_e2c2a_row37_col5\" class=\"data row37 col5\" >4.790</td>\n",
       "      <td id=\"T_e2c2a_row37_col6\" class=\"data row37 col6\" >4.820</td>\n",
       "      <td id=\"T_e2c2a_row37_col7\" class=\"data row37 col7\" >3.500</td>\n",
       "      <td id=\"T_e2c2a_row37_col8\" class=\"data row37 col8\" >-2.420</td>\n",
       "      <td id=\"T_e2c2a_row37_col9\" class=\"data row37 col9\" >-21.760</td>\n",
       "      <td id=\"T_e2c2a_row37_col10\" class=\"data row37 col10\" >-8.530</td>\n",
       "      <td id=\"T_e2c2a_row37_col11\" class=\"data row37 col11\" >7.290</td>\n",
       "    </tr>\n",
       "    <tr>\n",
       "      <th id=\"T_e2c2a_level0_row38\" class=\"row_heading level0 row38\" >1988</th>\n",
       "      <td id=\"T_e2c2a_row38_col0\" class=\"data row38 col0\" >4.040</td>\n",
       "      <td id=\"T_e2c2a_row38_col1\" class=\"data row38 col1\" >4.180</td>\n",
       "      <td id=\"T_e2c2a_row38_col2\" class=\"data row38 col2\" >-3.330</td>\n",
       "      <td id=\"T_e2c2a_row38_col3\" class=\"data row38 col3\" >0.940</td>\n",
       "      <td id=\"T_e2c2a_row38_col4\" class=\"data row38 col4\" >0.320</td>\n",
       "      <td id=\"T_e2c2a_row38_col5\" class=\"data row38 col5\" >4.330</td>\n",
       "      <td id=\"T_e2c2a_row38_col6\" class=\"data row38 col6\" >-0.540</td>\n",
       "      <td id=\"T_e2c2a_row38_col7\" class=\"data row38 col7\" >-3.860</td>\n",
       "      <td id=\"T_e2c2a_row38_col8\" class=\"data row38 col8\" >3.970</td>\n",
       "      <td id=\"T_e2c2a_row38_col9\" class=\"data row38 col9\" >2.600</td>\n",
       "      <td id=\"T_e2c2a_row38_col10\" class=\"data row38 col10\" >-1.890</td>\n",
       "      <td id=\"T_e2c2a_row38_col11\" class=\"data row38 col11\" >1.470</td>\n",
       "    </tr>\n",
       "    <tr>\n",
       "      <th id=\"T_e2c2a_level0_row39\" class=\"row_heading level0 row39\" >1989</th>\n",
       "      <td id=\"T_e2c2a_row39_col0\" class=\"data row39 col0\" >7.110</td>\n",
       "      <td id=\"T_e2c2a_row39_col1\" class=\"data row39 col1\" >-2.890</td>\n",
       "      <td id=\"T_e2c2a_row39_col2\" class=\"data row39 col2\" >2.080</td>\n",
       "      <td id=\"T_e2c2a_row39_col3\" class=\"data row39 col3\" >5.010</td>\n",
       "      <td id=\"T_e2c2a_row39_col4\" class=\"data row39 col4\" >3.510</td>\n",
       "      <td id=\"T_e2c2a_row39_col5\" class=\"data row39 col5\" >-0.790</td>\n",
       "      <td id=\"T_e2c2a_row39_col6\" class=\"data row39 col6\" >8.840</td>\n",
       "      <td id=\"T_e2c2a_row39_col7\" class=\"data row39 col7\" >1.550</td>\n",
       "      <td id=\"T_e2c2a_row39_col8\" class=\"data row39 col8\" >-0.650</td>\n",
       "      <td id=\"T_e2c2a_row39_col9\" class=\"data row39 col9\" >-2.520</td>\n",
       "      <td id=\"T_e2c2a_row39_col10\" class=\"data row39 col10\" >1.650</td>\n",
       "      <td id=\"T_e2c2a_row39_col11\" class=\"data row39 col11\" >2.140</td>\n",
       "    </tr>\n",
       "    <tr>\n",
       "      <th id=\"T_e2c2a_level0_row40\" class=\"row_heading level0 row40\" >1990</th>\n",
       "      <td id=\"T_e2c2a_row40_col0\" class=\"data row40 col0\" >-6.880</td>\n",
       "      <td id=\"T_e2c2a_row40_col1\" class=\"data row40 col1\" >0.850</td>\n",
       "      <td id=\"T_e2c2a_row40_col2\" class=\"data row40 col2\" >2.430</td>\n",
       "      <td id=\"T_e2c2a_row40_col3\" class=\"data row40 col3\" >-2.690</td>\n",
       "      <td id=\"T_e2c2a_row40_col4\" class=\"data row40 col4\" >9.200</td>\n",
       "      <td id=\"T_e2c2a_row40_col5\" class=\"data row40 col5\" >-0.890</td>\n",
       "      <td id=\"T_e2c2a_row40_col6\" class=\"data row40 col6\" >-0.520</td>\n",
       "      <td id=\"T_e2c2a_row40_col7\" class=\"data row40 col7\" >-9.430</td>\n",
       "      <td id=\"T_e2c2a_row40_col8\" class=\"data row40 col8\" >-5.120</td>\n",
       "      <td id=\"T_e2c2a_row40_col9\" class=\"data row40 col9\" >-0.670</td>\n",
       "      <td id=\"T_e2c2a_row40_col10\" class=\"data row40 col10\" >5.990</td>\n",
       "      <td id=\"T_e2c2a_row40_col11\" class=\"data row40 col11\" >2.480</td>\n",
       "    </tr>\n",
       "    <tr>\n",
       "      <th id=\"T_e2c2a_level0_row41\" class=\"row_heading level0 row41\" >1991</th>\n",
       "      <td id=\"T_e2c2a_row41_col0\" class=\"data row41 col0\" >4.150</td>\n",
       "      <td id=\"T_e2c2a_row41_col1\" class=\"data row41 col1\" >6.730</td>\n",
       "      <td id=\"T_e2c2a_row41_col2\" class=\"data row41 col2\" >2.220</td>\n",
       "      <td id=\"T_e2c2a_row41_col3\" class=\"data row41 col3\" >0.030</td>\n",
       "      <td id=\"T_e2c2a_row41_col4\" class=\"data row41 col4\" >3.860</td>\n",
       "      <td id=\"T_e2c2a_row41_col5\" class=\"data row41 col5\" >-4.790</td>\n",
       "      <td id=\"T_e2c2a_row41_col6\" class=\"data row41 col6\" >4.490</td>\n",
       "      <td id=\"T_e2c2a_row41_col7\" class=\"data row41 col7\" >1.960</td>\n",
       "      <td id=\"T_e2c2a_row41_col8\" class=\"data row41 col8\" >-1.910</td>\n",
       "      <td id=\"T_e2c2a_row41_col9\" class=\"data row41 col9\" >1.180</td>\n",
       "      <td id=\"T_e2c2a_row41_col10\" class=\"data row41 col10\" >-4.390</td>\n",
       "      <td id=\"T_e2c2a_row41_col11\" class=\"data row41 col11\" >11.160</td>\n",
       "    </tr>\n",
       "    <tr>\n",
       "      <th id=\"T_e2c2a_level0_row42\" class=\"row_heading level0 row42\" >1992</th>\n",
       "      <td id=\"T_e2c2a_row42_col0\" class=\"data row42 col0\" >-1.990</td>\n",
       "      <td id=\"T_e2c2a_row42_col1\" class=\"data row42 col1\" >0.960</td>\n",
       "      <td id=\"T_e2c2a_row42_col2\" class=\"data row42 col2\" >-2.180</td>\n",
       "      <td id=\"T_e2c2a_row42_col3\" class=\"data row42 col3\" >2.790</td>\n",
       "      <td id=\"T_e2c2a_row42_col4\" class=\"data row42 col4\" >0.100</td>\n",
       "      <td id=\"T_e2c2a_row42_col5\" class=\"data row42 col5\" >-1.740</td>\n",
       "      <td id=\"T_e2c2a_row42_col6\" class=\"data row42 col6\" >3.940</td>\n",
       "      <td id=\"T_e2c2a_row42_col7\" class=\"data row42 col7\" >-2.400</td>\n",
       "      <td id=\"T_e2c2a_row42_col8\" class=\"data row42 col8\" >0.910</td>\n",
       "      <td id=\"T_e2c2a_row42_col9\" class=\"data row42 col9\" >0.210</td>\n",
       "      <td id=\"T_e2c2a_row42_col10\" class=\"data row42 col10\" >3.030</td>\n",
       "      <td id=\"T_e2c2a_row42_col11\" class=\"data row42 col11\" >1.010</td>\n",
       "    </tr>\n",
       "    <tr>\n",
       "      <th id=\"T_e2c2a_level0_row43\" class=\"row_heading level0 row43\" >1993</th>\n",
       "      <td id=\"T_e2c2a_row43_col0\" class=\"data row43 col0\" >0.700</td>\n",
       "      <td id=\"T_e2c2a_row43_col1\" class=\"data row43 col1\" >1.050</td>\n",
       "      <td id=\"T_e2c2a_row43_col2\" class=\"data row43 col2\" >1.870</td>\n",
       "      <td id=\"T_e2c2a_row43_col3\" class=\"data row43 col3\" >-2.540</td>\n",
       "      <td id=\"T_e2c2a_row43_col4\" class=\"data row43 col4\" >2.270</td>\n",
       "      <td id=\"T_e2c2a_row43_col5\" class=\"data row43 col5\" >0.080</td>\n",
       "      <td id=\"T_e2c2a_row43_col6\" class=\"data row43 col6\" >-0.530</td>\n",
       "      <td id=\"T_e2c2a_row43_col7\" class=\"data row43 col7\" >3.440</td>\n",
       "      <td id=\"T_e2c2a_row43_col8\" class=\"data row43 col8\" >-1.000</td>\n",
       "      <td id=\"T_e2c2a_row43_col9\" class=\"data row43 col9\" >1.940</td>\n",
       "      <td id=\"T_e2c2a_row43_col10\" class=\"data row43 col10\" >-1.290</td>\n",
       "      <td id=\"T_e2c2a_row43_col11\" class=\"data row43 col11\" >1.010</td>\n",
       "    </tr>\n",
       "    <tr>\n",
       "      <th id=\"T_e2c2a_level0_row44\" class=\"row_heading level0 row44\" >1994</th>\n",
       "      <td id=\"T_e2c2a_row44_col0\" class=\"data row44 col0\" >3.250</td>\n",
       "      <td id=\"T_e2c2a_row44_col1\" class=\"data row44 col1\" >-3.000</td>\n",
       "      <td id=\"T_e2c2a_row44_col2\" class=\"data row44 col2\" >-4.570</td>\n",
       "      <td id=\"T_e2c2a_row44_col3\" class=\"data row44 col3\" >1.150</td>\n",
       "      <td id=\"T_e2c2a_row44_col4\" class=\"data row44 col4\" >1.240</td>\n",
       "      <td id=\"T_e2c2a_row44_col5\" class=\"data row44 col5\" >-2.680</td>\n",
       "      <td id=\"T_e2c2a_row44_col6\" class=\"data row44 col6\" >3.150</td>\n",
       "      <td id=\"T_e2c2a_row44_col7\" class=\"data row44 col7\" >3.760</td>\n",
       "      <td id=\"T_e2c2a_row44_col8\" class=\"data row44 col8\" >-2.690</td>\n",
       "      <td id=\"T_e2c2a_row44_col9\" class=\"data row44 col9\" >2.080</td>\n",
       "      <td id=\"T_e2c2a_row44_col10\" class=\"data row44 col10\" >-3.950</td>\n",
       "      <td id=\"T_e2c2a_row44_col11\" class=\"data row44 col11\" >1.230</td>\n",
       "    </tr>\n",
       "    <tr>\n",
       "      <th id=\"T_e2c2a_level0_row45\" class=\"row_heading level0 row45\" >1995</th>\n",
       "      <td id=\"T_e2c2a_row45_col0\" class=\"data row45 col0\" >2.430</td>\n",
       "      <td id=\"T_e2c2a_row45_col1\" class=\"data row45 col1\" >3.610</td>\n",
       "      <td id=\"T_e2c2a_row45_col2\" class=\"data row45 col2\" >2.730</td>\n",
       "      <td id=\"T_e2c2a_row45_col3\" class=\"data row45 col3\" >2.800</td>\n",
       "      <td id=\"T_e2c2a_row45_col4\" class=\"data row45 col4\" >3.630</td>\n",
       "      <td id=\"T_e2c2a_row45_col5\" class=\"data row45 col5\" >2.130</td>\n",
       "      <td id=\"T_e2c2a_row45_col6\" class=\"data row45 col6\" >3.180</td>\n",
       "      <td id=\"T_e2c2a_row45_col7\" class=\"data row45 col7\" >-0.030</td>\n",
       "      <td id=\"T_e2c2a_row45_col8\" class=\"data row45 col8\" >4.010</td>\n",
       "      <td id=\"T_e2c2a_row45_col9\" class=\"data row45 col9\" >-0.500</td>\n",
       "      <td id=\"T_e2c2a_row45_col10\" class=\"data row45 col10\" >4.100</td>\n",
       "      <td id=\"T_e2c2a_row45_col11\" class=\"data row45 col11\" >1.740</td>\n",
       "    </tr>\n",
       "    <tr>\n",
       "      <th id=\"T_e2c2a_level0_row46\" class=\"row_heading level0 row46\" >1996</th>\n",
       "      <td id=\"T_e2c2a_row46_col0\" class=\"data row46 col0\" >3.260</td>\n",
       "      <td id=\"T_e2c2a_row46_col1\" class=\"data row46 col1\" >0.690</td>\n",
       "      <td id=\"T_e2c2a_row46_col2\" class=\"data row46 col2\" >0.790</td>\n",
       "      <td id=\"T_e2c2a_row46_col3\" class=\"data row46 col3\" >1.340</td>\n",
       "      <td id=\"T_e2c2a_row46_col4\" class=\"data row46 col4\" >2.290</td>\n",
       "      <td id=\"T_e2c2a_row46_col5\" class=\"data row46 col5\" >0.230</td>\n",
       "      <td id=\"T_e2c2a_row46_col6\" class=\"data row46 col6\" >-4.570</td>\n",
       "      <td id=\"T_e2c2a_row46_col7\" class=\"data row46 col7\" >1.880</td>\n",
       "      <td id=\"T_e2c2a_row46_col8\" class=\"data row46 col8\" >5.420</td>\n",
       "      <td id=\"T_e2c2a_row46_col9\" class=\"data row46 col9\" >2.610</td>\n",
       "      <td id=\"T_e2c2a_row46_col10\" class=\"data row46 col10\" >7.340</td>\n",
       "      <td id=\"T_e2c2a_row46_col11\" class=\"data row46 col11\" >-2.150</td>\n",
       "    </tr>\n",
       "    <tr>\n",
       "      <th id=\"T_e2c2a_level0_row47\" class=\"row_heading level0 row47\" >1997</th>\n",
       "      <td id=\"T_e2c2a_row47_col0\" class=\"data row47 col0\" >6.130</td>\n",
       "      <td id=\"T_e2c2a_row47_col1\" class=\"data row47 col1\" >0.590</td>\n",
       "      <td id=\"T_e2c2a_row47_col2\" class=\"data row47 col2\" >-4.260</td>\n",
       "      <td id=\"T_e2c2a_row47_col3\" class=\"data row47 col3\" >5.840</td>\n",
       "      <td id=\"T_e2c2a_row47_col4\" class=\"data row47 col4\" >5.860</td>\n",
       "      <td id=\"T_e2c2a_row47_col5\" class=\"data row47 col5\" >4.350</td>\n",
       "      <td id=\"T_e2c2a_row47_col6\" class=\"data row47 col6\" >7.810</td>\n",
       "      <td id=\"T_e2c2a_row47_col7\" class=\"data row47 col7\" >-5.750</td>\n",
       "      <td id=\"T_e2c2a_row47_col8\" class=\"data row47 col8\" >5.320</td>\n",
       "      <td id=\"T_e2c2a_row47_col9\" class=\"data row47 col9\" >-3.450</td>\n",
       "      <td id=\"T_e2c2a_row47_col10\" class=\"data row47 col10\" >4.460</td>\n",
       "      <td id=\"T_e2c2a_row47_col11\" class=\"data row47 col11\" >1.570</td>\n",
       "    </tr>\n",
       "    <tr>\n",
       "      <th id=\"T_e2c2a_level0_row48\" class=\"row_heading level0 row48\" >1998</th>\n",
       "      <td id=\"T_e2c2a_row48_col0\" class=\"data row48 col0\" >1.020</td>\n",
       "      <td id=\"T_e2c2a_row48_col1\" class=\"data row48 col1\" >7.040</td>\n",
       "      <td id=\"T_e2c2a_row48_col2\" class=\"data row48 col2\" >4.990</td>\n",
       "      <td id=\"T_e2c2a_row48_col3\" class=\"data row48 col3\" >0.910</td>\n",
       "      <td id=\"T_e2c2a_row48_col4\" class=\"data row48 col4\" >-1.880</td>\n",
       "      <td id=\"T_e2c2a_row48_col5\" class=\"data row48 col5\" >3.940</td>\n",
       "      <td id=\"T_e2c2a_row48_col6\" class=\"data row48 col6\" >-1.160</td>\n",
       "      <td id=\"T_e2c2a_row48_col7\" class=\"data row48 col7\" >-14.580</td>\n",
       "      <td id=\"T_e2c2a_row48_col8\" class=\"data row48 col8\" >6.240</td>\n",
       "      <td id=\"T_e2c2a_row48_col9\" class=\"data row48 col9\" >8.030</td>\n",
       "      <td id=\"T_e2c2a_row48_col10\" class=\"data row48 col10\" >5.910</td>\n",
       "      <td id=\"T_e2c2a_row48_col11\" class=\"data row48 col11\" >5.640</td>\n",
       "    </tr>\n",
       "    <tr>\n",
       "      <th id=\"T_e2c2a_level0_row49\" class=\"row_heading level0 row49\" >1999</th>\n",
       "      <td id=\"T_e2c2a_row49_col0\" class=\"data row49 col0\" >4.100</td>\n",
       "      <td id=\"T_e2c2a_row49_col1\" class=\"data row49 col1\" >-3.230</td>\n",
       "      <td id=\"T_e2c2a_row49_col2\" class=\"data row49 col2\" >3.880</td>\n",
       "      <td id=\"T_e2c2a_row49_col3\" class=\"data row49 col3\" >3.790</td>\n",
       "      <td id=\"T_e2c2a_row49_col4\" class=\"data row49 col4\" >-2.500</td>\n",
       "      <td id=\"T_e2c2a_row49_col5\" class=\"data row49 col5\" >5.440</td>\n",
       "      <td id=\"T_e2c2a_row49_col6\" class=\"data row49 col6\" >-3.200</td>\n",
       "      <td id=\"T_e2c2a_row49_col7\" class=\"data row49 col7\" >-0.630</td>\n",
       "      <td id=\"T_e2c2a_row49_col8\" class=\"data row49 col8\" >-2.860</td>\n",
       "      <td id=\"T_e2c2a_row49_col9\" class=\"data row49 col9\" >6.250</td>\n",
       "      <td id=\"T_e2c2a_row49_col10\" class=\"data row49 col10\" >1.910</td>\n",
       "      <td id=\"T_e2c2a_row49_col11\" class=\"data row49 col11\" >5.780</td>\n",
       "    </tr>\n",
       "    <tr>\n",
       "      <th id=\"T_e2c2a_level0_row50\" class=\"row_heading level0 row50\" >2000</th>\n",
       "      <td id=\"T_e2c2a_row50_col0\" class=\"data row50 col0\" >-5.090</td>\n",
       "      <td id=\"T_e2c2a_row50_col1\" class=\"data row50 col1\" >-2.010</td>\n",
       "      <td id=\"T_e2c2a_row50_col2\" class=\"data row50 col2\" >9.670</td>\n",
       "      <td id=\"T_e2c2a_row50_col3\" class=\"data row50 col3\" >-3.080</td>\n",
       "      <td id=\"T_e2c2a_row50_col4\" class=\"data row50 col4\" >-2.190</td>\n",
       "      <td id=\"T_e2c2a_row50_col5\" class=\"data row50 col5\" >2.390</td>\n",
       "      <td id=\"T_e2c2a_row50_col6\" class=\"data row50 col6\" >-1.630</td>\n",
       "      <td id=\"T_e2c2a_row50_col7\" class=\"data row50 col7\" >6.070</td>\n",
       "      <td id=\"T_e2c2a_row50_col8\" class=\"data row50 col8\" >-5.350</td>\n",
       "      <td id=\"T_e2c2a_row50_col9\" class=\"data row50 col9\" >-0.490</td>\n",
       "      <td id=\"T_e2c2a_row50_col10\" class=\"data row50 col10\" >-8.010</td>\n",
       "      <td id=\"T_e2c2a_row50_col11\" class=\"data row50 col11\" >0.410</td>\n",
       "    </tr>\n",
       "    <tr>\n",
       "      <th id=\"T_e2c2a_level0_row51\" class=\"row_heading level0 row51\" >2001</th>\n",
       "      <td id=\"T_e2c2a_row51_col0\" class=\"data row51 col0\" >3.460</td>\n",
       "      <td id=\"T_e2c2a_row51_col1\" class=\"data row51 col1\" >-9.230</td>\n",
       "      <td id=\"T_e2c2a_row51_col2\" class=\"data row51 col2\" >-6.420</td>\n",
       "      <td id=\"T_e2c2a_row51_col3\" class=\"data row51 col3\" >7.680</td>\n",
       "      <td id=\"T_e2c2a_row51_col4\" class=\"data row51 col4\" >0.510</td>\n",
       "      <td id=\"T_e2c2a_row51_col5\" class=\"data row51 col5\" >-2.500</td>\n",
       "      <td id=\"T_e2c2a_row51_col6\" class=\"data row51 col6\" >-1.070</td>\n",
       "      <td id=\"T_e2c2a_row51_col7\" class=\"data row51 col7\" >-6.410</td>\n",
       "      <td id=\"T_e2c2a_row51_col8\" class=\"data row51 col8\" >-8.170</td>\n",
       "      <td id=\"T_e2c2a_row51_col9\" class=\"data row51 col9\" >1.810</td>\n",
       "      <td id=\"T_e2c2a_row51_col10\" class=\"data row51 col10\" >7.520</td>\n",
       "      <td id=\"T_e2c2a_row51_col11\" class=\"data row51 col11\" >0.760</td>\n",
       "    </tr>\n",
       "    <tr>\n",
       "      <th id=\"T_e2c2a_level0_row52\" class=\"row_heading level0 row52\" >2002</th>\n",
       "      <td id=\"T_e2c2a_row52_col0\" class=\"data row52 col0\" >-1.560</td>\n",
       "      <td id=\"T_e2c2a_row52_col1\" class=\"data row52 col1\" >-2.080</td>\n",
       "      <td id=\"T_e2c2a_row52_col2\" class=\"data row52 col2\" >3.670</td>\n",
       "      <td id=\"T_e2c2a_row52_col3\" class=\"data row52 col3\" >-6.140</td>\n",
       "      <td id=\"T_e2c2a_row52_col4\" class=\"data row52 col4\" >-0.910</td>\n",
       "      <td id=\"T_e2c2a_row52_col5\" class=\"data row52 col5\" >-7.250</td>\n",
       "      <td id=\"T_e2c2a_row52_col6\" class=\"data row52 col6\" >-7.900</td>\n",
       "      <td id=\"T_e2c2a_row52_col7\" class=\"data row52 col7\" >0.490</td>\n",
       "      <td id=\"T_e2c2a_row52_col8\" class=\"data row52 col8\" >-11.000</td>\n",
       "      <td id=\"T_e2c2a_row52_col9\" class=\"data row52 col9\" >8.640</td>\n",
       "      <td id=\"T_e2c2a_row52_col10\" class=\"data row52 col10\" >5.710</td>\n",
       "      <td id=\"T_e2c2a_row52_col11\" class=\"data row52 col11\" >-6.030</td>\n",
       "    </tr>\n",
       "    <tr>\n",
       "      <th id=\"T_e2c2a_level0_row53\" class=\"row_heading level0 row53\" >2003</th>\n",
       "      <td id=\"T_e2c2a_row53_col0\" class=\"data row53 col0\" >-2.740</td>\n",
       "      <td id=\"T_e2c2a_row53_col1\" class=\"data row53 col1\" >-1.700</td>\n",
       "      <td id=\"T_e2c2a_row53_col2\" class=\"data row53 col2\" >0.840</td>\n",
       "      <td id=\"T_e2c2a_row53_col3\" class=\"data row53 col3\" >8.100</td>\n",
       "      <td id=\"T_e2c2a_row53_col4\" class=\"data row53 col4\" >5.090</td>\n",
       "      <td id=\"T_e2c2a_row53_col5\" class=\"data row53 col5\" >1.130</td>\n",
       "      <td id=\"T_e2c2a_row53_col6\" class=\"data row53 col6\" >1.620</td>\n",
       "      <td id=\"T_e2c2a_row53_col7\" class=\"data row53 col7\" >1.790</td>\n",
       "      <td id=\"T_e2c2a_row53_col8\" class=\"data row53 col8\" >-1.190</td>\n",
       "      <td id=\"T_e2c2a_row53_col9\" class=\"data row53 col9\" >5.500</td>\n",
       "      <td id=\"T_e2c2a_row53_col10\" class=\"data row53 col10\" >0.710</td>\n",
       "      <td id=\"T_e2c2a_row53_col11\" class=\"data row53 col11\" >5.080</td>\n",
       "    </tr>\n",
       "    <tr>\n",
       "      <th id=\"T_e2c2a_level0_row54\" class=\"row_heading level0 row54\" >2004</th>\n",
       "      <td id=\"T_e2c2a_row54_col0\" class=\"data row54 col0\" >1.730</td>\n",
       "      <td id=\"T_e2c2a_row54_col1\" class=\"data row54 col1\" >1.220</td>\n",
       "      <td id=\"T_e2c2a_row54_col2\" class=\"data row54 col2\" >-1.640</td>\n",
       "      <td id=\"T_e2c2a_row54_col3\" class=\"data row54 col3\" >-1.680</td>\n",
       "      <td id=\"T_e2c2a_row54_col4\" class=\"data row54 col4\" >1.210</td>\n",
       "      <td id=\"T_e2c2a_row54_col5\" class=\"data row54 col5\" >1.800</td>\n",
       "      <td id=\"T_e2c2a_row54_col6\" class=\"data row54 col6\" >-3.430</td>\n",
       "      <td id=\"T_e2c2a_row54_col7\" class=\"data row54 col7\" >0.230</td>\n",
       "      <td id=\"T_e2c2a_row54_col8\" class=\"data row54 col8\" >0.940</td>\n",
       "      <td id=\"T_e2c2a_row54_col9\" class=\"data row54 col9\" >1.400</td>\n",
       "      <td id=\"T_e2c2a_row54_col10\" class=\"data row54 col10\" >3.860</td>\n",
       "      <td id=\"T_e2c2a_row54_col11\" class=\"data row54 col11\" >3.250</td>\n",
       "    </tr>\n",
       "    <tr>\n",
       "      <th id=\"T_e2c2a_level0_row55\" class=\"row_heading level0 row55\" >2005</th>\n",
       "      <td id=\"T_e2c2a_row55_col0\" class=\"data row55 col0\" >-2.530</td>\n",
       "      <td id=\"T_e2c2a_row55_col1\" class=\"data row55 col1\" >1.890</td>\n",
       "      <td id=\"T_e2c2a_row55_col2\" class=\"data row55 col2\" >-1.910</td>\n",
       "      <td id=\"T_e2c2a_row55_col3\" class=\"data row55 col3\" >-2.010</td>\n",
       "      <td id=\"T_e2c2a_row55_col4\" class=\"data row55 col4\" >3.000</td>\n",
       "      <td id=\"T_e2c2a_row55_col5\" class=\"data row55 col5\" >-0.010</td>\n",
       "      <td id=\"T_e2c2a_row55_col6\" class=\"data row55 col6\" >3.600</td>\n",
       "      <td id=\"T_e2c2a_row55_col7\" class=\"data row55 col7\" >-1.120</td>\n",
       "      <td id=\"T_e2c2a_row55_col8\" class=\"data row55 col8\" >0.690</td>\n",
       "      <td id=\"T_e2c2a_row55_col9\" class=\"data row55 col9\" >-1.770</td>\n",
       "      <td id=\"T_e2c2a_row55_col10\" class=\"data row55 col10\" >3.520</td>\n",
       "      <td id=\"T_e2c2a_row55_col11\" class=\"data row55 col11\" >-0.100</td>\n",
       "    </tr>\n",
       "    <tr>\n",
       "      <th id=\"T_e2c2a_level0_row56\" class=\"row_heading level0 row56\" >2006</th>\n",
       "      <td id=\"T_e2c2a_row56_col0\" class=\"data row56 col0\" >2.550</td>\n",
       "      <td id=\"T_e2c2a_row56_col1\" class=\"data row56 col1\" >0.050</td>\n",
       "      <td id=\"T_e2c2a_row56_col2\" class=\"data row56 col2\" >1.110</td>\n",
       "      <td id=\"T_e2c2a_row56_col3\" class=\"data row56 col3\" >1.220</td>\n",
       "      <td id=\"T_e2c2a_row56_col4\" class=\"data row56 col4\" >-3.090</td>\n",
       "      <td id=\"T_e2c2a_row56_col5\" class=\"data row56 col5\" >0.010</td>\n",
       "      <td id=\"T_e2c2a_row56_col6\" class=\"data row56 col6\" >0.510</td>\n",
       "      <td id=\"T_e2c2a_row56_col7\" class=\"data row56 col7\" >2.130</td>\n",
       "      <td id=\"T_e2c2a_row56_col8\" class=\"data row56 col8\" >2.460</td>\n",
       "      <td id=\"T_e2c2a_row56_col9\" class=\"data row56 col9\" >3.150</td>\n",
       "      <td id=\"T_e2c2a_row56_col10\" class=\"data row56 col10\" >1.650</td>\n",
       "      <td id=\"T_e2c2a_row56_col11\" class=\"data row56 col11\" >1.260</td>\n",
       "    </tr>\n",
       "    <tr>\n",
       "      <th id=\"T_e2c2a_level0_row57\" class=\"row_heading level0 row57\" >2007</th>\n",
       "      <td id=\"T_e2c2a_row57_col0\" class=\"data row57 col0\" >1.410</td>\n",
       "      <td id=\"T_e2c2a_row57_col1\" class=\"data row57 col1\" >-2.180</td>\n",
       "      <td id=\"T_e2c2a_row57_col2\" class=\"data row57 col2\" >1.000</td>\n",
       "      <td id=\"T_e2c2a_row57_col3\" class=\"data row57 col3\" >4.330</td>\n",
       "      <td id=\"T_e2c2a_row57_col4\" class=\"data row57 col4\" >3.250</td>\n",
       "      <td id=\"T_e2c2a_row57_col5\" class=\"data row57 col5\" >-1.780</td>\n",
       "      <td id=\"T_e2c2a_row57_col6\" class=\"data row57 col6\" >-3.200</td>\n",
       "      <td id=\"T_e2c2a_row57_col7\" class=\"data row57 col7\" >1.290</td>\n",
       "      <td id=\"T_e2c2a_row57_col8\" class=\"data row57 col8\" >3.580</td>\n",
       "      <td id=\"T_e2c2a_row57_col9\" class=\"data row57 col9\" >1.480</td>\n",
       "      <td id=\"T_e2c2a_row57_col10\" class=\"data row57 col10\" >-4.400</td>\n",
       "      <td id=\"T_e2c2a_row57_col11\" class=\"data row57 col11\" >-0.860</td>\n",
       "    </tr>\n",
       "    <tr>\n",
       "      <th id=\"T_e2c2a_level0_row58\" class=\"row_heading level0 row58\" >2008</th>\n",
       "      <td id=\"T_e2c2a_row58_col0\" class=\"data row58 col0\" >-6.120</td>\n",
       "      <td id=\"T_e2c2a_row58_col1\" class=\"data row58 col1\" >-3.480</td>\n",
       "      <td id=\"T_e2c2a_row58_col2\" class=\"data row58 col2\" >-0.600</td>\n",
       "      <td id=\"T_e2c2a_row58_col3\" class=\"data row58 col3\" >4.750</td>\n",
       "      <td id=\"T_e2c2a_row58_col4\" class=\"data row58 col4\" >1.070</td>\n",
       "      <td id=\"T_e2c2a_row58_col5\" class=\"data row58 col5\" >-8.600</td>\n",
       "      <td id=\"T_e2c2a_row58_col6\" class=\"data row58 col6\" >-0.990</td>\n",
       "      <td id=\"T_e2c2a_row58_col7\" class=\"data row58 col7\" >1.220</td>\n",
       "      <td id=\"T_e2c2a_row58_col8\" class=\"data row58 col8\" >-9.080</td>\n",
       "      <td id=\"T_e2c2a_row58_col9\" class=\"data row58 col9\" >-16.940</td>\n",
       "      <td id=\"T_e2c2a_row58_col10\" class=\"data row58 col10\" >-7.480</td>\n",
       "      <td id=\"T_e2c2a_row58_col11\" class=\"data row58 col11\" >0.780</td>\n",
       "    </tr>\n",
       "    <tr>\n",
       "      <th id=\"T_e2c2a_level0_row59\" class=\"row_heading level0 row59\" >2009</th>\n",
       "      <td id=\"T_e2c2a_row59_col0\" class=\"data row59 col0\" >-8.570</td>\n",
       "      <td id=\"T_e2c2a_row59_col1\" class=\"data row59 col1\" >-10.990</td>\n",
       "      <td id=\"T_e2c2a_row59_col2\" class=\"data row59 col2\" >8.540</td>\n",
       "      <td id=\"T_e2c2a_row59_col3\" class=\"data row59 col3\" >9.390</td>\n",
       "      <td id=\"T_e2c2a_row59_col4\" class=\"data row59 col4\" >5.310</td>\n",
       "      <td id=\"T_e2c2a_row59_col5\" class=\"data row59 col5\" >0.020</td>\n",
       "      <td id=\"T_e2c2a_row59_col6\" class=\"data row59 col6\" >7.410</td>\n",
       "      <td id=\"T_e2c2a_row59_col7\" class=\"data row59 col7\" >3.360</td>\n",
       "      <td id=\"T_e2c2a_row59_col8\" class=\"data row59 col8\" >3.570</td>\n",
       "      <td id=\"T_e2c2a_row59_col9\" class=\"data row59 col9\" >-1.980</td>\n",
       "      <td id=\"T_e2c2a_row59_col10\" class=\"data row59 col10\" >5.740</td>\n",
       "      <td id=\"T_e2c2a_row59_col11\" class=\"data row59 col11\" >1.780</td>\n",
       "    </tr>\n",
       "    <tr>\n",
       "      <th id=\"T_e2c2a_level0_row60\" class=\"row_heading level0 row60\" >2010</th>\n",
       "      <td id=\"T_e2c2a_row60_col0\" class=\"data row60 col0\" >-3.700</td>\n",
       "      <td id=\"T_e2c2a_row60_col1\" class=\"data row60 col1\" >2.850</td>\n",
       "      <td id=\"T_e2c2a_row60_col2\" class=\"data row60 col2\" >5.880</td>\n",
       "      <td id=\"T_e2c2a_row60_col3\" class=\"data row60 col3\" >1.480</td>\n",
       "      <td id=\"T_e2c2a_row60_col4\" class=\"data row60 col4\" >-8.200</td>\n",
       "      <td id=\"T_e2c2a_row60_col5\" class=\"data row60 col5\" >-5.390</td>\n",
       "      <td id=\"T_e2c2a_row60_col6\" class=\"data row60 col6\" >6.880</td>\n",
       "      <td id=\"T_e2c2a_row60_col7\" class=\"data row60 col7\" >-4.740</td>\n",
       "      <td id=\"T_e2c2a_row60_col8\" class=\"data row60 col8\" >8.760</td>\n",
       "      <td id=\"T_e2c2a_row60_col9\" class=\"data row60 col9\" >3.690</td>\n",
       "      <td id=\"T_e2c2a_row60_col10\" class=\"data row60 col10\" >-0.230</td>\n",
       "      <td id=\"T_e2c2a_row60_col11\" class=\"data row60 col11\" >6.530</td>\n",
       "    </tr>\n",
       "    <tr>\n",
       "      <th id=\"T_e2c2a_level0_row61\" class=\"row_heading level0 row61\" >2011</th>\n",
       "      <td id=\"T_e2c2a_row61_col0\" class=\"data row61 col0\" >2.260</td>\n",
       "      <td id=\"T_e2c2a_row61_col1\" class=\"data row61 col1\" >3.200</td>\n",
       "      <td id=\"T_e2c2a_row61_col2\" class=\"data row61 col2\" >-0.100</td>\n",
       "      <td id=\"T_e2c2a_row61_col3\" class=\"data row61 col3\" >2.850</td>\n",
       "      <td id=\"T_e2c2a_row61_col4\" class=\"data row61 col4\" >-1.350</td>\n",
       "      <td id=\"T_e2c2a_row61_col5\" class=\"data row61 col5\" >-1.830</td>\n",
       "      <td id=\"T_e2c2a_row61_col6\" class=\"data row61 col6\" >-2.150</td>\n",
       "      <td id=\"T_e2c2a_row61_col7\" class=\"data row61 col7\" >-5.680</td>\n",
       "      <td id=\"T_e2c2a_row61_col8\" class=\"data row61 col8\" >-7.180</td>\n",
       "      <td id=\"T_e2c2a_row61_col9\" class=\"data row61 col9\" >10.770</td>\n",
       "      <td id=\"T_e2c2a_row61_col10\" class=\"data row61 col10\" >-0.510</td>\n",
       "      <td id=\"T_e2c2a_row61_col11\" class=\"data row61 col11\" >0.850</td>\n",
       "    </tr>\n",
       "    <tr>\n",
       "      <th id=\"T_e2c2a_level0_row62\" class=\"row_heading level0 row62\" >2012</th>\n",
       "      <td id=\"T_e2c2a_row62_col0\" class=\"data row62 col0\" >4.360</td>\n",
       "      <td id=\"T_e2c2a_row62_col1\" class=\"data row62 col1\" >4.060</td>\n",
       "      <td id=\"T_e2c2a_row62_col2\" class=\"data row62 col2\" >3.130</td>\n",
       "      <td id=\"T_e2c2a_row62_col3\" class=\"data row62 col3\" >-0.750</td>\n",
       "      <td id=\"T_e2c2a_row62_col4\" class=\"data row62 col4\" >-6.270</td>\n",
       "      <td id=\"T_e2c2a_row62_col5\" class=\"data row62 col5\" >3.960</td>\n",
       "      <td id=\"T_e2c2a_row62_col6\" class=\"data row62 col6\" >1.260</td>\n",
       "      <td id=\"T_e2c2a_row62_col7\" class=\"data row62 col7\" >1.980</td>\n",
       "      <td id=\"T_e2c2a_row62_col8\" class=\"data row62 col8\" >2.420</td>\n",
       "      <td id=\"T_e2c2a_row62_col9\" class=\"data row62 col9\" >-1.980</td>\n",
       "      <td id=\"T_e2c2a_row62_col10\" class=\"data row62 col10\" >0.280</td>\n",
       "      <td id=\"T_e2c2a_row62_col11\" class=\"data row62 col11\" >0.710</td>\n",
       "    </tr>\n",
       "    <tr>\n",
       "      <th id=\"T_e2c2a_level0_row63\" class=\"row_heading level0 row63\" >2013</th>\n",
       "      <td id=\"T_e2c2a_row63_col0\" class=\"data row63 col0\" >5.040</td>\n",
       "      <td id=\"T_e2c2a_row63_col1\" class=\"data row63 col1\" >1.110</td>\n",
       "      <td id=\"T_e2c2a_row63_col2\" class=\"data row63 col2\" >3.600</td>\n",
       "      <td id=\"T_e2c2a_row63_col3\" class=\"data row63 col3\" >1.810</td>\n",
       "      <td id=\"T_e2c2a_row63_col4\" class=\"data row63 col4\" >2.080</td>\n",
       "      <td id=\"T_e2c2a_row63_col5\" class=\"data row63 col5\" >-1.500</td>\n",
       "      <td id=\"T_e2c2a_row63_col6\" class=\"data row63 col6\" >4.950</td>\n",
       "      <td id=\"T_e2c2a_row63_col7\" class=\"data row63 col7\" >-3.130</td>\n",
       "      <td id=\"T_e2c2a_row63_col8\" class=\"data row63 col8\" >2.970</td>\n",
       "      <td id=\"T_e2c2a_row63_col9\" class=\"data row63 col9\" >4.460</td>\n",
       "      <td id=\"T_e2c2a_row63_col10\" class=\"data row63 col10\" >2.800</td>\n",
       "      <td id=\"T_e2c2a_row63_col11\" class=\"data row63 col11\" >2.360</td>\n",
       "    </tr>\n",
       "    <tr>\n",
       "      <th id=\"T_e2c2a_level0_row64\" class=\"row_heading level0 row64\" >2014</th>\n",
       "      <td id=\"T_e2c2a_row64_col0\" class=\"data row64 col0\" >-3.560</td>\n",
       "      <td id=\"T_e2c2a_row64_col1\" class=\"data row64 col1\" >4.310</td>\n",
       "      <td id=\"T_e2c2a_row64_col2\" class=\"data row64 col2\" >0.690</td>\n",
       "      <td id=\"T_e2c2a_row64_col3\" class=\"data row64 col3\" >0.620</td>\n",
       "      <td id=\"T_e2c2a_row64_col4\" class=\"data row64 col4\" >2.100</td>\n",
       "      <td id=\"T_e2c2a_row64_col5\" class=\"data row64 col5\" >1.910</td>\n",
       "      <td id=\"T_e2c2a_row64_col6\" class=\"data row64 col6\" >-1.510</td>\n",
       "      <td id=\"T_e2c2a_row64_col7\" class=\"data row64 col7\" >3.770</td>\n",
       "      <td id=\"T_e2c2a_row64_col8\" class=\"data row64 col8\" >-1.550</td>\n",
       "      <td id=\"T_e2c2a_row64_col9\" class=\"data row64 col9\" >2.320</td>\n",
       "      <td id=\"T_e2c2a_row64_col10\" class=\"data row64 col10\" >2.450</td>\n",
       "      <td id=\"T_e2c2a_row64_col11\" class=\"data row64 col11\" >-0.420</td>\n",
       "    </tr>\n",
       "    <tr>\n",
       "      <th id=\"T_e2c2a_level0_row65\" class=\"row_heading level0 row65\" >2015</th>\n",
       "      <td id=\"T_e2c2a_row65_col0\" class=\"data row65 col0\" >-3.100</td>\n",
       "      <td id=\"T_e2c2a_row65_col1\" class=\"data row65 col1\" >5.490</td>\n",
       "      <td id=\"T_e2c2a_row65_col2\" class=\"data row65 col2\" >-1.740</td>\n",
       "      <td id=\"T_e2c2a_row65_col3\" class=\"data row65 col3\" >0.850</td>\n",
       "      <td id=\"T_e2c2a_row65_col4\" class=\"data row65 col4\" >1.050</td>\n",
       "      <td id=\"T_e2c2a_row65_col5\" class=\"data row65 col5\" >-2.100</td>\n",
       "      <td id=\"T_e2c2a_row65_col6\" class=\"data row65 col6\" >1.970</td>\n",
       "      <td id=\"T_e2c2a_row65_col7\" class=\"data row65 col7\" >-6.260</td>\n",
       "      <td id=\"T_e2c2a_row65_col8\" class=\"data row65 col8\" >-2.640</td>\n",
       "      <td id=\"T_e2c2a_row65_col9\" class=\"data row65 col9\" >8.300</td>\n",
       "      <td id=\"T_e2c2a_row65_col10\" class=\"data row65 col10\" >0.050</td>\n",
       "      <td id=\"T_e2c2a_row65_col11\" class=\"data row65 col11\" >-1.750</td>\n",
       "    </tr>\n",
       "    <tr>\n",
       "      <th id=\"T_e2c2a_level0_row66\" class=\"row_heading level0 row66\" >2016</th>\n",
       "      <td id=\"T_e2c2a_row66_col0\" class=\"data row66 col0\" >-5.070</td>\n",
       "      <td id=\"T_e2c2a_row66_col1\" class=\"data row66 col1\" >-0.410</td>\n",
       "      <td id=\"T_e2c2a_row66_col2\" class=\"data row66 col2\" >6.600</td>\n",
       "      <td id=\"T_e2c2a_row66_col3\" class=\"data row66 col3\" >0.270</td>\n",
       "      <td id=\"T_e2c2a_row66_col4\" class=\"data row66 col4\" >1.530</td>\n",
       "      <td id=\"T_e2c2a_row66_col5\" class=\"data row66 col5\" >0.090</td>\n",
       "      <td id=\"T_e2c2a_row66_col6\" class=\"data row66 col6\" >3.560</td>\n",
       "      <td id=\"T_e2c2a_row66_col7\" class=\"data row66 col7\" >-0.120</td>\n",
       "      <td id=\"T_e2c2a_row66_col8\" class=\"data row66 col8\" >-0.120</td>\n",
       "      <td id=\"T_e2c2a_row66_col9\" class=\"data row66 col9\" >-1.940</td>\n",
       "      <td id=\"T_e2c2a_row66_col10\" class=\"data row66 col10\" >3.420</td>\n",
       "      <td id=\"T_e2c2a_row66_col11\" class=\"data row66 col11\" >1.820</td>\n",
       "    </tr>\n",
       "    <tr>\n",
       "      <th id=\"T_e2c2a_level0_row67\" class=\"row_heading level0 row67\" >2017</th>\n",
       "      <td id=\"T_e2c2a_row67_col0\" class=\"data row67 col0\" >1.790</td>\n",
       "      <td id=\"T_e2c2a_row67_col1\" class=\"data row67 col1\" >3.720</td>\n",
       "      <td id=\"T_e2c2a_row67_col2\" class=\"data row67 col2\" >-0.040</td>\n",
       "      <td id=\"T_e2c2a_row67_col3\" class=\"data row67 col3\" >0.910</td>\n",
       "      <td id=\"T_e2c2a_row67_col4\" class=\"data row67 col4\" >1.160</td>\n",
       "      <td id=\"T_e2c2a_row67_col5\" class=\"data row67 col5\" >0.480</td>\n",
       "      <td id=\"T_e2c2a_row67_col6\" class=\"data row67 col6\" >1.930</td>\n",
       "      <td id=\"T_e2c2a_row67_col7\" class=\"data row67 col7\" >0.050</td>\n",
       "      <td id=\"T_e2c2a_row67_col8\" class=\"data row67 col8\" >1.930</td>\n",
       "      <td id=\"T_e2c2a_row67_col9\" class=\"data row67 col9\" >2.220</td>\n",
       "      <td id=\"T_e2c2a_row67_col10\" class=\"data row67 col10\" >2.810</td>\n",
       "      <td id=\"T_e2c2a_row67_col11\" class=\"data row67 col11\" >0.980</td>\n",
       "    </tr>\n",
       "    <tr>\n",
       "      <th id=\"T_e2c2a_level0_row68\" class=\"row_heading level0 row68\" >2018</th>\n",
       "      <td id=\"T_e2c2a_row68_col0\" class=\"data row68 col0\" >5.620</td>\n",
       "      <td id=\"T_e2c2a_row68_col1\" class=\"data row68 col1\" >-3.890</td>\n",
       "      <td id=\"T_e2c2a_row68_col2\" class=\"data row68 col2\" >-2.690</td>\n",
       "      <td id=\"T_e2c2a_row68_col3\" class=\"data row68 col3\" >0.270</td>\n",
       "      <td id=\"T_e2c2a_row68_col4\" class=\"data row68 col4\" >2.160</td>\n",
       "      <td id=\"T_e2c2a_row68_col5\" class=\"data row68 col5\" >0.480</td>\n",
       "      <td id=\"T_e2c2a_row68_col6\" class=\"data row68 col6\" >3.600</td>\n",
       "      <td id=\"T_e2c2a_row68_col7\" class=\"data row68 col7\" >3.030</td>\n",
       "      <td id=\"T_e2c2a_row68_col8\" class=\"data row68 col8\" >0.430</td>\n",
       "      <td id=\"T_e2c2a_row68_col9\" class=\"data row68 col9\" >-6.940</td>\n",
       "      <td id=\"T_e2c2a_row68_col10\" class=\"data row68 col10\" >1.790</td>\n",
       "      <td id=\"T_e2c2a_row68_col11\" class=\"data row68 col11\" >-9.180</td>\n",
       "    </tr>\n",
       "    <tr>\n",
       "      <th id=\"T_e2c2a_level0_row69\" class=\"row_heading level0 row69\" >2019</th>\n",
       "      <td id=\"T_e2c2a_row69_col0\" class=\"data row69 col0\" >7.870</td>\n",
       "      <td id=\"T_e2c2a_row69_col1\" class=\"data row69 col1\" >2.970</td>\n",
       "      <td id=\"T_e2c2a_row69_col2\" class=\"data row69 col2\" >1.790</td>\n",
       "      <td id=\"T_e2c2a_row69_col3\" class=\"data row69 col3\" >3.930</td>\n",
       "      <td id=\"T_e2c2a_row69_col4\" class=\"data row69 col4\" >-6.580</td>\n",
       "      <td id=\"T_e2c2a_row69_col5\" class=\"data row69 col5\" >6.890</td>\n",
       "      <td id=\"T_e2c2a_row69_col6\" class=\"data row69 col6\" >1.310</td>\n",
       "      <td id=\"T_e2c2a_row69_col7\" class=\"data row69 col7\" >-1.810</td>\n",
       "      <td id=\"T_e2c2a_row69_col8\" class=\"data row69 col8\" >1.720</td>\n",
       "      <td id=\"T_e2c2a_row69_col9\" class=\"data row69 col9\" >2.040</td>\n",
       "      <td id=\"T_e2c2a_row69_col10\" class=\"data row69 col10\" >3.400</td>\n",
       "      <td id=\"T_e2c2a_row69_col11\" class=\"data row69 col11\" >2.860</td>\n",
       "    </tr>\n",
       "    <tr>\n",
       "      <th id=\"T_e2c2a_level0_row70\" class=\"row_heading level0 row70\" >2020</th>\n",
       "      <td id=\"T_e2c2a_row70_col0\" class=\"data row70 col0\" >-0.160</td>\n",
       "      <td id=\"T_e2c2a_row70_col1\" class=\"data row70 col1\" >-8.410</td>\n",
       "      <td id=\"T_e2c2a_row70_col2\" class=\"data row70 col2\" >-12.510</td>\n",
       "      <td id=\"T_e2c2a_row70_col3\" class=\"data row70 col3\" >12.680</td>\n",
       "      <td id=\"T_e2c2a_row70_col4\" class=\"data row70 col4\" >4.530</td>\n",
       "      <td id=\"T_e2c2a_row70_col5\" class=\"data row70 col5\" >1.840</td>\n",
       "      <td id=\"T_e2c2a_row70_col6\" class=\"data row70 col6\" >5.510</td>\n",
       "      <td id=\"T_e2c2a_row70_col7\" class=\"data row70 col7\" >7.010</td>\n",
       "      <td id=\"T_e2c2a_row70_col8\" class=\"data row70 col8\" >-3.920</td>\n",
       "      <td id=\"T_e2c2a_row70_col9\" class=\"data row70 col9\" >-2.770</td>\n",
       "      <td id=\"T_e2c2a_row70_col10\" class=\"data row70 col10\" >10.750</td>\n",
       "      <td id=\"T_e2c2a_row70_col11\" class=\"data row70 col11\" >3.710</td>\n",
       "    </tr>\n",
       "    <tr>\n",
       "      <th id=\"T_e2c2a_level0_row71\" class=\"row_heading level0 row71\" >2021</th>\n",
       "      <td id=\"T_e2c2a_row71_col0\" class=\"data row71 col0\" >-1.110</td>\n",
       "      <td id=\"T_e2c2a_row71_col1\" class=\"data row71 col1\" >2.610</td>\n",
       "      <td id=\"T_e2c2a_row71_col2\" class=\"data row71 col2\" >4.240</td>\n",
       "      <td id=\"T_e2c2a_row71_col3\" class=\"data row71 col3\" >5.240</td>\n",
       "      <td id=\"T_e2c2a_row71_col4\" class=\"data row71 col4\" >0.550</td>\n",
       "      <td id=\"T_e2c2a_row71_col5\" class=\"data row71 col5\" >2.220</td>\n",
       "      <td id=\"T_e2c2a_row71_col6\" class=\"data row71 col6\" >2.270</td>\n",
       "      <td id=\"T_e2c2a_row71_col7\" class=\"data row71 col7\" >2.900</td>\n",
       "      <td id=\"T_e2c2a_row71_col8\" class=\"data row71 col8\" >-4.760</td>\n",
       "      <td id=\"T_e2c2a_row71_col9\" class=\"data row71 col9\" >6.910</td>\n",
       "      <td id=\"T_e2c2a_row71_col10\" class=\"data row71 col10\" >-0.830</td>\n",
       "      <td id=\"T_e2c2a_row71_col11\" class=\"data row71 col11\" >4.360</td>\n",
       "    </tr>\n",
       "    <tr>\n",
       "      <th id=\"T_e2c2a_level0_row72\" class=\"row_heading level0 row72\" >2022</th>\n",
       "      <td id=\"T_e2c2a_row72_col0\" class=\"data row72 col0\" >-5.260</td>\n",
       "      <td id=\"T_e2c2a_row72_col1\" class=\"data row72 col1\" >-3.140</td>\n",
       "      <td id=\"T_e2c2a_row72_col2\" class=\"data row72 col2\" >3.580</td>\n",
       "      <td id=\"T_e2c2a_row72_col3\" class=\"data row72 col3\" >-8.800</td>\n",
       "      <td id=\"T_e2c2a_row72_col4\" class=\"data row72 col4\" >0.010</td>\n",
       "      <td id=\"T_e2c2a_row72_col5\" class=\"data row72 col5\" >-8.390</td>\n",
       "      <td id=\"T_e2c2a_row72_col6\" class=\"data row72 col6\" >9.110</td>\n",
       "      <td id=\"T_e2c2a_row72_col7\" class=\"data row72 col7\" >-4.240</td>\n",
       "      <td id=\"T_e2c2a_row72_col8\" class=\"data row72 col8\" >-9.340</td>\n",
       "      <td id=\"T_e2c2a_row72_col9\" class=\"data row72 col9\" >7.990</td>\n",
       "      <td id=\"T_e2c2a_row72_col10\" class=\"data row72 col10\" >5.380</td>\n",
       "      <td id=\"T_e2c2a_row72_col11\" class=\"data row72 col11\" >-5.900</td>\n",
       "    </tr>\n",
       "    <tr>\n",
       "      <th id=\"T_e2c2a_level0_row73\" class=\"row_heading level0 row73\" >2023</th>\n",
       "      <td id=\"T_e2c2a_row73_col0\" class=\"data row73 col0\" >6.180</td>\n",
       "      <td id=\"T_e2c2a_row73_col1\" class=\"data row73 col1\" >-2.610</td>\n",
       "      <td id=\"T_e2c2a_row73_col2\" class=\"data row73 col2\" >3.510</td>\n",
       "      <td id=\"T_e2c2a_row73_col3\" class=\"data row73 col3\" >1.460</td>\n",
       "      <td id=\"T_e2c2a_row73_col4\" class=\"data row73 col4\" >0.250</td>\n",
       "      <td id=\"T_e2c2a_row73_col5\" class=\"data row73 col5\" >6.470</td>\n",
       "      <td id=\"T_e2c2a_row73_col6\" class=\"data row73 col6\" >3.110</td>\n",
       "      <td id=\"T_e2c2a_row73_col7\" class=\"data row73 col7\" >-1.770</td>\n",
       "      <td id=\"T_e2c2a_row73_col8\" class=\"data row73 col8\" >-4.870</td>\n",
       "      <td id=\"T_e2c2a_row73_col9\" class=\"data row73 col9\" >-2.200</td>\n",
       "      <td id=\"T_e2c2a_row73_col10\" class=\"data row73 col10\" >8.920</td>\n",
       "      <td id=\"T_e2c2a_row73_col11\" class=\"data row73 col11\" >3.610</td>\n",
       "    </tr>\n",
       "  </tbody>\n",
       "</table>\n"
      ],
      "text/plain": [
       "<pandas.io.formats.style.Styler at 0x19b4f307450>"
      ]
     },
     "execution_count": 9,
     "metadata": {},
     "output_type": "execute_result"
    }
   ],
   "source": [
    "# Agora pra ter uma visão geral dos meses ao longo da série histórica\n",
    "\n",
    "resultados_pontuais = pd.pivot_table(sp500, values=\"Var_%_mês\", index=[\"Ano\",], columns=[\"N°_mês\"], aggfunc=np.mean)\n",
    "resultados_pontuais = resultados_pontuais.style.format('{:.3f}', na_rep=\"\").applymap(lambda x: 'background-color : #81b585' if x>0 else 'background-color : #cf7a7a')\n",
    "resultados_pontuais"
   ]
  },
  {
   "cell_type": "markdown",
   "id": "f18feef8-d322-4f63-b4e7-b3285ee8e08a",
   "metadata": {
    "tags": []
   },
   "source": [
    "## 5. Passo: Analisar a normalidade dos dados por grupo"
   ]
  },
  {
   "cell_type": "code",
   "execution_count": 10,
   "id": "4fa6971e-ab27-47da-ac80-49fc514611e8",
   "metadata": {
    "tags": []
   },
   "outputs": [
    {
     "data": {
      "text/html": [
       "<style type=\"text/css\">\n",
       "#T_96188_row0_col0, #T_96188_row1_col0, #T_96188_row3_col0, #T_96188_row4_col0, #T_96188_row5_col0, #T_96188_row6_col0, #T_96188_row7_col0, #T_96188_row8_col0, #T_96188_row10_col0, #T_96188_row11_col0 {\n",
       "  background-color: #81b585;\n",
       "}\n",
       "#T_96188_row2_col0, #T_96188_row9_col0 {\n",
       "  background-color: #cf7a7a;\n",
       "}\n",
       "</style>\n",
       "<table id=\"T_96188\">\n",
       "  <thead>\n",
       "    <tr>\n",
       "      <th class=\"blank level0\" >&nbsp;</th>\n",
       "      <th id=\"T_96188_level0_col0\" class=\"col_heading level0 col0\" >Var_%_mês</th>\n",
       "    </tr>\n",
       "    <tr>\n",
       "      <th class=\"index_name level0\" >N°_mês</th>\n",
       "      <th class=\"blank col0\" >&nbsp;</th>\n",
       "    </tr>\n",
       "  </thead>\n",
       "  <tbody>\n",
       "    <tr>\n",
       "      <th id=\"T_96188_level0_row0\" class=\"row_heading level0 row0\" >01</th>\n",
       "      <td id=\"T_96188_row0_col0\" class=\"data row0 col0\" >0.78302</td>\n",
       "    </tr>\n",
       "    <tr>\n",
       "      <th id=\"T_96188_level0_row1\" class=\"row_heading level0 row1\" >02</th>\n",
       "      <td id=\"T_96188_row1_col0\" class=\"data row1 col0\" >0.17978</td>\n",
       "    </tr>\n",
       "    <tr>\n",
       "      <th id=\"T_96188_level0_row2\" class=\"row_heading level0 row2\" >03</th>\n",
       "      <td id=\"T_96188_row2_col0\" class=\"data row2 col0\" >0.00016</td>\n",
       "    </tr>\n",
       "    <tr>\n",
       "      <th id=\"T_96188_level0_row3\" class=\"row_heading level0 row3\" >04</th>\n",
       "      <td id=\"T_96188_row3_col0\" class=\"data row3 col0\" >0.40968</td>\n",
       "    </tr>\n",
       "    <tr>\n",
       "      <th id=\"T_96188_level0_row4\" class=\"row_heading level0 row4\" >05</th>\n",
       "      <td id=\"T_96188_row4_col0\" class=\"data row4 col0\" >0.30580</td>\n",
       "    </tr>\n",
       "    <tr>\n",
       "      <th id=\"T_96188_level0_row5\" class=\"row_heading level0 row5\" >06</th>\n",
       "      <td id=\"T_96188_row5_col0\" class=\"data row5 col0\" >0.45844</td>\n",
       "    </tr>\n",
       "    <tr>\n",
       "      <th id=\"T_96188_level0_row6\" class=\"row_heading level0 row6\" >07</th>\n",
       "      <td id=\"T_96188_row6_col0\" class=\"data row6 col0\" >0.56833</td>\n",
       "    </tr>\n",
       "    <tr>\n",
       "      <th id=\"T_96188_level0_row7\" class=\"row_heading level0 row7\" >08</th>\n",
       "      <td id=\"T_96188_row7_col0\" class=\"data row7 col0\" >0.11618</td>\n",
       "    </tr>\n",
       "    <tr>\n",
       "      <th id=\"T_96188_level0_row8\" class=\"row_heading level0 row8\" >09</th>\n",
       "      <td id=\"T_96188_row8_col0\" class=\"data row8 col0\" >0.45948</td>\n",
       "    </tr>\n",
       "    <tr>\n",
       "      <th id=\"T_96188_level0_row9\" class=\"row_heading level0 row9\" >10</th>\n",
       "      <td id=\"T_96188_row9_col0\" class=\"data row9 col0\" >0.00000</td>\n",
       "    </tr>\n",
       "    <tr>\n",
       "      <th id=\"T_96188_level0_row10\" class=\"row_heading level0 row10\" >11</th>\n",
       "      <td id=\"T_96188_row10_col0\" class=\"data row10 col0\" >0.05219</td>\n",
       "    </tr>\n",
       "    <tr>\n",
       "      <th id=\"T_96188_level0_row11\" class=\"row_heading level0 row11\" >12</th>\n",
       "      <td id=\"T_96188_row11_col0\" class=\"data row11 col0\" >0.08746</td>\n",
       "    </tr>\n",
       "  </tbody>\n",
       "</table>\n"
      ],
      "text/plain": [
       "<pandas.io.formats.style.Styler at 0x19b4ee81a50>"
      ]
     },
     "execution_count": 10,
     "metadata": {},
     "output_type": "execute_result"
    }
   ],
   "source": [
    "# Vamos checar a premissa de normalidade dos dados de cada grupo\n",
    "# Dessa vez usaremos um groupby um pouco mais complexo, incluindo uma função lambda\n",
    "# Basicamente agrupar os dados de retornos por mes e aplicar a função do teste de normalidade, retornando apenas o p valor\n",
    "# para cada mês.\n",
    "\n",
    "pvalor_normalidade = sp500[['N°_mês','Var_%_mês']].groupby('N°_mês').agg(lambda x: stats.normaltest(x).pvalue)\n",
    "pvalor_normalidade = pvalor_normalidade.style.format('{:.5f}', na_rep=\"\").applymap(lambda x: 'background-color : #81b585' if x>0.05 else 'background-color : #cf7a7a')\n",
    "pvalor_normalidade"
   ]
  },
  {
   "cell_type": "markdown",
   "id": "d8671ddc-dc52-4da4-b3a3-e3fcfa181193",
   "metadata": {},
   "source": [
    "- Veja que março e outubro foram os únicos meses sem apresentar normalidade dos dados.\n",
    "\n",
    "- Basicamente devido a duas grandes crises: março devido ao resultado de 2020 **Covid (-12.510)** e outubro 2008 **crise subprimes (-16.940)**."
   ]
  },
  {
   "cell_type": "code",
   "execution_count": 11,
   "id": "b9b9efa8-0338-4bca-8554-07bf4dce5db5",
   "metadata": {
    "tags": []
   },
   "outputs": [
    {
     "data": {
      "text/plain": [
       "NormaltestResult(statistic=6.413109531575308, pvalue=0.040495891041273484)"
      ]
     },
     "execution_count": 11,
     "metadata": {},
     "output_type": "execute_result"
    }
   ],
   "source": [
    "# Filtrar os dados de março e ver se retirando o dado de 2020 (Covid) os dados apresentam distribuição normal\n",
    "\n",
    "março = sp500[sp500.Mês=='March']\n",
    "stats.normaltest(março[março.Ano!=2020]['Var_%_mês'])"
   ]
  },
  {
   "cell_type": "markdown",
   "id": "bd3e3f33-ca42-4e94-ba05-83433957e8d4",
   "metadata": {},
   "source": [
    "- Mesmo removendo o mês de Março de 2020 (queda do COVID) o pvalor da distribuição dos dados é menor que 0.05, ou seja, Não é uma distribuição normal **(pvalue < 0.05)**"
   ]
  },
  {
   "cell_type": "code",
   "execution_count": 12,
   "id": "d4d633d8-fb23-4ba7-b61a-3b301633af53",
   "metadata": {
    "tags": []
   },
   "outputs": [
    {
     "data": {
      "text/plain": [
       "NormaltestResult(statistic=22.93519824942093, pvalue=1.0463692766182171e-05)"
      ]
     },
     "execution_count": 12,
     "metadata": {},
     "output_type": "execute_result"
    }
   ],
   "source": [
    "# Filtrar os dados de março e ver se retirando o dado de 2008 (Covid) os dados apresentam distribuição normal\n",
    "\n",
    "october = sp500[sp500.Mês=='October']\n",
    "stats.normaltest(october[october.Ano!=2008]['Var_%_mês'])"
   ]
  },
  {
   "cell_type": "markdown",
   "id": "9cb31b92-4f28-40eb-a27b-0edd4b2293c9",
   "metadata": {},
   "source": [
    "- Após remover o mês de Outubro de 2008 o pvalor da **distribuição é maior que 0.05**, ou seja, é uma distribuição normal **(pvalue > 0.05)**."
   ]
  },
  {
   "cell_type": "markdown",
   "id": "9f1da851-3595-41c9-b597-312d07c89164",
   "metadata": {},
   "source": [
    "---\n",
    "\n",
    "*Alguns anos específicos em que ocorreram quedas muito acima da média no sp500 distorcem a normalidade das distribuições devido aos outliers.*\n",
    "\n",
    "*Por este motivos precisamos remove-los do dataframe, pois uma das premissas da análise ANOVA baseia-se na suposição de que as distribuições dos resíduos (diferenças entre os valores observados e os valores previstos) para cada grupo são aproximadamente normais.*\n",
    "\n",
    "---"
   ]
  },
  {
   "cell_type": "code",
   "execution_count": 13,
   "id": "21ddb281-374d-4106-98e6-281222d7557d",
   "metadata": {},
   "outputs": [
    {
     "data": {
      "text/html": [
       "<div>\n",
       "<style scoped>\n",
       "    .dataframe tbody tr th:only-of-type {\n",
       "        vertical-align: middle;\n",
       "    }\n",
       "\n",
       "    .dataframe tbody tr th {\n",
       "        vertical-align: top;\n",
       "    }\n",
       "\n",
       "    .dataframe thead th {\n",
       "        text-align: right;\n",
       "    }\n",
       "</style>\n",
       "<table border=\"1\" class=\"dataframe\">\n",
       "  <thead>\n",
       "    <tr style=\"text-align: right;\">\n",
       "      <th></th>\n",
       "      <th>Open</th>\n",
       "      <th>High</th>\n",
       "      <th>Low</th>\n",
       "      <th>Close</th>\n",
       "      <th>Var_%_mês</th>\n",
       "      <th>Mês</th>\n",
       "      <th>Ano</th>\n",
       "      <th>N°_mês</th>\n",
       "    </tr>\n",
       "    <tr>\n",
       "      <th>Date</th>\n",
       "      <th></th>\n",
       "      <th></th>\n",
       "      <th></th>\n",
       "      <th></th>\n",
       "      <th></th>\n",
       "      <th></th>\n",
       "      <th></th>\n",
       "      <th></th>\n",
       "    </tr>\n",
       "  </thead>\n",
       "  <tbody>\n",
       "    <tr>\n",
       "      <th>1950-01-31</th>\n",
       "      <td>16.660000</td>\n",
       "      <td>17.090000</td>\n",
       "      <td>16.660000</td>\n",
       "      <td>17.049999</td>\n",
       "      <td>1.55</td>\n",
       "      <td>January</td>\n",
       "      <td>1950</td>\n",
       "      <td>01</td>\n",
       "    </tr>\n",
       "    <tr>\n",
       "      <th>1950-02-28</th>\n",
       "      <td>17.049999</td>\n",
       "      <td>17.320000</td>\n",
       "      <td>16.990000</td>\n",
       "      <td>17.219999</td>\n",
       "      <td>1.00</td>\n",
       "      <td>February</td>\n",
       "      <td>1950</td>\n",
       "      <td>02</td>\n",
       "    </tr>\n",
       "    <tr>\n",
       "      <th>1950-03-31</th>\n",
       "      <td>17.240000</td>\n",
       "      <td>17.559999</td>\n",
       "      <td>17.070000</td>\n",
       "      <td>17.290001</td>\n",
       "      <td>0.41</td>\n",
       "      <td>March</td>\n",
       "      <td>1950</td>\n",
       "      <td>03</td>\n",
       "    </tr>\n",
       "    <tr>\n",
       "      <th>1950-04-30</th>\n",
       "      <td>17.530001</td>\n",
       "      <td>18.049999</td>\n",
       "      <td>17.530001</td>\n",
       "      <td>17.959999</td>\n",
       "      <td>3.88</td>\n",
       "      <td>April</td>\n",
       "      <td>1950</td>\n",
       "      <td>04</td>\n",
       "    </tr>\n",
       "    <tr>\n",
       "      <th>1950-05-31</th>\n",
       "      <td>18.219999</td>\n",
       "      <td>18.780001</td>\n",
       "      <td>18.110001</td>\n",
       "      <td>18.780001</td>\n",
       "      <td>4.57</td>\n",
       "      <td>May</td>\n",
       "      <td>1950</td>\n",
       "      <td>05</td>\n",
       "    </tr>\n",
       "    <tr>\n",
       "      <th>...</th>\n",
       "      <td>...</td>\n",
       "      <td>...</td>\n",
       "      <td>...</td>\n",
       "      <td>...</td>\n",
       "      <td>...</td>\n",
       "      <td>...</td>\n",
       "      <td>...</td>\n",
       "      <td>...</td>\n",
       "    </tr>\n",
       "    <tr>\n",
       "      <th>2023-08-31</th>\n",
       "      <td>4578.830078</td>\n",
       "      <td>4584.620117</td>\n",
       "      <td>4335.310059</td>\n",
       "      <td>4507.660156</td>\n",
       "      <td>-1.77</td>\n",
       "      <td>August</td>\n",
       "      <td>2023</td>\n",
       "      <td>08</td>\n",
       "    </tr>\n",
       "    <tr>\n",
       "      <th>2023-09-30</th>\n",
       "      <td>4530.600098</td>\n",
       "      <td>4541.250000</td>\n",
       "      <td>4238.629883</td>\n",
       "      <td>4288.049805</td>\n",
       "      <td>-4.87</td>\n",
       "      <td>September</td>\n",
       "      <td>2023</td>\n",
       "      <td>09</td>\n",
       "    </tr>\n",
       "    <tr>\n",
       "      <th>2023-10-31</th>\n",
       "      <td>4284.520020</td>\n",
       "      <td>4393.569824</td>\n",
       "      <td>4103.779785</td>\n",
       "      <td>4193.799805</td>\n",
       "      <td>-2.20</td>\n",
       "      <td>October</td>\n",
       "      <td>2023</td>\n",
       "      <td>10</td>\n",
       "    </tr>\n",
       "    <tr>\n",
       "      <th>2023-11-30</th>\n",
       "      <td>4201.270020</td>\n",
       "      <td>4587.640137</td>\n",
       "      <td>4197.740234</td>\n",
       "      <td>4567.799805</td>\n",
       "      <td>8.92</td>\n",
       "      <td>November</td>\n",
       "      <td>2023</td>\n",
       "      <td>11</td>\n",
       "    </tr>\n",
       "    <tr>\n",
       "      <th>2023-12-31</th>\n",
       "      <td>4559.430176</td>\n",
       "      <td>4778.009766</td>\n",
       "      <td>4546.500000</td>\n",
       "      <td>4732.700195</td>\n",
       "      <td>3.61</td>\n",
       "      <td>December</td>\n",
       "      <td>2023</td>\n",
       "      <td>12</td>\n",
       "    </tr>\n",
       "  </tbody>\n",
       "</table>\n",
       "<p>864 rows × 8 columns</p>\n",
       "</div>"
      ],
      "text/plain": [
       "                   Open         High          Low        Close  Var_%_mês  \\\n",
       "Date                                                                        \n",
       "1950-01-31    16.660000    17.090000    16.660000    17.049999       1.55   \n",
       "1950-02-28    17.049999    17.320000    16.990000    17.219999       1.00   \n",
       "1950-03-31    17.240000    17.559999    17.070000    17.290001       0.41   \n",
       "1950-04-30    17.530001    18.049999    17.530001    17.959999       3.88   \n",
       "1950-05-31    18.219999    18.780001    18.110001    18.780001       4.57   \n",
       "...                 ...          ...          ...          ...        ...   \n",
       "2023-08-31  4578.830078  4584.620117  4335.310059  4507.660156      -1.77   \n",
       "2023-09-30  4530.600098  4541.250000  4238.629883  4288.049805      -4.87   \n",
       "2023-10-31  4284.520020  4393.569824  4103.779785  4193.799805      -2.20   \n",
       "2023-11-30  4201.270020  4587.640137  4197.740234  4567.799805       8.92   \n",
       "2023-12-31  4559.430176  4778.009766  4546.500000  4732.700195       3.61   \n",
       "\n",
       "                  Mês   Ano N°_mês  \n",
       "Date                                \n",
       "1950-01-31    January  1950     01  \n",
       "1950-02-28   February  1950     02  \n",
       "1950-03-31      March  1950     03  \n",
       "1950-04-30      April  1950     04  \n",
       "1950-05-31        May  1950     05  \n",
       "...               ...   ...    ...  \n",
       "2023-08-31     August  2023     08  \n",
       "2023-09-30  September  2023     09  \n",
       "2023-10-31    October  2023     10  \n",
       "2023-11-30   November  2023     11  \n",
       "2023-12-31   December  2023     12  \n",
       "\n",
       "[864 rows x 8 columns]"
      ]
     },
     "execution_count": 13,
     "metadata": {},
     "output_type": "execute_result"
    }
   ],
   "source": [
    "sp500_sem_crises1 = sp500[~sp500.Ano.isin([2008,2020])]\n",
    "sp500_sem_crises1"
   ]
  },
  {
   "cell_type": "code",
   "execution_count": 14,
   "id": "5543fc44-d8be-46da-9db7-f3feab9f8c9a",
   "metadata": {},
   "outputs": [
    {
     "data": {
      "text/html": [
       "<style type=\"text/css\">\n",
       "#T_19876_row0_col0, #T_19876_row1_col0, #T_19876_row3_col0, #T_19876_row4_col0, #T_19876_row5_col0, #T_19876_row6_col0, #T_19876_row7_col0, #T_19876_row8_col0, #T_19876_row11_col0 {\n",
       "  background-color: #81b585;\n",
       "}\n",
       "#T_19876_row2_col0, #T_19876_row9_col0, #T_19876_row10_col0 {\n",
       "  background-color: #cf7a7a;\n",
       "}\n",
       "</style>\n",
       "<table id=\"T_19876\">\n",
       "  <thead>\n",
       "    <tr>\n",
       "      <th class=\"blank level0\" >&nbsp;</th>\n",
       "      <th id=\"T_19876_level0_col0\" class=\"col_heading level0 col0\" >Var_%_mês</th>\n",
       "    </tr>\n",
       "    <tr>\n",
       "      <th class=\"index_name level0\" >N°_mês</th>\n",
       "      <th class=\"blank col0\" >&nbsp;</th>\n",
       "    </tr>\n",
       "  </thead>\n",
       "  <tbody>\n",
       "    <tr>\n",
       "      <th id=\"T_19876_level0_row0\" class=\"row_heading level0 row0\" >01</th>\n",
       "      <td id=\"T_19876_row0_col0\" class=\"data row0 col0\" >0.83268</td>\n",
       "    </tr>\n",
       "    <tr>\n",
       "      <th id=\"T_19876_level0_row1\" class=\"row_heading level0 row1\" >02</th>\n",
       "      <td id=\"T_19876_row1_col0\" class=\"data row1 col0\" >0.14989</td>\n",
       "    </tr>\n",
       "    <tr>\n",
       "      <th id=\"T_19876_level0_row2\" class=\"row_heading level0 row2\" >03</th>\n",
       "      <td id=\"T_19876_row2_col0\" class=\"data row2 col0\" >0.03769</td>\n",
       "    </tr>\n",
       "    <tr>\n",
       "      <th id=\"T_19876_level0_row3\" class=\"row_heading level0 row3\" >04</th>\n",
       "      <td id=\"T_19876_row3_col0\" class=\"data row3 col0\" >0.28957</td>\n",
       "    </tr>\n",
       "    <tr>\n",
       "      <th id=\"T_19876_level0_row4\" class=\"row_heading level0 row4\" >05</th>\n",
       "      <td id=\"T_19876_row4_col0\" class=\"data row4 col0\" >0.36498</td>\n",
       "    </tr>\n",
       "    <tr>\n",
       "      <th id=\"T_19876_level0_row5\" class=\"row_heading level0 row5\" >06</th>\n",
       "      <td id=\"T_19876_row5_col0\" class=\"data row5 col0\" >0.66805</td>\n",
       "    </tr>\n",
       "    <tr>\n",
       "      <th id=\"T_19876_level0_row6\" class=\"row_heading level0 row6\" >07</th>\n",
       "      <td id=\"T_19876_row6_col0\" class=\"data row6 col0\" >0.59463</td>\n",
       "    </tr>\n",
       "    <tr>\n",
       "      <th id=\"T_19876_level0_row7\" class=\"row_heading level0 row7\" >08</th>\n",
       "      <td id=\"T_19876_row7_col0\" class=\"data row7 col0\" >0.11506</td>\n",
       "    </tr>\n",
       "    <tr>\n",
       "      <th id=\"T_19876_level0_row8\" class=\"row_heading level0 row8\" >09</th>\n",
       "      <td id=\"T_19876_row8_col0\" class=\"data row8 col0\" >0.39249</td>\n",
       "    </tr>\n",
       "    <tr>\n",
       "      <th id=\"T_19876_level0_row9\" class=\"row_heading level0 row9\" >10</th>\n",
       "      <td id=\"T_19876_row9_col0\" class=\"data row9 col0\" >0.00001</td>\n",
       "    </tr>\n",
       "    <tr>\n",
       "      <th id=\"T_19876_level0_row10\" class=\"row_heading level0 row10\" >11</th>\n",
       "      <td id=\"T_19876_row10_col0\" class=\"data row10 col0\" >0.01825</td>\n",
       "    </tr>\n",
       "    <tr>\n",
       "      <th id=\"T_19876_level0_row11\" class=\"row_heading level0 row11\" >12</th>\n",
       "      <td id=\"T_19876_row11_col0\" class=\"data row11 col0\" >0.10832</td>\n",
       "    </tr>\n",
       "  </tbody>\n",
       "</table>\n"
      ],
      "text/plain": [
       "<pandas.io.formats.style.Styler at 0x19b50929210>"
      ]
     },
     "execution_count": 14,
     "metadata": {},
     "output_type": "execute_result"
    }
   ],
   "source": [
    "pvalor_normalidade = sp500_sem_crises1[['N°_mês','Var_%_mês']].groupby('N°_mês').agg(lambda x: stats.normaltest(x).pvalue)\n",
    "pvalor_normalidade = pvalor_normalidade.style.format('{:.5f}', na_rep=\"\").applymap(lambda x: 'background-color : #81b585' if x>0.05 else 'background-color : #cf7a7a')\n",
    "pvalor_normalidade"
   ]
  },
  {
   "cell_type": "markdown",
   "id": "2265cbf8-a9a3-40c2-be49-2d433e985fd1",
   "metadata": {},
   "source": [
    "---\n",
    "\n",
    "*Após concluirmos a análise de normalidade dos dados de retornos mensais, realizaremos o teste de levene para analisar a homocedasaticidade (homogenidade das variâncias).*\n",
    "\n",
    "*Para realizarmos este teste precisamos que todos os meses apresentem um pvalor > 0.05*\n",
    "\n",
    "*Para que todos os meses passem no teste de normalidade precisaremos excluir os seguintes anos que contém outliers, estes, que distorcem distribuições das médias de retornos:*\n"
   ]
  },
  {
   "cell_type": "markdown",
   "id": "e631bfb0-c232-48e1-93aa-161699bc63d5",
   "metadata": {},
   "source": [
    "1. **1980:** Não há um evento específico associado a uma grande queda no S&P 500 em 1980. O mercado financeiro naquela década foi afetado por fatores econômicos e políticos globais.\n",
    "\n",
    "2. **1973-1974:** Durante esse período, o mercado enfrentou a Crise do Petróleo de 1973, que começou com o embargo de petróleo árabe. A recessão global resultante e outros fatores econômicos levaram a uma queda substancial no mercado de ações.\n",
    "\n",
    "3. **1987 (Segunda-feira Negra):** Em 19 de outubro de 1987, o mercado de ações experimentou uma queda dramática conhecida como a \"Segunda-feira Negra\". O S&P 500 caiu mais de 20% em um único dia, sendo uma das maiores quedas da história do mercado de ações.\n",
    "\n",
    "4. **2002:** A queda em 2002 foi principalmente atribuída à recessão econômica após a bolha das empresas ponto-com (dot-com) no final da década de 1990.\n",
    "\n",
    "5. **2008 (Crise Financeira):** A Grande Recessão foi desencadeada pela crise financeira global de 2008, resultante de uma bolha imobiliária nos Estados Unidos e do colapso do mercado de hipotecas subprime.\n",
    "\n",
    "6. **2018:** Não houve um evento específico que causou uma grande queda no S&P 500 em 2018. O mercado nesse ano foi influenciado por fatores como tensões comerciais, políticas e econômicas.\n",
    "\n",
    "7. **2020 (Pandemia de COVID-19):** A pandemia de COVID-19, que começou em 2019 e se intensificou em 2020, teve um impacto significativo nos mercados financeiros globais. O S&P 500 caiu bruscamente em fevereiro e março de 2020 devido a preocupações sobre a propagação do vírus e seu impacto na economia mundial.\n",
    "\n",
    "---"
   ]
  },
  {
   "cell_type": "code",
   "execution_count": 35,
   "id": "bf760c33-906e-4a0f-8b93-1a5a9918a747",
   "metadata": {
    "tags": []
   },
   "outputs": [
    {
     "data": {
      "text/html": [
       "<div>\n",
       "<style scoped>\n",
       "    .dataframe tbody tr th:only-of-type {\n",
       "        vertical-align: middle;\n",
       "    }\n",
       "\n",
       "    .dataframe tbody tr th {\n",
       "        vertical-align: top;\n",
       "    }\n",
       "\n",
       "    .dataframe thead th {\n",
       "        text-align: right;\n",
       "    }\n",
       "</style>\n",
       "<table border=\"1\" class=\"dataframe\">\n",
       "  <thead>\n",
       "    <tr style=\"text-align: right;\">\n",
       "      <th></th>\n",
       "      <th>Open</th>\n",
       "      <th>High</th>\n",
       "      <th>Low</th>\n",
       "      <th>Close</th>\n",
       "      <th>Var_%_mês</th>\n",
       "      <th>Mês</th>\n",
       "      <th>Ano</th>\n",
       "      <th>N°_mês</th>\n",
       "    </tr>\n",
       "    <tr>\n",
       "      <th>Date</th>\n",
       "      <th></th>\n",
       "      <th></th>\n",
       "      <th></th>\n",
       "      <th></th>\n",
       "      <th></th>\n",
       "      <th></th>\n",
       "      <th></th>\n",
       "      <th></th>\n",
       "    </tr>\n",
       "  </thead>\n",
       "  <tbody>\n",
       "    <tr>\n",
       "      <th>1950-01-31</th>\n",
       "      <td>16.660000</td>\n",
       "      <td>17.090000</td>\n",
       "      <td>16.660000</td>\n",
       "      <td>17.049999</td>\n",
       "      <td>1.55</td>\n",
       "      <td>January</td>\n",
       "      <td>1950</td>\n",
       "      <td>01</td>\n",
       "    </tr>\n",
       "    <tr>\n",
       "      <th>1950-02-28</th>\n",
       "      <td>17.049999</td>\n",
       "      <td>17.320000</td>\n",
       "      <td>16.990000</td>\n",
       "      <td>17.219999</td>\n",
       "      <td>1.00</td>\n",
       "      <td>February</td>\n",
       "      <td>1950</td>\n",
       "      <td>02</td>\n",
       "    </tr>\n",
       "    <tr>\n",
       "      <th>1950-03-31</th>\n",
       "      <td>17.240000</td>\n",
       "      <td>17.559999</td>\n",
       "      <td>17.070000</td>\n",
       "      <td>17.290001</td>\n",
       "      <td>0.41</td>\n",
       "      <td>March</td>\n",
       "      <td>1950</td>\n",
       "      <td>03</td>\n",
       "    </tr>\n",
       "    <tr>\n",
       "      <th>1950-04-30</th>\n",
       "      <td>17.530001</td>\n",
       "      <td>18.049999</td>\n",
       "      <td>17.530001</td>\n",
       "      <td>17.959999</td>\n",
       "      <td>3.88</td>\n",
       "      <td>April</td>\n",
       "      <td>1950</td>\n",
       "      <td>04</td>\n",
       "    </tr>\n",
       "    <tr>\n",
       "      <th>1950-05-31</th>\n",
       "      <td>18.219999</td>\n",
       "      <td>18.780001</td>\n",
       "      <td>18.110001</td>\n",
       "      <td>18.780001</td>\n",
       "      <td>4.57</td>\n",
       "      <td>May</td>\n",
       "      <td>1950</td>\n",
       "      <td>05</td>\n",
       "    </tr>\n",
       "    <tr>\n",
       "      <th>...</th>\n",
       "      <td>...</td>\n",
       "      <td>...</td>\n",
       "      <td>...</td>\n",
       "      <td>...</td>\n",
       "      <td>...</td>\n",
       "      <td>...</td>\n",
       "      <td>...</td>\n",
       "      <td>...</td>\n",
       "    </tr>\n",
       "    <tr>\n",
       "      <th>2023-08-31</th>\n",
       "      <td>4578.830078</td>\n",
       "      <td>4584.620117</td>\n",
       "      <td>4335.310059</td>\n",
       "      <td>4507.660156</td>\n",
       "      <td>-1.77</td>\n",
       "      <td>August</td>\n",
       "      <td>2023</td>\n",
       "      <td>08</td>\n",
       "    </tr>\n",
       "    <tr>\n",
       "      <th>2023-09-30</th>\n",
       "      <td>4530.600098</td>\n",
       "      <td>4541.250000</td>\n",
       "      <td>4238.629883</td>\n",
       "      <td>4288.049805</td>\n",
       "      <td>-4.87</td>\n",
       "      <td>September</td>\n",
       "      <td>2023</td>\n",
       "      <td>09</td>\n",
       "    </tr>\n",
       "    <tr>\n",
       "      <th>2023-10-31</th>\n",
       "      <td>4284.520020</td>\n",
       "      <td>4393.569824</td>\n",
       "      <td>4103.779785</td>\n",
       "      <td>4193.799805</td>\n",
       "      <td>-2.20</td>\n",
       "      <td>October</td>\n",
       "      <td>2023</td>\n",
       "      <td>10</td>\n",
       "    </tr>\n",
       "    <tr>\n",
       "      <th>2023-11-30</th>\n",
       "      <td>4201.270020</td>\n",
       "      <td>4587.640137</td>\n",
       "      <td>4197.740234</td>\n",
       "      <td>4567.799805</td>\n",
       "      <td>8.92</td>\n",
       "      <td>November</td>\n",
       "      <td>2023</td>\n",
       "      <td>11</td>\n",
       "    </tr>\n",
       "    <tr>\n",
       "      <th>2023-12-31</th>\n",
       "      <td>4559.430176</td>\n",
       "      <td>4778.009766</td>\n",
       "      <td>4546.500000</td>\n",
       "      <td>4732.700195</td>\n",
       "      <td>3.61</td>\n",
       "      <td>December</td>\n",
       "      <td>2023</td>\n",
       "      <td>12</td>\n",
       "    </tr>\n",
       "  </tbody>\n",
       "</table>\n",
       "<p>780 rows × 8 columns</p>\n",
       "</div>"
      ],
      "text/plain": [
       "                   Open         High          Low        Close  Var_%_mês  \\\n",
       "Date                                                                        \n",
       "1950-01-31    16.660000    17.090000    16.660000    17.049999       1.55   \n",
       "1950-02-28    17.049999    17.320000    16.990000    17.219999       1.00   \n",
       "1950-03-31    17.240000    17.559999    17.070000    17.290001       0.41   \n",
       "1950-04-30    17.530001    18.049999    17.530001    17.959999       3.88   \n",
       "1950-05-31    18.219999    18.780001    18.110001    18.780001       4.57   \n",
       "...                 ...          ...          ...          ...        ...   \n",
       "2023-08-31  4578.830078  4584.620117  4335.310059  4507.660156      -1.77   \n",
       "2023-09-30  4530.600098  4541.250000  4238.629883  4288.049805      -4.87   \n",
       "2023-10-31  4284.520020  4393.569824  4103.779785  4193.799805      -2.20   \n",
       "2023-11-30  4201.270020  4587.640137  4197.740234  4567.799805       8.92   \n",
       "2023-12-31  4559.430176  4778.009766  4546.500000  4732.700195       3.61   \n",
       "\n",
       "                  Mês   Ano N°_mês  \n",
       "Date                                \n",
       "1950-01-31    January  1950     01  \n",
       "1950-02-28   February  1950     02  \n",
       "1950-03-31      March  1950     03  \n",
       "1950-04-30      April  1950     04  \n",
       "1950-05-31        May  1950     05  \n",
       "...               ...   ...    ...  \n",
       "2023-08-31     August  2023     08  \n",
       "2023-09-30  September  2023     09  \n",
       "2023-10-31    October  2023     10  \n",
       "2023-11-30   November  2023     11  \n",
       "2023-12-31   December  2023     12  \n",
       "\n",
       "[780 rows x 8 columns]"
      ]
     },
     "execution_count": 35,
     "metadata": {},
     "output_type": "execute_result"
    }
   ],
   "source": [
    "# Outra forma de filtro, dessa vez retirando os anos de 1980,1973,1974,1987,2002,2008,2018,2020 para todos os meses\n",
    "\n",
    "sp500_sem_crises2 = sp500[~sp500.Ano.isin([1980,1973,1974,1987,1998,2002,2008,2018,2020])]\n",
    "sp500_sem_crises2"
   ]
  },
  {
   "cell_type": "code",
   "execution_count": 36,
   "id": "806d899d-5617-4a3b-be65-a9a353bb8981",
   "metadata": {
    "tags": []
   },
   "outputs": [
    {
     "data": {
      "text/html": [
       "<style type=\"text/css\">\n",
       "#T_ac072_row0_col0, #T_ac072_row1_col0, #T_ac072_row2_col0, #T_ac072_row3_col0, #T_ac072_row4_col0, #T_ac072_row5_col0, #T_ac072_row6_col0, #T_ac072_row7_col0, #T_ac072_row8_col0, #T_ac072_row9_col0, #T_ac072_row10_col0, #T_ac072_row11_col0 {\n",
       "  background-color: #81b585;\n",
       "}\n",
       "</style>\n",
       "<table id=\"T_ac072\">\n",
       "  <thead>\n",
       "    <tr>\n",
       "      <th class=\"blank level0\" >&nbsp;</th>\n",
       "      <th id=\"T_ac072_level0_col0\" class=\"col_heading level0 col0\" >Var_%_mês</th>\n",
       "    </tr>\n",
       "    <tr>\n",
       "      <th class=\"index_name level0\" >N°_mês</th>\n",
       "      <th class=\"blank col0\" >&nbsp;</th>\n",
       "    </tr>\n",
       "  </thead>\n",
       "  <tbody>\n",
       "    <tr>\n",
       "      <th id=\"T_ac072_level0_row0\" class=\"row_heading level0 row0\" >01</th>\n",
       "      <td id=\"T_ac072_row0_col0\" class=\"data row0 col0\" >0.71954</td>\n",
       "    </tr>\n",
       "    <tr>\n",
       "      <th id=\"T_ac072_level0_row1\" class=\"row_heading level0 row1\" >02</th>\n",
       "      <td id=\"T_ac072_row1_col0\" class=\"data row1 col0\" >0.05494</td>\n",
       "    </tr>\n",
       "    <tr>\n",
       "      <th id=\"T_ac072_level0_row2\" class=\"row_heading level0 row2\" >03</th>\n",
       "      <td id=\"T_ac072_row2_col0\" class=\"data row2 col0\" >0.68270</td>\n",
       "    </tr>\n",
       "    <tr>\n",
       "      <th id=\"T_ac072_level0_row3\" class=\"row_heading level0 row3\" >04</th>\n",
       "      <td id=\"T_ac072_row3_col0\" class=\"data row3 col0\" >0.12585</td>\n",
       "    </tr>\n",
       "    <tr>\n",
       "      <th id=\"T_ac072_level0_row4\" class=\"row_heading level0 row4\" >05</th>\n",
       "      <td id=\"T_ac072_row4_col0\" class=\"data row4 col0\" >0.32594</td>\n",
       "    </tr>\n",
       "    <tr>\n",
       "      <th id=\"T_ac072_level0_row5\" class=\"row_heading level0 row5\" >06</th>\n",
       "      <td id=\"T_ac072_row5_col0\" class=\"data row5 col0\" >0.81798</td>\n",
       "    </tr>\n",
       "    <tr>\n",
       "      <th id=\"T_ac072_level0_row6\" class=\"row_heading level0 row6\" >07</th>\n",
       "      <td id=\"T_ac072_row6_col0\" class=\"data row6 col0\" >0.53768</td>\n",
       "    </tr>\n",
       "    <tr>\n",
       "      <th id=\"T_ac072_level0_row7\" class=\"row_heading level0 row7\" >08</th>\n",
       "      <td id=\"T_ac072_row7_col0\" class=\"data row7 col0\" >0.72347</td>\n",
       "    </tr>\n",
       "    <tr>\n",
       "      <th id=\"T_ac072_level0_row8\" class=\"row_heading level0 row8\" >09</th>\n",
       "      <td id=\"T_ac072_row8_col0\" class=\"data row8 col0\" >0.89148</td>\n",
       "    </tr>\n",
       "    <tr>\n",
       "      <th id=\"T_ac072_level0_row9\" class=\"row_heading level0 row9\" >10</th>\n",
       "      <td id=\"T_ac072_row9_col0\" class=\"data row9 col0\" >0.49166</td>\n",
       "    </tr>\n",
       "    <tr>\n",
       "      <th id=\"T_ac072_level0_row10\" class=\"row_heading level0 row10\" >11</th>\n",
       "      <td id=\"T_ac072_row10_col0\" class=\"data row10 col0\" >0.54690</td>\n",
       "    </tr>\n",
       "    <tr>\n",
       "      <th id=\"T_ac072_level0_row11\" class=\"row_heading level0 row11\" >12</th>\n",
       "      <td id=\"T_ac072_row11_col0\" class=\"data row11 col0\" >0.11648</td>\n",
       "    </tr>\n",
       "  </tbody>\n",
       "</table>\n"
      ],
      "text/plain": [
       "<pandas.io.formats.style.Styler at 0x19b54121a90>"
      ]
     },
     "execution_count": 36,
     "metadata": {},
     "output_type": "execute_result"
    }
   ],
   "source": [
    "# Verificando se agora todos os dados estão dentro dos padrões de uma distribuição normal\n",
    "\n",
    "pvalor_normalidade = sp500_sem_crises2[['N°_mês','Var_%_mês']].groupby('N°_mês').agg(lambda x: stats.normaltest(x).pvalue)\n",
    "pvalor_normalidade = pvalor_normalidade.style.format('{:.5f}', na_rep=\"\").applymap(lambda x: 'background-color : #81b585' if x>0.05 else 'background-color : #cf7a7a')\n",
    "pvalor_normalidade"
   ]
  },
  {
   "cell_type": "markdown",
   "id": "979bb66f-f804-404d-a25c-dec9c49b95c2",
   "metadata": {},
   "source": [
    "- Ao excluirmos os anos das crises e outliers, podemos verificar que as distribuições das médias de retorno mensais do S&P500, apresentam **curva normal (pvalor > 0.05)**.\n",
    "- Todos os 12 meses do ano passaram no teste de normalidade."
   ]
  },
  {
   "cell_type": "markdown",
   "id": "e637fb3c-5f35-490d-87e8-3f939f35b76c",
   "metadata": {},
   "source": [
    "## 6. Passo: Teste de Levene (homocedasticidade)"
   ]
  },
  {
   "cell_type": "markdown",
   "id": "49f79bc9-1aac-4d93-8c0b-1ea916ba7b57",
   "metadata": {},
   "source": [
    "**Definição:**\n",
    "- O Teste de Levene é uma técnica estatística utilizada para verificar a igualdade das variâncias (homocedasticidade) entre dois ou mais grupos. Este teste é fundamental em análises que assumem a homogeneidade das variâncias, como a ANOVA (Análise de Variância).\n",
    "- A homocedasticidade é uma premissa chave em muitos testes estatísticos, pois a igualdade das variâncias entre os grupos ajuda a garantir a validade e confiabilidade dos resultados.\n",
    "\n",
    "Se o resultado do Teste de Levene indicar diferenças significativas nas variâncias (geralmente, um p-valor menor que 0,05), então se conclui que a homocedasticidade foi violada. Nesse caso, pode-se considerar a aplicação de métodos alternativos ou transformações nos dados. Se a homocedasticidade for confirmada, análises como a ANOVA podem ser realizadas com maior confiança."
   ]
  },
  {
   "cell_type": "code",
   "execution_count": 37,
   "id": "020c512b-0cb2-4d12-9c0a-6f6a0de9cb13",
   "metadata": {},
   "outputs": [],
   "source": [
    "# Aplicando os filtros no dataframe (query) para Teste de Levene (homocedasticidade)\n",
    "\n",
    "jan = sp500_sem_crises2.query(\"Mês in 'January'\")['Var_%_mês']\n",
    "fev = sp500_sem_crises2.query(\"Mês in 'February'\")['Var_%_mês']\n",
    "mar = sp500_sem_crises2.query(\"Mês in 'March'\")['Var_%_mês']\n",
    "abr = sp500_sem_crises2.query(\"Mês in 'April'\")['Var_%_mês']\n",
    "mai = sp500_sem_crises2.query(\"Mês in 'May'\")['Var_%_mês']\n",
    "jun = sp500_sem_crises2.query(\"Mês in 'June'\")['Var_%_mês']\n",
    "jul = sp500_sem_crises2.query(\"Mês in 'July'\")['Var_%_mês']\n",
    "ago = sp500_sem_crises2.query(\"Mês in 'August'\")['Var_%_mês']\n",
    "setem = sp500_sem_crises2.query(\"Mês in 'September'\")['Var_%_mês'] # set já é uma palavra reservada no python\n",
    "out = sp500_sem_crises2.query(\"Mês in 'October'\")['Var_%_mês']\n",
    "nov = sp500_sem_crises2.query(\"Mês in 'November'\")['Var_%_mês']\n",
    "dez = sp500_sem_crises2.query(\"Mês in 'December'\")['Var_%_mês']"
   ]
  },
  {
   "cell_type": "code",
   "execution_count": 38,
   "id": "cbdc2d88-fcf8-4c1b-85da-e2015d38507c",
   "metadata": {},
   "outputs": [
    {
     "data": {
      "text/plain": [
       "LeveneResult(statistic=2.319268234824553, pvalue=0.008396019722026757)"
      ]
     },
     "execution_count": 38,
     "metadata": {},
     "output_type": "execute_result"
    }
   ],
   "source": [
    "# Assim como no teste de normalidade, H0 é de que as variâncias são homogenêas\n",
    "\n",
    "stats.levene(jan, fev, mar, abr, mai, jun, jul, ago, setem, out, nov, dez)"
   ]
  },
  {
   "cell_type": "markdown",
   "id": "1a68c3d7-3204-4fc7-b392-b159df24ea01",
   "metadata": {},
   "source": [
    "- Como podemos verificar, o pvalor das variâncias é menor que 0.05, portanto rejeitamos H0, as variâncias não são homogêneas."
   ]
  },
  {
   "cell_type": "markdown",
   "id": "6cdf66e1-eb98-4aea-a15e-1d0058283c81",
   "metadata": {},
   "source": [
    "**Vamos tentar visualizar o porquê de isso estar acontecendo**"
   ]
  },
  {
   "cell_type": "code",
   "execution_count": 34,
   "id": "c36931c2-0cc7-47a5-8c8f-dee20aaac0d6",
   "metadata": {},
   "outputs": [
    {
     "data": {
      "application/vnd.plotly.v1+json": {
       "config": {
        "plotlyServerURL": "https://plot.ly"
       },
       "data": [
        {
         "hovertemplate": "Date=%{x}<br>Var_%_mês=%{y}<extra></extra>",
         "legendgroup": "",
         "marker": {
          "color": "#636efa",
          "symbol": "circle"
         },
         "mode": "markers",
         "name": "",
         "orientation": "v",
         "showlegend": false,
         "type": "scatter",
         "x": [
          "1950-01-31T00:00:00",
          "1950-02-28T00:00:00",
          "1950-03-31T00:00:00",
          "1950-04-30T00:00:00",
          "1950-05-31T00:00:00",
          "1950-06-30T00:00:00",
          "1950-07-31T00:00:00",
          "1950-08-31T00:00:00",
          "1950-09-30T00:00:00",
          "1950-10-31T00:00:00",
          "1950-11-30T00:00:00",
          "1950-12-31T00:00:00",
          "1951-01-31T00:00:00",
          "1951-02-28T00:00:00",
          "1951-03-31T00:00:00",
          "1951-04-30T00:00:00",
          "1951-05-31T00:00:00",
          "1951-06-30T00:00:00",
          "1951-07-31T00:00:00",
          "1951-08-31T00:00:00",
          "1951-09-30T00:00:00",
          "1951-10-31T00:00:00",
          "1951-11-30T00:00:00",
          "1951-12-31T00:00:00",
          "1952-01-31T00:00:00",
          "1952-02-29T00:00:00",
          "1952-03-31T00:00:00",
          "1952-04-30T00:00:00",
          "1952-05-31T00:00:00",
          "1952-06-30T00:00:00",
          "1952-07-31T00:00:00",
          "1952-08-31T00:00:00",
          "1952-09-30T00:00:00",
          "1952-10-31T00:00:00",
          "1952-11-30T00:00:00",
          "1952-12-31T00:00:00",
          "1953-01-31T00:00:00",
          "1953-02-28T00:00:00",
          "1953-03-31T00:00:00",
          "1953-04-30T00:00:00",
          "1953-05-31T00:00:00",
          "1953-06-30T00:00:00",
          "1953-07-31T00:00:00",
          "1953-08-31T00:00:00",
          "1953-09-30T00:00:00",
          "1953-10-31T00:00:00",
          "1953-11-30T00:00:00",
          "1953-12-31T00:00:00",
          "1954-01-31T00:00:00",
          "1954-02-28T00:00:00",
          "1954-03-31T00:00:00",
          "1954-04-30T00:00:00",
          "1954-05-31T00:00:00",
          "1954-06-30T00:00:00",
          "1954-07-31T00:00:00",
          "1954-08-31T00:00:00",
          "1954-09-30T00:00:00",
          "1954-10-31T00:00:00",
          "1954-11-30T00:00:00",
          "1954-12-31T00:00:00",
          "1955-01-31T00:00:00",
          "1955-02-28T00:00:00",
          "1955-03-31T00:00:00",
          "1955-04-30T00:00:00",
          "1955-05-31T00:00:00",
          "1955-06-30T00:00:00",
          "1955-07-31T00:00:00",
          "1955-08-31T00:00:00",
          "1955-09-30T00:00:00",
          "1955-10-31T00:00:00",
          "1955-11-30T00:00:00",
          "1955-12-31T00:00:00",
          "1956-01-31T00:00:00",
          "1956-02-29T00:00:00",
          "1956-03-31T00:00:00",
          "1956-04-30T00:00:00",
          "1956-05-31T00:00:00",
          "1956-06-30T00:00:00",
          "1956-07-31T00:00:00",
          "1956-08-31T00:00:00",
          "1956-09-30T00:00:00",
          "1956-10-31T00:00:00",
          "1956-11-30T00:00:00",
          "1956-12-31T00:00:00",
          "1957-01-31T00:00:00",
          "1957-02-28T00:00:00",
          "1957-03-31T00:00:00",
          "1957-04-30T00:00:00",
          "1957-05-31T00:00:00",
          "1957-06-30T00:00:00",
          "1957-07-31T00:00:00",
          "1957-08-31T00:00:00",
          "1957-09-30T00:00:00",
          "1957-10-31T00:00:00",
          "1957-11-30T00:00:00",
          "1957-12-31T00:00:00",
          "1958-01-31T00:00:00",
          "1958-02-28T00:00:00",
          "1958-03-31T00:00:00",
          "1958-04-30T00:00:00",
          "1958-05-31T00:00:00",
          "1958-06-30T00:00:00",
          "1958-07-31T00:00:00",
          "1958-08-31T00:00:00",
          "1958-09-30T00:00:00",
          "1958-10-31T00:00:00",
          "1958-11-30T00:00:00",
          "1958-12-31T00:00:00",
          "1959-01-31T00:00:00",
          "1959-02-28T00:00:00",
          "1959-03-31T00:00:00",
          "1959-04-30T00:00:00",
          "1959-05-31T00:00:00",
          "1959-06-30T00:00:00",
          "1959-07-31T00:00:00",
          "1959-08-31T00:00:00",
          "1959-09-30T00:00:00",
          "1959-10-31T00:00:00",
          "1959-11-30T00:00:00",
          "1959-12-31T00:00:00",
          "1960-01-31T00:00:00",
          "1960-02-29T00:00:00",
          "1960-03-31T00:00:00",
          "1960-04-30T00:00:00",
          "1960-05-31T00:00:00",
          "1960-06-30T00:00:00",
          "1960-07-31T00:00:00",
          "1960-08-31T00:00:00",
          "1960-09-30T00:00:00",
          "1960-10-31T00:00:00",
          "1960-11-30T00:00:00",
          "1960-12-31T00:00:00",
          "1961-01-31T00:00:00",
          "1961-02-28T00:00:00",
          "1961-03-31T00:00:00",
          "1961-04-30T00:00:00",
          "1961-05-31T00:00:00",
          "1961-06-30T00:00:00",
          "1961-07-31T00:00:00",
          "1961-08-31T00:00:00",
          "1961-09-30T00:00:00",
          "1961-10-31T00:00:00",
          "1961-11-30T00:00:00",
          "1961-12-31T00:00:00",
          "1962-01-31T00:00:00",
          "1962-02-28T00:00:00",
          "1962-03-31T00:00:00",
          "1962-04-30T00:00:00",
          "1962-05-31T00:00:00",
          "1962-06-30T00:00:00",
          "1962-07-31T00:00:00",
          "1962-08-31T00:00:00",
          "1962-09-30T00:00:00",
          "1962-10-31T00:00:00",
          "1962-11-30T00:00:00",
          "1962-12-31T00:00:00",
          "1963-01-31T00:00:00",
          "1963-02-28T00:00:00",
          "1963-03-31T00:00:00",
          "1963-04-30T00:00:00",
          "1963-05-31T00:00:00",
          "1963-06-30T00:00:00",
          "1963-07-31T00:00:00",
          "1963-08-31T00:00:00",
          "1963-09-30T00:00:00",
          "1963-10-31T00:00:00",
          "1963-11-30T00:00:00",
          "1963-12-31T00:00:00",
          "1964-01-31T00:00:00",
          "1964-02-29T00:00:00",
          "1964-03-31T00:00:00",
          "1964-04-30T00:00:00",
          "1964-05-31T00:00:00",
          "1964-06-30T00:00:00",
          "1964-07-31T00:00:00",
          "1964-08-31T00:00:00",
          "1964-09-30T00:00:00",
          "1964-10-31T00:00:00",
          "1964-11-30T00:00:00",
          "1964-12-31T00:00:00",
          "1965-01-31T00:00:00",
          "1965-02-28T00:00:00",
          "1965-03-31T00:00:00",
          "1965-04-30T00:00:00",
          "1965-05-31T00:00:00",
          "1965-06-30T00:00:00",
          "1965-07-31T00:00:00",
          "1965-08-31T00:00:00",
          "1965-09-30T00:00:00",
          "1965-10-31T00:00:00",
          "1965-11-30T00:00:00",
          "1965-12-31T00:00:00",
          "1966-01-31T00:00:00",
          "1966-02-28T00:00:00",
          "1966-03-31T00:00:00",
          "1966-04-30T00:00:00",
          "1966-05-31T00:00:00",
          "1966-06-30T00:00:00",
          "1966-07-31T00:00:00",
          "1966-08-31T00:00:00",
          "1966-09-30T00:00:00",
          "1966-10-31T00:00:00",
          "1966-11-30T00:00:00",
          "1966-12-31T00:00:00",
          "1967-01-31T00:00:00",
          "1967-02-28T00:00:00",
          "1967-03-31T00:00:00",
          "1967-04-30T00:00:00",
          "1967-05-31T00:00:00",
          "1967-06-30T00:00:00",
          "1967-07-31T00:00:00",
          "1967-08-31T00:00:00",
          "1967-09-30T00:00:00",
          "1967-10-31T00:00:00",
          "1967-11-30T00:00:00",
          "1967-12-31T00:00:00",
          "1968-01-31T00:00:00",
          "1968-02-29T00:00:00",
          "1968-03-31T00:00:00",
          "1968-04-30T00:00:00",
          "1968-05-31T00:00:00",
          "1968-06-30T00:00:00",
          "1968-07-31T00:00:00",
          "1968-08-31T00:00:00",
          "1968-09-30T00:00:00",
          "1968-10-31T00:00:00",
          "1968-11-30T00:00:00",
          "1968-12-31T00:00:00",
          "1969-01-31T00:00:00",
          "1969-02-28T00:00:00",
          "1969-03-31T00:00:00",
          "1969-04-30T00:00:00",
          "1969-05-31T00:00:00",
          "1969-06-30T00:00:00",
          "1969-07-31T00:00:00",
          "1969-08-31T00:00:00",
          "1969-09-30T00:00:00",
          "1969-10-31T00:00:00",
          "1969-11-30T00:00:00",
          "1969-12-31T00:00:00",
          "1970-01-31T00:00:00",
          "1970-02-28T00:00:00",
          "1970-03-31T00:00:00",
          "1970-04-30T00:00:00",
          "1970-05-31T00:00:00",
          "1970-06-30T00:00:00",
          "1970-07-31T00:00:00",
          "1970-08-31T00:00:00",
          "1970-09-30T00:00:00",
          "1970-10-31T00:00:00",
          "1970-11-30T00:00:00",
          "1970-12-31T00:00:00",
          "1971-01-31T00:00:00",
          "1971-02-28T00:00:00",
          "1971-03-31T00:00:00",
          "1971-04-30T00:00:00",
          "1971-05-31T00:00:00",
          "1971-06-30T00:00:00",
          "1971-07-31T00:00:00",
          "1971-08-31T00:00:00",
          "1971-09-30T00:00:00",
          "1971-10-31T00:00:00",
          "1971-11-30T00:00:00",
          "1971-12-31T00:00:00",
          "1972-01-31T00:00:00",
          "1972-02-29T00:00:00",
          "1972-03-31T00:00:00",
          "1972-04-30T00:00:00",
          "1972-05-31T00:00:00",
          "1972-06-30T00:00:00",
          "1972-07-31T00:00:00",
          "1972-08-31T00:00:00",
          "1972-09-30T00:00:00",
          "1972-10-31T00:00:00",
          "1972-11-30T00:00:00",
          "1972-12-31T00:00:00",
          "1975-01-31T00:00:00",
          "1975-02-28T00:00:00",
          "1975-03-31T00:00:00",
          "1975-04-30T00:00:00",
          "1975-05-31T00:00:00",
          "1975-06-30T00:00:00",
          "1975-07-31T00:00:00",
          "1975-08-31T00:00:00",
          "1975-09-30T00:00:00",
          "1975-10-31T00:00:00",
          "1975-11-30T00:00:00",
          "1975-12-31T00:00:00",
          "1976-01-31T00:00:00",
          "1976-02-29T00:00:00",
          "1976-03-31T00:00:00",
          "1976-04-30T00:00:00",
          "1976-05-31T00:00:00",
          "1976-06-30T00:00:00",
          "1976-07-31T00:00:00",
          "1976-08-31T00:00:00",
          "1976-09-30T00:00:00",
          "1976-10-31T00:00:00",
          "1976-11-30T00:00:00",
          "1976-12-31T00:00:00",
          "1977-01-31T00:00:00",
          "1977-02-28T00:00:00",
          "1977-03-31T00:00:00",
          "1977-04-30T00:00:00",
          "1977-05-31T00:00:00",
          "1977-06-30T00:00:00",
          "1977-07-31T00:00:00",
          "1977-08-31T00:00:00",
          "1977-09-30T00:00:00",
          "1977-10-31T00:00:00",
          "1977-11-30T00:00:00",
          "1977-12-31T00:00:00",
          "1978-01-31T00:00:00",
          "1978-02-28T00:00:00",
          "1978-03-31T00:00:00",
          "1978-04-30T00:00:00",
          "1978-05-31T00:00:00",
          "1978-06-30T00:00:00",
          "1978-07-31T00:00:00",
          "1978-08-31T00:00:00",
          "1978-09-30T00:00:00",
          "1978-10-31T00:00:00",
          "1978-11-30T00:00:00",
          "1978-12-31T00:00:00",
          "1979-01-31T00:00:00",
          "1979-02-28T00:00:00",
          "1979-03-31T00:00:00",
          "1979-04-30T00:00:00",
          "1979-05-31T00:00:00",
          "1979-06-30T00:00:00",
          "1979-07-31T00:00:00",
          "1979-08-31T00:00:00",
          "1979-09-30T00:00:00",
          "1979-10-31T00:00:00",
          "1979-11-30T00:00:00",
          "1979-12-31T00:00:00",
          "1981-01-31T00:00:00",
          "1981-02-28T00:00:00",
          "1981-03-31T00:00:00",
          "1981-04-30T00:00:00",
          "1981-05-31T00:00:00",
          "1981-06-30T00:00:00",
          "1981-07-31T00:00:00",
          "1981-08-31T00:00:00",
          "1981-09-30T00:00:00",
          "1981-10-31T00:00:00",
          "1981-11-30T00:00:00",
          "1981-12-31T00:00:00",
          "1982-01-31T00:00:00",
          "1982-02-28T00:00:00",
          "1982-03-31T00:00:00",
          "1982-04-30T00:00:00",
          "1982-05-31T00:00:00",
          "1982-06-30T00:00:00",
          "1982-07-31T00:00:00",
          "1982-08-31T00:00:00",
          "1982-09-30T00:00:00",
          "1982-10-31T00:00:00",
          "1982-11-30T00:00:00",
          "1982-12-31T00:00:00",
          "1983-01-31T00:00:00",
          "1983-02-28T00:00:00",
          "1983-03-31T00:00:00",
          "1983-04-30T00:00:00",
          "1983-05-31T00:00:00",
          "1983-06-30T00:00:00",
          "1983-07-31T00:00:00",
          "1983-08-31T00:00:00",
          "1983-09-30T00:00:00",
          "1983-10-31T00:00:00",
          "1983-11-30T00:00:00",
          "1983-12-31T00:00:00",
          "1984-01-31T00:00:00",
          "1984-02-29T00:00:00",
          "1984-03-31T00:00:00",
          "1984-04-30T00:00:00",
          "1984-05-31T00:00:00",
          "1984-06-30T00:00:00",
          "1984-07-31T00:00:00",
          "1984-08-31T00:00:00",
          "1984-09-30T00:00:00",
          "1984-10-31T00:00:00",
          "1984-11-30T00:00:00",
          "1984-12-31T00:00:00",
          "1985-01-31T00:00:00",
          "1985-02-28T00:00:00",
          "1985-03-31T00:00:00",
          "1985-04-30T00:00:00",
          "1985-05-31T00:00:00",
          "1985-06-30T00:00:00",
          "1985-07-31T00:00:00",
          "1985-08-31T00:00:00",
          "1985-09-30T00:00:00",
          "1985-10-31T00:00:00",
          "1985-11-30T00:00:00",
          "1985-12-31T00:00:00",
          "1986-01-31T00:00:00",
          "1986-02-28T00:00:00",
          "1986-03-31T00:00:00",
          "1986-04-30T00:00:00",
          "1986-05-31T00:00:00",
          "1986-06-30T00:00:00",
          "1986-07-31T00:00:00",
          "1986-08-31T00:00:00",
          "1986-09-30T00:00:00",
          "1986-10-31T00:00:00",
          "1986-11-30T00:00:00",
          "1986-12-31T00:00:00",
          "1988-01-31T00:00:00",
          "1988-02-29T00:00:00",
          "1988-03-31T00:00:00",
          "1988-04-30T00:00:00",
          "1988-05-31T00:00:00",
          "1988-06-30T00:00:00",
          "1988-07-31T00:00:00",
          "1988-08-31T00:00:00",
          "1988-09-30T00:00:00",
          "1988-10-31T00:00:00",
          "1988-11-30T00:00:00",
          "1988-12-31T00:00:00",
          "1989-01-31T00:00:00",
          "1989-02-28T00:00:00",
          "1989-03-31T00:00:00",
          "1989-04-30T00:00:00",
          "1989-05-31T00:00:00",
          "1989-06-30T00:00:00",
          "1989-07-31T00:00:00",
          "1989-08-31T00:00:00",
          "1989-09-30T00:00:00",
          "1989-10-31T00:00:00",
          "1989-11-30T00:00:00",
          "1989-12-31T00:00:00",
          "1990-01-31T00:00:00",
          "1990-02-28T00:00:00",
          "1990-03-31T00:00:00",
          "1990-04-30T00:00:00",
          "1990-05-31T00:00:00",
          "1990-06-30T00:00:00",
          "1990-07-31T00:00:00",
          "1990-08-31T00:00:00",
          "1990-09-30T00:00:00",
          "1990-10-31T00:00:00",
          "1990-11-30T00:00:00",
          "1990-12-31T00:00:00",
          "1991-01-31T00:00:00",
          "1991-02-28T00:00:00",
          "1991-03-31T00:00:00",
          "1991-04-30T00:00:00",
          "1991-05-31T00:00:00",
          "1991-06-30T00:00:00",
          "1991-07-31T00:00:00",
          "1991-08-31T00:00:00",
          "1991-09-30T00:00:00",
          "1991-10-31T00:00:00",
          "1991-11-30T00:00:00",
          "1991-12-31T00:00:00",
          "1992-01-31T00:00:00",
          "1992-02-29T00:00:00",
          "1992-03-31T00:00:00",
          "1992-04-30T00:00:00",
          "1992-05-31T00:00:00",
          "1992-06-30T00:00:00",
          "1992-07-31T00:00:00",
          "1992-08-31T00:00:00",
          "1992-09-30T00:00:00",
          "1992-10-31T00:00:00",
          "1992-11-30T00:00:00",
          "1992-12-31T00:00:00",
          "1993-01-31T00:00:00",
          "1993-02-28T00:00:00",
          "1993-03-31T00:00:00",
          "1993-04-30T00:00:00",
          "1993-05-31T00:00:00",
          "1993-06-30T00:00:00",
          "1993-07-31T00:00:00",
          "1993-08-31T00:00:00",
          "1993-09-30T00:00:00",
          "1993-10-31T00:00:00",
          "1993-11-30T00:00:00",
          "1993-12-31T00:00:00",
          "1994-01-31T00:00:00",
          "1994-02-28T00:00:00",
          "1994-03-31T00:00:00",
          "1994-04-30T00:00:00",
          "1994-05-31T00:00:00",
          "1994-06-30T00:00:00",
          "1994-07-31T00:00:00",
          "1994-08-31T00:00:00",
          "1994-09-30T00:00:00",
          "1994-10-31T00:00:00",
          "1994-11-30T00:00:00",
          "1994-12-31T00:00:00",
          "1995-01-31T00:00:00",
          "1995-02-28T00:00:00",
          "1995-03-31T00:00:00",
          "1995-04-30T00:00:00",
          "1995-05-31T00:00:00",
          "1995-06-30T00:00:00",
          "1995-07-31T00:00:00",
          "1995-08-31T00:00:00",
          "1995-09-30T00:00:00",
          "1995-10-31T00:00:00",
          "1995-11-30T00:00:00",
          "1995-12-31T00:00:00",
          "1996-01-31T00:00:00",
          "1996-02-29T00:00:00",
          "1996-03-31T00:00:00",
          "1996-04-30T00:00:00",
          "1996-05-31T00:00:00",
          "1996-06-30T00:00:00",
          "1996-07-31T00:00:00",
          "1996-08-31T00:00:00",
          "1996-09-30T00:00:00",
          "1996-10-31T00:00:00",
          "1996-11-30T00:00:00",
          "1996-12-31T00:00:00",
          "1997-01-31T00:00:00",
          "1997-02-28T00:00:00",
          "1997-03-31T00:00:00",
          "1997-04-30T00:00:00",
          "1997-05-31T00:00:00",
          "1997-06-30T00:00:00",
          "1997-07-31T00:00:00",
          "1997-08-31T00:00:00",
          "1997-09-30T00:00:00",
          "1997-10-31T00:00:00",
          "1997-11-30T00:00:00",
          "1997-12-31T00:00:00",
          "1998-01-31T00:00:00",
          "1998-02-28T00:00:00",
          "1998-03-31T00:00:00",
          "1998-04-30T00:00:00",
          "1998-05-31T00:00:00",
          "1998-06-30T00:00:00",
          "1998-07-31T00:00:00",
          "1998-08-31T00:00:00",
          "1998-09-30T00:00:00",
          "1998-10-31T00:00:00",
          "1998-11-30T00:00:00",
          "1998-12-31T00:00:00",
          "1999-01-31T00:00:00",
          "1999-02-28T00:00:00",
          "1999-03-31T00:00:00",
          "1999-04-30T00:00:00",
          "1999-05-31T00:00:00",
          "1999-06-30T00:00:00",
          "1999-07-31T00:00:00",
          "1999-08-31T00:00:00",
          "1999-09-30T00:00:00",
          "1999-10-31T00:00:00",
          "1999-11-30T00:00:00",
          "1999-12-31T00:00:00",
          "2000-01-31T00:00:00",
          "2000-02-29T00:00:00",
          "2000-03-31T00:00:00",
          "2000-04-30T00:00:00",
          "2000-05-31T00:00:00",
          "2000-06-30T00:00:00",
          "2000-07-31T00:00:00",
          "2000-08-31T00:00:00",
          "2000-09-30T00:00:00",
          "2000-10-31T00:00:00",
          "2000-11-30T00:00:00",
          "2000-12-31T00:00:00",
          "2001-01-31T00:00:00",
          "2001-02-28T00:00:00",
          "2001-03-31T00:00:00",
          "2001-04-30T00:00:00",
          "2001-05-31T00:00:00",
          "2001-06-30T00:00:00",
          "2001-07-31T00:00:00",
          "2001-08-31T00:00:00",
          "2001-09-30T00:00:00",
          "2001-10-31T00:00:00",
          "2001-11-30T00:00:00",
          "2001-12-31T00:00:00",
          "2003-01-31T00:00:00",
          "2003-02-28T00:00:00",
          "2003-03-31T00:00:00",
          "2003-04-30T00:00:00",
          "2003-05-31T00:00:00",
          "2003-06-30T00:00:00",
          "2003-07-31T00:00:00",
          "2003-08-31T00:00:00",
          "2003-09-30T00:00:00",
          "2003-10-31T00:00:00",
          "2003-11-30T00:00:00",
          "2003-12-31T00:00:00",
          "2004-01-31T00:00:00",
          "2004-02-29T00:00:00",
          "2004-03-31T00:00:00",
          "2004-04-30T00:00:00",
          "2004-05-31T00:00:00",
          "2004-06-30T00:00:00",
          "2004-07-31T00:00:00",
          "2004-08-31T00:00:00",
          "2004-09-30T00:00:00",
          "2004-10-31T00:00:00",
          "2004-11-30T00:00:00",
          "2004-12-31T00:00:00",
          "2005-01-31T00:00:00",
          "2005-02-28T00:00:00",
          "2005-03-31T00:00:00",
          "2005-04-30T00:00:00",
          "2005-05-31T00:00:00",
          "2005-06-30T00:00:00",
          "2005-07-31T00:00:00",
          "2005-08-31T00:00:00",
          "2005-09-30T00:00:00",
          "2005-10-31T00:00:00",
          "2005-11-30T00:00:00",
          "2005-12-31T00:00:00",
          "2006-01-31T00:00:00",
          "2006-02-28T00:00:00",
          "2006-03-31T00:00:00",
          "2006-04-30T00:00:00",
          "2006-05-31T00:00:00",
          "2006-06-30T00:00:00",
          "2006-07-31T00:00:00",
          "2006-08-31T00:00:00",
          "2006-09-30T00:00:00",
          "2006-10-31T00:00:00",
          "2006-11-30T00:00:00",
          "2006-12-31T00:00:00",
          "2007-01-31T00:00:00",
          "2007-02-28T00:00:00",
          "2007-03-31T00:00:00",
          "2007-04-30T00:00:00",
          "2007-05-31T00:00:00",
          "2007-06-30T00:00:00",
          "2007-07-31T00:00:00",
          "2007-08-31T00:00:00",
          "2007-09-30T00:00:00",
          "2007-10-31T00:00:00",
          "2007-11-30T00:00:00",
          "2007-12-31T00:00:00",
          "2009-01-31T00:00:00",
          "2009-02-28T00:00:00",
          "2009-03-31T00:00:00",
          "2009-04-30T00:00:00",
          "2009-05-31T00:00:00",
          "2009-06-30T00:00:00",
          "2009-07-31T00:00:00",
          "2009-08-31T00:00:00",
          "2009-09-30T00:00:00",
          "2009-10-31T00:00:00",
          "2009-11-30T00:00:00",
          "2009-12-31T00:00:00",
          "2010-01-31T00:00:00",
          "2010-02-28T00:00:00",
          "2010-03-31T00:00:00",
          "2010-04-30T00:00:00",
          "2010-05-31T00:00:00",
          "2010-06-30T00:00:00",
          "2010-07-31T00:00:00",
          "2010-08-31T00:00:00",
          "2010-09-30T00:00:00",
          "2010-10-31T00:00:00",
          "2010-11-30T00:00:00",
          "2010-12-31T00:00:00",
          "2011-01-31T00:00:00",
          "2011-02-28T00:00:00",
          "2011-03-31T00:00:00",
          "2011-04-30T00:00:00",
          "2011-05-31T00:00:00",
          "2011-06-30T00:00:00",
          "2011-07-31T00:00:00",
          "2011-08-31T00:00:00",
          "2011-09-30T00:00:00",
          "2011-10-31T00:00:00",
          "2011-11-30T00:00:00",
          "2011-12-31T00:00:00",
          "2012-01-31T00:00:00",
          "2012-02-29T00:00:00",
          "2012-03-31T00:00:00",
          "2012-04-30T00:00:00",
          "2012-05-31T00:00:00",
          "2012-06-30T00:00:00",
          "2012-07-31T00:00:00",
          "2012-08-31T00:00:00",
          "2012-09-30T00:00:00",
          "2012-10-31T00:00:00",
          "2012-11-30T00:00:00",
          "2012-12-31T00:00:00",
          "2013-01-31T00:00:00",
          "2013-02-28T00:00:00",
          "2013-03-31T00:00:00",
          "2013-04-30T00:00:00",
          "2013-05-31T00:00:00",
          "2013-06-30T00:00:00",
          "2013-07-31T00:00:00",
          "2013-08-31T00:00:00",
          "2013-09-30T00:00:00",
          "2013-10-31T00:00:00",
          "2013-11-30T00:00:00",
          "2013-12-31T00:00:00",
          "2014-01-31T00:00:00",
          "2014-02-28T00:00:00",
          "2014-03-31T00:00:00",
          "2014-04-30T00:00:00",
          "2014-05-31T00:00:00",
          "2014-06-30T00:00:00",
          "2014-07-31T00:00:00",
          "2014-08-31T00:00:00",
          "2014-09-30T00:00:00",
          "2014-10-31T00:00:00",
          "2014-11-30T00:00:00",
          "2014-12-31T00:00:00",
          "2015-01-31T00:00:00",
          "2015-02-28T00:00:00",
          "2015-03-31T00:00:00",
          "2015-04-30T00:00:00",
          "2015-05-31T00:00:00",
          "2015-06-30T00:00:00",
          "2015-07-31T00:00:00",
          "2015-08-31T00:00:00",
          "2015-09-30T00:00:00",
          "2015-10-31T00:00:00",
          "2015-11-30T00:00:00",
          "2015-12-31T00:00:00",
          "2016-01-31T00:00:00",
          "2016-02-29T00:00:00",
          "2016-03-31T00:00:00",
          "2016-04-30T00:00:00",
          "2016-05-31T00:00:00",
          "2016-06-30T00:00:00",
          "2016-07-31T00:00:00",
          "2016-08-31T00:00:00",
          "2016-09-30T00:00:00",
          "2016-10-31T00:00:00",
          "2016-11-30T00:00:00",
          "2016-12-31T00:00:00",
          "2017-01-31T00:00:00",
          "2017-02-28T00:00:00",
          "2017-03-31T00:00:00",
          "2017-04-30T00:00:00",
          "2017-05-31T00:00:00",
          "2017-06-30T00:00:00",
          "2017-07-31T00:00:00",
          "2017-08-31T00:00:00",
          "2017-09-30T00:00:00",
          "2017-10-31T00:00:00",
          "2017-11-30T00:00:00",
          "2017-12-31T00:00:00",
          "2019-01-31T00:00:00",
          "2019-02-28T00:00:00",
          "2019-03-31T00:00:00",
          "2019-04-30T00:00:00",
          "2019-05-31T00:00:00",
          "2019-06-30T00:00:00",
          "2019-07-31T00:00:00",
          "2019-08-31T00:00:00",
          "2019-09-30T00:00:00",
          "2019-10-31T00:00:00",
          "2019-11-30T00:00:00",
          "2019-12-31T00:00:00",
          "2021-01-31T00:00:00",
          "2021-02-28T00:00:00",
          "2021-03-31T00:00:00",
          "2021-04-30T00:00:00",
          "2021-05-31T00:00:00",
          "2021-06-30T00:00:00",
          "2021-07-31T00:00:00",
          "2021-08-31T00:00:00",
          "2021-09-30T00:00:00",
          "2021-10-31T00:00:00",
          "2021-11-30T00:00:00",
          "2021-12-31T00:00:00",
          "2022-01-31T00:00:00",
          "2022-02-28T00:00:00",
          "2022-03-31T00:00:00",
          "2022-04-30T00:00:00",
          "2022-05-31T00:00:00",
          "2022-06-30T00:00:00",
          "2022-07-31T00:00:00",
          "2022-08-31T00:00:00",
          "2022-09-30T00:00:00",
          "2022-10-31T00:00:00",
          "2022-11-30T00:00:00",
          "2022-12-31T00:00:00",
          "2023-01-31T00:00:00",
          "2023-02-28T00:00:00",
          "2023-03-31T00:00:00",
          "2023-04-30T00:00:00",
          "2023-05-31T00:00:00",
          "2023-06-30T00:00:00",
          "2023-07-31T00:00:00",
          "2023-08-31T00:00:00",
          "2023-09-30T00:00:00",
          "2023-10-31T00:00:00",
          "2023-11-30T00:00:00",
          "2023-12-31T00:00:00"
         ],
         "xaxis": "x",
         "y": [
          1.55,
          1,
          0.41,
          3.88,
          4.57,
          -5.8,
          0.85,
          3.25,
          5.59,
          0.41,
          -0.1,
          4.72,
          6.02,
          0.65,
          -1.47,
          4.42,
          -4.06,
          -2.6,
          6.87,
          3.93,
          -0.09,
          -1.38,
          -0.26,
          3.89,
          1.56,
          -3.65,
          4.77,
          -4.31,
          2.32,
          4.61,
          1.76,
          -1.46,
          -1.96,
          -0.08,
          4.65,
          3.55,
          -0.72,
          -1.82,
          -2.36,
          -2.65,
          -0.32,
          -1.63,
          2.53,
          -5.78,
          0.13,
          5.1,
          0.9,
          0.2,
          5.12,
          0.27,
          3.02,
          4.9,
          3.29,
          0.07,
          5.72,
          -3.4,
          8.31,
          -1.95,
          8.08,
          5.08,
          1.81,
          0.35,
          -0.49,
          3.77,
          -0.13,
          8.23,
          6.07,
          -0.78,
          1.13,
          -3.05,
          7.49,
          -0.07,
          -3.65,
          3.47,
          6.93,
          -0.21,
          -6.57,
          3.92,
          5.15,
          -3.81,
          -4.55,
          0.51,
          -1.1,
          3.53,
          -4.18,
          -3.26,
          1.96,
          3.7,
          3.69,
          -0.13,
          1.14,
          -5.61,
          -6.19,
          -3.21,
          1.61,
          -4.15,
          4.28,
          -2.06,
          3.09,
          3.18,
          1.5,
          2.61,
          4.31,
          1.19,
          4.84,
          2.54,
          2.24,
          5.2,
          0.43,
          -0.07,
          0.05,
          3.88,
          1.89,
          -0.36,
          3.49,
          -1.5,
          -4.56,
          1.13,
          1.32,
          2.76,
          -7.15,
          0.92,
          -1.39,
          -1.75,
          2.69,
          1.95,
          -2.48,
          2.61,
          -6.04,
          -0.24,
          4.03,
          4.63,
          6.32,
          2.69,
          2.55,
          0.38,
          1.91,
          -2.88,
          3.28,
          1.96,
          -1.97,
          2.83,
          3.93,
          0.32,
          -3.79,
          1.63,
          -0.59,
          -6.2,
          -8.6,
          -8.18,
          6.36,
          1.53,
          -4.82,
          0.44,
          10.16,
          1.35,
          4.91,
          -2.89,
          3.55,
          4.85,
          1.43,
          -2.02,
          -0.35,
          4.87,
          -1.1,
          3.22,
          -1.05,
          2.44,
          2.69,
          0.99,
          1.52,
          0.61,
          1.15,
          1.64,
          1.82,
          -1.62,
          2.87,
          0.81,
          -0.52,
          0.39,
          3.32,
          -0.15,
          -1.45,
          3.42,
          -0.77,
          -4.86,
          1.34,
          2.25,
          3.2,
          2.73,
          -0.88,
          0.9,
          0.49,
          -1.79,
          -2.18,
          2.05,
          -5.41,
          -1.61,
          -1.35,
          -7.78,
          -0.7,
          4.75,
          0.31,
          -0.15,
          7.82,
          0.2,
          3.94,
          4.22,
          -5.24,
          1.75,
          4.53,
          -1.17,
          3.28,
          -3.53,
          0.75,
          2.63,
          -4.38,
          -3.12,
          0.94,
          8.05,
          1.25,
          0.91,
          -1.85,
          1.15,
          3.85,
          0.72,
          4.8,
          -4.16,
          -0.82,
          -4.74,
          3.44,
          2.15,
          -0.22,
          -5.56,
          -6.02,
          4.01,
          -2.5,
          4.3,
          -3.41,
          -1.87,
          -7.65,
          5.27,
          0.15,
          -9.05,
          -6.1,
          -5,
          7.33,
          4.45,
          3.41,
          -1.25,
          4.74,
          5.68,
          4.05,
          0.91,
          3.68,
          3.63,
          -4.16,
          -0.93,
          -3.16,
          3.61,
          -0.7,
          -4.18,
          -0.25,
          8.62,
          1.81,
          2.53,
          0.59,
          0.44,
          1.73,
          -2.18,
          0.23,
          3.45,
          -0.49,
          0.93,
          4.56,
          1.18,
          12.28,
          5.99,
          2.17,
          4.73,
          4.41,
          4.43,
          -6.77,
          -2.11,
          -3.46,
          6.16,
          2.47,
          -1.15,
          11.83,
          -1.14,
          3.07,
          -1.1,
          -1.44,
          4.09,
          -0.81,
          -0.51,
          2.26,
          -2.22,
          -0.78,
          5.25,
          -5.05,
          -2.17,
          -1.4,
          0.02,
          -2.36,
          4.54,
          -1.62,
          -2.1,
          -0.25,
          -4.34,
          2.7,
          0.28,
          -6.15,
          -2.48,
          2.49,
          8.54,
          0.42,
          -1.76,
          5.39,
          2.59,
          -0.73,
          -9.16,
          1.66,
          1.49,
          3.97,
          -3.65,
          5.52,
          0.17,
          -2.63,
          3.87,
          0.87,
          5.31,
          0,
          -6.86,
          4.26,
          1.68,
          -4.57,
          1.33,
          3.6,
          -2.35,
          -0.17,
          -1.04,
          -0.22,
          -6.21,
          -5.38,
          4.91,
          3.66,
          -3.01,
          -1.75,
          -6.05,
          -1.02,
          4,
          -3.92,
          -2.03,
          -2.3,
          11.6,
          0.76,
          11.04,
          3.6,
          1.52,
          3.31,
          1.9,
          3.31,
          7.5,
          -1.24,
          3.23,
          -3.03,
          1.13,
          1.02,
          -1.52,
          1.74,
          -0.88,
          -0.92,
          -3.89,
          1.35,
          0.55,
          -5.94,
          1.75,
          -1.65,
          10.63,
          -0.35,
          -0.01,
          -1.51,
          2.24,
          7.41,
          0.86,
          -0.29,
          -0.46,
          5.41,
          1.21,
          -0.48,
          -1.2,
          -3.47,
          4.25,
          6.51,
          4.51,
          0.24,
          7.15,
          5.28,
          -1.41,
          5.02,
          1.41,
          -5.87,
          7.12,
          -8.54,
          5.47,
          2.15,
          -2.83,
          4.04,
          4.18,
          -3.33,
          0.94,
          0.32,
          4.33,
          -0.54,
          -3.86,
          3.97,
          2.6,
          -1.89,
          1.47,
          7.11,
          -2.89,
          2.08,
          5.01,
          3.51,
          -0.79,
          8.84,
          1.55,
          -0.65,
          -2.52,
          1.65,
          2.14,
          -6.88,
          0.85,
          2.43,
          -2.69,
          9.2,
          -0.89,
          -0.52,
          -9.43,
          -5.12,
          -0.67,
          5.99,
          2.48,
          4.15,
          6.73,
          2.22,
          0.03,
          3.86,
          -4.79,
          4.49,
          1.96,
          -1.91,
          1.18,
          -4.39,
          11.16,
          -1.99,
          0.96,
          -2.18,
          2.79,
          0.1,
          -1.74,
          3.94,
          -2.4,
          0.91,
          0.21,
          3.03,
          1.01,
          0.7,
          1.05,
          1.87,
          -2.54,
          2.27,
          0.08,
          -0.53,
          3.44,
          -1,
          1.94,
          -1.29,
          1.01,
          3.25,
          -3,
          -4.57,
          1.15,
          1.24,
          -2.68,
          3.15,
          3.76,
          -2.69,
          2.08,
          -3.95,
          1.23,
          2.43,
          3.61,
          2.73,
          2.8,
          3.63,
          2.13,
          3.18,
          -0.03,
          4.01,
          -0.5,
          4.1,
          1.74,
          3.26,
          0.69,
          0.79,
          1.34,
          2.29,
          0.23,
          -4.57,
          1.88,
          5.42,
          2.61,
          7.34,
          -2.15,
          6.13,
          0.59,
          -4.26,
          5.84,
          5.86,
          4.35,
          7.81,
          -5.75,
          5.32,
          -3.45,
          4.46,
          1.57,
          1.02,
          7.04,
          4.99,
          0.91,
          -1.88,
          3.94,
          -1.16,
          -14.58,
          6.24,
          8.03,
          5.91,
          5.64,
          4.1,
          -3.23,
          3.88,
          3.79,
          -2.5,
          5.44,
          -3.2,
          -0.63,
          -2.86,
          6.25,
          1.91,
          5.78,
          -5.09,
          -2.01,
          9.67,
          -3.08,
          -2.19,
          2.39,
          -1.63,
          6.07,
          -5.35,
          -0.49,
          -8.01,
          0.41,
          3.46,
          -9.23,
          -6.42,
          7.68,
          0.51,
          -2.5,
          -1.07,
          -6.41,
          -8.17,
          1.81,
          7.52,
          0.76,
          -2.74,
          -1.7,
          0.84,
          8.1,
          5.09,
          1.13,
          1.62,
          1.79,
          -1.19,
          5.5,
          0.71,
          5.08,
          1.73,
          1.22,
          -1.64,
          -1.68,
          1.21,
          1.8,
          -3.43,
          0.23,
          0.94,
          1.4,
          3.86,
          3.25,
          -2.53,
          1.89,
          -1.91,
          -2.01,
          3,
          -0.01,
          3.6,
          -1.12,
          0.69,
          -1.77,
          3.52,
          -0.1,
          2.55,
          0.05,
          1.11,
          1.22,
          -3.09,
          0.01,
          0.51,
          2.13,
          2.46,
          3.15,
          1.65,
          1.26,
          1.41,
          -2.18,
          1,
          4.33,
          3.25,
          -1.78,
          -3.2,
          1.29,
          3.58,
          1.48,
          -4.4,
          -0.86,
          -8.57,
          -10.99,
          8.54,
          9.39,
          5.31,
          0.02,
          7.41,
          3.36,
          3.57,
          -1.98,
          5.74,
          1.78,
          -3.7,
          2.85,
          5.88,
          1.48,
          -8.2,
          -5.39,
          6.88,
          -4.74,
          8.76,
          3.69,
          -0.23,
          6.53,
          2.26,
          3.2,
          -0.1,
          2.85,
          -1.35,
          -1.83,
          -2.15,
          -5.68,
          -7.18,
          10.77,
          -0.51,
          0.85,
          4.36,
          4.06,
          3.13,
          -0.75,
          -6.27,
          3.96,
          1.26,
          1.98,
          2.42,
          -1.98,
          0.28,
          0.71,
          5.04,
          1.11,
          3.6,
          1.81,
          2.08,
          -1.5,
          4.95,
          -3.13,
          2.97,
          4.46,
          2.8,
          2.36,
          -3.56,
          4.31,
          0.69,
          0.62,
          2.1,
          1.91,
          -1.51,
          3.77,
          -1.55,
          2.32,
          2.45,
          -0.42,
          -3.1,
          5.49,
          -1.74,
          0.85,
          1.05,
          -2.1,
          1.97,
          -6.26,
          -2.64,
          8.3,
          0.05,
          -1.75,
          -5.07,
          -0.41,
          6.6,
          0.27,
          1.53,
          0.09,
          3.56,
          -0.12,
          -0.12,
          -1.94,
          3.42,
          1.82,
          1.79,
          3.72,
          -0.04,
          0.91,
          1.16,
          0.48,
          1.93,
          0.05,
          1.93,
          2.22,
          2.81,
          0.98,
          7.87,
          2.97,
          1.79,
          3.93,
          -6.58,
          6.89,
          1.31,
          -1.81,
          1.72,
          2.04,
          3.4,
          2.86,
          -1.11,
          2.61,
          4.24,
          5.24,
          0.55,
          2.22,
          2.27,
          2.9,
          -4.76,
          6.91,
          -0.83,
          4.36,
          -5.26,
          -3.14,
          3.58,
          -8.8,
          0.01,
          -8.39,
          9.11,
          -4.24,
          -9.34,
          7.99,
          5.38,
          -5.9,
          6.18,
          -2.61,
          3.51,
          1.46,
          0.25,
          6.47,
          3.11,
          -1.77,
          -4.87,
          -2.2,
          8.92,
          3.61
         ],
         "yaxis": "y"
        }
       ],
       "layout": {
        "font": {
         "size": 12
        },
        "height": 600,
        "legend": {
         "tracegroupgap": 0
        },
        "paper_bgcolor": "white",
        "plot_bgcolor": "white",
        "template": {
         "data": {
          "bar": [
           {
            "error_x": {
             "color": "#2a3f5f"
            },
            "error_y": {
             "color": "#2a3f5f"
            },
            "marker": {
             "line": {
              "color": "#E5ECF6",
              "width": 0.5
             },
             "pattern": {
              "fillmode": "overlay",
              "size": 10,
              "solidity": 0.2
             }
            },
            "type": "bar"
           }
          ],
          "barpolar": [
           {
            "marker": {
             "line": {
              "color": "#E5ECF6",
              "width": 0.5
             },
             "pattern": {
              "fillmode": "overlay",
              "size": 10,
              "solidity": 0.2
             }
            },
            "type": "barpolar"
           }
          ],
          "carpet": [
           {
            "aaxis": {
             "endlinecolor": "#2a3f5f",
             "gridcolor": "white",
             "linecolor": "white",
             "minorgridcolor": "white",
             "startlinecolor": "#2a3f5f"
            },
            "baxis": {
             "endlinecolor": "#2a3f5f",
             "gridcolor": "white",
             "linecolor": "white",
             "minorgridcolor": "white",
             "startlinecolor": "#2a3f5f"
            },
            "type": "carpet"
           }
          ],
          "choropleth": [
           {
            "colorbar": {
             "outlinewidth": 0,
             "ticks": ""
            },
            "type": "choropleth"
           }
          ],
          "contour": [
           {
            "colorbar": {
             "outlinewidth": 0,
             "ticks": ""
            },
            "colorscale": [
             [
              0,
              "#0d0887"
             ],
             [
              0.1111111111111111,
              "#46039f"
             ],
             [
              0.2222222222222222,
              "#7201a8"
             ],
             [
              0.3333333333333333,
              "#9c179e"
             ],
             [
              0.4444444444444444,
              "#bd3786"
             ],
             [
              0.5555555555555556,
              "#d8576b"
             ],
             [
              0.6666666666666666,
              "#ed7953"
             ],
             [
              0.7777777777777778,
              "#fb9f3a"
             ],
             [
              0.8888888888888888,
              "#fdca26"
             ],
             [
              1,
              "#f0f921"
             ]
            ],
            "type": "contour"
           }
          ],
          "contourcarpet": [
           {
            "colorbar": {
             "outlinewidth": 0,
             "ticks": ""
            },
            "type": "contourcarpet"
           }
          ],
          "heatmap": [
           {
            "colorbar": {
             "outlinewidth": 0,
             "ticks": ""
            },
            "colorscale": [
             [
              0,
              "#0d0887"
             ],
             [
              0.1111111111111111,
              "#46039f"
             ],
             [
              0.2222222222222222,
              "#7201a8"
             ],
             [
              0.3333333333333333,
              "#9c179e"
             ],
             [
              0.4444444444444444,
              "#bd3786"
             ],
             [
              0.5555555555555556,
              "#d8576b"
             ],
             [
              0.6666666666666666,
              "#ed7953"
             ],
             [
              0.7777777777777778,
              "#fb9f3a"
             ],
             [
              0.8888888888888888,
              "#fdca26"
             ],
             [
              1,
              "#f0f921"
             ]
            ],
            "type": "heatmap"
           }
          ],
          "heatmapgl": [
           {
            "colorbar": {
             "outlinewidth": 0,
             "ticks": ""
            },
            "colorscale": [
             [
              0,
              "#0d0887"
             ],
             [
              0.1111111111111111,
              "#46039f"
             ],
             [
              0.2222222222222222,
              "#7201a8"
             ],
             [
              0.3333333333333333,
              "#9c179e"
             ],
             [
              0.4444444444444444,
              "#bd3786"
             ],
             [
              0.5555555555555556,
              "#d8576b"
             ],
             [
              0.6666666666666666,
              "#ed7953"
             ],
             [
              0.7777777777777778,
              "#fb9f3a"
             ],
             [
              0.8888888888888888,
              "#fdca26"
             ],
             [
              1,
              "#f0f921"
             ]
            ],
            "type": "heatmapgl"
           }
          ],
          "histogram": [
           {
            "marker": {
             "pattern": {
              "fillmode": "overlay",
              "size": 10,
              "solidity": 0.2
             }
            },
            "type": "histogram"
           }
          ],
          "histogram2d": [
           {
            "colorbar": {
             "outlinewidth": 0,
             "ticks": ""
            },
            "colorscale": [
             [
              0,
              "#0d0887"
             ],
             [
              0.1111111111111111,
              "#46039f"
             ],
             [
              0.2222222222222222,
              "#7201a8"
             ],
             [
              0.3333333333333333,
              "#9c179e"
             ],
             [
              0.4444444444444444,
              "#bd3786"
             ],
             [
              0.5555555555555556,
              "#d8576b"
             ],
             [
              0.6666666666666666,
              "#ed7953"
             ],
             [
              0.7777777777777778,
              "#fb9f3a"
             ],
             [
              0.8888888888888888,
              "#fdca26"
             ],
             [
              1,
              "#f0f921"
             ]
            ],
            "type": "histogram2d"
           }
          ],
          "histogram2dcontour": [
           {
            "colorbar": {
             "outlinewidth": 0,
             "ticks": ""
            },
            "colorscale": [
             [
              0,
              "#0d0887"
             ],
             [
              0.1111111111111111,
              "#46039f"
             ],
             [
              0.2222222222222222,
              "#7201a8"
             ],
             [
              0.3333333333333333,
              "#9c179e"
             ],
             [
              0.4444444444444444,
              "#bd3786"
             ],
             [
              0.5555555555555556,
              "#d8576b"
             ],
             [
              0.6666666666666666,
              "#ed7953"
             ],
             [
              0.7777777777777778,
              "#fb9f3a"
             ],
             [
              0.8888888888888888,
              "#fdca26"
             ],
             [
              1,
              "#f0f921"
             ]
            ],
            "type": "histogram2dcontour"
           }
          ],
          "mesh3d": [
           {
            "colorbar": {
             "outlinewidth": 0,
             "ticks": ""
            },
            "type": "mesh3d"
           }
          ],
          "parcoords": [
           {
            "line": {
             "colorbar": {
              "outlinewidth": 0,
              "ticks": ""
             }
            },
            "type": "parcoords"
           }
          ],
          "pie": [
           {
            "automargin": true,
            "type": "pie"
           }
          ],
          "scatter": [
           {
            "fillpattern": {
             "fillmode": "overlay",
             "size": 10,
             "solidity": 0.2
            },
            "type": "scatter"
           }
          ],
          "scatter3d": [
           {
            "line": {
             "colorbar": {
              "outlinewidth": 0,
              "ticks": ""
             }
            },
            "marker": {
             "colorbar": {
              "outlinewidth": 0,
              "ticks": ""
             }
            },
            "type": "scatter3d"
           }
          ],
          "scattercarpet": [
           {
            "marker": {
             "colorbar": {
              "outlinewidth": 0,
              "ticks": ""
             }
            },
            "type": "scattercarpet"
           }
          ],
          "scattergeo": [
           {
            "marker": {
             "colorbar": {
              "outlinewidth": 0,
              "ticks": ""
             }
            },
            "type": "scattergeo"
           }
          ],
          "scattergl": [
           {
            "marker": {
             "colorbar": {
              "outlinewidth": 0,
              "ticks": ""
             }
            },
            "type": "scattergl"
           }
          ],
          "scattermapbox": [
           {
            "marker": {
             "colorbar": {
              "outlinewidth": 0,
              "ticks": ""
             }
            },
            "type": "scattermapbox"
           }
          ],
          "scatterpolar": [
           {
            "marker": {
             "colorbar": {
              "outlinewidth": 0,
              "ticks": ""
             }
            },
            "type": "scatterpolar"
           }
          ],
          "scatterpolargl": [
           {
            "marker": {
             "colorbar": {
              "outlinewidth": 0,
              "ticks": ""
             }
            },
            "type": "scatterpolargl"
           }
          ],
          "scatterternary": [
           {
            "marker": {
             "colorbar": {
              "outlinewidth": 0,
              "ticks": ""
             }
            },
            "type": "scatterternary"
           }
          ],
          "surface": [
           {
            "colorbar": {
             "outlinewidth": 0,
             "ticks": ""
            },
            "colorscale": [
             [
              0,
              "#0d0887"
             ],
             [
              0.1111111111111111,
              "#46039f"
             ],
             [
              0.2222222222222222,
              "#7201a8"
             ],
             [
              0.3333333333333333,
              "#9c179e"
             ],
             [
              0.4444444444444444,
              "#bd3786"
             ],
             [
              0.5555555555555556,
              "#d8576b"
             ],
             [
              0.6666666666666666,
              "#ed7953"
             ],
             [
              0.7777777777777778,
              "#fb9f3a"
             ],
             [
              0.8888888888888888,
              "#fdca26"
             ],
             [
              1,
              "#f0f921"
             ]
            ],
            "type": "surface"
           }
          ],
          "table": [
           {
            "cells": {
             "fill": {
              "color": "#EBF0F8"
             },
             "line": {
              "color": "white"
             }
            },
            "header": {
             "fill": {
              "color": "#C8D4E3"
             },
             "line": {
              "color": "white"
             }
            },
            "type": "table"
           }
          ]
         },
         "layout": {
          "annotationdefaults": {
           "arrowcolor": "#2a3f5f",
           "arrowhead": 0,
           "arrowwidth": 1
          },
          "autotypenumbers": "strict",
          "coloraxis": {
           "colorbar": {
            "outlinewidth": 0,
            "ticks": ""
           }
          },
          "colorscale": {
           "diverging": [
            [
             0,
             "#8e0152"
            ],
            [
             0.1,
             "#c51b7d"
            ],
            [
             0.2,
             "#de77ae"
            ],
            [
             0.3,
             "#f1b6da"
            ],
            [
             0.4,
             "#fde0ef"
            ],
            [
             0.5,
             "#f7f7f7"
            ],
            [
             0.6,
             "#e6f5d0"
            ],
            [
             0.7,
             "#b8e186"
            ],
            [
             0.8,
             "#7fbc41"
            ],
            [
             0.9,
             "#4d9221"
            ],
            [
             1,
             "#276419"
            ]
           ],
           "sequential": [
            [
             0,
             "#0d0887"
            ],
            [
             0.1111111111111111,
             "#46039f"
            ],
            [
             0.2222222222222222,
             "#7201a8"
            ],
            [
             0.3333333333333333,
             "#9c179e"
            ],
            [
             0.4444444444444444,
             "#bd3786"
            ],
            [
             0.5555555555555556,
             "#d8576b"
            ],
            [
             0.6666666666666666,
             "#ed7953"
            ],
            [
             0.7777777777777778,
             "#fb9f3a"
            ],
            [
             0.8888888888888888,
             "#fdca26"
            ],
            [
             1,
             "#f0f921"
            ]
           ],
           "sequentialminus": [
            [
             0,
             "#0d0887"
            ],
            [
             0.1111111111111111,
             "#46039f"
            ],
            [
             0.2222222222222222,
             "#7201a8"
            ],
            [
             0.3333333333333333,
             "#9c179e"
            ],
            [
             0.4444444444444444,
             "#bd3786"
            ],
            [
             0.5555555555555556,
             "#d8576b"
            ],
            [
             0.6666666666666666,
             "#ed7953"
            ],
            [
             0.7777777777777778,
             "#fb9f3a"
            ],
            [
             0.8888888888888888,
             "#fdca26"
            ],
            [
             1,
             "#f0f921"
            ]
           ]
          },
          "colorway": [
           "#636efa",
           "#EF553B",
           "#00cc96",
           "#ab63fa",
           "#FFA15A",
           "#19d3f3",
           "#FF6692",
           "#B6E880",
           "#FF97FF",
           "#FECB52"
          ],
          "font": {
           "color": "#2a3f5f"
          },
          "geo": {
           "bgcolor": "white",
           "lakecolor": "white",
           "landcolor": "#E5ECF6",
           "showlakes": true,
           "showland": true,
           "subunitcolor": "white"
          },
          "hoverlabel": {
           "align": "left"
          },
          "hovermode": "closest",
          "mapbox": {
           "style": "light"
          },
          "paper_bgcolor": "white",
          "plot_bgcolor": "#E5ECF6",
          "polar": {
           "angularaxis": {
            "gridcolor": "white",
            "linecolor": "white",
            "ticks": ""
           },
           "bgcolor": "#E5ECF6",
           "radialaxis": {
            "gridcolor": "white",
            "linecolor": "white",
            "ticks": ""
           }
          },
          "scene": {
           "xaxis": {
            "backgroundcolor": "#E5ECF6",
            "gridcolor": "white",
            "gridwidth": 2,
            "linecolor": "white",
            "showbackground": true,
            "ticks": "",
            "zerolinecolor": "white"
           },
           "yaxis": {
            "backgroundcolor": "#E5ECF6",
            "gridcolor": "white",
            "gridwidth": 2,
            "linecolor": "white",
            "showbackground": true,
            "ticks": "",
            "zerolinecolor": "white"
           },
           "zaxis": {
            "backgroundcolor": "#E5ECF6",
            "gridcolor": "white",
            "gridwidth": 2,
            "linecolor": "white",
            "showbackground": true,
            "ticks": "",
            "zerolinecolor": "white"
           }
          },
          "shapedefaults": {
           "line": {
            "color": "#2a3f5f"
           }
          },
          "ternary": {
           "aaxis": {
            "gridcolor": "white",
            "linecolor": "white",
            "ticks": ""
           },
           "baxis": {
            "gridcolor": "white",
            "linecolor": "white",
            "ticks": ""
           },
           "bgcolor": "#E5ECF6",
           "caxis": {
            "gridcolor": "white",
            "linecolor": "white",
            "ticks": ""
           }
          },
          "title": {
           "x": 0.05
          },
          "xaxis": {
           "automargin": true,
           "gridcolor": "white",
           "linecolor": "white",
           "ticks": "",
           "title": {
            "standoff": 15
           },
           "zerolinecolor": "white",
           "zerolinewidth": 2
          },
          "yaxis": {
           "automargin": true,
           "gridcolor": "white",
           "linecolor": "white",
           "ticks": "",
           "title": {
            "standoff": 15
           },
           "zerolinecolor": "white",
           "zerolinewidth": 2
          }
         }
        },
        "title": {
         "text": "Visualizando Outliers"
        },
        "width": 1000,
        "xaxis": {
         "anchor": "y",
         "autorange": true,
         "domain": [
          0,
          1
         ],
         "range": [
          "1945-07-25 21:11:10.9419",
          "2028-07-07 02:48:49.0581"
         ],
         "tickfont": {
          "size": 14
         },
         "title": {
          "font": {
           "size": 16
          },
          "text": "Mês"
         },
         "type": "date"
        },
        "yaxis": {
         "anchor": "x",
         "autorange": true,
         "domain": [
          0,
          1
         ],
         "range": [
          -16.374291497975708,
          14.074291497975707
         ],
         "tickfont": {
          "size": 14
         },
         "title": {
          "font": {
           "size": 16
          },
          "text": "Variação Média (%)"
         },
         "type": "linear"
        }
       }
      },
      "image/png": "[encoded data removed]",
      "text/html": [
       "<div>                            <div id=\"6d4a3f23-68f3-44b7-8e71-c3f2c74a842f\" class=\"plotly-graph-div\" style=\"height:600px; width:1000px;\"></div>            <script type=\"text/javascript\">                require([\"plotly\"], function(Plotly) {                    window.PLOTLYENV=window.PLOTLYENV || {};                                    if (document.getElementById(\"6d4a3f23-68f3-44b7-8e71-c3f2c74a842f\")) {                    Plotly.newPlot(                        \"6d4a3f23-68f3-44b7-8e71-c3f2c74a842f\",                        [{\"hovertemplate\":\"Date=%{x}<br>Var_%_m\\u00eas=%{y}<extra></extra>\",\"legendgroup\":\"\",\"marker\":{\"color\":\"#636efa\",\"symbol\":\"circle\"},\"mode\":\"markers\",\"name\":\"\",\"orientation\":\"v\",\"showlegend\":false,\"x\":[\"1950-01-31T00:00:00\",\"1950-02-28T00:00:00\",\"1950-03-31T00:00:00\",\"1950-04-30T00:00:00\",\"1950-05-31T00:00:00\",\"1950-06-30T00:00:00\",\"1950-07-31T00:00:00\",\"1950-08-31T00:00:00\",\"1950-09-30T00:00:00\",\"1950-10-31T00:00:00\",\"1950-11-30T00:00:00\",\"1950-12-31T00:00:00\",\"1951-01-31T00:00:00\",\"1951-02-28T00:00:00\",\"1951-03-31T00:00:00\",\"1951-04-30T00:00:00\",\"1951-05-31T00:00:00\",\"1951-06-30T00:00:00\",\"1951-07-31T00:00:00\",\"1951-08-31T00:00:00\",\"1951-09-30T00:00:00\",\"1951-10-31T00:00:00\",\"1951-11-30T00:00:00\",\"1951-12-31T00:00:00\",\"1952-01-31T00:00:00\",\"1952-02-29T00:00:00\",\"1952-03-31T00:00:00\",\"1952-04-30T00:00:00\",\"1952-05-31T00:00:00\",\"1952-06-30T00:00:00\",\"1952-07-31T00:00:00\",\"1952-08-31T00:00:00\",\"1952-09-30T00:00:00\",\"1952-10-31T00:00:00\",\"1952-11-30T00:00:00\",\"1952-12-31T00:00:00\",\"1953-01-31T00:00:00\",\"1953-02-28T00:00:00\",\"1953-03-31T00:00:00\",\"1953-04-30T00:00:00\",\"1953-05-31T00:00:00\",\"1953-06-30T00:00:00\",\"1953-07-31T00:00:00\",\"1953-08-31T00:00:00\",\"1953-09-30T00:00:00\",\"1953-10-31T00:00:00\",\"1953-11-30T00:00:00\",\"1953-12-31T00:00:00\",\"1954-01-31T00:00:00\",\"1954-02-28T00:00:00\",\"1954-03-31T00:00:00\",\"1954-04-30T00:00:00\",\"1954-05-31T00:00:00\",\"1954-06-30T00:00:00\",\"1954-07-31T00:00:00\",\"1954-08-31T00:00:00\",\"1954-09-30T00:00:00\",\"1954-10-31T00:00:00\",\"1954-11-30T00:00:00\",\"1954-12-31T00:00:00\",\"1955-01-31T00:00:00\",\"1955-02-28T00:00:00\",\"1955-03-31T00:00:00\",\"1955-04-30T00:00:00\",\"1955-05-31T00:00:00\",\"1955-06-30T00:00:00\",\"1955-07-31T00:00:00\",\"1955-08-31T00:00:00\",\"1955-09-30T00:00:00\",\"1955-10-31T00:00:00\",\"1955-11-30T00:00:00\",\"1955-12-31T00:00:00\",\"1956-01-31T00:00:00\",\"1956-02-29T00:00:00\",\"1956-03-31T00:00:00\",\"1956-04-30T00:00:00\",\"1956-05-31T00:00:00\",\"1956-06-30T00:00:00\",\"1956-07-31T00:00:00\",\"1956-08-31T00:00:00\",\"1956-09-30T00:00:00\",\"1956-10-31T00:00:00\",\"1956-11-30T00:00:00\",\"1956-12-31T00:00:00\",\"1957-01-31T00:00:00\",\"1957-02-28T00:00:00\",\"1957-03-31T00:00:00\",\"1957-04-30T00:00:00\",\"1957-05-31T00:00:00\",\"1957-06-30T00:00:00\",\"1957-07-31T00:00:00\",\"1957-08-31T00:00:00\",\"1957-09-30T00:00:00\",\"1957-10-31T00:00:00\",\"1957-11-30T00:00:00\",\"1957-12-31T00:00:00\",\"1958-01-31T00:00:00\",\"1958-02-28T00:00:00\",\"1958-03-31T00:00:00\",\"1958-04-30T00:00:00\",\"1958-05-31T00:00:00\",\"1958-06-30T00:00:00\",\"1958-07-31T00:00:00\",\"1958-08-31T00:00:00\",\"1958-09-30T00:00:00\",\"1958-10-31T00:00:00\",\"1958-11-30T00:00:00\",\"1958-12-31T00:00:00\",\"1959-01-31T00:00:00\",\"1959-02-28T00:00:00\",\"1959-03-31T00:00:00\",\"1959-04-30T00:00:00\",\"1959-05-31T00:00:00\",\"1959-06-30T00:00:00\",\"1959-07-31T00:00:00\",\"1959-08-31T00:00:00\",\"1959-09-30T00:00:00\",\"1959-10-31T00:00:00\",\"1959-11-30T00:00:00\",\"1959-12-31T00:00:00\",\"1960-01-31T00:00:00\",\"1960-02-29T00:00:00\",\"1960-03-31T00:00:00\",\"1960-04-30T00:00:00\",\"1960-05-31T00:00:00\",\"1960-06-30T00:00:00\",\"1960-07-31T00:00:00\",\"1960-08-31T00:00:00\",\"1960-09-30T00:00:00\",\"1960-10-31T00:00:00\",\"1960-11-30T00:00:00\",\"1960-12-31T00:00:00\",\"1961-01-31T00:00:00\",\"1961-02-28T00:00:00\",\"1961-03-31T00:00:00\",\"1961-04-30T00:00:00\",\"1961-05-31T00:00:00\",\"1961-06-30T00:00:00\",\"1961-07-31T00:00:00\",\"1961-08-31T00:00:00\",\"1961-09-30T00:00:00\",\"1961-10-31T00:00:00\",\"1961-11-30T00:00:00\",\"1961-12-31T00:00:00\",\"1962-01-31T00:00:00\",\"1962-02-28T00:00:00\",\"1962-03-31T00:00:00\",\"1962-04-30T00:00:00\",\"1962-05-31T00:00:00\",\"1962-06-30T00:00:00\",\"1962-07-31T00:00:00\",\"1962-08-31T00:00:00\",\"1962-09-30T00:00:00\",\"1962-10-31T00:00:00\",\"1962-11-30T00:00:00\",\"1962-12-31T00:00:00\",\"1963-01-31T00:00:00\",\"1963-02-28T00:00:00\",\"1963-03-31T00:00:00\",\"1963-04-30T00:00:00\",\"1963-05-31T00:00:00\",\"1963-06-30T00:00:00\",\"1963-07-31T00:00:00\",\"1963-08-31T00:00:00\",\"1963-09-30T00:00:00\",\"1963-10-31T00:00:00\",\"1963-11-30T00:00:00\",\"1963-12-31T00:00:00\",\"1964-01-31T00:00:00\",\"1964-02-29T00:00:00\",\"1964-03-31T00:00:00\",\"1964-04-30T00:00:00\",\"1964-05-31T00:00:00\",\"1964-06-30T00:00:00\",\"1964-07-31T00:00:00\",\"1964-08-31T00:00:00\",\"1964-09-30T00:00:00\",\"1964-10-31T00:00:00\",\"1964-11-30T00:00:00\",\"1964-12-31T00:00:00\",\"1965-01-31T00:00:00\",\"1965-02-28T00:00:00\",\"1965-03-31T00:00:00\",\"1965-04-30T00:00:00\",\"1965-05-31T00:00:00\",\"1965-06-30T00:00:00\",\"1965-07-31T00:00:00\",\"1965-08-31T00:00:00\",\"1965-09-30T00:00:00\",\"1965-10-31T00:00:00\",\"1965-11-30T00:00:00\",\"1965-12-31T00:00:00\",\"1966-01-31T00:00:00\",\"1966-02-28T00:00:00\",\"1966-03-31T00:00:00\",\"1966-04-30T00:00:00\",\"1966-05-31T00:00:00\",\"1966-06-30T00:00:00\",\"1966-07-31T00:00:00\",\"1966-08-31T00:00:00\",\"1966-09-30T00:00:00\",\"1966-10-31T00:00:00\",\"1966-11-30T00:00:00\",\"1966-12-31T00:00:00\",\"1967-01-31T00:00:00\",\"1967-02-28T00:00:00\",\"1967-03-31T00:00:00\",\"1967-04-30T00:00:00\",\"1967-05-31T00:00:00\",\"1967-06-30T00:00:00\",\"1967-07-31T00:00:00\",\"1967-08-31T00:00:00\",\"1967-09-30T00:00:00\",\"1967-10-31T00:00:00\",\"1967-11-30T00:00:00\",\"1967-12-31T00:00:00\",\"1968-01-31T00:00:00\",\"1968-02-29T00:00:00\",\"1968-03-31T00:00:00\",\"1968-04-30T00:00:00\",\"1968-05-31T00:00:00\",\"1968-06-30T00:00:00\",\"1968-07-31T00:00:00\",\"1968-08-31T00:00:00\",\"1968-09-30T00:00:00\",\"1968-10-31T00:00:00\",\"1968-11-30T00:00:00\",\"1968-12-31T00:00:00\",\"1969-01-31T00:00:00\",\"1969-02-28T00:00:00\",\"1969-03-31T00:00:00\",\"1969-04-30T00:00:00\",\"1969-05-31T00:00:00\",\"1969-06-30T00:00:00\",\"1969-07-31T00:00:00\",\"1969-08-31T00:00:00\",\"1969-09-30T00:00:00\",\"1969-10-31T00:00:00\",\"1969-11-30T00:00:00\",\"1969-12-31T00:00:00\",\"1970-01-31T00:00:00\",\"1970-02-28T00:00:00\",\"1970-03-31T00:00:00\",\"1970-04-30T00:00:00\",\"1970-05-31T00:00:00\",\"1970-06-30T00:00:00\",\"1970-07-31T00:00:00\",\"1970-08-31T00:00:00\",\"1970-09-30T00:00:00\",\"1970-10-31T00:00:00\",\"1970-11-30T00:00:00\",\"1970-12-31T00:00:00\",\"1971-01-31T00:00:00\",\"1971-02-28T00:00:00\",\"1971-03-31T00:00:00\",\"1971-04-30T00:00:00\",\"1971-05-31T00:00:00\",\"1971-06-30T00:00:00\",\"1971-07-31T00:00:00\",\"1971-08-31T00:00:00\",\"1971-09-30T00:00:00\",\"1971-10-31T00:00:00\",\"1971-11-30T00:00:00\",\"1971-12-31T00:00:00\",\"1972-01-31T00:00:00\",\"1972-02-29T00:00:00\",\"1972-03-31T00:00:00\",\"1972-04-30T00:00:00\",\"1972-05-31T00:00:00\",\"1972-06-30T00:00:00\",\"1972-07-31T00:00:00\",\"1972-08-31T00:00:00\",\"1972-09-30T00:00:00\",\"1972-10-31T00:00:00\",\"1972-11-30T00:00:00\",\"1972-12-31T00:00:00\",\"1975-01-31T00:00:00\",\"1975-02-28T00:00:00\",\"1975-03-31T00:00:00\",\"1975-04-30T00:00:00\",\"1975-05-31T00:00:00\",\"1975-06-30T00:00:00\",\"1975-07-31T00:00:00\",\"1975-08-31T00:00:00\",\"1975-09-30T00:00:00\",\"1975-10-31T00:00:00\",\"1975-11-30T00:00:00\",\"1975-12-31T00:00:00\",\"1976-01-31T00:00:00\",\"1976-02-29T00:00:00\",\"1976-03-31T00:00:00\",\"1976-04-30T00:00:00\",\"1976-05-31T00:00:00\",\"1976-06-30T00:00:00\",\"1976-07-31T00:00:00\",\"1976-08-31T00:00:00\",\"1976-09-30T00:00:00\",\"1976-10-31T00:00:00\",\"1976-11-30T00:00:00\",\"1976-12-31T00:00:00\",\"1977-01-31T00:00:00\",\"1977-02-28T00:00:00\",\"1977-03-31T00:00:00\",\"1977-04-30T00:00:00\",\"1977-05-31T00:00:00\",\"1977-06-30T00:00:00\",\"1977-07-31T00:00:00\",\"1977-08-31T00:00:00\",\"1977-09-30T00:00:00\",\"1977-10-31T00:00:00\",\"1977-11-30T00:00:00\",\"1977-12-31T00:00:00\",\"1978-01-31T00:00:00\",\"1978-02-28T00:00:00\",\"1978-03-31T00:00:00\",\"1978-04-30T00:00:00\",\"1978-05-31T00:00:00\",\"1978-06-30T00:00:00\",\"1978-07-31T00:00:00\",\"1978-08-31T00:00:00\",\"1978-09-30T00:00:00\",\"1978-10-31T00:00:00\",\"1978-11-30T00:00:00\",\"1978-12-31T00:00:00\",\"1979-01-31T00:00:00\",\"1979-02-28T00:00:00\",\"1979-03-31T00:00:00\",\"1979-04-30T00:00:00\",\"1979-05-31T00:00:00\",\"1979-06-30T00:00:00\",\"1979-07-31T00:00:00\",\"1979-08-31T00:00:00\",\"1979-09-30T00:00:00\",\"1979-10-31T00:00:00\",\"1979-11-30T00:00:00\",\"1979-12-31T00:00:00\",\"1981-01-31T00:00:00\",\"1981-02-28T00:00:00\",\"1981-03-31T00:00:00\",\"1981-04-30T00:00:00\",\"1981-05-31T00:00:00\",\"1981-06-30T00:00:00\",\"1981-07-31T00:00:00\",\"1981-08-31T00:00:00\",\"1981-09-30T00:00:00\",\"1981-10-31T00:00:00\",\"1981-11-30T00:00:00\",\"1981-12-31T00:00:00\",\"1982-01-31T00:00:00\",\"1982-02-28T00:00:00\",\"1982-03-31T00:00:00\",\"1982-04-30T00:00:00\",\"1982-05-31T00:00:00\",\"1982-06-30T00:00:00\",\"1982-07-31T00:00:00\",\"1982-08-31T00:00:00\",\"1982-09-30T00:00:00\",\"1982-10-31T00:00:00\",\"1982-11-30T00:00:00\",\"1982-12-31T00:00:00\",\"1983-01-31T00:00:00\",\"1983-02-28T00:00:00\",\"1983-03-31T00:00:00\",\"1983-04-30T00:00:00\",\"1983-05-31T00:00:00\",\"1983-06-30T00:00:00\",\"1983-07-31T00:00:00\",\"1983-08-31T00:00:00\",\"1983-09-30T00:00:00\",\"1983-10-31T00:00:00\",\"1983-11-30T00:00:00\",\"1983-12-31T00:00:00\",\"1984-01-31T00:00:00\",\"1984-02-29T00:00:00\",\"1984-03-31T00:00:00\",\"1984-04-30T00:00:00\",\"1984-05-31T00:00:00\",\"1984-06-30T00:00:00\",\"1984-07-31T00:00:00\",\"1984-08-31T00:00:00\",\"1984-09-30T00:00:00\",\"1984-10-31T00:00:00\",\"1984-11-30T00:00:00\",\"1984-12-31T00:00:00\",\"1985-01-31T00:00:00\",\"1985-02-28T00:00:00\",\"1985-03-31T00:00:00\",\"1985-04-30T00:00:00\",\"1985-05-31T00:00:00\",\"1985-06-30T00:00:00\",\"1985-07-31T00:00:00\",\"1985-08-31T00:00:00\",\"1985-09-30T00:00:00\",\"1985-10-31T00:00:00\",\"1985-11-30T00:00:00\",\"1985-12-31T00:00:00\",\"1986-01-31T00:00:00\",\"1986-02-28T00:00:00\",\"1986-03-31T00:00:00\",\"1986-04-30T00:00:00\",\"1986-05-31T00:00:00\",\"1986-06-30T00:00:00\",\"1986-07-31T00:00:00\",\"1986-08-31T00:00:00\",\"1986-09-30T00:00:00\",\"1986-10-31T00:00:00\",\"1986-11-30T00:00:00\",\"1986-12-31T00:00:00\",\"1988-01-31T00:00:00\",\"1988-02-29T00:00:00\",\"1988-03-31T00:00:00\",\"1988-04-30T00:00:00\",\"1988-05-31T00:00:00\",\"1988-06-30T00:00:00\",\"1988-07-31T00:00:00\",\"1988-08-31T00:00:00\",\"1988-09-30T00:00:00\",\"1988-10-31T00:00:00\",\"1988-11-30T00:00:00\",\"1988-12-31T00:00:00\",\"1989-01-31T00:00:00\",\"1989-02-28T00:00:00\",\"1989-03-31T00:00:00\",\"1989-04-30T00:00:00\",\"1989-05-31T00:00:00\",\"1989-06-30T00:00:00\",\"1989-07-31T00:00:00\",\"1989-08-31T00:00:00\",\"1989-09-30T00:00:00\",\"1989-10-31T00:00:00\",\"1989-11-30T00:00:00\",\"1989-12-31T00:00:00\",\"1990-01-31T00:00:00\",\"1990-02-28T00:00:00\",\"1990-03-31T00:00:00\",\"1990-04-30T00:00:00\",\"1990-05-31T00:00:00\",\"1990-06-30T00:00:00\",\"1990-07-31T00:00:00\",\"1990-08-31T00:00:00\",\"1990-09-30T00:00:00\",\"1990-10-31T00:00:00\",\"1990-11-30T00:00:00\",\"1990-12-31T00:00:00\",\"1991-01-31T00:00:00\",\"1991-02-28T00:00:00\",\"1991-03-31T00:00:00\",\"1991-04-30T00:00:00\",\"1991-05-31T00:00:00\",\"1991-06-30T00:00:00\",\"1991-07-31T00:00:00\",\"1991-08-31T00:00:00\",\"1991-09-30T00:00:00\",\"1991-10-31T00:00:00\",\"1991-11-30T00:00:00\",\"1991-12-31T00:00:00\",\"1992-01-31T00:00:00\",\"1992-02-29T00:00:00\",\"1992-03-31T00:00:00\",\"1992-04-30T00:00:00\",\"1992-05-31T00:00:00\",\"1992-06-30T00:00:00\",\"1992-07-31T00:00:00\",\"1992-08-31T00:00:00\",\"1992-09-30T00:00:00\",\"1992-10-31T00:00:00\",\"1992-11-30T00:00:00\",\"1992-12-31T00:00:00\",\"1993-01-31T00:00:00\",\"1993-02-28T00:00:00\",\"1993-03-31T00:00:00\",\"1993-04-30T00:00:00\",\"1993-05-31T00:00:00\",\"1993-06-30T00:00:00\",\"1993-07-31T00:00:00\",\"1993-08-31T00:00:00\",\"1993-09-30T00:00:00\",\"1993-10-31T00:00:00\",\"1993-11-30T00:00:00\",\"1993-12-31T00:00:00\",\"1994-01-31T00:00:00\",\"1994-02-28T00:00:00\",\"1994-03-31T00:00:00\",\"1994-04-30T00:00:00\",\"1994-05-31T00:00:00\",\"1994-06-30T00:00:00\",\"1994-07-31T00:00:00\",\"1994-08-31T00:00:00\",\"1994-09-30T00:00:00\",\"1994-10-31T00:00:00\",\"1994-11-30T00:00:00\",\"1994-12-31T00:00:00\",\"1995-01-31T00:00:00\",\"1995-02-28T00:00:00\",\"1995-03-31T00:00:00\",\"1995-04-30T00:00:00\",\"1995-05-31T00:00:00\",\"1995-06-30T00:00:00\",\"1995-07-31T00:00:00\",\"1995-08-31T00:00:00\",\"1995-09-30T00:00:00\",\"1995-10-31T00:00:00\",\"1995-11-30T00:00:00\",\"1995-12-31T00:00:00\",\"1996-01-31T00:00:00\",\"1996-02-29T00:00:00\",\"1996-03-31T00:00:00\",\"1996-04-30T00:00:00\",\"1996-05-31T00:00:00\",\"1996-06-30T00:00:00\",\"1996-07-31T00:00:00\",\"1996-08-31T00:00:00\",\"1996-09-30T00:00:00\",\"1996-10-31T00:00:00\",\"1996-11-30T00:00:00\",\"1996-12-31T00:00:00\",\"1997-01-31T00:00:00\",\"1997-02-28T00:00:00\",\"1997-03-31T00:00:00\",\"1997-04-30T00:00:00\",\"1997-05-31T00:00:00\",\"1997-06-30T00:00:00\",\"1997-07-31T00:00:00\",\"1997-08-31T00:00:00\",\"1997-09-30T00:00:00\",\"1997-10-31T00:00:00\",\"1997-11-30T00:00:00\",\"1997-12-31T00:00:00\",\"1998-01-31T00:00:00\",\"1998-02-28T00:00:00\",\"1998-03-31T00:00:00\",\"1998-04-30T00:00:00\",\"1998-05-31T00:00:00\",\"1998-06-30T00:00:00\",\"1998-07-31T00:00:00\",\"1998-08-31T00:00:00\",\"1998-09-30T00:00:00\",\"1998-10-31T00:00:00\",\"1998-11-30T00:00:00\",\"1998-12-31T00:00:00\",\"1999-01-31T00:00:00\",\"1999-02-28T00:00:00\",\"1999-03-31T00:00:00\",\"1999-04-30T00:00:00\",\"1999-05-31T00:00:00\",\"1999-06-30T00:00:00\",\"1999-07-31T00:00:00\",\"1999-08-31T00:00:00\",\"1999-09-30T00:00:00\",\"1999-10-31T00:00:00\",\"1999-11-30T00:00:00\",\"1999-12-31T00:00:00\",\"2000-01-31T00:00:00\",\"2000-02-29T00:00:00\",\"2000-03-31T00:00:00\",\"2000-04-30T00:00:00\",\"2000-05-31T00:00:00\",\"2000-06-30T00:00:00\",\"2000-07-31T00:00:00\",\"2000-08-31T00:00:00\",\"2000-09-30T00:00:00\",\"2000-10-31T00:00:00\",\"2000-11-30T00:00:00\",\"2000-12-31T00:00:00\",\"2001-01-31T00:00:00\",\"2001-02-28T00:00:00\",\"2001-03-31T00:00:00\",\"2001-04-30T00:00:00\",\"2001-05-31T00:00:00\",\"2001-06-30T00:00:00\",\"2001-07-31T00:00:00\",\"2001-08-31T00:00:00\",\"2001-09-30T00:00:00\",\"2001-10-31T00:00:00\",\"2001-11-30T00:00:00\",\"2001-12-31T00:00:00\",\"2003-01-31T00:00:00\",\"2003-02-28T00:00:00\",\"2003-03-31T00:00:00\",\"2003-04-30T00:00:00\",\"2003-05-31T00:00:00\",\"2003-06-30T00:00:00\",\"2003-07-31T00:00:00\",\"2003-08-31T00:00:00\",\"2003-09-30T00:00:00\",\"2003-10-31T00:00:00\",\"2003-11-30T00:00:00\",\"2003-12-31T00:00:00\",\"2004-01-31T00:00:00\",\"2004-02-29T00:00:00\",\"2004-03-31T00:00:00\",\"2004-04-30T00:00:00\",\"2004-05-31T00:00:00\",\"2004-06-30T00:00:00\",\"2004-07-31T00:00:00\",\"2004-08-31T00:00:00\",\"2004-09-30T00:00:00\",\"2004-10-31T00:00:00\",\"2004-11-30T00:00:00\",\"2004-12-31T00:00:00\",\"2005-01-31T00:00:00\",\"2005-02-28T00:00:00\",\"2005-03-31T00:00:00\",\"2005-04-30T00:00:00\",\"2005-05-31T00:00:00\",\"2005-06-30T00:00:00\",\"2005-07-31T00:00:00\",\"2005-08-31T00:00:00\",\"2005-09-30T00:00:00\",\"2005-10-31T00:00:00\",\"2005-11-30T00:00:00\",\"2005-12-31T00:00:00\",\"2006-01-31T00:00:00\",\"2006-02-28T00:00:00\",\"2006-03-31T00:00:00\",\"2006-04-30T00:00:00\",\"2006-05-31T00:00:00\",\"2006-06-30T00:00:00\",\"2006-07-31T00:00:00\",\"2006-08-31T00:00:00\",\"2006-09-30T00:00:00\",\"2006-10-31T00:00:00\",\"2006-11-30T00:00:00\",\"2006-12-31T00:00:00\",\"2007-01-31T00:00:00\",\"2007-02-28T00:00:00\",\"2007-03-31T00:00:00\",\"2007-04-30T00:00:00\",\"2007-05-31T00:00:00\",\"2007-06-30T00:00:00\",\"2007-07-31T00:00:00\",\"2007-08-31T00:00:00\",\"2007-09-30T00:00:00\",\"2007-10-31T00:00:00\",\"2007-11-30T00:00:00\",\"2007-12-31T00:00:00\",\"2009-01-31T00:00:00\",\"2009-02-28T00:00:00\",\"2009-03-31T00:00:00\",\"2009-04-30T00:00:00\",\"2009-05-31T00:00:00\",\"2009-06-30T00:00:00\",\"2009-07-31T00:00:00\",\"2009-08-31T00:00:00\",\"2009-09-30T00:00:00\",\"2009-10-31T00:00:00\",\"2009-11-30T00:00:00\",\"2009-12-31T00:00:00\",\"2010-01-31T00:00:00\",\"2010-02-28T00:00:00\",\"2010-03-31T00:00:00\",\"2010-04-30T00:00:00\",\"2010-05-31T00:00:00\",\"2010-06-30T00:00:00\",\"2010-07-31T00:00:00\",\"2010-08-31T00:00:00\",\"2010-09-30T00:00:00\",\"2010-10-31T00:00:00\",\"2010-11-30T00:00:00\",\"2010-12-31T00:00:00\",\"2011-01-31T00:00:00\",\"2011-02-28T00:00:00\",\"2011-03-31T00:00:00\",\"2011-04-30T00:00:00\",\"2011-05-31T00:00:00\",\"2011-06-30T00:00:00\",\"2011-07-31T00:00:00\",\"2011-08-31T00:00:00\",\"2011-09-30T00:00:00\",\"2011-10-31T00:00:00\",\"2011-11-30T00:00:00\",\"2011-12-31T00:00:00\",\"2012-01-31T00:00:00\",\"2012-02-29T00:00:00\",\"2012-03-31T00:00:00\",\"2012-04-30T00:00:00\",\"2012-05-31T00:00:00\",\"2012-06-30T00:00:00\",\"2012-07-31T00:00:00\",\"2012-08-31T00:00:00\",\"2012-09-30T00:00:00\",\"2012-10-31T00:00:00\",\"2012-11-30T00:00:00\",\"2012-12-31T00:00:00\",\"2013-01-31T00:00:00\",\"2013-02-28T00:00:00\",\"2013-03-31T00:00:00\",\"2013-04-30T00:00:00\",\"2013-05-31T00:00:00\",\"2013-06-30T00:00:00\",\"2013-07-31T00:00:00\",\"2013-08-31T00:00:00\",\"2013-09-30T00:00:00\",\"2013-10-31T00:00:00\",\"2013-11-30T00:00:00\",\"2013-12-31T00:00:00\",\"2014-01-31T00:00:00\",\"2014-02-28T00:00:00\",\"2014-03-31T00:00:00\",\"2014-04-30T00:00:00\",\"2014-05-31T00:00:00\",\"2014-06-30T00:00:00\",\"2014-07-31T00:00:00\",\"2014-08-31T00:00:00\",\"2014-09-30T00:00:00\",\"2014-10-31T00:00:00\",\"2014-11-30T00:00:00\",\"2014-12-31T00:00:00\",\"2015-01-31T00:00:00\",\"2015-02-28T00:00:00\",\"2015-03-31T00:00:00\",\"2015-04-30T00:00:00\",\"2015-05-31T00:00:00\",\"2015-06-30T00:00:00\",\"2015-07-31T00:00:00\",\"2015-08-31T00:00:00\",\"2015-09-30T00:00:00\",\"2015-10-31T00:00:00\",\"2015-11-30T00:00:00\",\"2015-12-31T00:00:00\",\"2016-01-31T00:00:00\",\"2016-02-29T00:00:00\",\"2016-03-31T00:00:00\",\"2016-04-30T00:00:00\",\"2016-05-31T00:00:00\",\"2016-06-30T00:00:00\",\"2016-07-31T00:00:00\",\"2016-08-31T00:00:00\",\"2016-09-30T00:00:00\",\"2016-10-31T00:00:00\",\"2016-11-30T00:00:00\",\"2016-12-31T00:00:00\",\"2017-01-31T00:00:00\",\"2017-02-28T00:00:00\",\"2017-03-31T00:00:00\",\"2017-04-30T00:00:00\",\"2017-05-31T00:00:00\",\"2017-06-30T00:00:00\",\"2017-07-31T00:00:00\",\"2017-08-31T00:00:00\",\"2017-09-30T00:00:00\",\"2017-10-31T00:00:00\",\"2017-11-30T00:00:00\",\"2017-12-31T00:00:00\",\"2019-01-31T00:00:00\",\"2019-02-28T00:00:00\",\"2019-03-31T00:00:00\",\"2019-04-30T00:00:00\",\"2019-05-31T00:00:00\",\"2019-06-30T00:00:00\",\"2019-07-31T00:00:00\",\"2019-08-31T00:00:00\",\"2019-09-30T00:00:00\",\"2019-10-31T00:00:00\",\"2019-11-30T00:00:00\",\"2019-12-31T00:00:00\",\"2021-01-31T00:00:00\",\"2021-02-28T00:00:00\",\"2021-03-31T00:00:00\",\"2021-04-30T00:00:00\",\"2021-05-31T00:00:00\",\"2021-06-30T00:00:00\",\"2021-07-31T00:00:00\",\"2021-08-31T00:00:00\",\"2021-09-30T00:00:00\",\"2021-10-31T00:00:00\",\"2021-11-30T00:00:00\",\"2021-12-31T00:00:00\",\"2022-01-31T00:00:00\",\"2022-02-28T00:00:00\",\"2022-03-31T00:00:00\",\"2022-04-30T00:00:00\",\"2022-05-31T00:00:00\",\"2022-06-30T00:00:00\",\"2022-07-31T00:00:00\",\"2022-08-31T00:00:00\",\"2022-09-30T00:00:00\",\"2022-10-31T00:00:00\",\"2022-11-30T00:00:00\",\"2022-12-31T00:00:00\",\"2023-01-31T00:00:00\",\"2023-02-28T00:00:00\",\"2023-03-31T00:00:00\",\"2023-04-30T00:00:00\",\"2023-05-31T00:00:00\",\"2023-06-30T00:00:00\",\"2023-07-31T00:00:00\",\"2023-08-31T00:00:00\",\"2023-09-30T00:00:00\",\"2023-10-31T00:00:00\",\"2023-11-30T00:00:00\",\"2023-12-31T00:00:00\"],\"xaxis\":\"x\",\"y\":[1.55,1.0,0.41,3.88,4.57,-5.8,0.85,3.25,5.59,0.41,-0.1,4.72,6.02,0.65,-1.47,4.42,-4.06,-2.6,6.87,3.93,-0.09,-1.38,-0.26,3.89,1.56,-3.65,4.77,-4.31,2.32,4.61,1.76,-1.46,-1.96,-0.08,4.65,3.55,-0.72,-1.82,-2.36,-2.65,-0.32,-1.63,2.53,-5.78,0.13,5.1,0.9,0.2,5.12,0.27,3.02,4.9,3.29,0.07,5.72,-3.4,8.31,-1.95,8.08,5.08,1.81,0.35,-0.49,3.77,-0.13,8.23,6.07,-0.78,1.13,-3.05,7.49,-0.07,-3.65,3.47,6.93,-0.21,-6.57,3.92,5.15,-3.81,-4.55,0.51,-1.1,3.53,-4.18,-3.26,1.96,3.7,3.69,-0.13,1.14,-5.61,-6.19,-3.21,1.61,-4.15,4.28,-2.06,3.09,3.18,1.5,2.61,4.31,1.19,4.84,2.54,2.24,5.2,0.43,-0.07,0.05,3.88,1.89,-0.36,3.49,-1.5,-4.56,1.13,1.32,2.76,-7.15,0.92,-1.39,-1.75,2.69,1.95,-2.48,2.61,-6.04,-0.24,4.03,4.63,6.32,2.69,2.55,0.38,1.91,-2.88,3.28,1.96,-1.97,2.83,3.93,0.32,-3.79,1.63,-0.59,-6.2,-8.6,-8.18,6.36,1.53,-4.82,0.44,10.16,1.35,4.91,-2.89,3.55,4.85,1.43,-2.02,-0.35,4.87,-1.1,3.22,-1.05,2.44,2.69,0.99,1.52,0.61,1.15,1.64,1.82,-1.62,2.87,0.81,-0.52,0.39,3.32,-0.15,-1.45,3.42,-0.77,-4.86,1.34,2.25,3.2,2.73,-0.88,0.9,0.49,-1.79,-2.18,2.05,-5.41,-1.61,-1.35,-7.78,-0.7,4.75,0.31,-0.15,7.82,0.2,3.94,4.22,-5.24,1.75,4.53,-1.17,3.28,-3.53,0.75,2.63,-4.38,-3.12,0.94,8.05,1.25,0.91,-1.85,1.15,3.85,0.72,4.8,-4.16,-0.82,-4.74,3.44,2.15,-0.22,-5.56,-6.02,4.01,-2.5,4.3,-3.41,-1.87,-7.65,5.27,0.15,-9.05,-6.1,-5.0,7.33,4.45,3.41,-1.25,4.74,5.68,4.05,0.91,3.68,3.63,-4.16,-0.93,-3.16,3.61,-0.7,-4.18,-0.25,8.62,1.81,2.53,0.59,0.44,1.73,-2.18,0.23,3.45,-0.49,0.93,4.56,1.18,12.28,5.99,2.17,4.73,4.41,4.43,-6.77,-2.11,-3.46,6.16,2.47,-1.15,11.83,-1.14,3.07,-1.1,-1.44,4.09,-0.81,-0.51,2.26,-2.22,-0.78,5.25,-5.05,-2.17,-1.4,0.02,-2.36,4.54,-1.62,-2.1,-0.25,-4.34,2.7,0.28,-6.15,-2.48,2.49,8.54,0.42,-1.76,5.39,2.59,-0.73,-9.16,1.66,1.49,3.97,-3.65,5.52,0.17,-2.63,3.87,0.87,5.31,0.0,-6.86,4.26,1.68,-4.57,1.33,3.6,-2.35,-0.17,-1.04,-0.22,-6.21,-5.38,4.91,3.66,-3.01,-1.75,-6.05,-1.02,4.0,-3.92,-2.03,-2.3,11.6,0.76,11.04,3.6,1.52,3.31,1.9,3.31,7.5,-1.24,3.23,-3.03,1.13,1.02,-1.52,1.74,-0.88,-0.92,-3.89,1.35,0.55,-5.94,1.75,-1.65,10.63,-0.35,-0.01,-1.51,2.24,7.41,0.86,-0.29,-0.46,5.41,1.21,-0.48,-1.2,-3.47,4.25,6.51,4.51,0.24,7.15,5.28,-1.41,5.02,1.41,-5.87,7.12,-8.54,5.47,2.15,-2.83,4.04,4.18,-3.33,0.94,0.32,4.33,-0.54,-3.86,3.97,2.6,-1.89,1.47,7.11,-2.89,2.08,5.01,3.51,-0.79,8.84,1.55,-0.65,-2.52,1.65,2.14,-6.88,0.85,2.43,-2.69,9.2,-0.89,-0.52,-9.43,-5.12,-0.67,5.99,2.48,4.15,6.73,2.22,0.03,3.86,-4.79,4.49,1.96,-1.91,1.18,-4.39,11.16,-1.99,0.96,-2.18,2.79,0.1,-1.74,3.94,-2.4,0.91,0.21,3.03,1.01,0.7,1.05,1.87,-2.54,2.27,0.08,-0.53,3.44,-1.0,1.94,-1.29,1.01,3.25,-3.0,-4.57,1.15,1.24,-2.68,3.15,3.76,-2.69,2.08,-3.95,1.23,2.43,3.61,2.73,2.8,3.63,2.13,3.18,-0.03,4.01,-0.5,4.1,1.74,3.26,0.69,0.79,1.34,2.29,0.23,-4.57,1.88,5.42,2.61,7.34,-2.15,6.13,0.59,-4.26,5.84,5.86,4.35,7.81,-5.75,5.32,-3.45,4.46,1.57,1.02,7.04,4.99,0.91,-1.88,3.94,-1.16,-14.58,6.24,8.03,5.91,5.64,4.1,-3.23,3.88,3.79,-2.5,5.44,-3.2,-0.63,-2.86,6.25,1.91,5.78,-5.09,-2.01,9.67,-3.08,-2.19,2.39,-1.63,6.07,-5.35,-0.49,-8.01,0.41,3.46,-9.23,-6.42,7.68,0.51,-2.5,-1.07,-6.41,-8.17,1.81,7.52,0.76,-2.74,-1.7,0.84,8.1,5.09,1.13,1.62,1.79,-1.19,5.5,0.71,5.08,1.73,1.22,-1.64,-1.68,1.21,1.8,-3.43,0.23,0.94,1.4,3.86,3.25,-2.53,1.89,-1.91,-2.01,3.0,-0.01,3.6,-1.12,0.69,-1.77,3.52,-0.1,2.55,0.05,1.11,1.22,-3.09,0.01,0.51,2.13,2.46,3.15,1.65,1.26,1.41,-2.18,1.0,4.33,3.25,-1.78,-3.2,1.29,3.58,1.48,-4.4,-0.86,-8.57,-10.99,8.54,9.39,5.31,0.02,7.41,3.36,3.57,-1.98,5.74,1.78,-3.7,2.85,5.88,1.48,-8.2,-5.39,6.88,-4.74,8.76,3.69,-0.23,6.53,2.26,3.2,-0.1,2.85,-1.35,-1.83,-2.15,-5.68,-7.18,10.77,-0.51,0.85,4.36,4.06,3.13,-0.75,-6.27,3.96,1.26,1.98,2.42,-1.98,0.28,0.71,5.04,1.11,3.6,1.81,2.08,-1.5,4.95,-3.13,2.97,4.46,2.8,2.36,-3.56,4.31,0.69,0.62,2.1,1.91,-1.51,3.77,-1.55,2.32,2.45,-0.42,-3.1,5.49,-1.74,0.85,1.05,-2.1,1.97,-6.26,-2.64,8.3,0.05,-1.75,-5.07,-0.41,6.6,0.27,1.53,0.09,3.56,-0.12,-0.12,-1.94,3.42,1.82,1.79,3.72,-0.04,0.91,1.16,0.48,1.93,0.05,1.93,2.22,2.81,0.98,7.87,2.97,1.79,3.93,-6.58,6.89,1.31,-1.81,1.72,2.04,3.4,2.86,-1.11,2.61,4.24,5.24,0.55,2.22,2.27,2.9,-4.76,6.91,-0.83,4.36,-5.26,-3.14,3.58,-8.8,0.01,-8.39,9.11,-4.24,-9.34,7.99,5.38,-5.9,6.18,-2.61,3.51,1.46,0.25,6.47,3.11,-1.77,-4.87,-2.2,8.92,3.61],\"yaxis\":\"y\",\"type\":\"scatter\"}],                        {\"template\":{\"data\":{\"histogram2dcontour\":[{\"type\":\"histogram2dcontour\",\"colorbar\":{\"outlinewidth\":0,\"ticks\":\"\"},\"colorscale\":[[0.0,\"#0d0887\"],[0.1111111111111111,\"#46039f\"],[0.2222222222222222,\"#7201a8\"],[0.3333333333333333,\"#9c179e\"],[0.4444444444444444,\"#bd3786\"],[0.5555555555555556,\"#d8576b\"],[0.6666666666666666,\"#ed7953\"],[0.7777777777777778,\"#fb9f3a\"],[0.8888888888888888,\"#fdca26\"],[1.0,\"#f0f921\"]]}],\"choropleth\":[{\"type\":\"choropleth\",\"colorbar\":{\"outlinewidth\":0,\"ticks\":\"\"}}],\"histogram2d\":[{\"type\":\"histogram2d\",\"colorbar\":{\"outlinewidth\":0,\"ticks\":\"\"},\"colorscale\":[[0.0,\"#0d0887\"],[0.1111111111111111,\"#46039f\"],[0.2222222222222222,\"#7201a8\"],[0.3333333333333333,\"#9c179e\"],[0.4444444444444444,\"#bd3786\"],[0.5555555555555556,\"#d8576b\"],[0.6666666666666666,\"#ed7953\"],[0.7777777777777778,\"#fb9f3a\"],[0.8888888888888888,\"#fdca26\"],[1.0,\"#f0f921\"]]}],\"heatmap\":[{\"type\":\"heatmap\",\"colorbar\":{\"outlinewidth\":0,\"ticks\":\"\"},\"colorscale\":[[0.0,\"#0d0887\"],[0.1111111111111111,\"#46039f\"],[0.2222222222222222,\"#7201a8\"],[0.3333333333333333,\"#9c179e\"],[0.4444444444444444,\"#bd3786\"],[0.5555555555555556,\"#d8576b\"],[0.6666666666666666,\"#ed7953\"],[0.7777777777777778,\"#fb9f3a\"],[0.8888888888888888,\"#fdca26\"],[1.0,\"#f0f921\"]]}],\"heatmapgl\":[{\"type\":\"heatmapgl\",\"colorbar\":{\"outlinewidth\":0,\"ticks\":\"\"},\"colorscale\":[[0.0,\"#0d0887\"],[0.1111111111111111,\"#46039f\"],[0.2222222222222222,\"#7201a8\"],[0.3333333333333333,\"#9c179e\"],[0.4444444444444444,\"#bd3786\"],[0.5555555555555556,\"#d8576b\"],[0.6666666666666666,\"#ed7953\"],[0.7777777777777778,\"#fb9f3a\"],[0.8888888888888888,\"#fdca26\"],[1.0,\"#f0f921\"]]}],\"contourcarpet\":[{\"type\":\"contourcarpet\",\"colorbar\":{\"outlinewidth\":0,\"ticks\":\"\"}}],\"contour\":[{\"type\":\"contour\",\"colorbar\":{\"outlinewidth\":0,\"ticks\":\"\"},\"colorscale\":[[0.0,\"#0d0887\"],[0.1111111111111111,\"#46039f\"],[0.2222222222222222,\"#7201a8\"],[0.3333333333333333,\"#9c179e\"],[0.4444444444444444,\"#bd3786\"],[0.5555555555555556,\"#d8576b\"],[0.6666666666666666,\"#ed7953\"],[0.7777777777777778,\"#fb9f3a\"],[0.8888888888888888,\"#fdca26\"],[1.0,\"#f0f921\"]]}],\"surface\":[{\"type\":\"surface\",\"colorbar\":{\"outlinewidth\":0,\"ticks\":\"\"},\"colorscale\":[[0.0,\"#0d0887\"],[0.1111111111111111,\"#46039f\"],[0.2222222222222222,\"#7201a8\"],[0.3333333333333333,\"#9c179e\"],[0.4444444444444444,\"#bd3786\"],[0.5555555555555556,\"#d8576b\"],[0.6666666666666666,\"#ed7953\"],[0.7777777777777778,\"#fb9f3a\"],[0.8888888888888888,\"#fdca26\"],[1.0,\"#f0f921\"]]}],\"mesh3d\":[{\"type\":\"mesh3d\",\"colorbar\":{\"outlinewidth\":0,\"ticks\":\"\"}}],\"scatter\":[{\"fillpattern\":{\"fillmode\":\"overlay\",\"size\":10,\"solidity\":0.2},\"type\":\"scatter\"}],\"parcoords\":[{\"type\":\"parcoords\",\"line\":{\"colorbar\":{\"outlinewidth\":0,\"ticks\":\"\"}}}],\"scatterpolargl\":[{\"type\":\"scatterpolargl\",\"marker\":{\"colorbar\":{\"outlinewidth\":0,\"ticks\":\"\"}}}],\"bar\":[{\"error_x\":{\"color\":\"#2a3f5f\"},\"error_y\":{\"color\":\"#2a3f5f\"},\"marker\":{\"line\":{\"color\":\"#E5ECF6\",\"width\":0.5},\"pattern\":{\"fillmode\":\"overlay\",\"size\":10,\"solidity\":0.2}},\"type\":\"bar\"}],\"scattergeo\":[{\"type\":\"scattergeo\",\"marker\":{\"colorbar\":{\"outlinewidth\":0,\"ticks\":\"\"}}}],\"scatterpolar\":[{\"type\":\"scatterpolar\",\"marker\":{\"colorbar\":{\"outlinewidth\":0,\"ticks\":\"\"}}}],\"histogram\":[{\"marker\":{\"pattern\":{\"fillmode\":\"overlay\",\"size\":10,\"solidity\":0.2}},\"type\":\"histogram\"}],\"scattergl\":[{\"type\":\"scattergl\",\"marker\":{\"colorbar\":{\"outlinewidth\":0,\"ticks\":\"\"}}}],\"scatter3d\":[{\"type\":\"scatter3d\",\"line\":{\"colorbar\":{\"outlinewidth\":0,\"ticks\":\"\"}},\"marker\":{\"colorbar\":{\"outlinewidth\":0,\"ticks\":\"\"}}}],\"scattermapbox\":[{\"type\":\"scattermapbox\",\"marker\":{\"colorbar\":{\"outlinewidth\":0,\"ticks\":\"\"}}}],\"scatterternary\":[{\"type\":\"scatterternary\",\"marker\":{\"colorbar\":{\"outlinewidth\":0,\"ticks\":\"\"}}}],\"scattercarpet\":[{\"type\":\"scattercarpet\",\"marker\":{\"colorbar\":{\"outlinewidth\":0,\"ticks\":\"\"}}}],\"carpet\":[{\"aaxis\":{\"endlinecolor\":\"#2a3f5f\",\"gridcolor\":\"white\",\"linecolor\":\"white\",\"minorgridcolor\":\"white\",\"startlinecolor\":\"#2a3f5f\"},\"baxis\":{\"endlinecolor\":\"#2a3f5f\",\"gridcolor\":\"white\",\"linecolor\":\"white\",\"minorgridcolor\":\"white\",\"startlinecolor\":\"#2a3f5f\"},\"type\":\"carpet\"}],\"table\":[{\"cells\":{\"fill\":{\"color\":\"#EBF0F8\"},\"line\":{\"color\":\"white\"}},\"header\":{\"fill\":{\"color\":\"#C8D4E3\"},\"line\":{\"color\":\"white\"}},\"type\":\"table\"}],\"barpolar\":[{\"marker\":{\"line\":{\"color\":\"#E5ECF6\",\"width\":0.5},\"pattern\":{\"fillmode\":\"overlay\",\"size\":10,\"solidity\":0.2}},\"type\":\"barpolar\"}],\"pie\":[{\"automargin\":true,\"type\":\"pie\"}]},\"layout\":{\"autotypenumbers\":\"strict\",\"colorway\":[\"#636efa\",\"#EF553B\",\"#00cc96\",\"#ab63fa\",\"#FFA15A\",\"#19d3f3\",\"#FF6692\",\"#B6E880\",\"#FF97FF\",\"#FECB52\"],\"font\":{\"color\":\"#2a3f5f\"},\"hovermode\":\"closest\",\"hoverlabel\":{\"align\":\"left\"},\"paper_bgcolor\":\"white\",\"plot_bgcolor\":\"#E5ECF6\",\"polar\":{\"bgcolor\":\"#E5ECF6\",\"angularaxis\":{\"gridcolor\":\"white\",\"linecolor\":\"white\",\"ticks\":\"\"},\"radialaxis\":{\"gridcolor\":\"white\",\"linecolor\":\"white\",\"ticks\":\"\"}},\"ternary\":{\"bgcolor\":\"#E5ECF6\",\"aaxis\":{\"gridcolor\":\"white\",\"linecolor\":\"white\",\"ticks\":\"\"},\"baxis\":{\"gridcolor\":\"white\",\"linecolor\":\"white\",\"ticks\":\"\"},\"caxis\":{\"gridcolor\":\"white\",\"linecolor\":\"white\",\"ticks\":\"\"}},\"coloraxis\":{\"colorbar\":{\"outlinewidth\":0,\"ticks\":\"\"}},\"colorscale\":{\"sequential\":[[0.0,\"#0d0887\"],[0.1111111111111111,\"#46039f\"],[0.2222222222222222,\"#7201a8\"],[0.3333333333333333,\"#9c179e\"],[0.4444444444444444,\"#bd3786\"],[0.5555555555555556,\"#d8576b\"],[0.6666666666666666,\"#ed7953\"],[0.7777777777777778,\"#fb9f3a\"],[0.8888888888888888,\"#fdca26\"],[1.0,\"#f0f921\"]],\"sequentialminus\":[[0.0,\"#0d0887\"],[0.1111111111111111,\"#46039f\"],[0.2222222222222222,\"#7201a8\"],[0.3333333333333333,\"#9c179e\"],[0.4444444444444444,\"#bd3786\"],[0.5555555555555556,\"#d8576b\"],[0.6666666666666666,\"#ed7953\"],[0.7777777777777778,\"#fb9f3a\"],[0.8888888888888888,\"#fdca26\"],[1.0,\"#f0f921\"]],\"diverging\":[[0,\"#8e0152\"],[0.1,\"#c51b7d\"],[0.2,\"#de77ae\"],[0.3,\"#f1b6da\"],[0.4,\"#fde0ef\"],[0.5,\"#f7f7f7\"],[0.6,\"#e6f5d0\"],[0.7,\"#b8e186\"],[0.8,\"#7fbc41\"],[0.9,\"#4d9221\"],[1,\"#276419\"]]},\"xaxis\":{\"gridcolor\":\"white\",\"linecolor\":\"white\",\"ticks\":\"\",\"title\":{\"standoff\":15},\"zerolinecolor\":\"white\",\"automargin\":true,\"zerolinewidth\":2},\"yaxis\":{\"gridcolor\":\"white\",\"linecolor\":\"white\",\"ticks\":\"\",\"title\":{\"standoff\":15},\"zerolinecolor\":\"white\",\"automargin\":true,\"zerolinewidth\":2},\"scene\":{\"xaxis\":{\"backgroundcolor\":\"#E5ECF6\",\"gridcolor\":\"white\",\"linecolor\":\"white\",\"showbackground\":true,\"ticks\":\"\",\"zerolinecolor\":\"white\",\"gridwidth\":2},\"yaxis\":{\"backgroundcolor\":\"#E5ECF6\",\"gridcolor\":\"white\",\"linecolor\":\"white\",\"showbackground\":true,\"ticks\":\"\",\"zerolinecolor\":\"white\",\"gridwidth\":2},\"zaxis\":{\"backgroundcolor\":\"#E5ECF6\",\"gridcolor\":\"white\",\"linecolor\":\"white\",\"showbackground\":true,\"ticks\":\"\",\"zerolinecolor\":\"white\",\"gridwidth\":2}},\"shapedefaults\":{\"line\":{\"color\":\"#2a3f5f\"}},\"annotationdefaults\":{\"arrowcolor\":\"#2a3f5f\",\"arrowhead\":0,\"arrowwidth\":1},\"geo\":{\"bgcolor\":\"white\",\"landcolor\":\"#E5ECF6\",\"subunitcolor\":\"white\",\"showland\":true,\"showlakes\":true,\"lakecolor\":\"white\"},\"title\":{\"x\":0.05},\"mapbox\":{\"style\":\"light\"}}},\"xaxis\":{\"anchor\":\"y\",\"domain\":[0.0,1.0],\"title\":{\"text\":\"M\\u00eas\",\"font\":{\"size\":16}},\"tickfont\":{\"size\":14}},\"yaxis\":{\"anchor\":\"x\",\"domain\":[0.0,1.0],\"title\":{\"text\":\"Varia\\u00e7\\u00e3o M\\u00e9dia (%)\",\"font\":{\"size\":16}},\"tickfont\":{\"size\":14}},\"legend\":{\"tracegroupgap\":0},\"title\":{\"text\":\"Visualizando Outliers\"},\"font\":{\"size\":12},\"plot_bgcolor\":\"white\",\"paper_bgcolor\":\"white\",\"width\":1000,\"height\":600},                        {\"responsive\": true}                    ).then(function(){\n",
       "                            \n",
       "var gd = document.getElementById('6d4a3f23-68f3-44b7-8e71-c3f2c74a842f');\n",
       "var x = new MutationObserver(function (mutations, observer) {{\n",
       "        var display = window.getComputedStyle(gd).display;\n",
       "        if (!display || display === 'none') {{\n",
       "            console.log([gd, 'removed!']);\n",
       "            Plotly.purge(gd);\n",
       "            observer.disconnect();\n",
       "        }}\n",
       "}});\n",
       "\n",
       "// Listen for the removal of the full notebook cells\n",
       "var notebookContainer = gd.closest('#notebook-container');\n",
       "if (notebookContainer) {{\n",
       "    x.observe(notebookContainer, {childList: true});\n",
       "}}\n",
       "\n",
       "// Listen for the clearing of the current output cell\n",
       "var outputEl = gd.closest('.output');\n",
       "if (outputEl) {{\n",
       "    x.observe(outputEl, {childList: true});\n",
       "}}\n",
       "\n",
       "                        })                };                });            </script>        </div>"
      ]
     },
     "metadata": {},
     "output_type": "display_data"
    }
   ],
   "source": [
    "# Criar um gráfico de dispersão interativo\n",
    "fig = px.scatter(sp500_sem_crises2, x=sp500_sem_crises2.index, y='Var_%_mês', title='Visualizando Outliers')\n",
    "\n",
    "# Atualizando o layout\n",
    "fig.update_layout(\n",
    "    plot_bgcolor='white',\n",
    "    paper_bgcolor='white',\n",
    "    font=dict(\n",
    "        size=12,\n",
    "    ),\n",
    "    xaxis=dict(\n",
    "        title='Mês',\n",
    "        titlefont_size=16,\n",
    "        tickfont_size=14,\n",
    "    ),\n",
    "    yaxis=dict(\n",
    "        title='Variação Média (%)',\n",
    "        titlefont_size=16,\n",
    "        tickfont_size=14,\n",
    "    ),\n",
    ")\n",
    "\n",
    "# Ajustando o tamanho do gráfico\n",
    "fig.update_layout(width=1000, height=600)\n",
    "\n",
    "fig.show()\n"
   ]
  },
  {
   "cell_type": "code",
   "execution_count": 33,
   "id": "175cf7d4-9c3b-420c-872b-ca9a8bdbcd05",
   "metadata": {},
   "outputs": [
    {
     "data": {
      "application/vnd.plotly.v1+json": {
       "config": {
        "plotlyServerURL": "https://plot.ly"
       },
       "data": [
        {
         "alignmentgroup": "True",
         "bingroup": "x",
         "hovertemplate": "Var_%_mês=%{x}<br>count=%{y}<extra></extra>",
         "legendgroup": "",
         "marker": {
          "color": "#636efa",
          "pattern": {
           "shape": ""
          }
         },
         "name": "",
         "nbinsx": 30,
         "offsetgroup": "",
         "orientation": "v",
         "showlegend": false,
         "type": "histogram",
         "x": [
          1.55,
          1,
          0.41,
          3.88,
          4.57,
          -5.8,
          0.85,
          3.25,
          5.59,
          0.41,
          -0.1,
          4.72,
          6.02,
          0.65,
          -1.47,
          4.42,
          -4.06,
          -2.6,
          6.87,
          3.93,
          -0.09,
          -1.38,
          -0.26,
          3.89,
          1.56,
          -3.65,
          4.77,
          -4.31,
          2.32,
          4.61,
          1.76,
          -1.46,
          -1.96,
          -0.08,
          4.65,
          3.55,
          -0.72,
          -1.82,
          -2.36,
          -2.65,
          -0.32,
          -1.63,
          2.53,
          -5.78,
          0.13,
          5.1,
          0.9,
          0.2,
          5.12,
          0.27,
          3.02,
          4.9,
          3.29,
          0.07,
          5.72,
          -3.4,
          8.31,
          -1.95,
          8.08,
          5.08,
          1.81,
          0.35,
          -0.49,
          3.77,
          -0.13,
          8.23,
          6.07,
          -0.78,
          1.13,
          -3.05,
          7.49,
          -0.07,
          -3.65,
          3.47,
          6.93,
          -0.21,
          -6.57,
          3.92,
          5.15,
          -3.81,
          -4.55,
          0.51,
          -1.1,
          3.53,
          -4.18,
          -3.26,
          1.96,
          3.7,
          3.69,
          -0.13,
          1.14,
          -5.61,
          -6.19,
          -3.21,
          1.61,
          -4.15,
          4.28,
          -2.06,
          3.09,
          3.18,
          1.5,
          2.61,
          4.31,
          1.19,
          4.84,
          2.54,
          2.24,
          5.2,
          0.43,
          -0.07,
          0.05,
          3.88,
          1.89,
          -0.36,
          3.49,
          -1.5,
          -4.56,
          1.13,
          1.32,
          2.76,
          -7.15,
          0.92,
          -1.39,
          -1.75,
          2.69,
          1.95,
          -2.48,
          2.61,
          -6.04,
          -0.24,
          4.03,
          4.63,
          6.32,
          2.69,
          2.55,
          0.38,
          1.91,
          -2.88,
          3.28,
          1.96,
          -1.97,
          2.83,
          3.93,
          0.32,
          -3.79,
          1.63,
          -0.59,
          -6.2,
          -8.6,
          -8.18,
          6.36,
          1.53,
          -4.82,
          0.44,
          10.16,
          1.35,
          4.91,
          -2.89,
          3.55,
          4.85,
          1.43,
          -2.02,
          -0.35,
          4.87,
          -1.1,
          3.22,
          -1.05,
          2.44,
          2.69,
          0.99,
          1.52,
          0.61,
          1.15,
          1.64,
          1.82,
          -1.62,
          2.87,
          0.81,
          -0.52,
          0.39,
          3.32,
          -0.15,
          -1.45,
          3.42,
          -0.77,
          -4.86,
          1.34,
          2.25,
          3.2,
          2.73,
          -0.88,
          0.9,
          0.49,
          -1.79,
          -2.18,
          2.05,
          -5.41,
          -1.61,
          -1.35,
          -7.78,
          -0.7,
          4.75,
          0.31,
          -0.15,
          7.82,
          0.2,
          3.94,
          4.22,
          -5.24,
          1.75,
          4.53,
          -1.17,
          3.28,
          -3.53,
          0.75,
          2.63,
          -4.38,
          -3.12,
          0.94,
          8.05,
          1.25,
          0.91,
          -1.85,
          1.15,
          3.85,
          0.72,
          4.8,
          -4.16,
          -0.82,
          -4.74,
          3.44,
          2.15,
          -0.22,
          -5.56,
          -6.02,
          4.01,
          -2.5,
          4.3,
          -3.41,
          -1.87,
          -7.65,
          5.27,
          0.15,
          -9.05,
          -6.1,
          -5,
          7.33,
          4.45,
          3.41,
          -1.25,
          4.74,
          5.68,
          4.05,
          0.91,
          3.68,
          3.63,
          -4.16,
          -0.93,
          -3.16,
          3.61,
          -0.7,
          -4.18,
          -0.25,
          8.62,
          1.81,
          2.53,
          0.59,
          0.44,
          1.73,
          -2.18,
          0.23,
          3.45,
          -0.49,
          0.93,
          4.56,
          1.18,
          12.28,
          5.99,
          2.17,
          4.73,
          4.41,
          4.43,
          -6.77,
          -2.11,
          -3.46,
          6.16,
          2.47,
          -1.15,
          11.83,
          -1.14,
          3.07,
          -1.1,
          -1.44,
          4.09,
          -0.81,
          -0.51,
          2.26,
          -2.22,
          -0.78,
          5.25,
          -5.05,
          -2.17,
          -1.4,
          0.02,
          -2.36,
          4.54,
          -1.62,
          -2.1,
          -0.25,
          -4.34,
          2.7,
          0.28,
          -6.15,
          -2.48,
          2.49,
          8.54,
          0.42,
          -1.76,
          5.39,
          2.59,
          -0.73,
          -9.16,
          1.66,
          1.49,
          3.97,
          -3.65,
          5.52,
          0.17,
          -2.63,
          3.87,
          0.87,
          5.31,
          0,
          -6.86,
          4.26,
          1.68,
          -4.57,
          1.33,
          3.6,
          -2.35,
          -0.17,
          -1.04,
          -0.22,
          -6.21,
          -5.38,
          4.91,
          3.66,
          -3.01,
          -1.75,
          -6.05,
          -1.02,
          4,
          -3.92,
          -2.03,
          -2.3,
          11.6,
          0.76,
          11.04,
          3.6,
          1.52,
          3.31,
          1.9,
          3.31,
          7.5,
          -1.24,
          3.23,
          -3.03,
          1.13,
          1.02,
          -1.52,
          1.74,
          -0.88,
          -0.92,
          -3.89,
          1.35,
          0.55,
          -5.94,
          1.75,
          -1.65,
          10.63,
          -0.35,
          -0.01,
          -1.51,
          2.24,
          7.41,
          0.86,
          -0.29,
          -0.46,
          5.41,
          1.21,
          -0.48,
          -1.2,
          -3.47,
          4.25,
          6.51,
          4.51,
          0.24,
          7.15,
          5.28,
          -1.41,
          5.02,
          1.41,
          -5.87,
          7.12,
          -8.54,
          5.47,
          2.15,
          -2.83,
          4.04,
          4.18,
          -3.33,
          0.94,
          0.32,
          4.33,
          -0.54,
          -3.86,
          3.97,
          2.6,
          -1.89,
          1.47,
          7.11,
          -2.89,
          2.08,
          5.01,
          3.51,
          -0.79,
          8.84,
          1.55,
          -0.65,
          -2.52,
          1.65,
          2.14,
          -6.88,
          0.85,
          2.43,
          -2.69,
          9.2,
          -0.89,
          -0.52,
          -9.43,
          -5.12,
          -0.67,
          5.99,
          2.48,
          4.15,
          6.73,
          2.22,
          0.03,
          3.86,
          -4.79,
          4.49,
          1.96,
          -1.91,
          1.18,
          -4.39,
          11.16,
          -1.99,
          0.96,
          -2.18,
          2.79,
          0.1,
          -1.74,
          3.94,
          -2.4,
          0.91,
          0.21,
          3.03,
          1.01,
          0.7,
          1.05,
          1.87,
          -2.54,
          2.27,
          0.08,
          -0.53,
          3.44,
          -1,
          1.94,
          -1.29,
          1.01,
          3.25,
          -3,
          -4.57,
          1.15,
          1.24,
          -2.68,
          3.15,
          3.76,
          -2.69,
          2.08,
          -3.95,
          1.23,
          2.43,
          3.61,
          2.73,
          2.8,
          3.63,
          2.13,
          3.18,
          -0.03,
          4.01,
          -0.5,
          4.1,
          1.74,
          3.26,
          0.69,
          0.79,
          1.34,
          2.29,
          0.23,
          -4.57,
          1.88,
          5.42,
          2.61,
          7.34,
          -2.15,
          6.13,
          0.59,
          -4.26,
          5.84,
          5.86,
          4.35,
          7.81,
          -5.75,
          5.32,
          -3.45,
          4.46,
          1.57,
          1.02,
          7.04,
          4.99,
          0.91,
          -1.88,
          3.94,
          -1.16,
          -14.58,
          6.24,
          8.03,
          5.91,
          5.64,
          4.1,
          -3.23,
          3.88,
          3.79,
          -2.5,
          5.44,
          -3.2,
          -0.63,
          -2.86,
          6.25,
          1.91,
          5.78,
          -5.09,
          -2.01,
          9.67,
          -3.08,
          -2.19,
          2.39,
          -1.63,
          6.07,
          -5.35,
          -0.49,
          -8.01,
          0.41,
          3.46,
          -9.23,
          -6.42,
          7.68,
          0.51,
          -2.5,
          -1.07,
          -6.41,
          -8.17,
          1.81,
          7.52,
          0.76,
          -2.74,
          -1.7,
          0.84,
          8.1,
          5.09,
          1.13,
          1.62,
          1.79,
          -1.19,
          5.5,
          0.71,
          5.08,
          1.73,
          1.22,
          -1.64,
          -1.68,
          1.21,
          1.8,
          -3.43,
          0.23,
          0.94,
          1.4,
          3.86,
          3.25,
          -2.53,
          1.89,
          -1.91,
          -2.01,
          3,
          -0.01,
          3.6,
          -1.12,
          0.69,
          -1.77,
          3.52,
          -0.1,
          2.55,
          0.05,
          1.11,
          1.22,
          -3.09,
          0.01,
          0.51,
          2.13,
          2.46,
          3.15,
          1.65,
          1.26,
          1.41,
          -2.18,
          1,
          4.33,
          3.25,
          -1.78,
          -3.2,
          1.29,
          3.58,
          1.48,
          -4.4,
          -0.86,
          -8.57,
          -10.99,
          8.54,
          9.39,
          5.31,
          0.02,
          7.41,
          3.36,
          3.57,
          -1.98,
          5.74,
          1.78,
          -3.7,
          2.85,
          5.88,
          1.48,
          -8.2,
          -5.39,
          6.88,
          -4.74,
          8.76,
          3.69,
          -0.23,
          6.53,
          2.26,
          3.2,
          -0.1,
          2.85,
          -1.35,
          -1.83,
          -2.15,
          -5.68,
          -7.18,
          10.77,
          -0.51,
          0.85,
          4.36,
          4.06,
          3.13,
          -0.75,
          -6.27,
          3.96,
          1.26,
          1.98,
          2.42,
          -1.98,
          0.28,
          0.71,
          5.04,
          1.11,
          3.6,
          1.81,
          2.08,
          -1.5,
          4.95,
          -3.13,
          2.97,
          4.46,
          2.8,
          2.36,
          -3.56,
          4.31,
          0.69,
          0.62,
          2.1,
          1.91,
          -1.51,
          3.77,
          -1.55,
          2.32,
          2.45,
          -0.42,
          -3.1,
          5.49,
          -1.74,
          0.85,
          1.05,
          -2.1,
          1.97,
          -6.26,
          -2.64,
          8.3,
          0.05,
          -1.75,
          -5.07,
          -0.41,
          6.6,
          0.27,
          1.53,
          0.09,
          3.56,
          -0.12,
          -0.12,
          -1.94,
          3.42,
          1.82,
          1.79,
          3.72,
          -0.04,
          0.91,
          1.16,
          0.48,
          1.93,
          0.05,
          1.93,
          2.22,
          2.81,
          0.98,
          7.87,
          2.97,
          1.79,
          3.93,
          -6.58,
          6.89,
          1.31,
          -1.81,
          1.72,
          2.04,
          3.4,
          2.86,
          -1.11,
          2.61,
          4.24,
          5.24,
          0.55,
          2.22,
          2.27,
          2.9,
          -4.76,
          6.91,
          -0.83,
          4.36,
          -5.26,
          -3.14,
          3.58,
          -8.8,
          0.01,
          -8.39,
          9.11,
          -4.24,
          -9.34,
          7.99,
          5.38,
          -5.9,
          6.18,
          -2.61,
          3.51,
          1.46,
          0.25,
          6.47,
          3.11,
          -1.77,
          -4.87,
          -2.2,
          8.92,
          3.61
         ],
         "xaxis": "x",
         "yaxis": "y"
        },
        {
         "alignmentgroup": "True",
         "boxpoints": "all",
         "fillcolor": "rgba(255,255,255,0)",
         "hoveron": "points",
         "hovertemplate": "Var_%_mês=%{x}<extra></extra>",
         "jitter": 0,
         "legendgroup": "",
         "line": {
          "color": "rgba(255,255,255,0)"
         },
         "marker": {
          "color": "#636efa",
          "symbol": "line-ns-open"
         },
         "name": "",
         "offsetgroup": "",
         "showlegend": false,
         "type": "box",
         "x": [
          1.55,
          1,
          0.41,
          3.88,
          4.57,
          -5.8,
          0.85,
          3.25,
          5.59,
          0.41,
          -0.1,
          4.72,
          6.02,
          0.65,
          -1.47,
          4.42,
          -4.06,
          -2.6,
          6.87,
          3.93,
          -0.09,
          -1.38,
          -0.26,
          3.89,
          1.56,
          -3.65,
          4.77,
          -4.31,
          2.32,
          4.61,
          1.76,
          -1.46,
          -1.96,
          -0.08,
          4.65,
          3.55,
          -0.72,
          -1.82,
          -2.36,
          -2.65,
          -0.32,
          -1.63,
          2.53,
          -5.78,
          0.13,
          5.1,
          0.9,
          0.2,
          5.12,
          0.27,
          3.02,
          4.9,
          3.29,
          0.07,
          5.72,
          -3.4,
          8.31,
          -1.95,
          8.08,
          5.08,
          1.81,
          0.35,
          -0.49,
          3.77,
          -0.13,
          8.23,
          6.07,
          -0.78,
          1.13,
          -3.05,
          7.49,
          -0.07,
          -3.65,
          3.47,
          6.93,
          -0.21,
          -6.57,
          3.92,
          5.15,
          -3.81,
          -4.55,
          0.51,
          -1.1,
          3.53,
          -4.18,
          -3.26,
          1.96,
          3.7,
          3.69,
          -0.13,
          1.14,
          -5.61,
          -6.19,
          -3.21,
          1.61,
          -4.15,
          4.28,
          -2.06,
          3.09,
          3.18,
          1.5,
          2.61,
          4.31,
          1.19,
          4.84,
          2.54,
          2.24,
          5.2,
          0.43,
          -0.07,
          0.05,
          3.88,
          1.89,
          -0.36,
          3.49,
          -1.5,
          -4.56,
          1.13,
          1.32,
          2.76,
          -7.15,
          0.92,
          -1.39,
          -1.75,
          2.69,
          1.95,
          -2.48,
          2.61,
          -6.04,
          -0.24,
          4.03,
          4.63,
          6.32,
          2.69,
          2.55,
          0.38,
          1.91,
          -2.88,
          3.28,
          1.96,
          -1.97,
          2.83,
          3.93,
          0.32,
          -3.79,
          1.63,
          -0.59,
          -6.2,
          -8.6,
          -8.18,
          6.36,
          1.53,
          -4.82,
          0.44,
          10.16,
          1.35,
          4.91,
          -2.89,
          3.55,
          4.85,
          1.43,
          -2.02,
          -0.35,
          4.87,
          -1.1,
          3.22,
          -1.05,
          2.44,
          2.69,
          0.99,
          1.52,
          0.61,
          1.15,
          1.64,
          1.82,
          -1.62,
          2.87,
          0.81,
          -0.52,
          0.39,
          3.32,
          -0.15,
          -1.45,
          3.42,
          -0.77,
          -4.86,
          1.34,
          2.25,
          3.2,
          2.73,
          -0.88,
          0.9,
          0.49,
          -1.79,
          -2.18,
          2.05,
          -5.41,
          -1.61,
          -1.35,
          -7.78,
          -0.7,
          4.75,
          0.31,
          -0.15,
          7.82,
          0.2,
          3.94,
          4.22,
          -5.24,
          1.75,
          4.53,
          -1.17,
          3.28,
          -3.53,
          0.75,
          2.63,
          -4.38,
          -3.12,
          0.94,
          8.05,
          1.25,
          0.91,
          -1.85,
          1.15,
          3.85,
          0.72,
          4.8,
          -4.16,
          -0.82,
          -4.74,
          3.44,
          2.15,
          -0.22,
          -5.56,
          -6.02,
          4.01,
          -2.5,
          4.3,
          -3.41,
          -1.87,
          -7.65,
          5.27,
          0.15,
          -9.05,
          -6.1,
          -5,
          7.33,
          4.45,
          3.41,
          -1.25,
          4.74,
          5.68,
          4.05,
          0.91,
          3.68,
          3.63,
          -4.16,
          -0.93,
          -3.16,
          3.61,
          -0.7,
          -4.18,
          -0.25,
          8.62,
          1.81,
          2.53,
          0.59,
          0.44,
          1.73,
          -2.18,
          0.23,
          3.45,
          -0.49,
          0.93,
          4.56,
          1.18,
          12.28,
          5.99,
          2.17,
          4.73,
          4.41,
          4.43,
          -6.77,
          -2.11,
          -3.46,
          6.16,
          2.47,
          -1.15,
          11.83,
          -1.14,
          3.07,
          -1.1,
          -1.44,
          4.09,
          -0.81,
          -0.51,
          2.26,
          -2.22,
          -0.78,
          5.25,
          -5.05,
          -2.17,
          -1.4,
          0.02,
          -2.36,
          4.54,
          -1.62,
          -2.1,
          -0.25,
          -4.34,
          2.7,
          0.28,
          -6.15,
          -2.48,
          2.49,
          8.54,
          0.42,
          -1.76,
          5.39,
          2.59,
          -0.73,
          -9.16,
          1.66,
          1.49,
          3.97,
          -3.65,
          5.52,
          0.17,
          -2.63,
          3.87,
          0.87,
          5.31,
          0,
          -6.86,
          4.26,
          1.68,
          -4.57,
          1.33,
          3.6,
          -2.35,
          -0.17,
          -1.04,
          -0.22,
          -6.21,
          -5.38,
          4.91,
          3.66,
          -3.01,
          -1.75,
          -6.05,
          -1.02,
          4,
          -3.92,
          -2.03,
          -2.3,
          11.6,
          0.76,
          11.04,
          3.6,
          1.52,
          3.31,
          1.9,
          3.31,
          7.5,
          -1.24,
          3.23,
          -3.03,
          1.13,
          1.02,
          -1.52,
          1.74,
          -0.88,
          -0.92,
          -3.89,
          1.35,
          0.55,
          -5.94,
          1.75,
          -1.65,
          10.63,
          -0.35,
          -0.01,
          -1.51,
          2.24,
          7.41,
          0.86,
          -0.29,
          -0.46,
          5.41,
          1.21,
          -0.48,
          -1.2,
          -3.47,
          4.25,
          6.51,
          4.51,
          0.24,
          7.15,
          5.28,
          -1.41,
          5.02,
          1.41,
          -5.87,
          7.12,
          -8.54,
          5.47,
          2.15,
          -2.83,
          4.04,
          4.18,
          -3.33,
          0.94,
          0.32,
          4.33,
          -0.54,
          -3.86,
          3.97,
          2.6,
          -1.89,
          1.47,
          7.11,
          -2.89,
          2.08,
          5.01,
          3.51,
          -0.79,
          8.84,
          1.55,
          -0.65,
          -2.52,
          1.65,
          2.14,
          -6.88,
          0.85,
          2.43,
          -2.69,
          9.2,
          -0.89,
          -0.52,
          -9.43,
          -5.12,
          -0.67,
          5.99,
          2.48,
          4.15,
          6.73,
          2.22,
          0.03,
          3.86,
          -4.79,
          4.49,
          1.96,
          -1.91,
          1.18,
          -4.39,
          11.16,
          -1.99,
          0.96,
          -2.18,
          2.79,
          0.1,
          -1.74,
          3.94,
          -2.4,
          0.91,
          0.21,
          3.03,
          1.01,
          0.7,
          1.05,
          1.87,
          -2.54,
          2.27,
          0.08,
          -0.53,
          3.44,
          -1,
          1.94,
          -1.29,
          1.01,
          3.25,
          -3,
          -4.57,
          1.15,
          1.24,
          -2.68,
          3.15,
          3.76,
          -2.69,
          2.08,
          -3.95,
          1.23,
          2.43,
          3.61,
          2.73,
          2.8,
          3.63,
          2.13,
          3.18,
          -0.03,
          4.01,
          -0.5,
          4.1,
          1.74,
          3.26,
          0.69,
          0.79,
          1.34,
          2.29,
          0.23,
          -4.57,
          1.88,
          5.42,
          2.61,
          7.34,
          -2.15,
          6.13,
          0.59,
          -4.26,
          5.84,
          5.86,
          4.35,
          7.81,
          -5.75,
          5.32,
          -3.45,
          4.46,
          1.57,
          1.02,
          7.04,
          4.99,
          0.91,
          -1.88,
          3.94,
          -1.16,
          -14.58,
          6.24,
          8.03,
          5.91,
          5.64,
          4.1,
          -3.23,
          3.88,
          3.79,
          -2.5,
          5.44,
          -3.2,
          -0.63,
          -2.86,
          6.25,
          1.91,
          5.78,
          -5.09,
          -2.01,
          9.67,
          -3.08,
          -2.19,
          2.39,
          -1.63,
          6.07,
          -5.35,
          -0.49,
          -8.01,
          0.41,
          3.46,
          -9.23,
          -6.42,
          7.68,
          0.51,
          -2.5,
          -1.07,
          -6.41,
          -8.17,
          1.81,
          7.52,
          0.76,
          -2.74,
          -1.7,
          0.84,
          8.1,
          5.09,
          1.13,
          1.62,
          1.79,
          -1.19,
          5.5,
          0.71,
          5.08,
          1.73,
          1.22,
          -1.64,
          -1.68,
          1.21,
          1.8,
          -3.43,
          0.23,
          0.94,
          1.4,
          3.86,
          3.25,
          -2.53,
          1.89,
          -1.91,
          -2.01,
          3,
          -0.01,
          3.6,
          -1.12,
          0.69,
          -1.77,
          3.52,
          -0.1,
          2.55,
          0.05,
          1.11,
          1.22,
          -3.09,
          0.01,
          0.51,
          2.13,
          2.46,
          3.15,
          1.65,
          1.26,
          1.41,
          -2.18,
          1,
          4.33,
          3.25,
          -1.78,
          -3.2,
          1.29,
          3.58,
          1.48,
          -4.4,
          -0.86,
          -8.57,
          -10.99,
          8.54,
          9.39,
          5.31,
          0.02,
          7.41,
          3.36,
          3.57,
          -1.98,
          5.74,
          1.78,
          -3.7,
          2.85,
          5.88,
          1.48,
          -8.2,
          -5.39,
          6.88,
          -4.74,
          8.76,
          3.69,
          -0.23,
          6.53,
          2.26,
          3.2,
          -0.1,
          2.85,
          -1.35,
          -1.83,
          -2.15,
          -5.68,
          -7.18,
          10.77,
          -0.51,
          0.85,
          4.36,
          4.06,
          3.13,
          -0.75,
          -6.27,
          3.96,
          1.26,
          1.98,
          2.42,
          -1.98,
          0.28,
          0.71,
          5.04,
          1.11,
          3.6,
          1.81,
          2.08,
          -1.5,
          4.95,
          -3.13,
          2.97,
          4.46,
          2.8,
          2.36,
          -3.56,
          4.31,
          0.69,
          0.62,
          2.1,
          1.91,
          -1.51,
          3.77,
          -1.55,
          2.32,
          2.45,
          -0.42,
          -3.1,
          5.49,
          -1.74,
          0.85,
          1.05,
          -2.1,
          1.97,
          -6.26,
          -2.64,
          8.3,
          0.05,
          -1.75,
          -5.07,
          -0.41,
          6.6,
          0.27,
          1.53,
          0.09,
          3.56,
          -0.12,
          -0.12,
          -1.94,
          3.42,
          1.82,
          1.79,
          3.72,
          -0.04,
          0.91,
          1.16,
          0.48,
          1.93,
          0.05,
          1.93,
          2.22,
          2.81,
          0.98,
          7.87,
          2.97,
          1.79,
          3.93,
          -6.58,
          6.89,
          1.31,
          -1.81,
          1.72,
          2.04,
          3.4,
          2.86,
          -1.11,
          2.61,
          4.24,
          5.24,
          0.55,
          2.22,
          2.27,
          2.9,
          -4.76,
          6.91,
          -0.83,
          4.36,
          -5.26,
          -3.14,
          3.58,
          -8.8,
          0.01,
          -8.39,
          9.11,
          -4.24,
          -9.34,
          7.99,
          5.38,
          -5.9,
          6.18,
          -2.61,
          3.51,
          1.46,
          0.25,
          6.47,
          3.11,
          -1.77,
          -4.87,
          -2.2,
          8.92,
          3.61
         ],
         "xaxis": "x2",
         "yaxis": "y2"
        }
       ],
       "layout": {
        "barmode": "relative",
        "font": {
         "size": 12
        },
        "height": 600,
        "legend": {
         "tracegroupgap": 0
        },
        "paper_bgcolor": "white",
        "plot_bgcolor": "white",
        "template": {
         "data": {
          "bar": [
           {
            "error_x": {
             "color": "#2a3f5f"
            },
            "error_y": {
             "color": "#2a3f5f"
            },
            "marker": {
             "line": {
              "color": "#E5ECF6",
              "width": 0.5
             },
             "pattern": {
              "fillmode": "overlay",
              "size": 10,
              "solidity": 0.2
             }
            },
            "type": "bar"
           }
          ],
          "barpolar": [
           {
            "marker": {
             "line": {
              "color": "#E5ECF6",
              "width": 0.5
             },
             "pattern": {
              "fillmode": "overlay",
              "size": 10,
              "solidity": 0.2
             }
            },
            "type": "barpolar"
           }
          ],
          "carpet": [
           {
            "aaxis": {
             "endlinecolor": "#2a3f5f",
             "gridcolor": "white",
             "linecolor": "white",
             "minorgridcolor": "white",
             "startlinecolor": "#2a3f5f"
            },
            "baxis": {
             "endlinecolor": "#2a3f5f",
             "gridcolor": "white",
             "linecolor": "white",
             "minorgridcolor": "white",
             "startlinecolor": "#2a3f5f"
            },
            "type": "carpet"
           }
          ],
          "choropleth": [
           {
            "colorbar": {
             "outlinewidth": 0,
             "ticks": ""
            },
            "type": "choropleth"
           }
          ],
          "contour": [
           {
            "colorbar": {
             "outlinewidth": 0,
             "ticks": ""
            },
            "colorscale": [
             [
              0,
              "#0d0887"
             ],
             [
              0.1111111111111111,
              "#46039f"
             ],
             [
              0.2222222222222222,
              "#7201a8"
             ],
             [
              0.3333333333333333,
              "#9c179e"
             ],
             [
              0.4444444444444444,
              "#bd3786"
             ],
             [
              0.5555555555555556,
              "#d8576b"
             ],
             [
              0.6666666666666666,
              "#ed7953"
             ],
             [
              0.7777777777777778,
              "#fb9f3a"
             ],
             [
              0.8888888888888888,
              "#fdca26"
             ],
             [
              1,
              "#f0f921"
             ]
            ],
            "type": "contour"
           }
          ],
          "contourcarpet": [
           {
            "colorbar": {
             "outlinewidth": 0,
             "ticks": ""
            },
            "type": "contourcarpet"
           }
          ],
          "heatmap": [
           {
            "colorbar": {
             "outlinewidth": 0,
             "ticks": ""
            },
            "colorscale": [
             [
              0,
              "#0d0887"
             ],
             [
              0.1111111111111111,
              "#46039f"
             ],
             [
              0.2222222222222222,
              "#7201a8"
             ],
             [
              0.3333333333333333,
              "#9c179e"
             ],
             [
              0.4444444444444444,
              "#bd3786"
             ],
             [
              0.5555555555555556,
              "#d8576b"
             ],
             [
              0.6666666666666666,
              "#ed7953"
             ],
             [
              0.7777777777777778,
              "#fb9f3a"
             ],
             [
              0.8888888888888888,
              "#fdca26"
             ],
             [
              1,
              "#f0f921"
             ]
            ],
            "type": "heatmap"
           }
          ],
          "heatmapgl": [
           {
            "colorbar": {
             "outlinewidth": 0,
             "ticks": ""
            },
            "colorscale": [
             [
              0,
              "#0d0887"
             ],
             [
              0.1111111111111111,
              "#46039f"
             ],
             [
              0.2222222222222222,
              "#7201a8"
             ],
             [
              0.3333333333333333,
              "#9c179e"
             ],
             [
              0.4444444444444444,
              "#bd3786"
             ],
             [
              0.5555555555555556,
              "#d8576b"
             ],
             [
              0.6666666666666666,
              "#ed7953"
             ],
             [
              0.7777777777777778,
              "#fb9f3a"
             ],
             [
              0.8888888888888888,
              "#fdca26"
             ],
             [
              1,
              "#f0f921"
             ]
            ],
            "type": "heatmapgl"
           }
          ],
          "histogram": [
           {
            "marker": {
             "pattern": {
              "fillmode": "overlay",
              "size": 10,
              "solidity": 0.2
             }
            },
            "type": "histogram"
           }
          ],
          "histogram2d": [
           {
            "colorbar": {
             "outlinewidth": 0,
             "ticks": ""
            },
            "colorscale": [
             [
              0,
              "#0d0887"
             ],
             [
              0.1111111111111111,
              "#46039f"
             ],
             [
              0.2222222222222222,
              "#7201a8"
             ],
             [
              0.3333333333333333,
              "#9c179e"
             ],
             [
              0.4444444444444444,
              "#bd3786"
             ],
             [
              0.5555555555555556,
              "#d8576b"
             ],
             [
              0.6666666666666666,
              "#ed7953"
             ],
             [
              0.7777777777777778,
              "#fb9f3a"
             ],
             [
              0.8888888888888888,
              "#fdca26"
             ],
             [
              1,
              "#f0f921"
             ]
            ],
            "type": "histogram2d"
           }
          ],
          "histogram2dcontour": [
           {
            "colorbar": {
             "outlinewidth": 0,
             "ticks": ""
            },
            "colorscale": [
             [
              0,
              "#0d0887"
             ],
             [
              0.1111111111111111,
              "#46039f"
             ],
             [
              0.2222222222222222,
              "#7201a8"
             ],
             [
              0.3333333333333333,
              "#9c179e"
             ],
             [
              0.4444444444444444,
              "#bd3786"
             ],
             [
              0.5555555555555556,
              "#d8576b"
             ],
             [
              0.6666666666666666,
              "#ed7953"
             ],
             [
              0.7777777777777778,
              "#fb9f3a"
             ],
             [
              0.8888888888888888,
              "#fdca26"
             ],
             [
              1,
              "#f0f921"
             ]
            ],
            "type": "histogram2dcontour"
           }
          ],
          "mesh3d": [
           {
            "colorbar": {
             "outlinewidth": 0,
             "ticks": ""
            },
            "type": "mesh3d"
           }
          ],
          "parcoords": [
           {
            "line": {
             "colorbar": {
              "outlinewidth": 0,
              "ticks": ""
             }
            },
            "type": "parcoords"
           }
          ],
          "pie": [
           {
            "automargin": true,
            "type": "pie"
           }
          ],
          "scatter": [
           {
            "fillpattern": {
             "fillmode": "overlay",
             "size": 10,
             "solidity": 0.2
            },
            "type": "scatter"
           }
          ],
          "scatter3d": [
           {
            "line": {
             "colorbar": {
              "outlinewidth": 0,
              "ticks": ""
             }
            },
            "marker": {
             "colorbar": {
              "outlinewidth": 0,
              "ticks": ""
             }
            },
            "type": "scatter3d"
           }
          ],
          "scattercarpet": [
           {
            "marker": {
             "colorbar": {
              "outlinewidth": 0,
              "ticks": ""
             }
            },
            "type": "scattercarpet"
           }
          ],
          "scattergeo": [
           {
            "marker": {
             "colorbar": {
              "outlinewidth": 0,
              "ticks": ""
             }
            },
            "type": "scattergeo"
           }
          ],
          "scattergl": [
           {
            "marker": {
             "colorbar": {
              "outlinewidth": 0,
              "ticks": ""
             }
            },
            "type": "scattergl"
           }
          ],
          "scattermapbox": [
           {
            "marker": {
             "colorbar": {
              "outlinewidth": 0,
              "ticks": ""
             }
            },
            "type": "scattermapbox"
           }
          ],
          "scatterpolar": [
           {
            "marker": {
             "colorbar": {
              "outlinewidth": 0,
              "ticks": ""
             }
            },
            "type": "scatterpolar"
           }
          ],
          "scatterpolargl": [
           {
            "marker": {
             "colorbar": {
              "outlinewidth": 0,
              "ticks": ""
             }
            },
            "type": "scatterpolargl"
           }
          ],
          "scatterternary": [
           {
            "marker": {
             "colorbar": {
              "outlinewidth": 0,
              "ticks": ""
             }
            },
            "type": "scatterternary"
           }
          ],
          "surface": [
           {
            "colorbar": {
             "outlinewidth": 0,
             "ticks": ""
            },
            "colorscale": [
             [
              0,
              "#0d0887"
             ],
             [
              0.1111111111111111,
              "#46039f"
             ],
             [
              0.2222222222222222,
              "#7201a8"
             ],
             [
              0.3333333333333333,
              "#9c179e"
             ],
             [
              0.4444444444444444,
              "#bd3786"
             ],
             [
              0.5555555555555556,
              "#d8576b"
             ],
             [
              0.6666666666666666,
              "#ed7953"
             ],
             [
              0.7777777777777778,
              "#fb9f3a"
             ],
             [
              0.8888888888888888,
              "#fdca26"
             ],
             [
              1,
              "#f0f921"
             ]
            ],
            "type": "surface"
           }
          ],
          "table": [
           {
            "cells": {
             "fill": {
              "color": "#EBF0F8"
             },
             "line": {
              "color": "white"
             }
            },
            "header": {
             "fill": {
              "color": "#C8D4E3"
             },
             "line": {
              "color": "white"
             }
            },
            "type": "table"
           }
          ]
         },
         "layout": {
          "annotationdefaults": {
           "arrowcolor": "#2a3f5f",
           "arrowhead": 0,
           "arrowwidth": 1
          },
          "autotypenumbers": "strict",
          "coloraxis": {
           "colorbar": {
            "outlinewidth": 0,
            "ticks": ""
           }
          },
          "colorscale": {
           "diverging": [
            [
             0,
             "#8e0152"
            ],
            [
             0.1,
             "#c51b7d"
            ],
            [
             0.2,
             "#de77ae"
            ],
            [
             0.3,
             "#f1b6da"
            ],
            [
             0.4,
             "#fde0ef"
            ],
            [
             0.5,
             "#f7f7f7"
            ],
            [
             0.6,
             "#e6f5d0"
            ],
            [
             0.7,
             "#b8e186"
            ],
            [
             0.8,
             "#7fbc41"
            ],
            [
             0.9,
             "#4d9221"
            ],
            [
             1,
             "#276419"
            ]
           ],
           "sequential": [
            [
             0,
             "#0d0887"
            ],
            [
             0.1111111111111111,
             "#46039f"
            ],
            [
             0.2222222222222222,
             "#7201a8"
            ],
            [
             0.3333333333333333,
             "#9c179e"
            ],
            [
             0.4444444444444444,
             "#bd3786"
            ],
            [
             0.5555555555555556,
             "#d8576b"
            ],
            [
             0.6666666666666666,
             "#ed7953"
            ],
            [
             0.7777777777777778,
             "#fb9f3a"
            ],
            [
             0.8888888888888888,
             "#fdca26"
            ],
            [
             1,
             "#f0f921"
            ]
           ],
           "sequentialminus": [
            [
             0,
             "#0d0887"
            ],
            [
             0.1111111111111111,
             "#46039f"
            ],
            [
             0.2222222222222222,
             "#7201a8"
            ],
            [
             0.3333333333333333,
             "#9c179e"
            ],
            [
             0.4444444444444444,
             "#bd3786"
            ],
            [
             0.5555555555555556,
             "#d8576b"
            ],
            [
             0.6666666666666666,
             "#ed7953"
            ],
            [
             0.7777777777777778,
             "#fb9f3a"
            ],
            [
             0.8888888888888888,
             "#fdca26"
            ],
            [
             1,
             "#f0f921"
            ]
           ]
          },
          "colorway": [
           "#636efa",
           "#EF553B",
           "#00cc96",
           "#ab63fa",
           "#FFA15A",
           "#19d3f3",
           "#FF6692",
           "#B6E880",
           "#FF97FF",
           "#FECB52"
          ],
          "font": {
           "color": "#2a3f5f"
          },
          "geo": {
           "bgcolor": "white",
           "lakecolor": "white",
           "landcolor": "#E5ECF6",
           "showlakes": true,
           "showland": true,
           "subunitcolor": "white"
          },
          "hoverlabel": {
           "align": "left"
          },
          "hovermode": "closest",
          "mapbox": {
           "style": "light"
          },
          "paper_bgcolor": "white",
          "plot_bgcolor": "#E5ECF6",
          "polar": {
           "angularaxis": {
            "gridcolor": "white",
            "linecolor": "white",
            "ticks": ""
           },
           "bgcolor": "#E5ECF6",
           "radialaxis": {
            "gridcolor": "white",
            "linecolor": "white",
            "ticks": ""
           }
          },
          "scene": {
           "xaxis": {
            "backgroundcolor": "#E5ECF6",
            "gridcolor": "white",
            "gridwidth": 2,
            "linecolor": "white",
            "showbackground": true,
            "ticks": "",
            "zerolinecolor": "white"
           },
           "yaxis": {
            "backgroundcolor": "#E5ECF6",
            "gridcolor": "white",
            "gridwidth": 2,
            "linecolor": "white",
            "showbackground": true,
            "ticks": "",
            "zerolinecolor": "white"
           },
           "zaxis": {
            "backgroundcolor": "#E5ECF6",
            "gridcolor": "white",
            "gridwidth": 2,
            "linecolor": "white",
            "showbackground": true,
            "ticks": "",
            "zerolinecolor": "white"
           }
          },
          "shapedefaults": {
           "line": {
            "color": "#2a3f5f"
           }
          },
          "ternary": {
           "aaxis": {
            "gridcolor": "white",
            "linecolor": "white",
            "ticks": ""
           },
           "baxis": {
            "gridcolor": "white",
            "linecolor": "white",
            "ticks": ""
           },
           "bgcolor": "#E5ECF6",
           "caxis": {
            "gridcolor": "white",
            "linecolor": "white",
            "ticks": ""
           }
          },
          "title": {
           "x": 0.05
          },
          "xaxis": {
           "automargin": true,
           "gridcolor": "white",
           "linecolor": "white",
           "ticks": "",
           "title": {
            "standoff": 15
           },
           "zerolinecolor": "white",
           "zerolinewidth": 2
          },
          "yaxis": {
           "automargin": true,
           "gridcolor": "white",
           "linecolor": "white",
           "ticks": "",
           "title": {
            "standoff": 15
           },
           "zerolinecolor": "white",
           "zerolinewidth": 2
          }
         }
        },
        "title": {
         "text": "Histograma e Gráfico de Densidade Interativo de Var_%_mês"
        },
        "width": 1000,
        "xaxis": {
         "anchor": "y",
         "autorange": true,
         "domain": [
          0,
          1
         ],
         "range": [
          -16.072222222222223,
          13.772222222222222
         ],
         "tickfont": {
          "size": 14
         },
         "title": {
          "font": {
           "size": 16
          },
          "text": "Mês"
         },
         "type": "linear"
        },
        "xaxis2": {
         "anchor": "y2",
         "autorange": true,
         "domain": [
          0,
          1
         ],
         "matches": "x",
         "range": [
          -16.072222222222223,
          13.772222222222222
         ],
         "showgrid": true,
         "showticklabels": false,
         "type": "linear"
        },
        "yaxis": {
         "anchor": "x",
         "autorange": true,
         "domain": [
          0,
          0.8316
         ],
         "range": [
          0,
          106.3157894736842
         ],
         "tickfont": {
          "size": 14
         },
         "title": {
          "font": {
           "size": 16
          },
          "text": "Variação Média (%)"
         }
        },
        "yaxis2": {
         "anchor": "x2",
         "autorange": true,
         "domain": [
          0.8416,
          1
         ],
         "matches": "y2",
         "range": [
          -0.5472232716282585,
          0.5
         ],
         "showgrid": false,
         "showline": false,
         "showticklabels": false,
         "ticks": "",
         "type": "category"
        }
       }
      },
      "image/png": "[encoded data removed]",
      "text/html": [
       "<div>                            <div id=\"bbeca797-97bb-4d95-8494-bbaf31f4974b\" class=\"plotly-graph-div\" style=\"height:600px; width:1000px;\"></div>            <script type=\"text/javascript\">                require([\"plotly\"], function(Plotly) {                    window.PLOTLYENV=window.PLOTLYENV || {};                                    if (document.getElementById(\"bbeca797-97bb-4d95-8494-bbaf31f4974b\")) {                    Plotly.newPlot(                        \"bbeca797-97bb-4d95-8494-bbaf31f4974b\",                        [{\"alignmentgroup\":\"True\",\"bingroup\":\"x\",\"hovertemplate\":\"Var_%_m\\u00eas=%{x}<br>count=%{y}<extra></extra>\",\"legendgroup\":\"\",\"marker\":{\"color\":\"#636efa\",\"pattern\":{\"shape\":\"\"}},\"name\":\"\",\"nbinsx\":30,\"offsetgroup\":\"\",\"orientation\":\"v\",\"showlegend\":false,\"x\":[1.55,1.0,0.41,3.88,4.57,-5.8,0.85,3.25,5.59,0.41,-0.1,4.72,6.02,0.65,-1.47,4.42,-4.06,-2.6,6.87,3.93,-0.09,-1.38,-0.26,3.89,1.56,-3.65,4.77,-4.31,2.32,4.61,1.76,-1.46,-1.96,-0.08,4.65,3.55,-0.72,-1.82,-2.36,-2.65,-0.32,-1.63,2.53,-5.78,0.13,5.1,0.9,0.2,5.12,0.27,3.02,4.9,3.29,0.07,5.72,-3.4,8.31,-1.95,8.08,5.08,1.81,0.35,-0.49,3.77,-0.13,8.23,6.07,-0.78,1.13,-3.05,7.49,-0.07,-3.65,3.47,6.93,-0.21,-6.57,3.92,5.15,-3.81,-4.55,0.51,-1.1,3.53,-4.18,-3.26,1.96,3.7,3.69,-0.13,1.14,-5.61,-6.19,-3.21,1.61,-4.15,4.28,-2.06,3.09,3.18,1.5,2.61,4.31,1.19,4.84,2.54,2.24,5.2,0.43,-0.07,0.05,3.88,1.89,-0.36,3.49,-1.5,-4.56,1.13,1.32,2.76,-7.15,0.92,-1.39,-1.75,2.69,1.95,-2.48,2.61,-6.04,-0.24,4.03,4.63,6.32,2.69,2.55,0.38,1.91,-2.88,3.28,1.96,-1.97,2.83,3.93,0.32,-3.79,1.63,-0.59,-6.2,-8.6,-8.18,6.36,1.53,-4.82,0.44,10.16,1.35,4.91,-2.89,3.55,4.85,1.43,-2.02,-0.35,4.87,-1.1,3.22,-1.05,2.44,2.69,0.99,1.52,0.61,1.15,1.64,1.82,-1.62,2.87,0.81,-0.52,0.39,3.32,-0.15,-1.45,3.42,-0.77,-4.86,1.34,2.25,3.2,2.73,-0.88,0.9,0.49,-1.79,-2.18,2.05,-5.41,-1.61,-1.35,-7.78,-0.7,4.75,0.31,-0.15,7.82,0.2,3.94,4.22,-5.24,1.75,4.53,-1.17,3.28,-3.53,0.75,2.63,-4.38,-3.12,0.94,8.05,1.25,0.91,-1.85,1.15,3.85,0.72,4.8,-4.16,-0.82,-4.74,3.44,2.15,-0.22,-5.56,-6.02,4.01,-2.5,4.3,-3.41,-1.87,-7.65,5.27,0.15,-9.05,-6.1,-5.0,7.33,4.45,3.41,-1.25,4.74,5.68,4.05,0.91,3.68,3.63,-4.16,-0.93,-3.16,3.61,-0.7,-4.18,-0.25,8.62,1.81,2.53,0.59,0.44,1.73,-2.18,0.23,3.45,-0.49,0.93,4.56,1.18,12.28,5.99,2.17,4.73,4.41,4.43,-6.77,-2.11,-3.46,6.16,2.47,-1.15,11.83,-1.14,3.07,-1.1,-1.44,4.09,-0.81,-0.51,2.26,-2.22,-0.78,5.25,-5.05,-2.17,-1.4,0.02,-2.36,4.54,-1.62,-2.1,-0.25,-4.34,2.7,0.28,-6.15,-2.48,2.49,8.54,0.42,-1.76,5.39,2.59,-0.73,-9.16,1.66,1.49,3.97,-3.65,5.52,0.17,-2.63,3.87,0.87,5.31,0.0,-6.86,4.26,1.68,-4.57,1.33,3.6,-2.35,-0.17,-1.04,-0.22,-6.21,-5.38,4.91,3.66,-3.01,-1.75,-6.05,-1.02,4.0,-3.92,-2.03,-2.3,11.6,0.76,11.04,3.6,1.52,3.31,1.9,3.31,7.5,-1.24,3.23,-3.03,1.13,1.02,-1.52,1.74,-0.88,-0.92,-3.89,1.35,0.55,-5.94,1.75,-1.65,10.63,-0.35,-0.01,-1.51,2.24,7.41,0.86,-0.29,-0.46,5.41,1.21,-0.48,-1.2,-3.47,4.25,6.51,4.51,0.24,7.15,5.28,-1.41,5.02,1.41,-5.87,7.12,-8.54,5.47,2.15,-2.83,4.04,4.18,-3.33,0.94,0.32,4.33,-0.54,-3.86,3.97,2.6,-1.89,1.47,7.11,-2.89,2.08,5.01,3.51,-0.79,8.84,1.55,-0.65,-2.52,1.65,2.14,-6.88,0.85,2.43,-2.69,9.2,-0.89,-0.52,-9.43,-5.12,-0.67,5.99,2.48,4.15,6.73,2.22,0.03,3.86,-4.79,4.49,1.96,-1.91,1.18,-4.39,11.16,-1.99,0.96,-2.18,2.79,0.1,-1.74,3.94,-2.4,0.91,0.21,3.03,1.01,0.7,1.05,1.87,-2.54,2.27,0.08,-0.53,3.44,-1.0,1.94,-1.29,1.01,3.25,-3.0,-4.57,1.15,1.24,-2.68,3.15,3.76,-2.69,2.08,-3.95,1.23,2.43,3.61,2.73,2.8,3.63,2.13,3.18,-0.03,4.01,-0.5,4.1,1.74,3.26,0.69,0.79,1.34,2.29,0.23,-4.57,1.88,5.42,2.61,7.34,-2.15,6.13,0.59,-4.26,5.84,5.86,4.35,7.81,-5.75,5.32,-3.45,4.46,1.57,1.02,7.04,4.99,0.91,-1.88,3.94,-1.16,-14.58,6.24,8.03,5.91,5.64,4.1,-3.23,3.88,3.79,-2.5,5.44,-3.2,-0.63,-2.86,6.25,1.91,5.78,-5.09,-2.01,9.67,-3.08,-2.19,2.39,-1.63,6.07,-5.35,-0.49,-8.01,0.41,3.46,-9.23,-6.42,7.68,0.51,-2.5,-1.07,-6.41,-8.17,1.81,7.52,0.76,-2.74,-1.7,0.84,8.1,5.09,1.13,1.62,1.79,-1.19,5.5,0.71,5.08,1.73,1.22,-1.64,-1.68,1.21,1.8,-3.43,0.23,0.94,1.4,3.86,3.25,-2.53,1.89,-1.91,-2.01,3.0,-0.01,3.6,-1.12,0.69,-1.77,3.52,-0.1,2.55,0.05,1.11,1.22,-3.09,0.01,0.51,2.13,2.46,3.15,1.65,1.26,1.41,-2.18,1.0,4.33,3.25,-1.78,-3.2,1.29,3.58,1.48,-4.4,-0.86,-8.57,-10.99,8.54,9.39,5.31,0.02,7.41,3.36,3.57,-1.98,5.74,1.78,-3.7,2.85,5.88,1.48,-8.2,-5.39,6.88,-4.74,8.76,3.69,-0.23,6.53,2.26,3.2,-0.1,2.85,-1.35,-1.83,-2.15,-5.68,-7.18,10.77,-0.51,0.85,4.36,4.06,3.13,-0.75,-6.27,3.96,1.26,1.98,2.42,-1.98,0.28,0.71,5.04,1.11,3.6,1.81,2.08,-1.5,4.95,-3.13,2.97,4.46,2.8,2.36,-3.56,4.31,0.69,0.62,2.1,1.91,-1.51,3.77,-1.55,2.32,2.45,-0.42,-3.1,5.49,-1.74,0.85,1.05,-2.1,1.97,-6.26,-2.64,8.3,0.05,-1.75,-5.07,-0.41,6.6,0.27,1.53,0.09,3.56,-0.12,-0.12,-1.94,3.42,1.82,1.79,3.72,-0.04,0.91,1.16,0.48,1.93,0.05,1.93,2.22,2.81,0.98,7.87,2.97,1.79,3.93,-6.58,6.89,1.31,-1.81,1.72,2.04,3.4,2.86,-1.11,2.61,4.24,5.24,0.55,2.22,2.27,2.9,-4.76,6.91,-0.83,4.36,-5.26,-3.14,3.58,-8.8,0.01,-8.39,9.11,-4.24,-9.34,7.99,5.38,-5.9,6.18,-2.61,3.51,1.46,0.25,6.47,3.11,-1.77,-4.87,-2.2,8.92,3.61],\"xaxis\":\"x\",\"yaxis\":\"y\",\"type\":\"histogram\"},{\"alignmentgroup\":\"True\",\"boxpoints\":\"all\",\"fillcolor\":\"rgba(255,255,255,0)\",\"hoveron\":\"points\",\"hovertemplate\":\"Var_%_m\\u00eas=%{x}<extra></extra>\",\"jitter\":0,\"legendgroup\":\"\",\"line\":{\"color\":\"rgba(255,255,255,0)\"},\"marker\":{\"color\":\"#636efa\",\"symbol\":\"line-ns-open\"},\"name\":\"\",\"offsetgroup\":\"\",\"showlegend\":false,\"x\":[1.55,1.0,0.41,3.88,4.57,-5.8,0.85,3.25,5.59,0.41,-0.1,4.72,6.02,0.65,-1.47,4.42,-4.06,-2.6,6.87,3.93,-0.09,-1.38,-0.26,3.89,1.56,-3.65,4.77,-4.31,2.32,4.61,1.76,-1.46,-1.96,-0.08,4.65,3.55,-0.72,-1.82,-2.36,-2.65,-0.32,-1.63,2.53,-5.78,0.13,5.1,0.9,0.2,5.12,0.27,3.02,4.9,3.29,0.07,5.72,-3.4,8.31,-1.95,8.08,5.08,1.81,0.35,-0.49,3.77,-0.13,8.23,6.07,-0.78,1.13,-3.05,7.49,-0.07,-3.65,3.47,6.93,-0.21,-6.57,3.92,5.15,-3.81,-4.55,0.51,-1.1,3.53,-4.18,-3.26,1.96,3.7,3.69,-0.13,1.14,-5.61,-6.19,-3.21,1.61,-4.15,4.28,-2.06,3.09,3.18,1.5,2.61,4.31,1.19,4.84,2.54,2.24,5.2,0.43,-0.07,0.05,3.88,1.89,-0.36,3.49,-1.5,-4.56,1.13,1.32,2.76,-7.15,0.92,-1.39,-1.75,2.69,1.95,-2.48,2.61,-6.04,-0.24,4.03,4.63,6.32,2.69,2.55,0.38,1.91,-2.88,3.28,1.96,-1.97,2.83,3.93,0.32,-3.79,1.63,-0.59,-6.2,-8.6,-8.18,6.36,1.53,-4.82,0.44,10.16,1.35,4.91,-2.89,3.55,4.85,1.43,-2.02,-0.35,4.87,-1.1,3.22,-1.05,2.44,2.69,0.99,1.52,0.61,1.15,1.64,1.82,-1.62,2.87,0.81,-0.52,0.39,3.32,-0.15,-1.45,3.42,-0.77,-4.86,1.34,2.25,3.2,2.73,-0.88,0.9,0.49,-1.79,-2.18,2.05,-5.41,-1.61,-1.35,-7.78,-0.7,4.75,0.31,-0.15,7.82,0.2,3.94,4.22,-5.24,1.75,4.53,-1.17,3.28,-3.53,0.75,2.63,-4.38,-3.12,0.94,8.05,1.25,0.91,-1.85,1.15,3.85,0.72,4.8,-4.16,-0.82,-4.74,3.44,2.15,-0.22,-5.56,-6.02,4.01,-2.5,4.3,-3.41,-1.87,-7.65,5.27,0.15,-9.05,-6.1,-5.0,7.33,4.45,3.41,-1.25,4.74,5.68,4.05,0.91,3.68,3.63,-4.16,-0.93,-3.16,3.61,-0.7,-4.18,-0.25,8.62,1.81,2.53,0.59,0.44,1.73,-2.18,0.23,3.45,-0.49,0.93,4.56,1.18,12.28,5.99,2.17,4.73,4.41,4.43,-6.77,-2.11,-3.46,6.16,2.47,-1.15,11.83,-1.14,3.07,-1.1,-1.44,4.09,-0.81,-0.51,2.26,-2.22,-0.78,5.25,-5.05,-2.17,-1.4,0.02,-2.36,4.54,-1.62,-2.1,-0.25,-4.34,2.7,0.28,-6.15,-2.48,2.49,8.54,0.42,-1.76,5.39,2.59,-0.73,-9.16,1.66,1.49,3.97,-3.65,5.52,0.17,-2.63,3.87,0.87,5.31,0.0,-6.86,4.26,1.68,-4.57,1.33,3.6,-2.35,-0.17,-1.04,-0.22,-6.21,-5.38,4.91,3.66,-3.01,-1.75,-6.05,-1.02,4.0,-3.92,-2.03,-2.3,11.6,0.76,11.04,3.6,1.52,3.31,1.9,3.31,7.5,-1.24,3.23,-3.03,1.13,1.02,-1.52,1.74,-0.88,-0.92,-3.89,1.35,0.55,-5.94,1.75,-1.65,10.63,-0.35,-0.01,-1.51,2.24,7.41,0.86,-0.29,-0.46,5.41,1.21,-0.48,-1.2,-3.47,4.25,6.51,4.51,0.24,7.15,5.28,-1.41,5.02,1.41,-5.87,7.12,-8.54,5.47,2.15,-2.83,4.04,4.18,-3.33,0.94,0.32,4.33,-0.54,-3.86,3.97,2.6,-1.89,1.47,7.11,-2.89,2.08,5.01,3.51,-0.79,8.84,1.55,-0.65,-2.52,1.65,2.14,-6.88,0.85,2.43,-2.69,9.2,-0.89,-0.52,-9.43,-5.12,-0.67,5.99,2.48,4.15,6.73,2.22,0.03,3.86,-4.79,4.49,1.96,-1.91,1.18,-4.39,11.16,-1.99,0.96,-2.18,2.79,0.1,-1.74,3.94,-2.4,0.91,0.21,3.03,1.01,0.7,1.05,1.87,-2.54,2.27,0.08,-0.53,3.44,-1.0,1.94,-1.29,1.01,3.25,-3.0,-4.57,1.15,1.24,-2.68,3.15,3.76,-2.69,2.08,-3.95,1.23,2.43,3.61,2.73,2.8,3.63,2.13,3.18,-0.03,4.01,-0.5,4.1,1.74,3.26,0.69,0.79,1.34,2.29,0.23,-4.57,1.88,5.42,2.61,7.34,-2.15,6.13,0.59,-4.26,5.84,5.86,4.35,7.81,-5.75,5.32,-3.45,4.46,1.57,1.02,7.04,4.99,0.91,-1.88,3.94,-1.16,-14.58,6.24,8.03,5.91,5.64,4.1,-3.23,3.88,3.79,-2.5,5.44,-3.2,-0.63,-2.86,6.25,1.91,5.78,-5.09,-2.01,9.67,-3.08,-2.19,2.39,-1.63,6.07,-5.35,-0.49,-8.01,0.41,3.46,-9.23,-6.42,7.68,0.51,-2.5,-1.07,-6.41,-8.17,1.81,7.52,0.76,-2.74,-1.7,0.84,8.1,5.09,1.13,1.62,1.79,-1.19,5.5,0.71,5.08,1.73,1.22,-1.64,-1.68,1.21,1.8,-3.43,0.23,0.94,1.4,3.86,3.25,-2.53,1.89,-1.91,-2.01,3.0,-0.01,3.6,-1.12,0.69,-1.77,3.52,-0.1,2.55,0.05,1.11,1.22,-3.09,0.01,0.51,2.13,2.46,3.15,1.65,1.26,1.41,-2.18,1.0,4.33,3.25,-1.78,-3.2,1.29,3.58,1.48,-4.4,-0.86,-8.57,-10.99,8.54,9.39,5.31,0.02,7.41,3.36,3.57,-1.98,5.74,1.78,-3.7,2.85,5.88,1.48,-8.2,-5.39,6.88,-4.74,8.76,3.69,-0.23,6.53,2.26,3.2,-0.1,2.85,-1.35,-1.83,-2.15,-5.68,-7.18,10.77,-0.51,0.85,4.36,4.06,3.13,-0.75,-6.27,3.96,1.26,1.98,2.42,-1.98,0.28,0.71,5.04,1.11,3.6,1.81,2.08,-1.5,4.95,-3.13,2.97,4.46,2.8,2.36,-3.56,4.31,0.69,0.62,2.1,1.91,-1.51,3.77,-1.55,2.32,2.45,-0.42,-3.1,5.49,-1.74,0.85,1.05,-2.1,1.97,-6.26,-2.64,8.3,0.05,-1.75,-5.07,-0.41,6.6,0.27,1.53,0.09,3.56,-0.12,-0.12,-1.94,3.42,1.82,1.79,3.72,-0.04,0.91,1.16,0.48,1.93,0.05,1.93,2.22,2.81,0.98,7.87,2.97,1.79,3.93,-6.58,6.89,1.31,-1.81,1.72,2.04,3.4,2.86,-1.11,2.61,4.24,5.24,0.55,2.22,2.27,2.9,-4.76,6.91,-0.83,4.36,-5.26,-3.14,3.58,-8.8,0.01,-8.39,9.11,-4.24,-9.34,7.99,5.38,-5.9,6.18,-2.61,3.51,1.46,0.25,6.47,3.11,-1.77,-4.87,-2.2,8.92,3.61],\"xaxis\":\"x2\",\"yaxis\":\"y2\",\"type\":\"box\"}],                        {\"template\":{\"data\":{\"histogram2dcontour\":[{\"type\":\"histogram2dcontour\",\"colorbar\":{\"outlinewidth\":0,\"ticks\":\"\"},\"colorscale\":[[0.0,\"#0d0887\"],[0.1111111111111111,\"#46039f\"],[0.2222222222222222,\"#7201a8\"],[0.3333333333333333,\"#9c179e\"],[0.4444444444444444,\"#bd3786\"],[0.5555555555555556,\"#d8576b\"],[0.6666666666666666,\"#ed7953\"],[0.7777777777777778,\"#fb9f3a\"],[0.8888888888888888,\"#fdca26\"],[1.0,\"#f0f921\"]]}],\"choropleth\":[{\"type\":\"choropleth\",\"colorbar\":{\"outlinewidth\":0,\"ticks\":\"\"}}],\"histogram2d\":[{\"type\":\"histogram2d\",\"colorbar\":{\"outlinewidth\":0,\"ticks\":\"\"},\"colorscale\":[[0.0,\"#0d0887\"],[0.1111111111111111,\"#46039f\"],[0.2222222222222222,\"#7201a8\"],[0.3333333333333333,\"#9c179e\"],[0.4444444444444444,\"#bd3786\"],[0.5555555555555556,\"#d8576b\"],[0.6666666666666666,\"#ed7953\"],[0.7777777777777778,\"#fb9f3a\"],[0.8888888888888888,\"#fdca26\"],[1.0,\"#f0f921\"]]}],\"heatmap\":[{\"type\":\"heatmap\",\"colorbar\":{\"outlinewidth\":0,\"ticks\":\"\"},\"colorscale\":[[0.0,\"#0d0887\"],[0.1111111111111111,\"#46039f\"],[0.2222222222222222,\"#7201a8\"],[0.3333333333333333,\"#9c179e\"],[0.4444444444444444,\"#bd3786\"],[0.5555555555555556,\"#d8576b\"],[0.6666666666666666,\"#ed7953\"],[0.7777777777777778,\"#fb9f3a\"],[0.8888888888888888,\"#fdca26\"],[1.0,\"#f0f921\"]]}],\"heatmapgl\":[{\"type\":\"heatmapgl\",\"colorbar\":{\"outlinewidth\":0,\"ticks\":\"\"},\"colorscale\":[[0.0,\"#0d0887\"],[0.1111111111111111,\"#46039f\"],[0.2222222222222222,\"#7201a8\"],[0.3333333333333333,\"#9c179e\"],[0.4444444444444444,\"#bd3786\"],[0.5555555555555556,\"#d8576b\"],[0.6666666666666666,\"#ed7953\"],[0.7777777777777778,\"#fb9f3a\"],[0.8888888888888888,\"#fdca26\"],[1.0,\"#f0f921\"]]}],\"contourcarpet\":[{\"type\":\"contourcarpet\",\"colorbar\":{\"outlinewidth\":0,\"ticks\":\"\"}}],\"contour\":[{\"type\":\"contour\",\"colorbar\":{\"outlinewidth\":0,\"ticks\":\"\"},\"colorscale\":[[0.0,\"#0d0887\"],[0.1111111111111111,\"#46039f\"],[0.2222222222222222,\"#7201a8\"],[0.3333333333333333,\"#9c179e\"],[0.4444444444444444,\"#bd3786\"],[0.5555555555555556,\"#d8576b\"],[0.6666666666666666,\"#ed7953\"],[0.7777777777777778,\"#fb9f3a\"],[0.8888888888888888,\"#fdca26\"],[1.0,\"#f0f921\"]]}],\"surface\":[{\"type\":\"surface\",\"colorbar\":{\"outlinewidth\":0,\"ticks\":\"\"},\"colorscale\":[[0.0,\"#0d0887\"],[0.1111111111111111,\"#46039f\"],[0.2222222222222222,\"#7201a8\"],[0.3333333333333333,\"#9c179e\"],[0.4444444444444444,\"#bd3786\"],[0.5555555555555556,\"#d8576b\"],[0.6666666666666666,\"#ed7953\"],[0.7777777777777778,\"#fb9f3a\"],[0.8888888888888888,\"#fdca26\"],[1.0,\"#f0f921\"]]}],\"mesh3d\":[{\"type\":\"mesh3d\",\"colorbar\":{\"outlinewidth\":0,\"ticks\":\"\"}}],\"scatter\":[{\"fillpattern\":{\"fillmode\":\"overlay\",\"size\":10,\"solidity\":0.2},\"type\":\"scatter\"}],\"parcoords\":[{\"type\":\"parcoords\",\"line\":{\"colorbar\":{\"outlinewidth\":0,\"ticks\":\"\"}}}],\"scatterpolargl\":[{\"type\":\"scatterpolargl\",\"marker\":{\"colorbar\":{\"outlinewidth\":0,\"ticks\":\"\"}}}],\"bar\":[{\"error_x\":{\"color\":\"#2a3f5f\"},\"error_y\":{\"color\":\"#2a3f5f\"},\"marker\":{\"line\":{\"color\":\"#E5ECF6\",\"width\":0.5},\"pattern\":{\"fillmode\":\"overlay\",\"size\":10,\"solidity\":0.2}},\"type\":\"bar\"}],\"scattergeo\":[{\"type\":\"scattergeo\",\"marker\":{\"colorbar\":{\"outlinewidth\":0,\"ticks\":\"\"}}}],\"scatterpolar\":[{\"type\":\"scatterpolar\",\"marker\":{\"colorbar\":{\"outlinewidth\":0,\"ticks\":\"\"}}}],\"histogram\":[{\"marker\":{\"pattern\":{\"fillmode\":\"overlay\",\"size\":10,\"solidity\":0.2}},\"type\":\"histogram\"}],\"scattergl\":[{\"type\":\"scattergl\",\"marker\":{\"colorbar\":{\"outlinewidth\":0,\"ticks\":\"\"}}}],\"scatter3d\":[{\"type\":\"scatter3d\",\"line\":{\"colorbar\":{\"outlinewidth\":0,\"ticks\":\"\"}},\"marker\":{\"colorbar\":{\"outlinewidth\":0,\"ticks\":\"\"}}}],\"scattermapbox\":[{\"type\":\"scattermapbox\",\"marker\":{\"colorbar\":{\"outlinewidth\":0,\"ticks\":\"\"}}}],\"scatterternary\":[{\"type\":\"scatterternary\",\"marker\":{\"colorbar\":{\"outlinewidth\":0,\"ticks\":\"\"}}}],\"scattercarpet\":[{\"type\":\"scattercarpet\",\"marker\":{\"colorbar\":{\"outlinewidth\":0,\"ticks\":\"\"}}}],\"carpet\":[{\"aaxis\":{\"endlinecolor\":\"#2a3f5f\",\"gridcolor\":\"white\",\"linecolor\":\"white\",\"minorgridcolor\":\"white\",\"startlinecolor\":\"#2a3f5f\"},\"baxis\":{\"endlinecolor\":\"#2a3f5f\",\"gridcolor\":\"white\",\"linecolor\":\"white\",\"minorgridcolor\":\"white\",\"startlinecolor\":\"#2a3f5f\"},\"type\":\"carpet\"}],\"table\":[{\"cells\":{\"fill\":{\"color\":\"#EBF0F8\"},\"line\":{\"color\":\"white\"}},\"header\":{\"fill\":{\"color\":\"#C8D4E3\"},\"line\":{\"color\":\"white\"}},\"type\":\"table\"}],\"barpolar\":[{\"marker\":{\"line\":{\"color\":\"#E5ECF6\",\"width\":0.5},\"pattern\":{\"fillmode\":\"overlay\",\"size\":10,\"solidity\":0.2}},\"type\":\"barpolar\"}],\"pie\":[{\"automargin\":true,\"type\":\"pie\"}]},\"layout\":{\"autotypenumbers\":\"strict\",\"colorway\":[\"#636efa\",\"#EF553B\",\"#00cc96\",\"#ab63fa\",\"#FFA15A\",\"#19d3f3\",\"#FF6692\",\"#B6E880\",\"#FF97FF\",\"#FECB52\"],\"font\":{\"color\":\"#2a3f5f\"},\"hovermode\":\"closest\",\"hoverlabel\":{\"align\":\"left\"},\"paper_bgcolor\":\"white\",\"plot_bgcolor\":\"#E5ECF6\",\"polar\":{\"bgcolor\":\"#E5ECF6\",\"angularaxis\":{\"gridcolor\":\"white\",\"linecolor\":\"white\",\"ticks\":\"\"},\"radialaxis\":{\"gridcolor\":\"white\",\"linecolor\":\"white\",\"ticks\":\"\"}},\"ternary\":{\"bgcolor\":\"#E5ECF6\",\"aaxis\":{\"gridcolor\":\"white\",\"linecolor\":\"white\",\"ticks\":\"\"},\"baxis\":{\"gridcolor\":\"white\",\"linecolor\":\"white\",\"ticks\":\"\"},\"caxis\":{\"gridcolor\":\"white\",\"linecolor\":\"white\",\"ticks\":\"\"}},\"coloraxis\":{\"colorbar\":{\"outlinewidth\":0,\"ticks\":\"\"}},\"colorscale\":{\"sequential\":[[0.0,\"#0d0887\"],[0.1111111111111111,\"#46039f\"],[0.2222222222222222,\"#7201a8\"],[0.3333333333333333,\"#9c179e\"],[0.4444444444444444,\"#bd3786\"],[0.5555555555555556,\"#d8576b\"],[0.6666666666666666,\"#ed7953\"],[0.7777777777777778,\"#fb9f3a\"],[0.8888888888888888,\"#fdca26\"],[1.0,\"#f0f921\"]],\"sequentialminus\":[[0.0,\"#0d0887\"],[0.1111111111111111,\"#46039f\"],[0.2222222222222222,\"#7201a8\"],[0.3333333333333333,\"#9c179e\"],[0.4444444444444444,\"#bd3786\"],[0.5555555555555556,\"#d8576b\"],[0.6666666666666666,\"#ed7953\"],[0.7777777777777778,\"#fb9f3a\"],[0.8888888888888888,\"#fdca26\"],[1.0,\"#f0f921\"]],\"diverging\":[[0,\"#8e0152\"],[0.1,\"#c51b7d\"],[0.2,\"#de77ae\"],[0.3,\"#f1b6da\"],[0.4,\"#fde0ef\"],[0.5,\"#f7f7f7\"],[0.6,\"#e6f5d0\"],[0.7,\"#b8e186\"],[0.8,\"#7fbc41\"],[0.9,\"#4d9221\"],[1,\"#276419\"]]},\"xaxis\":{\"gridcolor\":\"white\",\"linecolor\":\"white\",\"ticks\":\"\",\"title\":{\"standoff\":15},\"zerolinecolor\":\"white\",\"automargin\":true,\"zerolinewidth\":2},\"yaxis\":{\"gridcolor\":\"white\",\"linecolor\":\"white\",\"ticks\":\"\",\"title\":{\"standoff\":15},\"zerolinecolor\":\"white\",\"automargin\":true,\"zerolinewidth\":2},\"scene\":{\"xaxis\":{\"backgroundcolor\":\"#E5ECF6\",\"gridcolor\":\"white\",\"linecolor\":\"white\",\"showbackground\":true,\"ticks\":\"\",\"zerolinecolor\":\"white\",\"gridwidth\":2},\"yaxis\":{\"backgroundcolor\":\"#E5ECF6\",\"gridcolor\":\"white\",\"linecolor\":\"white\",\"showbackground\":true,\"ticks\":\"\",\"zerolinecolor\":\"white\",\"gridwidth\":2},\"zaxis\":{\"backgroundcolor\":\"#E5ECF6\",\"gridcolor\":\"white\",\"linecolor\":\"white\",\"showbackground\":true,\"ticks\":\"\",\"zerolinecolor\":\"white\",\"gridwidth\":2}},\"shapedefaults\":{\"line\":{\"color\":\"#2a3f5f\"}},\"annotationdefaults\":{\"arrowcolor\":\"#2a3f5f\",\"arrowhead\":0,\"arrowwidth\":1},\"geo\":{\"bgcolor\":\"white\",\"landcolor\":\"#E5ECF6\",\"subunitcolor\":\"white\",\"showland\":true,\"showlakes\":true,\"lakecolor\":\"white\"},\"title\":{\"x\":0.05},\"mapbox\":{\"style\":\"light\"}}},\"xaxis\":{\"anchor\":\"y\",\"domain\":[0.0,1.0],\"title\":{\"text\":\"M\\u00eas\",\"font\":{\"size\":16}},\"tickfont\":{\"size\":14}},\"yaxis\":{\"anchor\":\"x\",\"domain\":[0.0,0.8316],\"title\":{\"text\":\"Varia\\u00e7\\u00e3o M\\u00e9dia (%)\",\"font\":{\"size\":16}},\"tickfont\":{\"size\":14}},\"xaxis2\":{\"anchor\":\"y2\",\"domain\":[0.0,1.0],\"matches\":\"x\",\"showticklabels\":false,\"showgrid\":true},\"yaxis2\":{\"anchor\":\"x2\",\"domain\":[0.8416,1.0],\"matches\":\"y2\",\"showticklabels\":false,\"showline\":false,\"ticks\":\"\",\"showgrid\":false},\"legend\":{\"tracegroupgap\":0},\"title\":{\"text\":\"Histograma e Gr\\u00e1fico de Densidade Interativo de Var_%_m\\u00eas\"},\"barmode\":\"relative\",\"font\":{\"size\":12},\"plot_bgcolor\":\"white\",\"paper_bgcolor\":\"white\",\"width\":1000,\"height\":600},                        {\"responsive\": true}                    ).then(function(){\n",
       "                            \n",
       "var gd = document.getElementById('bbeca797-97bb-4d95-8494-bbaf31f4974b');\n",
       "var x = new MutationObserver(function (mutations, observer) {{\n",
       "        var display = window.getComputedStyle(gd).display;\n",
       "        if (!display || display === 'none') {{\n",
       "            console.log([gd, 'removed!']);\n",
       "            Plotly.purge(gd);\n",
       "            observer.disconnect();\n",
       "        }}\n",
       "}});\n",
       "\n",
       "// Listen for the removal of the full notebook cells\n",
       "var notebookContainer = gd.closest('#notebook-container');\n",
       "if (notebookContainer) {{\n",
       "    x.observe(notebookContainer, {childList: true});\n",
       "}}\n",
       "\n",
       "// Listen for the clearing of the current output cell\n",
       "var outputEl = gd.closest('.output');\n",
       "if (outputEl) {{\n",
       "    x.observe(outputEl, {childList: true});\n",
       "}}\n",
       "\n",
       "                        })                };                });            </script>        </div>"
      ]
     },
     "metadata": {},
     "output_type": "display_data"
    }
   ],
   "source": [
    "# Criando um histograma com um gráfico de densidade\n",
    "fig = px.histogram(sp500_sem_crises2, x='Var_%_mês', nbins=30,\n",
    "                   marginal='rug',  # Adiciona um gráfico de densidade\n",
    "                   title='Histograma e Gráfico de Densidade Interativo de Var_%_mês')\n",
    "\n",
    "# Atualizando o layout\n",
    "fig.update_layout(\n",
    "    plot_bgcolor='white',\n",
    "    paper_bgcolor='white',\n",
    "    font=dict(\n",
    "        size=12,\n",
    "    ),\n",
    "    xaxis=dict(\n",
    "        title='Mês',\n",
    "        titlefont_size=16,\n",
    "        tickfont_size=14,\n",
    "    ),\n",
    "    yaxis=dict(\n",
    "        title='Variação Média (%)',\n",
    "        titlefont_size=16,\n",
    "        tickfont_size=14,\n",
    "    ),\n",
    ")\n",
    "\n",
    "# Ajustando o tamanho do gráfico\n",
    "fig.update_layout(width=1000, height=600)\n",
    "\n",
    "fig.show()\n"
   ]
  },
  {
   "cell_type": "code",
   "execution_count": 32,
   "id": "ee31711f-7f40-4b8e-ac00-52ee3ceb0323",
   "metadata": {},
   "outputs": [
    {
     "data": {
      "application/vnd.plotly.v1+json": {
       "config": {
        "plotlyServerURL": "https://plot.ly"
       },
       "data": [
        {
         "alignmentgroup": "True",
         "hovertemplate": "Var_%_mês=%{y}<extra></extra>",
         "legendgroup": "",
         "marker": {
          "color": "#636efa"
         },
         "name": "",
         "notched": false,
         "offsetgroup": "",
         "orientation": "v",
         "showlegend": false,
         "type": "box",
         "x0": " ",
         "xaxis": "x",
         "y": [
          1.55,
          1,
          0.41,
          3.88,
          4.57,
          -5.8,
          0.85,
          3.25,
          5.59,
          0.41,
          -0.1,
          4.72,
          6.02,
          0.65,
          -1.47,
          4.42,
          -4.06,
          -2.6,
          6.87,
          3.93,
          -0.09,
          -1.38,
          -0.26,
          3.89,
          1.56,
          -3.65,
          4.77,
          -4.31,
          2.32,
          4.61,
          1.76,
          -1.46,
          -1.96,
          -0.08,
          4.65,
          3.55,
          -0.72,
          -1.82,
          -2.36,
          -2.65,
          -0.32,
          -1.63,
          2.53,
          -5.78,
          0.13,
          5.1,
          0.9,
          0.2,
          5.12,
          0.27,
          3.02,
          4.9,
          3.29,
          0.07,
          5.72,
          -3.4,
          8.31,
          -1.95,
          8.08,
          5.08,
          1.81,
          0.35,
          -0.49,
          3.77,
          -0.13,
          8.23,
          6.07,
          -0.78,
          1.13,
          -3.05,
          7.49,
          -0.07,
          -3.65,
          3.47,
          6.93,
          -0.21,
          -6.57,
          3.92,
          5.15,
          -3.81,
          -4.55,
          0.51,
          -1.1,
          3.53,
          -4.18,
          -3.26,
          1.96,
          3.7,
          3.69,
          -0.13,
          1.14,
          -5.61,
          -6.19,
          -3.21,
          1.61,
          -4.15,
          4.28,
          -2.06,
          3.09,
          3.18,
          1.5,
          2.61,
          4.31,
          1.19,
          4.84,
          2.54,
          2.24,
          5.2,
          0.43,
          -0.07,
          0.05,
          3.88,
          1.89,
          -0.36,
          3.49,
          -1.5,
          -4.56,
          1.13,
          1.32,
          2.76,
          -7.15,
          0.92,
          -1.39,
          -1.75,
          2.69,
          1.95,
          -2.48,
          2.61,
          -6.04,
          -0.24,
          4.03,
          4.63,
          6.32,
          2.69,
          2.55,
          0.38,
          1.91,
          -2.88,
          3.28,
          1.96,
          -1.97,
          2.83,
          3.93,
          0.32,
          -3.79,
          1.63,
          -0.59,
          -6.2,
          -8.6,
          -8.18,
          6.36,
          1.53,
          -4.82,
          0.44,
          10.16,
          1.35,
          4.91,
          -2.89,
          3.55,
          4.85,
          1.43,
          -2.02,
          -0.35,
          4.87,
          -1.1,
          3.22,
          -1.05,
          2.44,
          2.69,
          0.99,
          1.52,
          0.61,
          1.15,
          1.64,
          1.82,
          -1.62,
          2.87,
          0.81,
          -0.52,
          0.39,
          3.32,
          -0.15,
          -1.45,
          3.42,
          -0.77,
          -4.86,
          1.34,
          2.25,
          3.2,
          2.73,
          -0.88,
          0.9,
          0.49,
          -1.79,
          -2.18,
          2.05,
          -5.41,
          -1.61,
          -1.35,
          -7.78,
          -0.7,
          4.75,
          0.31,
          -0.15,
          7.82,
          0.2,
          3.94,
          4.22,
          -5.24,
          1.75,
          4.53,
          -1.17,
          3.28,
          -3.53,
          0.75,
          2.63,
          -4.38,
          -3.12,
          0.94,
          8.05,
          1.25,
          0.91,
          -1.85,
          1.15,
          3.85,
          0.72,
          4.8,
          -4.16,
          -0.82,
          -4.74,
          3.44,
          2.15,
          -0.22,
          -5.56,
          -6.02,
          4.01,
          -2.5,
          4.3,
          -3.41,
          -1.87,
          -7.65,
          5.27,
          0.15,
          -9.05,
          -6.1,
          -5,
          7.33,
          4.45,
          3.41,
          -1.25,
          4.74,
          5.68,
          4.05,
          0.91,
          3.68,
          3.63,
          -4.16,
          -0.93,
          -3.16,
          3.61,
          -0.7,
          -4.18,
          -0.25,
          8.62,
          1.81,
          2.53,
          0.59,
          0.44,
          1.73,
          -2.18,
          0.23,
          3.45,
          -0.49,
          0.93,
          4.56,
          1.18,
          12.28,
          5.99,
          2.17,
          4.73,
          4.41,
          4.43,
          -6.77,
          -2.11,
          -3.46,
          6.16,
          2.47,
          -1.15,
          11.83,
          -1.14,
          3.07,
          -1.1,
          -1.44,
          4.09,
          -0.81,
          -0.51,
          2.26,
          -2.22,
          -0.78,
          5.25,
          -5.05,
          -2.17,
          -1.4,
          0.02,
          -2.36,
          4.54,
          -1.62,
          -2.1,
          -0.25,
          -4.34,
          2.7,
          0.28,
          -6.15,
          -2.48,
          2.49,
          8.54,
          0.42,
          -1.76,
          5.39,
          2.59,
          -0.73,
          -9.16,
          1.66,
          1.49,
          3.97,
          -3.65,
          5.52,
          0.17,
          -2.63,
          3.87,
          0.87,
          5.31,
          0,
          -6.86,
          4.26,
          1.68,
          -4.57,
          1.33,
          3.6,
          -2.35,
          -0.17,
          -1.04,
          -0.22,
          -6.21,
          -5.38,
          4.91,
          3.66,
          -3.01,
          -1.75,
          -6.05,
          -1.02,
          4,
          -3.92,
          -2.03,
          -2.3,
          11.6,
          0.76,
          11.04,
          3.6,
          1.52,
          3.31,
          1.9,
          3.31,
          7.5,
          -1.24,
          3.23,
          -3.03,
          1.13,
          1.02,
          -1.52,
          1.74,
          -0.88,
          -0.92,
          -3.89,
          1.35,
          0.55,
          -5.94,
          1.75,
          -1.65,
          10.63,
          -0.35,
          -0.01,
          -1.51,
          2.24,
          7.41,
          0.86,
          -0.29,
          -0.46,
          5.41,
          1.21,
          -0.48,
          -1.2,
          -3.47,
          4.25,
          6.51,
          4.51,
          0.24,
          7.15,
          5.28,
          -1.41,
          5.02,
          1.41,
          -5.87,
          7.12,
          -8.54,
          5.47,
          2.15,
          -2.83,
          4.04,
          4.18,
          -3.33,
          0.94,
          0.32,
          4.33,
          -0.54,
          -3.86,
          3.97,
          2.6,
          -1.89,
          1.47,
          7.11,
          -2.89,
          2.08,
          5.01,
          3.51,
          -0.79,
          8.84,
          1.55,
          -0.65,
          -2.52,
          1.65,
          2.14,
          -6.88,
          0.85,
          2.43,
          -2.69,
          9.2,
          -0.89,
          -0.52,
          -9.43,
          -5.12,
          -0.67,
          5.99,
          2.48,
          4.15,
          6.73,
          2.22,
          0.03,
          3.86,
          -4.79,
          4.49,
          1.96,
          -1.91,
          1.18,
          -4.39,
          11.16,
          -1.99,
          0.96,
          -2.18,
          2.79,
          0.1,
          -1.74,
          3.94,
          -2.4,
          0.91,
          0.21,
          3.03,
          1.01,
          0.7,
          1.05,
          1.87,
          -2.54,
          2.27,
          0.08,
          -0.53,
          3.44,
          -1,
          1.94,
          -1.29,
          1.01,
          3.25,
          -3,
          -4.57,
          1.15,
          1.24,
          -2.68,
          3.15,
          3.76,
          -2.69,
          2.08,
          -3.95,
          1.23,
          2.43,
          3.61,
          2.73,
          2.8,
          3.63,
          2.13,
          3.18,
          -0.03,
          4.01,
          -0.5,
          4.1,
          1.74,
          3.26,
          0.69,
          0.79,
          1.34,
          2.29,
          0.23,
          -4.57,
          1.88,
          5.42,
          2.61,
          7.34,
          -2.15,
          6.13,
          0.59,
          -4.26,
          5.84,
          5.86,
          4.35,
          7.81,
          -5.75,
          5.32,
          -3.45,
          4.46,
          1.57,
          1.02,
          7.04,
          4.99,
          0.91,
          -1.88,
          3.94,
          -1.16,
          -14.58,
          6.24,
          8.03,
          5.91,
          5.64,
          4.1,
          -3.23,
          3.88,
          3.79,
          -2.5,
          5.44,
          -3.2,
          -0.63,
          -2.86,
          6.25,
          1.91,
          5.78,
          -5.09,
          -2.01,
          9.67,
          -3.08,
          -2.19,
          2.39,
          -1.63,
          6.07,
          -5.35,
          -0.49,
          -8.01,
          0.41,
          3.46,
          -9.23,
          -6.42,
          7.68,
          0.51,
          -2.5,
          -1.07,
          -6.41,
          -8.17,
          1.81,
          7.52,
          0.76,
          -2.74,
          -1.7,
          0.84,
          8.1,
          5.09,
          1.13,
          1.62,
          1.79,
          -1.19,
          5.5,
          0.71,
          5.08,
          1.73,
          1.22,
          -1.64,
          -1.68,
          1.21,
          1.8,
          -3.43,
          0.23,
          0.94,
          1.4,
          3.86,
          3.25,
          -2.53,
          1.89,
          -1.91,
          -2.01,
          3,
          -0.01,
          3.6,
          -1.12,
          0.69,
          -1.77,
          3.52,
          -0.1,
          2.55,
          0.05,
          1.11,
          1.22,
          -3.09,
          0.01,
          0.51,
          2.13,
          2.46,
          3.15,
          1.65,
          1.26,
          1.41,
          -2.18,
          1,
          4.33,
          3.25,
          -1.78,
          -3.2,
          1.29,
          3.58,
          1.48,
          -4.4,
          -0.86,
          -8.57,
          -10.99,
          8.54,
          9.39,
          5.31,
          0.02,
          7.41,
          3.36,
          3.57,
          -1.98,
          5.74,
          1.78,
          -3.7,
          2.85,
          5.88,
          1.48,
          -8.2,
          -5.39,
          6.88,
          -4.74,
          8.76,
          3.69,
          -0.23,
          6.53,
          2.26,
          3.2,
          -0.1,
          2.85,
          -1.35,
          -1.83,
          -2.15,
          -5.68,
          -7.18,
          10.77,
          -0.51,
          0.85,
          4.36,
          4.06,
          3.13,
          -0.75,
          -6.27,
          3.96,
          1.26,
          1.98,
          2.42,
          -1.98,
          0.28,
          0.71,
          5.04,
          1.11,
          3.6,
          1.81,
          2.08,
          -1.5,
          4.95,
          -3.13,
          2.97,
          4.46,
          2.8,
          2.36,
          -3.56,
          4.31,
          0.69,
          0.62,
          2.1,
          1.91,
          -1.51,
          3.77,
          -1.55,
          2.32,
          2.45,
          -0.42,
          -3.1,
          5.49,
          -1.74,
          0.85,
          1.05,
          -2.1,
          1.97,
          -6.26,
          -2.64,
          8.3,
          0.05,
          -1.75,
          -5.07,
          -0.41,
          6.6,
          0.27,
          1.53,
          0.09,
          3.56,
          -0.12,
          -0.12,
          -1.94,
          3.42,
          1.82,
          1.79,
          3.72,
          -0.04,
          0.91,
          1.16,
          0.48,
          1.93,
          0.05,
          1.93,
          2.22,
          2.81,
          0.98,
          7.87,
          2.97,
          1.79,
          3.93,
          -6.58,
          6.89,
          1.31,
          -1.81,
          1.72,
          2.04,
          3.4,
          2.86,
          -1.11,
          2.61,
          4.24,
          5.24,
          0.55,
          2.22,
          2.27,
          2.9,
          -4.76,
          6.91,
          -0.83,
          4.36,
          -5.26,
          -3.14,
          3.58,
          -8.8,
          0.01,
          -8.39,
          9.11,
          -4.24,
          -9.34,
          7.99,
          5.38,
          -5.9,
          6.18,
          -2.61,
          3.51,
          1.46,
          0.25,
          6.47,
          3.11,
          -1.77,
          -4.87,
          -2.2,
          8.92,
          3.61
         ],
         "y0": " ",
         "yaxis": "y"
        }
       ],
       "layout": {
        "boxmode": "group",
        "font": {
         "size": 12
        },
        "height": 600,
        "legend": {
         "tracegroupgap": 0
        },
        "paper_bgcolor": "white",
        "plot_bgcolor": "white",
        "template": {
         "data": {
          "bar": [
           {
            "error_x": {
             "color": "#2a3f5f"
            },
            "error_y": {
             "color": "#2a3f5f"
            },
            "marker": {
             "line": {
              "color": "#E5ECF6",
              "width": 0.5
             },
             "pattern": {
              "fillmode": "overlay",
              "size": 10,
              "solidity": 0.2
             }
            },
            "type": "bar"
           }
          ],
          "barpolar": [
           {
            "marker": {
             "line": {
              "color": "#E5ECF6",
              "width": 0.5
             },
             "pattern": {
              "fillmode": "overlay",
              "size": 10,
              "solidity": 0.2
             }
            },
            "type": "barpolar"
           }
          ],
          "carpet": [
           {
            "aaxis": {
             "endlinecolor": "#2a3f5f",
             "gridcolor": "white",
             "linecolor": "white",
             "minorgridcolor": "white",
             "startlinecolor": "#2a3f5f"
            },
            "baxis": {
             "endlinecolor": "#2a3f5f",
             "gridcolor": "white",
             "linecolor": "white",
             "minorgridcolor": "white",
             "startlinecolor": "#2a3f5f"
            },
            "type": "carpet"
           }
          ],
          "choropleth": [
           {
            "colorbar": {
             "outlinewidth": 0,
             "ticks": ""
            },
            "type": "choropleth"
           }
          ],
          "contour": [
           {
            "colorbar": {
             "outlinewidth": 0,
             "ticks": ""
            },
            "colorscale": [
             [
              0,
              "#0d0887"
             ],
             [
              0.1111111111111111,
              "#46039f"
             ],
             [
              0.2222222222222222,
              "#7201a8"
             ],
             [
              0.3333333333333333,
              "#9c179e"
             ],
             [
              0.4444444444444444,
              "#bd3786"
             ],
             [
              0.5555555555555556,
              "#d8576b"
             ],
             [
              0.6666666666666666,
              "#ed7953"
             ],
             [
              0.7777777777777778,
              "#fb9f3a"
             ],
             [
              0.8888888888888888,
              "#fdca26"
             ],
             [
              1,
              "#f0f921"
             ]
            ],
            "type": "contour"
           }
          ],
          "contourcarpet": [
           {
            "colorbar": {
             "outlinewidth": 0,
             "ticks": ""
            },
            "type": "contourcarpet"
           }
          ],
          "heatmap": [
           {
            "colorbar": {
             "outlinewidth": 0,
             "ticks": ""
            },
            "colorscale": [
             [
              0,
              "#0d0887"
             ],
             [
              0.1111111111111111,
              "#46039f"
             ],
             [
              0.2222222222222222,
              "#7201a8"
             ],
             [
              0.3333333333333333,
              "#9c179e"
             ],
             [
              0.4444444444444444,
              "#bd3786"
             ],
             [
              0.5555555555555556,
              "#d8576b"
             ],
             [
              0.6666666666666666,
              "#ed7953"
             ],
             [
              0.7777777777777778,
              "#fb9f3a"
             ],
             [
              0.8888888888888888,
              "#fdca26"
             ],
             [
              1,
              "#f0f921"
             ]
            ],
            "type": "heatmap"
           }
          ],
          "heatmapgl": [
           {
            "colorbar": {
             "outlinewidth": 0,
             "ticks": ""
            },
            "colorscale": [
             [
              0,
              "#0d0887"
             ],
             [
              0.1111111111111111,
              "#46039f"
             ],
             [
              0.2222222222222222,
              "#7201a8"
             ],
             [
              0.3333333333333333,
              "#9c179e"
             ],
             [
              0.4444444444444444,
              "#bd3786"
             ],
             [
              0.5555555555555556,
              "#d8576b"
             ],
             [
              0.6666666666666666,
              "#ed7953"
             ],
             [
              0.7777777777777778,
              "#fb9f3a"
             ],
             [
              0.8888888888888888,
              "#fdca26"
             ],
             [
              1,
              "#f0f921"
             ]
            ],
            "type": "heatmapgl"
           }
          ],
          "histogram": [
           {
            "marker": {
             "pattern": {
              "fillmode": "overlay",
              "size": 10,
              "solidity": 0.2
             }
            },
            "type": "histogram"
           }
          ],
          "histogram2d": [
           {
            "colorbar": {
             "outlinewidth": 0,
             "ticks": ""
            },
            "colorscale": [
             [
              0,
              "#0d0887"
             ],
             [
              0.1111111111111111,
              "#46039f"
             ],
             [
              0.2222222222222222,
              "#7201a8"
             ],
             [
              0.3333333333333333,
              "#9c179e"
             ],
             [
              0.4444444444444444,
              "#bd3786"
             ],
             [
              0.5555555555555556,
              "#d8576b"
             ],
             [
              0.6666666666666666,
              "#ed7953"
             ],
             [
              0.7777777777777778,
              "#fb9f3a"
             ],
             [
              0.8888888888888888,
              "#fdca26"
             ],
             [
              1,
              "#f0f921"
             ]
            ],
            "type": "histogram2d"
           }
          ],
          "histogram2dcontour": [
           {
            "colorbar": {
             "outlinewidth": 0,
             "ticks": ""
            },
            "colorscale": [
             [
              0,
              "#0d0887"
             ],
             [
              0.1111111111111111,
              "#46039f"
             ],
             [
              0.2222222222222222,
              "#7201a8"
             ],
             [
              0.3333333333333333,
              "#9c179e"
             ],
             [
              0.4444444444444444,
              "#bd3786"
             ],
             [
              0.5555555555555556,
              "#d8576b"
             ],
             [
              0.6666666666666666,
              "#ed7953"
             ],
             [
              0.7777777777777778,
              "#fb9f3a"
             ],
             [
              0.8888888888888888,
              "#fdca26"
             ],
             [
              1,
              "#f0f921"
             ]
            ],
            "type": "histogram2dcontour"
           }
          ],
          "mesh3d": [
           {
            "colorbar": {
             "outlinewidth": 0,
             "ticks": ""
            },
            "type": "mesh3d"
           }
          ],
          "parcoords": [
           {
            "line": {
             "colorbar": {
              "outlinewidth": 0,
              "ticks": ""
             }
            },
            "type": "parcoords"
           }
          ],
          "pie": [
           {
            "automargin": true,
            "type": "pie"
           }
          ],
          "scatter": [
           {
            "fillpattern": {
             "fillmode": "overlay",
             "size": 10,
             "solidity": 0.2
            },
            "type": "scatter"
           }
          ],
          "scatter3d": [
           {
            "line": {
             "colorbar": {
              "outlinewidth": 0,
              "ticks": ""
             }
            },
            "marker": {
             "colorbar": {
              "outlinewidth": 0,
              "ticks": ""
             }
            },
            "type": "scatter3d"
           }
          ],
          "scattercarpet": [
           {
            "marker": {
             "colorbar": {
              "outlinewidth": 0,
              "ticks": ""
             }
            },
            "type": "scattercarpet"
           }
          ],
          "scattergeo": [
           {
            "marker": {
             "colorbar": {
              "outlinewidth": 0,
              "ticks": ""
             }
            },
            "type": "scattergeo"
           }
          ],
          "scattergl": [
           {
            "marker": {
             "colorbar": {
              "outlinewidth": 0,
              "ticks": ""
             }
            },
            "type": "scattergl"
           }
          ],
          "scattermapbox": [
           {
            "marker": {
             "colorbar": {
              "outlinewidth": 0,
              "ticks": ""
             }
            },
            "type": "scattermapbox"
           }
          ],
          "scatterpolar": [
           {
            "marker": {
             "colorbar": {
              "outlinewidth": 0,
              "ticks": ""
             }
            },
            "type": "scatterpolar"
           }
          ],
          "scatterpolargl": [
           {
            "marker": {
             "colorbar": {
              "outlinewidth": 0,
              "ticks": ""
             }
            },
            "type": "scatterpolargl"
           }
          ],
          "scatterternary": [
           {
            "marker": {
             "colorbar": {
              "outlinewidth": 0,
              "ticks": ""
             }
            },
            "type": "scatterternary"
           }
          ],
          "surface": [
           {
            "colorbar": {
             "outlinewidth": 0,
             "ticks": ""
            },
            "colorscale": [
             [
              0,
              "#0d0887"
             ],
             [
              0.1111111111111111,
              "#46039f"
             ],
             [
              0.2222222222222222,
              "#7201a8"
             ],
             [
              0.3333333333333333,
              "#9c179e"
             ],
             [
              0.4444444444444444,
              "#bd3786"
             ],
             [
              0.5555555555555556,
              "#d8576b"
             ],
             [
              0.6666666666666666,
              "#ed7953"
             ],
             [
              0.7777777777777778,
              "#fb9f3a"
             ],
             [
              0.8888888888888888,
              "#fdca26"
             ],
             [
              1,
              "#f0f921"
             ]
            ],
            "type": "surface"
           }
          ],
          "table": [
           {
            "cells": {
             "fill": {
              "color": "#EBF0F8"
             },
             "line": {
              "color": "white"
             }
            },
            "header": {
             "fill": {
              "color": "#C8D4E3"
             },
             "line": {
              "color": "white"
             }
            },
            "type": "table"
           }
          ]
         },
         "layout": {
          "annotationdefaults": {
           "arrowcolor": "#2a3f5f",
           "arrowhead": 0,
           "arrowwidth": 1
          },
          "autotypenumbers": "strict",
          "coloraxis": {
           "colorbar": {
            "outlinewidth": 0,
            "ticks": ""
           }
          },
          "colorscale": {
           "diverging": [
            [
             0,
             "#8e0152"
            ],
            [
             0.1,
             "#c51b7d"
            ],
            [
             0.2,
             "#de77ae"
            ],
            [
             0.3,
             "#f1b6da"
            ],
            [
             0.4,
             "#fde0ef"
            ],
            [
             0.5,
             "#f7f7f7"
            ],
            [
             0.6,
             "#e6f5d0"
            ],
            [
             0.7,
             "#b8e186"
            ],
            [
             0.8,
             "#7fbc41"
            ],
            [
             0.9,
             "#4d9221"
            ],
            [
             1,
             "#276419"
            ]
           ],
           "sequential": [
            [
             0,
             "#0d0887"
            ],
            [
             0.1111111111111111,
             "#46039f"
            ],
            [
             0.2222222222222222,
             "#7201a8"
            ],
            [
             0.3333333333333333,
             "#9c179e"
            ],
            [
             0.4444444444444444,
             "#bd3786"
            ],
            [
             0.5555555555555556,
             "#d8576b"
            ],
            [
             0.6666666666666666,
             "#ed7953"
            ],
            [
             0.7777777777777778,
             "#fb9f3a"
            ],
            [
             0.8888888888888888,
             "#fdca26"
            ],
            [
             1,
             "#f0f921"
            ]
           ],
           "sequentialminus": [
            [
             0,
             "#0d0887"
            ],
            [
             0.1111111111111111,
             "#46039f"
            ],
            [
             0.2222222222222222,
             "#7201a8"
            ],
            [
             0.3333333333333333,
             "#9c179e"
            ],
            [
             0.4444444444444444,
             "#bd3786"
            ],
            [
             0.5555555555555556,
             "#d8576b"
            ],
            [
             0.6666666666666666,
             "#ed7953"
            ],
            [
             0.7777777777777778,
             "#fb9f3a"
            ],
            [
             0.8888888888888888,
             "#fdca26"
            ],
            [
             1,
             "#f0f921"
            ]
           ]
          },
          "colorway": [
           "#636efa",
           "#EF553B",
           "#00cc96",
           "#ab63fa",
           "#FFA15A",
           "#19d3f3",
           "#FF6692",
           "#B6E880",
           "#FF97FF",
           "#FECB52"
          ],
          "font": {
           "color": "#2a3f5f"
          },
          "geo": {
           "bgcolor": "white",
           "lakecolor": "white",
           "landcolor": "#E5ECF6",
           "showlakes": true,
           "showland": true,
           "subunitcolor": "white"
          },
          "hoverlabel": {
           "align": "left"
          },
          "hovermode": "closest",
          "mapbox": {
           "style": "light"
          },
          "paper_bgcolor": "white",
          "plot_bgcolor": "#E5ECF6",
          "polar": {
           "angularaxis": {
            "gridcolor": "white",
            "linecolor": "white",
            "ticks": ""
           },
           "bgcolor": "#E5ECF6",
           "radialaxis": {
            "gridcolor": "white",
            "linecolor": "white",
            "ticks": ""
           }
          },
          "scene": {
           "xaxis": {
            "backgroundcolor": "#E5ECF6",
            "gridcolor": "white",
            "gridwidth": 2,
            "linecolor": "white",
            "showbackground": true,
            "ticks": "",
            "zerolinecolor": "white"
           },
           "yaxis": {
            "backgroundcolor": "#E5ECF6",
            "gridcolor": "white",
            "gridwidth": 2,
            "linecolor": "white",
            "showbackground": true,
            "ticks": "",
            "zerolinecolor": "white"
           },
           "zaxis": {
            "backgroundcolor": "#E5ECF6",
            "gridcolor": "white",
            "gridwidth": 2,
            "linecolor": "white",
            "showbackground": true,
            "ticks": "",
            "zerolinecolor": "white"
           }
          },
          "shapedefaults": {
           "line": {
            "color": "#2a3f5f"
           }
          },
          "ternary": {
           "aaxis": {
            "gridcolor": "white",
            "linecolor": "white",
            "ticks": ""
           },
           "baxis": {
            "gridcolor": "white",
            "linecolor": "white",
            "ticks": ""
           },
           "bgcolor": "#E5ECF6",
           "caxis": {
            "gridcolor": "white",
            "linecolor": "white",
            "ticks": ""
           }
          },
          "title": {
           "x": 0.05
          },
          "xaxis": {
           "automargin": true,
           "gridcolor": "white",
           "linecolor": "white",
           "ticks": "",
           "title": {
            "standoff": 15
           },
           "zerolinecolor": "white",
           "zerolinewidth": 2
          },
          "yaxis": {
           "automargin": true,
           "gridcolor": "white",
           "linecolor": "white",
           "ticks": "",
           "title": {
            "standoff": 15
           },
           "zerolinecolor": "white",
           "zerolinewidth": 2
          }
         }
        },
        "title": {
         "text": "Boxplot Interativo de Var_%_mês"
        },
        "width": 1000,
        "xaxis": {
         "anchor": "y",
         "autorange": true,
         "domain": [
          0,
          1
         ],
         "range": [
          -0.5,
          0.5
         ],
         "tickfont": {
          "size": 14
         },
         "title": {
          "font": {
           "size": 16
          },
          "text": "Mês"
         },
         "type": "category"
        },
        "yaxis": {
         "anchor": "x",
         "autorange": true,
         "domain": [
          0,
          1
         ],
         "range": [
          -16.072222222222223,
          13.772222222222222
         ],
         "tickfont": {
          "size": 14
         },
         "title": {
          "font": {
           "size": 16
          },
          "text": "Variação Média (%)"
         },
         "type": "linear"
        }
       }
      },
      "image/png": "[encoded data removed]",
      "text/html": [
       "<div>                            <div id=\"768891ae-6255-42b9-9543-e48378d6981e\" class=\"plotly-graph-div\" style=\"height:600px; width:1000px;\"></div>            <script type=\"text/javascript\">                require([\"plotly\"], function(Plotly) {                    window.PLOTLYENV=window.PLOTLYENV || {};                                    if (document.getElementById(\"768891ae-6255-42b9-9543-e48378d6981e\")) {                    Plotly.newPlot(                        \"768891ae-6255-42b9-9543-e48378d6981e\",                        [{\"alignmentgroup\":\"True\",\"hovertemplate\":\"Var_%_m\\u00eas=%{y}<extra></extra>\",\"legendgroup\":\"\",\"marker\":{\"color\":\"#636efa\"},\"name\":\"\",\"notched\":false,\"offsetgroup\":\"\",\"orientation\":\"v\",\"showlegend\":false,\"x0\":\" \",\"xaxis\":\"x\",\"y\":[1.55,1.0,0.41,3.88,4.57,-5.8,0.85,3.25,5.59,0.41,-0.1,4.72,6.02,0.65,-1.47,4.42,-4.06,-2.6,6.87,3.93,-0.09,-1.38,-0.26,3.89,1.56,-3.65,4.77,-4.31,2.32,4.61,1.76,-1.46,-1.96,-0.08,4.65,3.55,-0.72,-1.82,-2.36,-2.65,-0.32,-1.63,2.53,-5.78,0.13,5.1,0.9,0.2,5.12,0.27,3.02,4.9,3.29,0.07,5.72,-3.4,8.31,-1.95,8.08,5.08,1.81,0.35,-0.49,3.77,-0.13,8.23,6.07,-0.78,1.13,-3.05,7.49,-0.07,-3.65,3.47,6.93,-0.21,-6.57,3.92,5.15,-3.81,-4.55,0.51,-1.1,3.53,-4.18,-3.26,1.96,3.7,3.69,-0.13,1.14,-5.61,-6.19,-3.21,1.61,-4.15,4.28,-2.06,3.09,3.18,1.5,2.61,4.31,1.19,4.84,2.54,2.24,5.2,0.43,-0.07,0.05,3.88,1.89,-0.36,3.49,-1.5,-4.56,1.13,1.32,2.76,-7.15,0.92,-1.39,-1.75,2.69,1.95,-2.48,2.61,-6.04,-0.24,4.03,4.63,6.32,2.69,2.55,0.38,1.91,-2.88,3.28,1.96,-1.97,2.83,3.93,0.32,-3.79,1.63,-0.59,-6.2,-8.6,-8.18,6.36,1.53,-4.82,0.44,10.16,1.35,4.91,-2.89,3.55,4.85,1.43,-2.02,-0.35,4.87,-1.1,3.22,-1.05,2.44,2.69,0.99,1.52,0.61,1.15,1.64,1.82,-1.62,2.87,0.81,-0.52,0.39,3.32,-0.15,-1.45,3.42,-0.77,-4.86,1.34,2.25,3.2,2.73,-0.88,0.9,0.49,-1.79,-2.18,2.05,-5.41,-1.61,-1.35,-7.78,-0.7,4.75,0.31,-0.15,7.82,0.2,3.94,4.22,-5.24,1.75,4.53,-1.17,3.28,-3.53,0.75,2.63,-4.38,-3.12,0.94,8.05,1.25,0.91,-1.85,1.15,3.85,0.72,4.8,-4.16,-0.82,-4.74,3.44,2.15,-0.22,-5.56,-6.02,4.01,-2.5,4.3,-3.41,-1.87,-7.65,5.27,0.15,-9.05,-6.1,-5.0,7.33,4.45,3.41,-1.25,4.74,5.68,4.05,0.91,3.68,3.63,-4.16,-0.93,-3.16,3.61,-0.7,-4.18,-0.25,8.62,1.81,2.53,0.59,0.44,1.73,-2.18,0.23,3.45,-0.49,0.93,4.56,1.18,12.28,5.99,2.17,4.73,4.41,4.43,-6.77,-2.11,-3.46,6.16,2.47,-1.15,11.83,-1.14,3.07,-1.1,-1.44,4.09,-0.81,-0.51,2.26,-2.22,-0.78,5.25,-5.05,-2.17,-1.4,0.02,-2.36,4.54,-1.62,-2.1,-0.25,-4.34,2.7,0.28,-6.15,-2.48,2.49,8.54,0.42,-1.76,5.39,2.59,-0.73,-9.16,1.66,1.49,3.97,-3.65,5.52,0.17,-2.63,3.87,0.87,5.31,0.0,-6.86,4.26,1.68,-4.57,1.33,3.6,-2.35,-0.17,-1.04,-0.22,-6.21,-5.38,4.91,3.66,-3.01,-1.75,-6.05,-1.02,4.0,-3.92,-2.03,-2.3,11.6,0.76,11.04,3.6,1.52,3.31,1.9,3.31,7.5,-1.24,3.23,-3.03,1.13,1.02,-1.52,1.74,-0.88,-0.92,-3.89,1.35,0.55,-5.94,1.75,-1.65,10.63,-0.35,-0.01,-1.51,2.24,7.41,0.86,-0.29,-0.46,5.41,1.21,-0.48,-1.2,-3.47,4.25,6.51,4.51,0.24,7.15,5.28,-1.41,5.02,1.41,-5.87,7.12,-8.54,5.47,2.15,-2.83,4.04,4.18,-3.33,0.94,0.32,4.33,-0.54,-3.86,3.97,2.6,-1.89,1.47,7.11,-2.89,2.08,5.01,3.51,-0.79,8.84,1.55,-0.65,-2.52,1.65,2.14,-6.88,0.85,2.43,-2.69,9.2,-0.89,-0.52,-9.43,-5.12,-0.67,5.99,2.48,4.15,6.73,2.22,0.03,3.86,-4.79,4.49,1.96,-1.91,1.18,-4.39,11.16,-1.99,0.96,-2.18,2.79,0.1,-1.74,3.94,-2.4,0.91,0.21,3.03,1.01,0.7,1.05,1.87,-2.54,2.27,0.08,-0.53,3.44,-1.0,1.94,-1.29,1.01,3.25,-3.0,-4.57,1.15,1.24,-2.68,3.15,3.76,-2.69,2.08,-3.95,1.23,2.43,3.61,2.73,2.8,3.63,2.13,3.18,-0.03,4.01,-0.5,4.1,1.74,3.26,0.69,0.79,1.34,2.29,0.23,-4.57,1.88,5.42,2.61,7.34,-2.15,6.13,0.59,-4.26,5.84,5.86,4.35,7.81,-5.75,5.32,-3.45,4.46,1.57,1.02,7.04,4.99,0.91,-1.88,3.94,-1.16,-14.58,6.24,8.03,5.91,5.64,4.1,-3.23,3.88,3.79,-2.5,5.44,-3.2,-0.63,-2.86,6.25,1.91,5.78,-5.09,-2.01,9.67,-3.08,-2.19,2.39,-1.63,6.07,-5.35,-0.49,-8.01,0.41,3.46,-9.23,-6.42,7.68,0.51,-2.5,-1.07,-6.41,-8.17,1.81,7.52,0.76,-2.74,-1.7,0.84,8.1,5.09,1.13,1.62,1.79,-1.19,5.5,0.71,5.08,1.73,1.22,-1.64,-1.68,1.21,1.8,-3.43,0.23,0.94,1.4,3.86,3.25,-2.53,1.89,-1.91,-2.01,3.0,-0.01,3.6,-1.12,0.69,-1.77,3.52,-0.1,2.55,0.05,1.11,1.22,-3.09,0.01,0.51,2.13,2.46,3.15,1.65,1.26,1.41,-2.18,1.0,4.33,3.25,-1.78,-3.2,1.29,3.58,1.48,-4.4,-0.86,-8.57,-10.99,8.54,9.39,5.31,0.02,7.41,3.36,3.57,-1.98,5.74,1.78,-3.7,2.85,5.88,1.48,-8.2,-5.39,6.88,-4.74,8.76,3.69,-0.23,6.53,2.26,3.2,-0.1,2.85,-1.35,-1.83,-2.15,-5.68,-7.18,10.77,-0.51,0.85,4.36,4.06,3.13,-0.75,-6.27,3.96,1.26,1.98,2.42,-1.98,0.28,0.71,5.04,1.11,3.6,1.81,2.08,-1.5,4.95,-3.13,2.97,4.46,2.8,2.36,-3.56,4.31,0.69,0.62,2.1,1.91,-1.51,3.77,-1.55,2.32,2.45,-0.42,-3.1,5.49,-1.74,0.85,1.05,-2.1,1.97,-6.26,-2.64,8.3,0.05,-1.75,-5.07,-0.41,6.6,0.27,1.53,0.09,3.56,-0.12,-0.12,-1.94,3.42,1.82,1.79,3.72,-0.04,0.91,1.16,0.48,1.93,0.05,1.93,2.22,2.81,0.98,7.87,2.97,1.79,3.93,-6.58,6.89,1.31,-1.81,1.72,2.04,3.4,2.86,-1.11,2.61,4.24,5.24,0.55,2.22,2.27,2.9,-4.76,6.91,-0.83,4.36,-5.26,-3.14,3.58,-8.8,0.01,-8.39,9.11,-4.24,-9.34,7.99,5.38,-5.9,6.18,-2.61,3.51,1.46,0.25,6.47,3.11,-1.77,-4.87,-2.2,8.92,3.61],\"y0\":\" \",\"yaxis\":\"y\",\"type\":\"box\"}],                        {\"template\":{\"data\":{\"histogram2dcontour\":[{\"type\":\"histogram2dcontour\",\"colorbar\":{\"outlinewidth\":0,\"ticks\":\"\"},\"colorscale\":[[0.0,\"#0d0887\"],[0.1111111111111111,\"#46039f\"],[0.2222222222222222,\"#7201a8\"],[0.3333333333333333,\"#9c179e\"],[0.4444444444444444,\"#bd3786\"],[0.5555555555555556,\"#d8576b\"],[0.6666666666666666,\"#ed7953\"],[0.7777777777777778,\"#fb9f3a\"],[0.8888888888888888,\"#fdca26\"],[1.0,\"#f0f921\"]]}],\"choropleth\":[{\"type\":\"choropleth\",\"colorbar\":{\"outlinewidth\":0,\"ticks\":\"\"}}],\"histogram2d\":[{\"type\":\"histogram2d\",\"colorbar\":{\"outlinewidth\":0,\"ticks\":\"\"},\"colorscale\":[[0.0,\"#0d0887\"],[0.1111111111111111,\"#46039f\"],[0.2222222222222222,\"#7201a8\"],[0.3333333333333333,\"#9c179e\"],[0.4444444444444444,\"#bd3786\"],[0.5555555555555556,\"#d8576b\"],[0.6666666666666666,\"#ed7953\"],[0.7777777777777778,\"#fb9f3a\"],[0.8888888888888888,\"#fdca26\"],[1.0,\"#f0f921\"]]}],\"heatmap\":[{\"type\":\"heatmap\",\"colorbar\":{\"outlinewidth\":0,\"ticks\":\"\"},\"colorscale\":[[0.0,\"#0d0887\"],[0.1111111111111111,\"#46039f\"],[0.2222222222222222,\"#7201a8\"],[0.3333333333333333,\"#9c179e\"],[0.4444444444444444,\"#bd3786\"],[0.5555555555555556,\"#d8576b\"],[0.6666666666666666,\"#ed7953\"],[0.7777777777777778,\"#fb9f3a\"],[0.8888888888888888,\"#fdca26\"],[1.0,\"#f0f921\"]]}],\"heatmapgl\":[{\"type\":\"heatmapgl\",\"colorbar\":{\"outlinewidth\":0,\"ticks\":\"\"},\"colorscale\":[[0.0,\"#0d0887\"],[0.1111111111111111,\"#46039f\"],[0.2222222222222222,\"#7201a8\"],[0.3333333333333333,\"#9c179e\"],[0.4444444444444444,\"#bd3786\"],[0.5555555555555556,\"#d8576b\"],[0.6666666666666666,\"#ed7953\"],[0.7777777777777778,\"#fb9f3a\"],[0.8888888888888888,\"#fdca26\"],[1.0,\"#f0f921\"]]}],\"contourcarpet\":[{\"type\":\"contourcarpet\",\"colorbar\":{\"outlinewidth\":0,\"ticks\":\"\"}}],\"contour\":[{\"type\":\"contour\",\"colorbar\":{\"outlinewidth\":0,\"ticks\":\"\"},\"colorscale\":[[0.0,\"#0d0887\"],[0.1111111111111111,\"#46039f\"],[0.2222222222222222,\"#7201a8\"],[0.3333333333333333,\"#9c179e\"],[0.4444444444444444,\"#bd3786\"],[0.5555555555555556,\"#d8576b\"],[0.6666666666666666,\"#ed7953\"],[0.7777777777777778,\"#fb9f3a\"],[0.8888888888888888,\"#fdca26\"],[1.0,\"#f0f921\"]]}],\"surface\":[{\"type\":\"surface\",\"colorbar\":{\"outlinewidth\":0,\"ticks\":\"\"},\"colorscale\":[[0.0,\"#0d0887\"],[0.1111111111111111,\"#46039f\"],[0.2222222222222222,\"#7201a8\"],[0.3333333333333333,\"#9c179e\"],[0.4444444444444444,\"#bd3786\"],[0.5555555555555556,\"#d8576b\"],[0.6666666666666666,\"#ed7953\"],[0.7777777777777778,\"#fb9f3a\"],[0.8888888888888888,\"#fdca26\"],[1.0,\"#f0f921\"]]}],\"mesh3d\":[{\"type\":\"mesh3d\",\"colorbar\":{\"outlinewidth\":0,\"ticks\":\"\"}}],\"scatter\":[{\"fillpattern\":{\"fillmode\":\"overlay\",\"size\":10,\"solidity\":0.2},\"type\":\"scatter\"}],\"parcoords\":[{\"type\":\"parcoords\",\"line\":{\"colorbar\":{\"outlinewidth\":0,\"ticks\":\"\"}}}],\"scatterpolargl\":[{\"type\":\"scatterpolargl\",\"marker\":{\"colorbar\":{\"outlinewidth\":0,\"ticks\":\"\"}}}],\"bar\":[{\"error_x\":{\"color\":\"#2a3f5f\"},\"error_y\":{\"color\":\"#2a3f5f\"},\"marker\":{\"line\":{\"color\":\"#E5ECF6\",\"width\":0.5},\"pattern\":{\"fillmode\":\"overlay\",\"size\":10,\"solidity\":0.2}},\"type\":\"bar\"}],\"scattergeo\":[{\"type\":\"scattergeo\",\"marker\":{\"colorbar\":{\"outlinewidth\":0,\"ticks\":\"\"}}}],\"scatterpolar\":[{\"type\":\"scatterpolar\",\"marker\":{\"colorbar\":{\"outlinewidth\":0,\"ticks\":\"\"}}}],\"histogram\":[{\"marker\":{\"pattern\":{\"fillmode\":\"overlay\",\"size\":10,\"solidity\":0.2}},\"type\":\"histogram\"}],\"scattergl\":[{\"type\":\"scattergl\",\"marker\":{\"colorbar\":{\"outlinewidth\":0,\"ticks\":\"\"}}}],\"scatter3d\":[{\"type\":\"scatter3d\",\"line\":{\"colorbar\":{\"outlinewidth\":0,\"ticks\":\"\"}},\"marker\":{\"colorbar\":{\"outlinewidth\":0,\"ticks\":\"\"}}}],\"scattermapbox\":[{\"type\":\"scattermapbox\",\"marker\":{\"colorbar\":{\"outlinewidth\":0,\"ticks\":\"\"}}}],\"scatterternary\":[{\"type\":\"scatterternary\",\"marker\":{\"colorbar\":{\"outlinewidth\":0,\"ticks\":\"\"}}}],\"scattercarpet\":[{\"type\":\"scattercarpet\",\"marker\":{\"colorbar\":{\"outlinewidth\":0,\"ticks\":\"\"}}}],\"carpet\":[{\"aaxis\":{\"endlinecolor\":\"#2a3f5f\",\"gridcolor\":\"white\",\"linecolor\":\"white\",\"minorgridcolor\":\"white\",\"startlinecolor\":\"#2a3f5f\"},\"baxis\":{\"endlinecolor\":\"#2a3f5f\",\"gridcolor\":\"white\",\"linecolor\":\"white\",\"minorgridcolor\":\"white\",\"startlinecolor\":\"#2a3f5f\"},\"type\":\"carpet\"}],\"table\":[{\"cells\":{\"fill\":{\"color\":\"#EBF0F8\"},\"line\":{\"color\":\"white\"}},\"header\":{\"fill\":{\"color\":\"#C8D4E3\"},\"line\":{\"color\":\"white\"}},\"type\":\"table\"}],\"barpolar\":[{\"marker\":{\"line\":{\"color\":\"#E5ECF6\",\"width\":0.5},\"pattern\":{\"fillmode\":\"overlay\",\"size\":10,\"solidity\":0.2}},\"type\":\"barpolar\"}],\"pie\":[{\"automargin\":true,\"type\":\"pie\"}]},\"layout\":{\"autotypenumbers\":\"strict\",\"colorway\":[\"#636efa\",\"#EF553B\",\"#00cc96\",\"#ab63fa\",\"#FFA15A\",\"#19d3f3\",\"#FF6692\",\"#B6E880\",\"#FF97FF\",\"#FECB52\"],\"font\":{\"color\":\"#2a3f5f\"},\"hovermode\":\"closest\",\"hoverlabel\":{\"align\":\"left\"},\"paper_bgcolor\":\"white\",\"plot_bgcolor\":\"#E5ECF6\",\"polar\":{\"bgcolor\":\"#E5ECF6\",\"angularaxis\":{\"gridcolor\":\"white\",\"linecolor\":\"white\",\"ticks\":\"\"},\"radialaxis\":{\"gridcolor\":\"white\",\"linecolor\":\"white\",\"ticks\":\"\"}},\"ternary\":{\"bgcolor\":\"#E5ECF6\",\"aaxis\":{\"gridcolor\":\"white\",\"linecolor\":\"white\",\"ticks\":\"\"},\"baxis\":{\"gridcolor\":\"white\",\"linecolor\":\"white\",\"ticks\":\"\"},\"caxis\":{\"gridcolor\":\"white\",\"linecolor\":\"white\",\"ticks\":\"\"}},\"coloraxis\":{\"colorbar\":{\"outlinewidth\":0,\"ticks\":\"\"}},\"colorscale\":{\"sequential\":[[0.0,\"#0d0887\"],[0.1111111111111111,\"#46039f\"],[0.2222222222222222,\"#7201a8\"],[0.3333333333333333,\"#9c179e\"],[0.4444444444444444,\"#bd3786\"],[0.5555555555555556,\"#d8576b\"],[0.6666666666666666,\"#ed7953\"],[0.7777777777777778,\"#fb9f3a\"],[0.8888888888888888,\"#fdca26\"],[1.0,\"#f0f921\"]],\"sequentialminus\":[[0.0,\"#0d0887\"],[0.1111111111111111,\"#46039f\"],[0.2222222222222222,\"#7201a8\"],[0.3333333333333333,\"#9c179e\"],[0.4444444444444444,\"#bd3786\"],[0.5555555555555556,\"#d8576b\"],[0.6666666666666666,\"#ed7953\"],[0.7777777777777778,\"#fb9f3a\"],[0.8888888888888888,\"#fdca26\"],[1.0,\"#f0f921\"]],\"diverging\":[[0,\"#8e0152\"],[0.1,\"#c51b7d\"],[0.2,\"#de77ae\"],[0.3,\"#f1b6da\"],[0.4,\"#fde0ef\"],[0.5,\"#f7f7f7\"],[0.6,\"#e6f5d0\"],[0.7,\"#b8e186\"],[0.8,\"#7fbc41\"],[0.9,\"#4d9221\"],[1,\"#276419\"]]},\"xaxis\":{\"gridcolor\":\"white\",\"linecolor\":\"white\",\"ticks\":\"\",\"title\":{\"standoff\":15},\"zerolinecolor\":\"white\",\"automargin\":true,\"zerolinewidth\":2},\"yaxis\":{\"gridcolor\":\"white\",\"linecolor\":\"white\",\"ticks\":\"\",\"title\":{\"standoff\":15},\"zerolinecolor\":\"white\",\"automargin\":true,\"zerolinewidth\":2},\"scene\":{\"xaxis\":{\"backgroundcolor\":\"#E5ECF6\",\"gridcolor\":\"white\",\"linecolor\":\"white\",\"showbackground\":true,\"ticks\":\"\",\"zerolinecolor\":\"white\",\"gridwidth\":2},\"yaxis\":{\"backgroundcolor\":\"#E5ECF6\",\"gridcolor\":\"white\",\"linecolor\":\"white\",\"showbackground\":true,\"ticks\":\"\",\"zerolinecolor\":\"white\",\"gridwidth\":2},\"zaxis\":{\"backgroundcolor\":\"#E5ECF6\",\"gridcolor\":\"white\",\"linecolor\":\"white\",\"showbackground\":true,\"ticks\":\"\",\"zerolinecolor\":\"white\",\"gridwidth\":2}},\"shapedefaults\":{\"line\":{\"color\":\"#2a3f5f\"}},\"annotationdefaults\":{\"arrowcolor\":\"#2a3f5f\",\"arrowhead\":0,\"arrowwidth\":1},\"geo\":{\"bgcolor\":\"white\",\"landcolor\":\"#E5ECF6\",\"subunitcolor\":\"white\",\"showland\":true,\"showlakes\":true,\"lakecolor\":\"white\"},\"title\":{\"x\":0.05},\"mapbox\":{\"style\":\"light\"}}},\"xaxis\":{\"anchor\":\"y\",\"domain\":[0.0,1.0],\"title\":{\"text\":\"M\\u00eas\",\"font\":{\"size\":16}},\"tickfont\":{\"size\":14}},\"yaxis\":{\"anchor\":\"x\",\"domain\":[0.0,1.0],\"title\":{\"text\":\"Varia\\u00e7\\u00e3o M\\u00e9dia (%)\",\"font\":{\"size\":16}},\"tickfont\":{\"size\":14}},\"legend\":{\"tracegroupgap\":0},\"title\":{\"text\":\"Boxplot Interativo de Var_%_m\\u00eas\"},\"boxmode\":\"group\",\"font\":{\"size\":12},\"plot_bgcolor\":\"white\",\"paper_bgcolor\":\"white\",\"width\":1000,\"height\":600},                        {\"responsive\": true}                    ).then(function(){\n",
       "                            \n",
       "var gd = document.getElementById('768891ae-6255-42b9-9543-e48378d6981e');\n",
       "var x = new MutationObserver(function (mutations, observer) {{\n",
       "        var display = window.getComputedStyle(gd).display;\n",
       "        if (!display || display === 'none') {{\n",
       "            console.log([gd, 'removed!']);\n",
       "            Plotly.purge(gd);\n",
       "            observer.disconnect();\n",
       "        }}\n",
       "}});\n",
       "\n",
       "// Listen for the removal of the full notebook cells\n",
       "var notebookContainer = gd.closest('#notebook-container');\n",
       "if (notebookContainer) {{\n",
       "    x.observe(notebookContainer, {childList: true});\n",
       "}}\n",
       "\n",
       "// Listen for the clearing of the current output cell\n",
       "var outputEl = gd.closest('.output');\n",
       "if (outputEl) {{\n",
       "    x.observe(outputEl, {childList: true});\n",
       "}}\n",
       "\n",
       "                        })                };                });            </script>        </div>"
      ]
     },
     "metadata": {},
     "output_type": "display_data"
    }
   ],
   "source": [
    "import plotly.express as px\n",
    "\n",
    "# Criando um boxplot interativo\n",
    "fig = px.box(sp500_sem_crises2, y='Var_%_mês', \n",
    "             title='Boxplot Interativo de Var_%_mês')\n",
    "\n",
    "# Atualizando o layout\n",
    "fig.update_layout(\n",
    "    plot_bgcolor='white',\n",
    "    paper_bgcolor='white',\n",
    "    font=dict(\n",
    "        size=12,\n",
    "    ),\n",
    "    xaxis=dict(\n",
    "        title='Mês',\n",
    "        titlefont_size=16,\n",
    "        tickfont_size=14,\n",
    "    ),\n",
    "    yaxis=dict(\n",
    "        title='Variação Média (%)',\n",
    "        titlefont_size=16,\n",
    "        tickfont_size=14,\n",
    "    ),\n",
    ")\n",
    "\n",
    "# Ajustando o tamanho do gráfico\n",
    "fig.update_layout(width=1000, height=600)\n",
    "\n",
    "fig.show()\n",
    "\n"
   ]
  },
  {
   "cell_type": "code",
   "execution_count": 28,
   "id": "791bf5fa-3598-4082-8ddf-e9e1f23338ea",
   "metadata": {},
   "outputs": [],
   "source": [
    "# Calculando a média para cada mês\n",
    "medias_mensais = {\n",
    "    'January': jan.mean(),\n",
    "    'February': fev.mean(),\n",
    "    'March': mar.mean(),\n",
    "    'April': abr.mean(),\n",
    "    'May': mai.mean(),\n",
    "    'June': jun.mean(),\n",
    "    'July': jul.mean(),\n",
    "    'August': ago.mean(),\n",
    "    'September': setem.mean(),\n",
    "    'October': out.mean(),\n",
    "    'November': nov.mean(),\n",
    "    'December': dez.mean()\n",
    "}\n",
    "\n",
    "# Transformando em DataFrame\n",
    "df_medias_mensais = pd.DataFrame(list(medias_mensais.items()), columns=['Mês', 'Variação Média'])"
   ]
  },
  {
   "cell_type": "code",
   "execution_count": 31,
   "id": "151b4728-9be0-4751-b351-28b70769deb9",
   "metadata": {},
   "outputs": [
    {
     "data": {
      "application/vnd.plotly.v1+json": {
       "config": {
        "plotlyServerURL": "https://plot.ly"
       },
       "data": [
        {
         "alignmentgroup": "True",
         "hovertemplate": "Mês=%{x}<br>Variação Média=%{y}<extra></extra>",
         "legendgroup": "",
         "marker": {
          "color": "blue",
          "pattern": {
           "shape": ""
          }
         },
         "name": "",
         "offsetgroup": "",
         "orientation": "v",
         "showlegend": false,
         "textposition": "auto",
         "type": "bar",
         "x": [
          "January",
          "February",
          "March",
          "April",
          "May",
          "June",
          "July",
          "August",
          "September",
          "October",
          "November",
          "December"
         ],
         "xaxis": "x",
         "y": [
          0.964848484848485,
          0.19651515151515156,
          1.5715151515151515,
          1.6172727272727274,
          0.1624242424242425,
          0.22924242424242428,
          1.3404545454545453,
          -0.06363636363636371,
          -0.32863636363636356,
          1.344090909090909,
          2.1190909090909087,
          1.7642424242424244
         ],
         "yaxis": "y"
        }
       ],
       "layout": {
        "barmode": "relative",
        "font": {
         "size": 12
        },
        "height": 600,
        "legend": {
         "tracegroupgap": 0
        },
        "paper_bgcolor": "white",
        "plot_bgcolor": "white",
        "template": {
         "data": {
          "bar": [
           {
            "error_x": {
             "color": "#2a3f5f"
            },
            "error_y": {
             "color": "#2a3f5f"
            },
            "marker": {
             "line": {
              "color": "#E5ECF6",
              "width": 0.5
             },
             "pattern": {
              "fillmode": "overlay",
              "size": 10,
              "solidity": 0.2
             }
            },
            "type": "bar"
           }
          ],
          "barpolar": [
           {
            "marker": {
             "line": {
              "color": "#E5ECF6",
              "width": 0.5
             },
             "pattern": {
              "fillmode": "overlay",
              "size": 10,
              "solidity": 0.2
             }
            },
            "type": "barpolar"
           }
          ],
          "carpet": [
           {
            "aaxis": {
             "endlinecolor": "#2a3f5f",
             "gridcolor": "white",
             "linecolor": "white",
             "minorgridcolor": "white",
             "startlinecolor": "#2a3f5f"
            },
            "baxis": {
             "endlinecolor": "#2a3f5f",
             "gridcolor": "white",
             "linecolor": "white",
             "minorgridcolor": "white",
             "startlinecolor": "#2a3f5f"
            },
            "type": "carpet"
           }
          ],
          "choropleth": [
           {
            "colorbar": {
             "outlinewidth": 0,
             "ticks": ""
            },
            "type": "choropleth"
           }
          ],
          "contour": [
           {
            "colorbar": {
             "outlinewidth": 0,
             "ticks": ""
            },
            "colorscale": [
             [
              0,
              "#0d0887"
             ],
             [
              0.1111111111111111,
              "#46039f"
             ],
             [
              0.2222222222222222,
              "#7201a8"
             ],
             [
              0.3333333333333333,
              "#9c179e"
             ],
             [
              0.4444444444444444,
              "#bd3786"
             ],
             [
              0.5555555555555556,
              "#d8576b"
             ],
             [
              0.6666666666666666,
              "#ed7953"
             ],
             [
              0.7777777777777778,
              "#fb9f3a"
             ],
             [
              0.8888888888888888,
              "#fdca26"
             ],
             [
              1,
              "#f0f921"
             ]
            ],
            "type": "contour"
           }
          ],
          "contourcarpet": [
           {
            "colorbar": {
             "outlinewidth": 0,
             "ticks": ""
            },
            "type": "contourcarpet"
           }
          ],
          "heatmap": [
           {
            "colorbar": {
             "outlinewidth": 0,
             "ticks": ""
            },
            "colorscale": [
             [
              0,
              "#0d0887"
             ],
             [
              0.1111111111111111,
              "#46039f"
             ],
             [
              0.2222222222222222,
              "#7201a8"
             ],
             [
              0.3333333333333333,
              "#9c179e"
             ],
             [
              0.4444444444444444,
              "#bd3786"
             ],
             [
              0.5555555555555556,
              "#d8576b"
             ],
             [
              0.6666666666666666,
              "#ed7953"
             ],
             [
              0.7777777777777778,
              "#fb9f3a"
             ],
             [
              0.8888888888888888,
              "#fdca26"
             ],
             [
              1,
              "#f0f921"
             ]
            ],
            "type": "heatmap"
           }
          ],
          "heatmapgl": [
           {
            "colorbar": {
             "outlinewidth": 0,
             "ticks": ""
            },
            "colorscale": [
             [
              0,
              "#0d0887"
             ],
             [
              0.1111111111111111,
              "#46039f"
             ],
             [
              0.2222222222222222,
              "#7201a8"
             ],
             [
              0.3333333333333333,
              "#9c179e"
             ],
             [
              0.4444444444444444,
              "#bd3786"
             ],
             [
              0.5555555555555556,
              "#d8576b"
             ],
             [
              0.6666666666666666,
              "#ed7953"
             ],
             [
              0.7777777777777778,
              "#fb9f3a"
             ],
             [
              0.8888888888888888,
              "#fdca26"
             ],
             [
              1,
              "#f0f921"
             ]
            ],
            "type": "heatmapgl"
           }
          ],
          "histogram": [
           {
            "marker": {
             "pattern": {
              "fillmode": "overlay",
              "size": 10,
              "solidity": 0.2
             }
            },
            "type": "histogram"
           }
          ],
          "histogram2d": [
           {
            "colorbar": {
             "outlinewidth": 0,
             "ticks": ""
            },
            "colorscale": [
             [
              0,
              "#0d0887"
             ],
             [
              0.1111111111111111,
              "#46039f"
             ],
             [
              0.2222222222222222,
              "#7201a8"
             ],
             [
              0.3333333333333333,
              "#9c179e"
             ],
             [
              0.4444444444444444,
              "#bd3786"
             ],
             [
              0.5555555555555556,
              "#d8576b"
             ],
             [
              0.6666666666666666,
              "#ed7953"
             ],
             [
              0.7777777777777778,
              "#fb9f3a"
             ],
             [
              0.8888888888888888,
              "#fdca26"
             ],
             [
              1,
              "#f0f921"
             ]
            ],
            "type": "histogram2d"
           }
          ],
          "histogram2dcontour": [
           {
            "colorbar": {
             "outlinewidth": 0,
             "ticks": ""
            },
            "colorscale": [
             [
              0,
              "#0d0887"
             ],
             [
              0.1111111111111111,
              "#46039f"
             ],
             [
              0.2222222222222222,
              "#7201a8"
             ],
             [
              0.3333333333333333,
              "#9c179e"
             ],
             [
              0.4444444444444444,
              "#bd3786"
             ],
             [
              0.5555555555555556,
              "#d8576b"
             ],
             [
              0.6666666666666666,
              "#ed7953"
             ],
             [
              0.7777777777777778,
              "#fb9f3a"
             ],
             [
              0.8888888888888888,
              "#fdca26"
             ],
             [
              1,
              "#f0f921"
             ]
            ],
            "type": "histogram2dcontour"
           }
          ],
          "mesh3d": [
           {
            "colorbar": {
             "outlinewidth": 0,
             "ticks": ""
            },
            "type": "mesh3d"
           }
          ],
          "parcoords": [
           {
            "line": {
             "colorbar": {
              "outlinewidth": 0,
              "ticks": ""
             }
            },
            "type": "parcoords"
           }
          ],
          "pie": [
           {
            "automargin": true,
            "type": "pie"
           }
          ],
          "scatter": [
           {
            "fillpattern": {
             "fillmode": "overlay",
             "size": 10,
             "solidity": 0.2
            },
            "type": "scatter"
           }
          ],
          "scatter3d": [
           {
            "line": {
             "colorbar": {
              "outlinewidth": 0,
              "ticks": ""
             }
            },
            "marker": {
             "colorbar": {
              "outlinewidth": 0,
              "ticks": ""
             }
            },
            "type": "scatter3d"
           }
          ],
          "scattercarpet": [
           {
            "marker": {
             "colorbar": {
              "outlinewidth": 0,
              "ticks": ""
             }
            },
            "type": "scattercarpet"
           }
          ],
          "scattergeo": [
           {
            "marker": {
             "colorbar": {
              "outlinewidth": 0,
              "ticks": ""
             }
            },
            "type": "scattergeo"
           }
          ],
          "scattergl": [
           {
            "marker": {
             "colorbar": {
              "outlinewidth": 0,
              "ticks": ""
             }
            },
            "type": "scattergl"
           }
          ],
          "scattermapbox": [
           {
            "marker": {
             "colorbar": {
              "outlinewidth": 0,
              "ticks": ""
             }
            },
            "type": "scattermapbox"
           }
          ],
          "scatterpolar": [
           {
            "marker": {
             "colorbar": {
              "outlinewidth": 0,
              "ticks": ""
             }
            },
            "type": "scatterpolar"
           }
          ],
          "scatterpolargl": [
           {
            "marker": {
             "colorbar": {
              "outlinewidth": 0,
              "ticks": ""
             }
            },
            "type": "scatterpolargl"
           }
          ],
          "scatterternary": [
           {
            "marker": {
             "colorbar": {
              "outlinewidth": 0,
              "ticks": ""
             }
            },
            "type": "scatterternary"
           }
          ],
          "surface": [
           {
            "colorbar": {
             "outlinewidth": 0,
             "ticks": ""
            },
            "colorscale": [
             [
              0,
              "#0d0887"
             ],
             [
              0.1111111111111111,
              "#46039f"
             ],
             [
              0.2222222222222222,
              "#7201a8"
             ],
             [
              0.3333333333333333,
              "#9c179e"
             ],
             [
              0.4444444444444444,
              "#bd3786"
             ],
             [
              0.5555555555555556,
              "#d8576b"
             ],
             [
              0.6666666666666666,
              "#ed7953"
             ],
             [
              0.7777777777777778,
              "#fb9f3a"
             ],
             [
              0.8888888888888888,
              "#fdca26"
             ],
             [
              1,
              "#f0f921"
             ]
            ],
            "type": "surface"
           }
          ],
          "table": [
           {
            "cells": {
             "fill": {
              "color": "#EBF0F8"
             },
             "line": {
              "color": "white"
             }
            },
            "header": {
             "fill": {
              "color": "#C8D4E3"
             },
             "line": {
              "color": "white"
             }
            },
            "type": "table"
           }
          ]
         },
         "layout": {
          "annotationdefaults": {
           "arrowcolor": "#2a3f5f",
           "arrowhead": 0,
           "arrowwidth": 1
          },
          "autotypenumbers": "strict",
          "coloraxis": {
           "colorbar": {
            "outlinewidth": 0,
            "ticks": ""
           }
          },
          "colorscale": {
           "diverging": [
            [
             0,
             "#8e0152"
            ],
            [
             0.1,
             "#c51b7d"
            ],
            [
             0.2,
             "#de77ae"
            ],
            [
             0.3,
             "#f1b6da"
            ],
            [
             0.4,
             "#fde0ef"
            ],
            [
             0.5,
             "#f7f7f7"
            ],
            [
             0.6,
             "#e6f5d0"
            ],
            [
             0.7,
             "#b8e186"
            ],
            [
             0.8,
             "#7fbc41"
            ],
            [
             0.9,
             "#4d9221"
            ],
            [
             1,
             "#276419"
            ]
           ],
           "sequential": [
            [
             0,
             "#0d0887"
            ],
            [
             0.1111111111111111,
             "#46039f"
            ],
            [
             0.2222222222222222,
             "#7201a8"
            ],
            [
             0.3333333333333333,
             "#9c179e"
            ],
            [
             0.4444444444444444,
             "#bd3786"
            ],
            [
             0.5555555555555556,
             "#d8576b"
            ],
            [
             0.6666666666666666,
             "#ed7953"
            ],
            [
             0.7777777777777778,
             "#fb9f3a"
            ],
            [
             0.8888888888888888,
             "#fdca26"
            ],
            [
             1,
             "#f0f921"
            ]
           ],
           "sequentialminus": [
            [
             0,
             "#0d0887"
            ],
            [
             0.1111111111111111,
             "#46039f"
            ],
            [
             0.2222222222222222,
             "#7201a8"
            ],
            [
             0.3333333333333333,
             "#9c179e"
            ],
            [
             0.4444444444444444,
             "#bd3786"
            ],
            [
             0.5555555555555556,
             "#d8576b"
            ],
            [
             0.6666666666666666,
             "#ed7953"
            ],
            [
             0.7777777777777778,
             "#fb9f3a"
            ],
            [
             0.8888888888888888,
             "#fdca26"
            ],
            [
             1,
             "#f0f921"
            ]
           ]
          },
          "colorway": [
           "#636efa",
           "#EF553B",
           "#00cc96",
           "#ab63fa",
           "#FFA15A",
           "#19d3f3",
           "#FF6692",
           "#B6E880",
           "#FF97FF",
           "#FECB52"
          ],
          "font": {
           "color": "#2a3f5f"
          },
          "geo": {
           "bgcolor": "white",
           "lakecolor": "white",
           "landcolor": "#E5ECF6",
           "showlakes": true,
           "showland": true,
           "subunitcolor": "white"
          },
          "hoverlabel": {
           "align": "left"
          },
          "hovermode": "closest",
          "mapbox": {
           "style": "light"
          },
          "paper_bgcolor": "white",
          "plot_bgcolor": "#E5ECF6",
          "polar": {
           "angularaxis": {
            "gridcolor": "white",
            "linecolor": "white",
            "ticks": ""
           },
           "bgcolor": "#E5ECF6",
           "radialaxis": {
            "gridcolor": "white",
            "linecolor": "white",
            "ticks": ""
           }
          },
          "scene": {
           "xaxis": {
            "backgroundcolor": "#E5ECF6",
            "gridcolor": "white",
            "gridwidth": 2,
            "linecolor": "white",
            "showbackground": true,
            "ticks": "",
            "zerolinecolor": "white"
           },
           "yaxis": {
            "backgroundcolor": "#E5ECF6",
            "gridcolor": "white",
            "gridwidth": 2,
            "linecolor": "white",
            "showbackground": true,
            "ticks": "",
            "zerolinecolor": "white"
           },
           "zaxis": {
            "backgroundcolor": "#E5ECF6",
            "gridcolor": "white",
            "gridwidth": 2,
            "linecolor": "white",
            "showbackground": true,
            "ticks": "",
            "zerolinecolor": "white"
           }
          },
          "shapedefaults": {
           "line": {
            "color": "#2a3f5f"
           }
          },
          "ternary": {
           "aaxis": {
            "gridcolor": "white",
            "linecolor": "white",
            "ticks": ""
           },
           "baxis": {
            "gridcolor": "white",
            "linecolor": "white",
            "ticks": ""
           },
           "bgcolor": "#E5ECF6",
           "caxis": {
            "gridcolor": "white",
            "linecolor": "white",
            "ticks": ""
           }
          },
          "title": {
           "x": 0.05
          },
          "xaxis": {
           "automargin": true,
           "gridcolor": "white",
           "linecolor": "white",
           "ticks": "",
           "title": {
            "standoff": 15
           },
           "zerolinecolor": "white",
           "zerolinewidth": 2
          },
          "yaxis": {
           "automargin": true,
           "gridcolor": "white",
           "linecolor": "white",
           "ticks": "",
           "title": {
            "standoff": 15
           },
           "zerolinecolor": "white",
           "zerolinewidth": 2
          }
         }
        },
        "title": {
         "text": "Média de Variações Mensais do SP500"
        },
        "width": 1000,
        "xaxis": {
         "anchor": "y",
         "autorange": true,
         "domain": [
          0,
          1
         ],
         "range": [
          -0.5,
          11.5
         ],
         "tickfont": {
          "size": 14
         },
         "title": {
          "font": {
           "size": 16
          },
          "text": "Mês"
         },
         "type": "category"
        },
        "yaxis": {
         "anchor": "x",
         "autorange": true,
         "domain": [
          0,
          1
         ],
         "range": [
          -0.46462121212121205,
          2.2550757575757574
         ],
         "tickfont": {
          "size": 14
         },
         "title": {
          "font": {
           "size": 16
          },
          "text": "Variação Média (%)"
         },
         "type": "linear"
        }
       }
      },
      "image/png": "[encoded data removed]",
      "text/html": [
       "<div>                            <div id=\"44dd19d8-73b2-4278-afa6-0790fadc6671\" class=\"plotly-graph-div\" style=\"height:600px; width:1000px;\"></div>            <script type=\"text/javascript\">                require([\"plotly\"], function(Plotly) {                    window.PLOTLYENV=window.PLOTLYENV || {};                                    if (document.getElementById(\"44dd19d8-73b2-4278-afa6-0790fadc6671\")) {                    Plotly.newPlot(                        \"44dd19d8-73b2-4278-afa6-0790fadc6671\",                        [{\"alignmentgroup\":\"True\",\"hovertemplate\":\"M\\u00eas=%{x}<br>Varia\\u00e7\\u00e3o M\\u00e9dia=%{y}<extra></extra>\",\"legendgroup\":\"\",\"marker\":{\"color\":\"blue\",\"pattern\":{\"shape\":\"\"}},\"name\":\"\",\"offsetgroup\":\"\",\"orientation\":\"v\",\"showlegend\":false,\"textposition\":\"auto\",\"x\":[\"January\",\"February\",\"March\",\"April\",\"May\",\"June\",\"July\",\"August\",\"September\",\"October\",\"November\",\"December\"],\"xaxis\":\"x\",\"y\":[0.964848484848485,0.19651515151515156,1.5715151515151515,1.6172727272727274,0.1624242424242425,0.22924242424242428,1.3404545454545453,-0.06363636363636371,-0.32863636363636356,1.344090909090909,2.1190909090909087,1.7642424242424244],\"yaxis\":\"y\",\"type\":\"bar\"}],                        {\"template\":{\"data\":{\"histogram2dcontour\":[{\"type\":\"histogram2dcontour\",\"colorbar\":{\"outlinewidth\":0,\"ticks\":\"\"},\"colorscale\":[[0.0,\"#0d0887\"],[0.1111111111111111,\"#46039f\"],[0.2222222222222222,\"#7201a8\"],[0.3333333333333333,\"#9c179e\"],[0.4444444444444444,\"#bd3786\"],[0.5555555555555556,\"#d8576b\"],[0.6666666666666666,\"#ed7953\"],[0.7777777777777778,\"#fb9f3a\"],[0.8888888888888888,\"#fdca26\"],[1.0,\"#f0f921\"]]}],\"choropleth\":[{\"type\":\"choropleth\",\"colorbar\":{\"outlinewidth\":0,\"ticks\":\"\"}}],\"histogram2d\":[{\"type\":\"histogram2d\",\"colorbar\":{\"outlinewidth\":0,\"ticks\":\"\"},\"colorscale\":[[0.0,\"#0d0887\"],[0.1111111111111111,\"#46039f\"],[0.2222222222222222,\"#7201a8\"],[0.3333333333333333,\"#9c179e\"],[0.4444444444444444,\"#bd3786\"],[0.5555555555555556,\"#d8576b\"],[0.6666666666666666,\"#ed7953\"],[0.7777777777777778,\"#fb9f3a\"],[0.8888888888888888,\"#fdca26\"],[1.0,\"#f0f921\"]]}],\"heatmap\":[{\"type\":\"heatmap\",\"colorbar\":{\"outlinewidth\":0,\"ticks\":\"\"},\"colorscale\":[[0.0,\"#0d0887\"],[0.1111111111111111,\"#46039f\"],[0.2222222222222222,\"#7201a8\"],[0.3333333333333333,\"#9c179e\"],[0.4444444444444444,\"#bd3786\"],[0.5555555555555556,\"#d8576b\"],[0.6666666666666666,\"#ed7953\"],[0.7777777777777778,\"#fb9f3a\"],[0.8888888888888888,\"#fdca26\"],[1.0,\"#f0f921\"]]}],\"heatmapgl\":[{\"type\":\"heatmapgl\",\"colorbar\":{\"outlinewidth\":0,\"ticks\":\"\"},\"colorscale\":[[0.0,\"#0d0887\"],[0.1111111111111111,\"#46039f\"],[0.2222222222222222,\"#7201a8\"],[0.3333333333333333,\"#9c179e\"],[0.4444444444444444,\"#bd3786\"],[0.5555555555555556,\"#d8576b\"],[0.6666666666666666,\"#ed7953\"],[0.7777777777777778,\"#fb9f3a\"],[0.8888888888888888,\"#fdca26\"],[1.0,\"#f0f921\"]]}],\"contourcarpet\":[{\"type\":\"contourcarpet\",\"colorbar\":{\"outlinewidth\":0,\"ticks\":\"\"}}],\"contour\":[{\"type\":\"contour\",\"colorbar\":{\"outlinewidth\":0,\"ticks\":\"\"},\"colorscale\":[[0.0,\"#0d0887\"],[0.1111111111111111,\"#46039f\"],[0.2222222222222222,\"#7201a8\"],[0.3333333333333333,\"#9c179e\"],[0.4444444444444444,\"#bd3786\"],[0.5555555555555556,\"#d8576b\"],[0.6666666666666666,\"#ed7953\"],[0.7777777777777778,\"#fb9f3a\"],[0.8888888888888888,\"#fdca26\"],[1.0,\"#f0f921\"]]}],\"surface\":[{\"type\":\"surface\",\"colorbar\":{\"outlinewidth\":0,\"ticks\":\"\"},\"colorscale\":[[0.0,\"#0d0887\"],[0.1111111111111111,\"#46039f\"],[0.2222222222222222,\"#7201a8\"],[0.3333333333333333,\"#9c179e\"],[0.4444444444444444,\"#bd3786\"],[0.5555555555555556,\"#d8576b\"],[0.6666666666666666,\"#ed7953\"],[0.7777777777777778,\"#fb9f3a\"],[0.8888888888888888,\"#fdca26\"],[1.0,\"#f0f921\"]]}],\"mesh3d\":[{\"type\":\"mesh3d\",\"colorbar\":{\"outlinewidth\":0,\"ticks\":\"\"}}],\"scatter\":[{\"fillpattern\":{\"fillmode\":\"overlay\",\"size\":10,\"solidity\":0.2},\"type\":\"scatter\"}],\"parcoords\":[{\"type\":\"parcoords\",\"line\":{\"colorbar\":{\"outlinewidth\":0,\"ticks\":\"\"}}}],\"scatterpolargl\":[{\"type\":\"scatterpolargl\",\"marker\":{\"colorbar\":{\"outlinewidth\":0,\"ticks\":\"\"}}}],\"bar\":[{\"error_x\":{\"color\":\"#2a3f5f\"},\"error_y\":{\"color\":\"#2a3f5f\"},\"marker\":{\"line\":{\"color\":\"#E5ECF6\",\"width\":0.5},\"pattern\":{\"fillmode\":\"overlay\",\"size\":10,\"solidity\":0.2}},\"type\":\"bar\"}],\"scattergeo\":[{\"type\":\"scattergeo\",\"marker\":{\"colorbar\":{\"outlinewidth\":0,\"ticks\":\"\"}}}],\"scatterpolar\":[{\"type\":\"scatterpolar\",\"marker\":{\"colorbar\":{\"outlinewidth\":0,\"ticks\":\"\"}}}],\"histogram\":[{\"marker\":{\"pattern\":{\"fillmode\":\"overlay\",\"size\":10,\"solidity\":0.2}},\"type\":\"histogram\"}],\"scattergl\":[{\"type\":\"scattergl\",\"marker\":{\"colorbar\":{\"outlinewidth\":0,\"ticks\":\"\"}}}],\"scatter3d\":[{\"type\":\"scatter3d\",\"line\":{\"colorbar\":{\"outlinewidth\":0,\"ticks\":\"\"}},\"marker\":{\"colorbar\":{\"outlinewidth\":0,\"ticks\":\"\"}}}],\"scattermapbox\":[{\"type\":\"scattermapbox\",\"marker\":{\"colorbar\":{\"outlinewidth\":0,\"ticks\":\"\"}}}],\"scatterternary\":[{\"type\":\"scatterternary\",\"marker\":{\"colorbar\":{\"outlinewidth\":0,\"ticks\":\"\"}}}],\"scattercarpet\":[{\"type\":\"scattercarpet\",\"marker\":{\"colorbar\":{\"outlinewidth\":0,\"ticks\":\"\"}}}],\"carpet\":[{\"aaxis\":{\"endlinecolor\":\"#2a3f5f\",\"gridcolor\":\"white\",\"linecolor\":\"white\",\"minorgridcolor\":\"white\",\"startlinecolor\":\"#2a3f5f\"},\"baxis\":{\"endlinecolor\":\"#2a3f5f\",\"gridcolor\":\"white\",\"linecolor\":\"white\",\"minorgridcolor\":\"white\",\"startlinecolor\":\"#2a3f5f\"},\"type\":\"carpet\"}],\"table\":[{\"cells\":{\"fill\":{\"color\":\"#EBF0F8\"},\"line\":{\"color\":\"white\"}},\"header\":{\"fill\":{\"color\":\"#C8D4E3\"},\"line\":{\"color\":\"white\"}},\"type\":\"table\"}],\"barpolar\":[{\"marker\":{\"line\":{\"color\":\"#E5ECF6\",\"width\":0.5},\"pattern\":{\"fillmode\":\"overlay\",\"size\":10,\"solidity\":0.2}},\"type\":\"barpolar\"}],\"pie\":[{\"automargin\":true,\"type\":\"pie\"}]},\"layout\":{\"autotypenumbers\":\"strict\",\"colorway\":[\"#636efa\",\"#EF553B\",\"#00cc96\",\"#ab63fa\",\"#FFA15A\",\"#19d3f3\",\"#FF6692\",\"#B6E880\",\"#FF97FF\",\"#FECB52\"],\"font\":{\"color\":\"#2a3f5f\"},\"hovermode\":\"closest\",\"hoverlabel\":{\"align\":\"left\"},\"paper_bgcolor\":\"white\",\"plot_bgcolor\":\"#E5ECF6\",\"polar\":{\"bgcolor\":\"#E5ECF6\",\"angularaxis\":{\"gridcolor\":\"white\",\"linecolor\":\"white\",\"ticks\":\"\"},\"radialaxis\":{\"gridcolor\":\"white\",\"linecolor\":\"white\",\"ticks\":\"\"}},\"ternary\":{\"bgcolor\":\"#E5ECF6\",\"aaxis\":{\"gridcolor\":\"white\",\"linecolor\":\"white\",\"ticks\":\"\"},\"baxis\":{\"gridcolor\":\"white\",\"linecolor\":\"white\",\"ticks\":\"\"},\"caxis\":{\"gridcolor\":\"white\",\"linecolor\":\"white\",\"ticks\":\"\"}},\"coloraxis\":{\"colorbar\":{\"outlinewidth\":0,\"ticks\":\"\"}},\"colorscale\":{\"sequential\":[[0.0,\"#0d0887\"],[0.1111111111111111,\"#46039f\"],[0.2222222222222222,\"#7201a8\"],[0.3333333333333333,\"#9c179e\"],[0.4444444444444444,\"#bd3786\"],[0.5555555555555556,\"#d8576b\"],[0.6666666666666666,\"#ed7953\"],[0.7777777777777778,\"#fb9f3a\"],[0.8888888888888888,\"#fdca26\"],[1.0,\"#f0f921\"]],\"sequentialminus\":[[0.0,\"#0d0887\"],[0.1111111111111111,\"#46039f\"],[0.2222222222222222,\"#7201a8\"],[0.3333333333333333,\"#9c179e\"],[0.4444444444444444,\"#bd3786\"],[0.5555555555555556,\"#d8576b\"],[0.6666666666666666,\"#ed7953\"],[0.7777777777777778,\"#fb9f3a\"],[0.8888888888888888,\"#fdca26\"],[1.0,\"#f0f921\"]],\"diverging\":[[0,\"#8e0152\"],[0.1,\"#c51b7d\"],[0.2,\"#de77ae\"],[0.3,\"#f1b6da\"],[0.4,\"#fde0ef\"],[0.5,\"#f7f7f7\"],[0.6,\"#e6f5d0\"],[0.7,\"#b8e186\"],[0.8,\"#7fbc41\"],[0.9,\"#4d9221\"],[1,\"#276419\"]]},\"xaxis\":{\"gridcolor\":\"white\",\"linecolor\":\"white\",\"ticks\":\"\",\"title\":{\"standoff\":15},\"zerolinecolor\":\"white\",\"automargin\":true,\"zerolinewidth\":2},\"yaxis\":{\"gridcolor\":\"white\",\"linecolor\":\"white\",\"ticks\":\"\",\"title\":{\"standoff\":15},\"zerolinecolor\":\"white\",\"automargin\":true,\"zerolinewidth\":2},\"scene\":{\"xaxis\":{\"backgroundcolor\":\"#E5ECF6\",\"gridcolor\":\"white\",\"linecolor\":\"white\",\"showbackground\":true,\"ticks\":\"\",\"zerolinecolor\":\"white\",\"gridwidth\":2},\"yaxis\":{\"backgroundcolor\":\"#E5ECF6\",\"gridcolor\":\"white\",\"linecolor\":\"white\",\"showbackground\":true,\"ticks\":\"\",\"zerolinecolor\":\"white\",\"gridwidth\":2},\"zaxis\":{\"backgroundcolor\":\"#E5ECF6\",\"gridcolor\":\"white\",\"linecolor\":\"white\",\"showbackground\":true,\"ticks\":\"\",\"zerolinecolor\":\"white\",\"gridwidth\":2}},\"shapedefaults\":{\"line\":{\"color\":\"#2a3f5f\"}},\"annotationdefaults\":{\"arrowcolor\":\"#2a3f5f\",\"arrowhead\":0,\"arrowwidth\":1},\"geo\":{\"bgcolor\":\"white\",\"landcolor\":\"#E5ECF6\",\"subunitcolor\":\"white\",\"showland\":true,\"showlakes\":true,\"lakecolor\":\"white\"},\"title\":{\"x\":0.05},\"mapbox\":{\"style\":\"light\"}}},\"xaxis\":{\"anchor\":\"y\",\"domain\":[0.0,1.0],\"title\":{\"text\":\"M\\u00eas\",\"font\":{\"size\":16}},\"tickfont\":{\"size\":14}},\"yaxis\":{\"anchor\":\"x\",\"domain\":[0.0,1.0],\"title\":{\"text\":\"Varia\\u00e7\\u00e3o M\\u00e9dia (%)\",\"font\":{\"size\":16}},\"tickfont\":{\"size\":14}},\"legend\":{\"tracegroupgap\":0},\"title\":{\"text\":\"M\\u00e9dia de Varia\\u00e7\\u00f5es Mensais do SP500\"},\"barmode\":\"relative\",\"font\":{\"size\":12},\"plot_bgcolor\":\"white\",\"paper_bgcolor\":\"white\",\"width\":1000,\"height\":600},                        {\"responsive\": true}                    ).then(function(){\n",
       "                            \n",
       "var gd = document.getElementById('44dd19d8-73b2-4278-afa6-0790fadc6671');\n",
       "var x = new MutationObserver(function (mutations, observer) {{\n",
       "        var display = window.getComputedStyle(gd).display;\n",
       "        if (!display || display === 'none') {{\n",
       "            console.log([gd, 'removed!']);\n",
       "            Plotly.purge(gd);\n",
       "            observer.disconnect();\n",
       "        }}\n",
       "}});\n",
       "\n",
       "// Listen for the removal of the full notebook cells\n",
       "var notebookContainer = gd.closest('#notebook-container');\n",
       "if (notebookContainer) {{\n",
       "    x.observe(notebookContainer, {childList: true});\n",
       "}}\n",
       "\n",
       "// Listen for the clearing of the current output cell\n",
       "var outputEl = gd.closest('.output');\n",
       "if (outputEl) {{\n",
       "    x.observe(outputEl, {childList: true});\n",
       "}}\n",
       "\n",
       "                        })                };                });            </script>        </div>"
      ]
     },
     "metadata": {},
     "output_type": "display_data"
    }
   ],
   "source": [
    "import plotly.express as px\n",
    "\n",
    "# Criando o gráfico de colunas\n",
    "fig = px.bar(df_medias_mensais, x='Mês', y='Variação Média', title='Média de Variações Mensais do SP500',\n",
    "             color_discrete_sequence=['blue'])\n",
    "\n",
    "# Atualizando o layout\n",
    "fig.update_layout(\n",
    "    plot_bgcolor='white',\n",
    "    paper_bgcolor='white',\n",
    "    font=dict(\n",
    "        size=12,\n",
    "    ),\n",
    "    xaxis=dict(\n",
    "        title='Mês',\n",
    "        titlefont_size=16,\n",
    "        tickfont_size=14,\n",
    "    ),\n",
    "    yaxis=dict(\n",
    "        title='Variação Média (%)',\n",
    "        titlefont_size=16,\n",
    "        tickfont_size=14,\n",
    "    ),\n",
    ")\n",
    "\n",
    "# Ajustando o tamanho do gráfico\n",
    "fig.update_layout(width=1000, height=600)\n",
    "\n",
    "fig.show()\n"
   ]
  },
  {
   "cell_type": "code",
   "execution_count": null,
   "id": "da684eb8-b4a8-4e86-8419-a853e8364084",
   "metadata": {},
   "outputs": [],
   "source": []
  },
  {
   "cell_type": "code",
   "execution_count": null,
   "id": "86e93215-b3ba-4a18-834b-649ae38e4b2d",
   "metadata": {},
   "outputs": [],
   "source": []
  }
 ],
 "metadata": {
  "kernelspec": {
   "display_name": "Python 3 (ipykernel)",
   "language": "python",
   "name": "python3"
  },
  "language_info": {
   "codemirror_mode": {
    "name": "ipython",
    "version": 3
   },
   "file_extension": ".py",
   "mimetype": "text/x-python",
   "name": "python",
   "nbconvert_exporter": "python",
   "pygments_lexer": "ipython3",
   "version": "3.11.5"
  }
 },
 "nbformat": 4,
 "nbformat_minor": 5
}
